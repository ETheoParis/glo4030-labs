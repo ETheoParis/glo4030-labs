{
 "cells": [
  {
   "cell_type": "markdown",
   "id": "78bdaafd",
   "metadata": {},
   "source": [
    "### Utilisation de Google Colab\n",
    "\n",
    "Si vous utilisez Google Colab, suivez les instructions ci-dessous.\n",
    "\n",
    "Tout d'abord, sélectionnez l'option GPU de Colab avec *Edit > Notebook settings* et sélectionner GPU comme Hardware accelerator. Installer ensuite deeplib avec la commande suivante:"
   ]
  },
  {
   "cell_type": "code",
   "id": "05c04f14",
   "metadata": {},
   "source": [
    "!pip install git+https://github.com/ulaval-damas/glo4030-labs.git"
   ],
   "outputs": [],
   "execution_count": null
  },
  {
   "cell_type": "markdown",
   "id": "1c729b9f",
   "metadata": {},
   "source": [
    "# Laboratoire 8: Transformers\n",
    "\n",
    "Dans ce laboratoire, nous allons implémenter l'architecture Transformer de \"Attention Is All You Need\" (Vaswani, 2017)."
   ]
  },
  {
   "cell_type": "code",
   "id": "7e48c943",
   "metadata": {
    "ExecuteTime": {
     "end_time": "2024-04-15T14:14:43.521634Z",
     "start_time": "2024-04-15T14:14:43.510148Z"
    }
   },
   "source": [
    "%load_ext autoreload\n",
    "%autoreload 2\n",
    "%matplotlib inline\n",
    "\n",
    "import pathlib\n",
    "import math\n",
    "\n",
    "import numpy as np\n",
    "\n",
    "import torch\n",
    "import torch.random\n",
    "import torch.nn as nn\n",
    "import torch.nn.functional as F\n",
    "import torchvision\n",
    "import torchvision.transforms as T\n",
    "\n",
    "import matplotlib.pyplot as plt\n",
    "\n",
    "import einops as ein\n",
    "\n",
    "import deeplib.training as dtrain\n",
    "import deeplib.datasets as ddatasets"
   ],
   "outputs": [
    {
     "name": "stdout",
     "output_type": "stream",
     "text": [
      "The autoreload extension is already loaded. To reload it, use:\n",
      "  %reload_ext autoreload\n"
     ]
    }
   ],
   "execution_count": 4
  },
  {
   "cell_type": "markdown",
   "id": "aae58cdb",
   "metadata": {},
   "source": [
    "## Partie 1: Scaled Dot-Product Attention\n",
    "\n",
    "Au cœur des transformers se trouve le principe d'attention, qui permet de se concentrer sur certaines parties de l'information plutôt que sur d'autres.\n",
    "Dans le cas des transformers, on utilise le \"Scaled Dot-Product Attention\" décrit dans \"Attention Is All You Need\".\n",
    "Ce principe fonctionne comme une requête sur une hashmap: on fait une requête $q$ (query) selon des clés $k_i$ (keys), et on reçoit la valeur $v_i$ (values) associée à $q$.\n",
    "Plus formellement, on peut représenter la hashmap comme un ensemble de pair (clé, valeur) $D = \\{(k_1, v_1), \\ldots (k_m, v_m)\\}$, où $k_i$ sont les clés et $v_i$ leur valeur associée.\n",
    "Ainsi, lorsque l'on fait la requête $q$ sur la base de données $D$, on obtient la valeur associée à $q$.\n",
    "\n",
    "L'attention est similaire à ce principle, sauf que $q$, $k_i$ et $v_i$ sont tous des vecteurs, et la réponse est une somme pondérée de $v_i$.\n",
    "Ainsi, l'attention calcule la fonction suivante:\n",
    "$$Attention(q, D) = \\sum_{i=1}^{m}{\\alpha(q, k_i)v_i}$$\n",
    "\n",
    "L'attention portée à une valeur est donnée par $\\alpha(q, k_i)$.\n",
    "Il s'agit en quelque sorte d'une mesure de la similarité entre la requête $q$ et les clés $k_i$.\n",
    "Comme le nom \"Scaled Dot-Product Attention\" laisse deviner, cette similarité, $\\alpha(\\cdot)$, est un produit scalaire entre les vecteurs $q$ et $k_i$:\n",
    "\n",
    "$$\\alpha(q, k_i) = \\frac{qk_i^T}{\\sqrt{d}} = \\frac{q \\cdot k_i }{\\sqrt{d}}$$\n",
    "\n",
    "$d$ est le nombre de dimension des vecteurs. On justifiera le facteur d'échelle de $\\frac{1}{\\sqrt{d}}$ plus tard dans le laboratoire.\n",
    "\n",
    "\n",
    "On normalise souvent cette valeur à l'aide d'une softmax afin de garder chaque pondération positive et sommant à 1.\n",
    "\n",
    "$$\\alpha(q, k_i) = \\frac{\\exp(\\alpha(q, k_i))}{\\sum_j\\exp(\\alpha(q, k_j))}$$\n",
    "\n",
    "Ainsi, le calcul d'attention dans un Transformer est:\n",
    "\n",
    "$$\\alpha(q, k_i) = \\frac{\\exp\\left(q \\cdot k_i / \\sqrt{d}\\right)}{\\sum_j\\exp\\left(q \\cdot k_i / \\sqrt{d}\\right)}$$\n",
    "\n",
    "Ensuite, il est possible de prendre une somme pondérée des valeurs $v_i$ selon $\\alpha(q, k_i)$:\n",
    "\n",
    "$$Attention(q, D) = \\sum_{i=1}^{m}{\\alpha(q, k_i)v_i}$$\n",
    "\n",
    "Dans la cellule suivante, remplisser la fonction suivante pour appliquer l'attention sur les tenseurs $q$, $k$ et $v$.\n",
    "Les dimensions des tenseurs sont spécifiés en commentaire.\n",
    "Utilisez `F.softmax` pour normaliser l'attention.\n",
    "\n",
    "Assurez-vous que votre calcul d'attention donne bien la valeur attendue."
   ]
  },
  {
   "cell_type": "code",
   "id": "ab97de76",
   "metadata": {
    "ExecuteTime": {
     "end_time": "2024-04-15T14:14:46.365346Z",
     "start_time": "2024-04-15T14:14:46.351906Z"
    }
   },
   "source": [
    "def simple_attention(q, k, v):\n",
    "    \"\"\"\n",
    "    Attention simple\n",
    "    q est un tenseur de dimension (1, d)\n",
    "    k est un tenseur de dimension (n, d)\n",
    "    v est un tenseur de dimension (n, d)\n",
    "    d est la dimension des vecteurs, n le nombre de clés et de valeurs\n",
    "    La sortie devrait être de dimension (1, d)\n",
    "    \"\"\"\n",
    "    # TODO\n",
    "    d = q.size(-1)\n",
    "    alpha = F.softmax(q @ k.T / np.sqrt(d), dim=1)\n",
    "    return alpha @ v\n",
    "    \n",
    "q = F.normalize(torch.tensor([[3.0, 3.0]]), dim=1)\n",
    "k = F.normalize(torch.tensor([[2.0, 1.5], [-4, 3], [0, 3], [-1, -4]]), dim=1)\n",
    "v = F.normalize(torch.tensor([[-1.0, 2], [3, 4], [-2, -1], [0, 2]]), dim=1)\n",
    "\n",
    "expected = torch.tensor([[-0.3584,  0.4563]])\n",
    "output = simple_attention(q, k, v)\n",
    "\n",
    "print(f'simple_attention(q, k, v) =\\t{output}')\n",
    "print(f'valeur attendue =\\t\\t\\t{expected}')"
   ],
   "outputs": [
    {
     "name": "stdout",
     "output_type": "stream",
     "text": [
      "simple_attention(q, k, v) =\ttensor([[-0.3584,  0.4563]])\n",
      "valeur attendue =\t\t\ttensor([[-0.3584,  0.4563]])\n"
     ]
    }
   ],
   "execution_count": 5
  },
  {
   "cell_type": "markdown",
   "id": "4f279151",
   "metadata": {},
   "source": [
    "### Visualisation de l'attention\n",
    "Le produit scalaire peut aussi s'écrire sous la forme $q\\cdot k_i = \\|q\\|\\|k_i\\|\\cos(\\theta)$, où $\\theta$ est l'angle entre les vecteurs.\n",
    "Si on fait l'hypothèse que les vecteurs en jeux sont unitaires, alors on a que le produit scalaire entre deux donne une mesure d'à quel point les vecteurs sont alignés.\n",
    "On utilise cette interprétation du produit scalaire pour mieux visualiser ce que fait le Scaled Dot-Product Attention.\n",
    "\n",
    "Dans la cellule suivante, remplissez le `TODO` avec le calcul pour calculer `alpha`, le vecteur d'attention."
   ]
  },
  {
   "cell_type": "code",
   "id": "dd2934b4",
   "metadata": {
    "ExecuteTime": {
     "end_time": "2024-04-15T14:14:55.905879Z",
     "start_time": "2024-04-15T14:14:55.573911Z"
    }
   },
   "source": [
    "def show_attention(q, k, v):\n",
    "    # TODO\n",
    "    d = q.size(-1)\n",
    "    alpha = F.softmax(q @ k.T / np.sqrt(d), dim=1)\n",
    "    \n",
    "    figs, axes = plt.subplots(ncols=2, figsize=(14, 6))\n",
    "    ax = axes[0]\n",
    "    ax.arrow(0, 0, q[0][0], q[0][1], head_width=0.1, head_length=0.1, fc='red', ec='red', label='$q$')\n",
    "\n",
    "    colors = ['rosybrown', 'cornflowerblue', 'lightcoral', 'mediumpurple']\n",
    "    for i, k_i in enumerate(k):\n",
    "        ax.arrow(0, 0, k_i[0], k_i[1], head_width=0.1, head_length=0.1, label=f'$k_{i}$, $\\\\alpha(q, k_{i}) = {alpha[0][i]:.3f}$', fc=colors[i], ec=colors[i])\n",
    "\n",
    "    ax.set_xlim(-1.25, 1.25)\n",
    "    ax.set_ylim(-1.25, 1.25)\n",
    "    ax.set_xlabel('X-axis')\n",
    "    ax.set_ylabel('Y-axis')\n",
    "    ax.set_title('$q$ and $k_i$')\n",
    "    ax.legend(loc='lower right')\n",
    "    ax.set_aspect('equal', adjustable='box')\n",
    "    \n",
    "    ax = axes[1]\n",
    "    ax.arrow(0, 0, output[0][0], output[0][1], head_width=0.1, head_length=0.1, fc='red', ec='red', label='$\\sum_i v_{i} \\cdot \\\\alpha(q, k_{i})$')\n",
    "\n",
    "    for i, v_i in enumerate(v):\n",
    "        v_i = v_i * alpha[0, i]\n",
    "        ax.arrow(0, 0, v_i[0], v_i[1], head_width=0.1, head_length=0.1, label=f'$v_{i} \\cdot \\\\alpha(q, k_{i})$', fc=colors[i], ec=colors[i])\n",
    "\n",
    "    ax.set_xlim(-1.25, 1.25)\n",
    "    ax.set_ylim(-1.25, 1.25)\n",
    "    ax.set_xlabel('X-axis')\n",
    "    ax.set_ylabel('Y-axis')\n",
    "    ax.set_title(r'Valeurs pondérées par $\\alpha$')\n",
    "    ax.legend(loc='lower right')\n",
    "    ax.set_aspect('equal', adjustable='box')\n",
    "\n",
    "    plt.show()\n",
    "    \n",
    "show_attention(q, k, v)"
   ],
   "outputs": [
    {
     "data": {
      "text/plain": [
       "<Figure size 1400x600 with 2 Axes>"
      ],
      "image/png": "[encoded data removed]"
     },
     "metadata": {},
     "output_type": "display_data"
    }
   ],
   "execution_count": 6
  },
  {
   "cell_type": "markdown",
   "id": "7da42f1b",
   "metadata": {},
   "source": [
    "#### Questions\n",
    "- Visuellement, quel clé est la plus alignée avec $q$? Que peut-on dire de la valeur de $\\alpha$ correspondante? Qu'est-ce que cela veut-dire à propose de la valeur finale?\n",
    "\n",
    "La clé la plus alignée est $k_0$.\n",
    "Son score d'attention de $0.394$ est plus élevé que les autres.\n",
    "Le vecteur résultant sera plus près de $v_0$, car il a une plus grande pondération.\n",
    "\n",
    "- Que ce passe-t'il si vous changez tous les $k_i$ afin qu'ils soient opposés à $q$, sauf un? Quel est l'impact sur la valeur retournée par l'attention?\n",
    "\n",
    "Le vecteur résultant sera la valeur correspondant à la clé alignée avec la requête.\n",
    "\n",
    "- Que ce passe-t'il si vous changez tous les $k_i$ afin qu'ils soient opposés à $q$, sauf **deux** qui ont des valeurs égales? Quel est l'impact sur la valeur retournée par l'attention?\n",
    "\n",
    "Le vecteur résultant sera la moyenne des deux valeurs correspondantes."
   ]
  },
  {
   "cell_type": "markdown",
   "id": "95d5198f",
   "metadata": {},
   "source": [
    "### Plusieurs requêtes\n",
    "\n",
    "Maintenant, on veut implémenter l'attention avec plusieurs requêtes $q_i$.\n",
    "On veut comparer chaque $q_i$ avec chaque $k_i$.\n",
    "Afin d'accélérer le calcul de l'attention, on va représenter cette opération grâce à une multiplication de tenseurs.\n",
    "\n",
    "$$\\text{Attention}(Q, K, V) = \\text{softmax}\\left(\\frac{QK^T}{\\sqrt{d}}\\right)V$$\n",
    "\n",
    "$$Q=\\begin{pmatrix}\n",
    "q_1\\\\\n",
    "q_2\\\\\n",
    "\\vdots\\\\\n",
    "q_n\n",
    "\\end{pmatrix}_{n\\times d}, K=\\begin{pmatrix}\n",
    "k_1\\\\\n",
    "k_2\\\\\n",
    "\\vdots\\\\\n",
    "k_n\n",
    "\\end{pmatrix}_{n\\times d}, V=\\begin{pmatrix}\n",
    "v_1\\\\\n",
    "v_2\\\\\n",
    "\\vdots\\\\\n",
    "v_n\n",
    "\\end{pmatrix}_{n\\times d}$$\n",
    "\n",
    "Chaque $q_i$, $k_i$ et $v_i$ sont des vecteurs de dimensions $d$.\n",
    "\n",
    "La comparaison de chaque $q_i$ et $k_i$ se fait lors du produit suivant:\n",
    "\n",
    "$$QK^T = \\begin{pmatrix}\n",
    "q_1\\\\\n",
    "q_2\\\\\n",
    "\\vdots\\\\\n",
    "q_n\n",
    "\\end{pmatrix}_{n\\times d} \\begin{pmatrix}\n",
    "k_1 & k_2 & \\dots & k_n\n",
    "\\end{pmatrix}_{d\\times n} = \\begin{pmatrix}\n",
    "q_1k_1 & q_1k_2 & \\dots  & q_1k_n \\\\\n",
    "q_2k_1 & q_2k_2 & \\dots  & q_2k_n \\\\\n",
    "\\vdots & \\vdots & \\ddots & \\vdots \\\\\n",
    "q_nk_1 & q_nk_2 & \\dots  & q_nk_n \\\\\n",
    "\\end{pmatrix}_{n\\times n}$$\n",
    "\n",
    "On appelle $QK^T$ la matrice d'attention.\n",
    "Chaque élément de cette matrice correspond au produit scalaire entre une requête et une clé.\n",
    "\n",
    "Si on ignore la softmax et le facteur d'échelle, on obtient bel et bien une somme pondérée des valeurs, selon la similarité entre les clés et les requêtes.\n",
    "\n",
    "$$QK^TV = \\begin{pmatrix}\n",
    "q_1k_1 & q_1k_2 & \\dots  & q_1k_n \\\\\n",
    "q_2k_1 & q_2k_2 & \\dots  & q_2k_n \\\\\n",
    "\\vdots & \\vdots & \\ddots & \\vdots \\\\\n",
    "q_nk_1 & q_nk_2 & \\dots  & q_nk_n \\\\\n",
    "\\end{pmatrix}_{n\\times n}\\begin{pmatrix}\n",
    "v_1\\\\\n",
    "v_2\\\\\n",
    "\\vdots\\\\\n",
    "v_n\n",
    "\\end{pmatrix}_{n\\times d}=\\begin{pmatrix}\n",
    "q_1k_1v_1 + q_1k_2v_2 + \\dots  + q_1k_nv_n \\\\\n",
    "q_2k_1v_1 + q_2k_2v_2 + \\dots  + q_2k_nv_n \\\\\n",
    "\\vdots \\\\\n",
    "q_nk_1v_1 + q_nk_2v_2 + \\dots  + q_nk_nv_n \\\\\n",
    "\\end{pmatrix}_{n\\times d}$$\n",
    "\n",
    "Dans la cellule suivante, implémenter l'attention en batch avec plusieurs requêtes.\n",
    "Les dimensions des tenseurs sont spécifiés en commentaire.\n",
    "\n",
    "Assurez-vous que votre calcul d'attention donne bien la valeur attendue."
   ]
  },
  {
   "cell_type": "code",
   "id": "4d11c2d2",
   "metadata": {
    "scrolled": true,
    "ExecuteTime": {
     "end_time": "2024-04-15T14:14:59.788290Z",
     "start_time": "2024-04-15T14:14:59.775179Z"
    }
   },
   "source": [
    "def scaled_dot_product_attention(q, k, v, mask=None):\n",
    "    \"\"\"\n",
    "    Attention sur batch\n",
    "    q est un tenseur de dimension (b, n, d)\n",
    "    k est un tenseur de dimension (b, n, d)\n",
    "    v est un tenseur de dimension (b, n, d)\n",
    "    b est la taille de la mini-batch, n le nombre de clés et de valeurs, d est la dimension des vecteurs\n",
    "    La sortie devrait être de dimension (b, n, d)\n",
    "    \"\"\"\n",
    "    # TODO\n",
    "    attention = q.bmm(k.transpose(-2, -1))  # or query @ key.transpose(1, 2)\n",
    "    if mask is not None:\n",
    "        attention[:, mask.logical_not()] = -torch.inf\n",
    "    \n",
    "    scale = q.size(-1) ** 0.5\n",
    "    softmax = F.softmax(attention / scale, dim=-1)\n",
    "    return softmax.bmm(v)\n",
    "\n",
    "q = F.normalize(torch.tensor([[3.0, 3.0], [-1, 3.2], [0.2, -0.4], [0, -1]]), dim=1).unsqueeze(0)\n",
    "k = F.normalize(torch.tensor([[2.0, 1.5], [-4, 3], [0, 3], [-1, -4]]), dim=1).unsqueeze(0)\n",
    "v = F.normalize(torch.tensor([[-1.0, 2], [3, 4], [2, -3], [0, 2]]), dim=1).unsqueeze(0)\n",
    "\n",
    "expected = torch.tensor([[[0.1089, 0.3322], [0.2860, 0.2639], [0.0600, 0.6791], [0.0986, 0.7087]]])\n",
    "output = scaled_dot_product_attention(q, k, v)\n",
    "\n",
    "print(f'scaled_dot_product_attention(q, k, v) =\\n{output}')\n",
    "print(f'valeur attendue =\\n{expected}')"
   ],
   "outputs": [
    {
     "name": "stdout",
     "output_type": "stream",
     "text": [
      "scaled_dot_product_attention(q, k, v) =\n",
      "tensor([[[0.1089, 0.3322],\n",
      "         [0.2860, 0.2639],\n",
      "         [0.0600, 0.6791],\n",
      "         [0.0986, 0.7087]]])\n",
      "valeur attendue =\n",
      "tensor([[[0.1089, 0.3322],\n",
      "         [0.2860, 0.2639],\n",
      "         [0.0600, 0.6791],\n",
      "         [0.0986, 0.7087]]])\n"
     ]
    }
   ],
   "execution_count": 7
  },
  {
   "cell_type": "markdown",
   "id": "b962ca3a",
   "metadata": {},
   "source": [
    "#### Questions\n",
    "- Quelle est la taille du tenseur lorsque l'on multiple $q$ et $v$? Est-ce problématique pour le temps de calculs et la mémoire utilisée si $n$ (le nombre de queries, keys et valeurs) augmente?\n",
    "\n",
    "Lorsque l'on compare $n$ éléments à $n$ autres, il y à $n^2$ comparaisons possibles.\n",
    "Ainsi, la matrice d'attention résultante des dimensions $n\\times n$, soit en $O(n^2)$.\n",
    "Ceci est un enjeu important puisque la taille de la matrice (espace mémoire nécessaire, et temps de calcul) augmente selon le carré du nombre de requêtes et de clés.\n",
    "Ceci limite la valeur de $n$ qu'il est possible d'utiliser en pratique.\n"
   ]
  },
  {
   "cell_type": "markdown",
   "id": "e499e915",
   "metadata": {},
   "source": [
    "#### Masques\n",
    "Implémentez l'opération de masque dans la fonction `scaled_dot_product_attention`.\n",
    "Le masque permet d'empêcher certaines requêtes de porter attention à certaines valeurs.\n",
    "\n",
    "Ceci est possible en remplaçant les éléments de la matrice d'attention par $-\\infty$ où `mask` est `False`"
   ]
  },
  {
   "cell_type": "code",
   "id": "0002375a",
   "metadata": {
    "ExecuteTime": {
     "end_time": "2024-04-15T14:15:03.540257Z",
     "start_time": "2024-04-15T14:15:03.527331Z"
    }
   },
   "source": [
    "q = F.normalize(torch.tensor([[3.0, 3.0], [-1, 3.2], [0.2, -0.4], [0, -1]]), dim=1).unsqueeze(0)\n",
    "k = F.normalize(torch.tensor([[2.0, 1.5], [-4, 3], [0, 3], [-1, -4]]), dim=1).unsqueeze(0)\n",
    "v = F.normalize(torch.tensor([[-1.0, 2], [3, 4], [2, -3], [0, 2]]), dim=1).unsqueeze(0)\n",
    "mask = torch.tensor([[1, 0, 0, 0], [1, 1, 0, 0], [1, 1, 1, 0], [1, 1, 1, 1]], dtype=torch.bool)\n",
    "\n",
    "expected = torch.tensor([[[-0.4472,  0.8944], [ 0.1639,  0.8393], [ 0.1129,  0.3967], [ 0.0986,  0.7087]]])\n",
    "output = scaled_dot_product_attention(q, k, v, mask)\n",
    "\n",
    "print(f'scaled_dot_product_attention(q, k, v) =\\n{output}')\n",
    "print(f'valeur attendue =\\n{expected}')"
   ],
   "outputs": [
    {
     "name": "stdout",
     "output_type": "stream",
     "text": [
      "scaled_dot_product_attention(q, k, v) =\n",
      "tensor([[[-0.4472,  0.8944],\n",
      "         [ 0.1639,  0.8393],\n",
      "         [ 0.1129,  0.3967],\n",
      "         [ 0.0986,  0.7087]]])\n",
      "valeur attendue =\n",
      "tensor([[[-0.4472,  0.8944],\n",
      "         [ 0.1639,  0.8393],\n",
      "         [ 0.1129,  0.3967],\n",
      "         [ 0.0986,  0.7087]]])\n"
     ]
    }
   ],
   "execution_count": 8
  },
  {
   "cell_type": "markdown",
   "id": "c467e9c4",
   "metadata": {},
   "source": [
    "#### Visualisation de l'attention\n",
    "Il est aussi possible de visualiser directement la matrice d'attention.\n",
    "\n",
    "Dans la cellule suivate, calculez l'attention avec un masque."
   ]
  },
  {
   "cell_type": "code",
   "id": "f29419ef",
   "metadata": {
    "ExecuteTime": {
     "end_time": "2024-04-15T14:15:07.504940Z",
     "start_time": "2024-04-15T14:15:07.422636Z"
    }
   },
   "source": [
    "q = F.normalize(torch.tensor([[3.0, 3.0], [-1, 3.2], [0.2, -0.4], [0, -1]]), dim=1).unsqueeze(0)\n",
    "k = F.normalize(torch.tensor([[2.0, 1.5], [-4, 3], [0, 3], [-1, -4]]), dim=1).unsqueeze(0)\n",
    "v = F.normalize(torch.tensor([[-1.0, 2], [3, 4], [2, -3], [0, 2]]), dim=1).unsqueeze(0)\n",
    "mask = torch.tensor([[1, 0, 0, 0], [1, 1, 0, 0], [1, 1, 1, 0], [1, 1, 1, 1]], dtype=torch.bool)\n",
    "# mask = torch.ones((4, 4), dtype=torch.bool)\n",
    "\n",
    "# TODO\n",
    "attention = q.bmm(k.transpose(-2, -1)) / q.size(-1) ** 0.5\n",
    "attention[:, mask.logical_not()] = -torch.inf\n",
    "softmax = F.softmax(attention, dim=-1)\n",
    "output = softmax.bmm(v)\n",
    "\n",
    "qs = [f'$q_{i}$' for i in range(q.size(1))]\n",
    "ks = [f'$k_{i}$' for i in range(q.size(1))]\n",
    "\n",
    "plt.imshow((softmax[0]))\n",
    "\n",
    "plt.xticks(range(q.size(1)), ks)\n",
    "plt.yticks(range(q.size(1)), qs)\n",
    "\n",
    "plt.xlabel('Keys')\n",
    "plt.ylabel('Queries')\n",
    "\n",
    "plt.colorbar()\n",
    "plt.show()"
   ],
   "outputs": [
    {
     "data": {
      "text/plain": [
       "<Figure size 640x480 with 2 Axes>"
      ],
      "image/png": "[encoded data removed]"
     },
     "metadata": {},
     "output_type": "display_data"
    }
   ],
   "execution_count": 9
  },
  {
   "cell_type": "markdown",
   "id": "e0a215d7",
   "metadata": {},
   "source": [
    "#### Questions\n",
    "- Que se passe-t'il lors de l'ajout d'un masque?\n",
    "\n",
    "Les pixels correspondants sont mis à zéro.\n",
    "Une $q_i$ ne peut donc pas tenir compte que la valeur correspondant à la clé $k_j$.\n",
    "\n",
    "- Pour les questions suivantes, n'utilisez pas de masque.\n",
    "\n",
    "- Que se passe-t'il si on change l'ordre des requêtes $q$? Vous pouvez changer l'ordre manuellement avec `q = q[:, [1, 0, 2, 3]]`.\n",
    "\n",
    "L'ordre des vecteurs en sortie sera aussi permuté, mais conserveront les mêmes valeurs.\n",
    "\n",
    "```\n",
    "# sans permutation\n",
    "tensor([[[0.1089, 0.3322],\n",
    "         [0.2860, 0.2639],\n",
    "         [0.0600, 0.6791],\n",
    "         [0.0986, 0.7087]]])\n",
    "# avec permutation\n",
    "tensor([[[0.2860, 0.2639],\n",
    "         [0.1089, 0.3322],\n",
    "         [0.0600, 0.6791],\n",
    "         [0.0986, 0.7087]]])\n",
    "```\n",
    "\n",
    "Ainsi, les Transformers sont invariants à l'ordre de $q$.\n",
    "\n",
    "- Que se passe-t'il si on change l'ordre des clés et des valeurs? Vous devez permuter $k$ et $v$ de la même façon.\n",
    "\n",
    "La sortie sera exactement la même.\n",
    "La permutation de l'ordre des paires $(k_i, v_i)$, ne change pas la pondération de chaque vecteur.\n",
    "Ainsi, les Transformer sont aussi invariants à l'ordre des $(k_i, v_i)$.\n",
    "\n",
    "\n",
    "- Est-ce l'invariance à l'ordre des entrées est problématique? Quant est-t'il si l'ordre est important? par exemple en traitement de la langue naturelle.\n",
    "\n",
    "C'est problématique puisque le Transformer n'est simplement pas capable d'extraire de l'information sur l'ordre de $q$, $(k_i, v_i)$.\n",
    "Dans le cas du traitement de la langue naturelle, le Transformer ne serait pas capable de distinguer l'ordre de la phrase.\n",
    "Ainsi, les phrases \"Alice aime Bob\" et \"Bob aime Alice\" seraient les mêmes pour un Transformer, même si leur sens n'est pas le même.\n",
    "Il faut ajouter un encodage de position pour donner de l'information sur la position.\n"
   ]
  },
  {
   "cell_type": "markdown",
   "id": "653ebbfa",
   "metadata": {},
   "source": [
    "### Encodage de position\n",
    "Comme on vient de le remarquer, les Transformers sont invariants à la permutation des $q_i$ et des paires $(k_i, v_i)$, on doit donc encoder l'information sur la position directement dans ces vecteurs.\n",
    "Pour ce faire, on utilise une suite de sinus et de cosinus.\n",
    "\n",
    "L'idée est de générer des vecteurs où chaque composante oscille à des fréquences différentes.\n",
    "Comme illustré dans la figure suivante issue de [Visual Guide to Transformer Neural Networks, Hedu AI](https://www.youtube.com/watch?v=dichIcUZfOw), chaque vecteur (une slice verticale dans le graphique) permet de représenter une position dans la séquence.\n",
    "Les composantes avec une fréquence faible (en bleu) permettent d'avoir un estimé de la position sur l'ensemble de la séquence, mais avec peu de précision.\n",
    "Les composantes avec une fréquence élevée (en rouge) permettent d'avoir une estimation plus précise de la position, mais seulement sur une petite partie de la séquence puisque les valeurs se répètent périodiquement.\n",
    "\n",
    "![Positional Encoding](../docs/pos_encoding.png)\n",
    "\n",
    "Dans la cellule suivante, implémenter un encodage de position similaire à ce qui est utilisé dans \"Attention Is All You Need\".\n",
    "Il faudra générer un tenseur de dimensions $(1, n, d)$, où $n$ est le nombre d'éléments et $d$ le nombre de dimension de $q_i$.\n",
    "Générez l'encodage selon cet encodage:\n",
    "\n",
    "$$\\text{PE}_{pos, 2i} = \\sin(\\text{pos} / 10000^{i/d})$$\n",
    "\n",
    "$$\\text{PE}_{pos, 2i + 1} = \\cos(\\text{pos} / 10000^{i/d})$$\n",
    "\n",
    "Où $\\text{pos}$ est la position dans la séquence (de 0 à $n - 1$) et $i$ est l'index dans le vecteur (de 0 à $d - 1$)."
   ]
  },
  {
   "cell_type": "code",
   "id": "b32ebae2",
   "metadata": {
    "ExecuteTime": {
     "end_time": "2024-04-15T14:15:15.647632Z",
     "start_time": "2024-04-15T14:15:15.588490Z"
    }
   },
   "source": [
    "def position_encoding(n_keys: int, dimension: int, device: torch.device = torch.device(\"cpu\")):\n",
    "    # TODO\n",
    "    pos = torch.arange(n_keys, dtype=torch.float, device=device).reshape(1, -1, 1)\n",
    "    dim = torch.arange(dimension, dtype=torch.float, device=device).reshape(1, 1, -1)\n",
    "    phase = pos / (10000 ** (dim / dimension))\n",
    "\n",
    "    return torch.where(dim.long() % 2 == 0, torch.sin(phase), torch.cos(phase))\n",
    "\n",
    "pe = position_encoding(64, 128)\n",
    "plt.imshow(pe.squeeze())\n",
    "plt.xlabel('dimension')\n",
    "plt.ylabel('n')\n",
    "plt.show()"
   ],
   "outputs": [
    {
     "data": {
      "text/plain": [
       "<Figure size 640x480 with 1 Axes>"
      ],
      "image/png": "[encoded data removed]"
     },
     "metadata": {},
     "output_type": "display_data"
    }
   ],
   "execution_count": 10
  },
  {
   "cell_type": "markdown",
   "id": "1fe9690e",
   "metadata": {},
   "source": [
    "Dans la cellule suivante, ajoutez de l'encodage de position sur $q$ et $k$."
   ]
  },
  {
   "cell_type": "code",
   "id": "e4def6ec",
   "metadata": {
    "ExecuteTime": {
     "end_time": "2024-04-15T14:15:18.100760Z",
     "start_time": "2024-04-15T14:15:18.088237Z"
    }
   },
   "source": [
    "q = F.normalize(torch.tensor([[3.0, 3.0], [-1, 3.2], [0.2, -0.4], [0, -1]]), dim=1).unsqueeze(0)\n",
    "k = F.normalize(torch.tensor([[2.0, 1.5], [-4, 3], [0, 3], [-1, -4]]), dim=1).unsqueeze(0)\n",
    "v = F.normalize(torch.tensor([[-1.0, 2], [3, 4], [2, -3], [0, 2]]), dim=1).unsqueeze(0)\n",
    "\n",
    "_, n, d = q.shape\n",
    "\n",
    "# TODO\n",
    "q += position_encoding(n, d)\n",
    "k += position_encoding(n, d)\n",
    "\n",
    "scaled_dot_product_attention(q, k, v)"
   ],
   "outputs": [
    {
     "data": {
      "text/plain": [
       "tensor([[[0.2614, 0.0326],\n",
       "         [0.2765, 0.0179],\n",
       "         [0.1590, 0.2344],\n",
       "         [0.1739, 0.4437]]])"
      ]
     },
     "execution_count": 11,
     "metadata": {},
     "output_type": "execute_result"
    }
   ],
   "execution_count": 11
  },
  {
   "cell_type": "markdown",
   "id": "a99bcec4",
   "metadata": {},
   "source": [
    "#### Questions\n",
    "- Maintenant, que se passe-t'il lorsque l'on permute les $q_i$? et les $(k_i, v_i)$ après l'ajout de l'encodage de position?\n",
    "\n",
    "Comme la position est encodé dans les vecteurs, la permutation des vecteurs change la sortie de l'attention."
   ]
  },
  {
   "cell_type": "markdown",
   "id": "8290c315",
   "metadata": {},
   "source": [
    "### Le \"Scaled\" dans Scaled Dot-Product Attention\n",
    "\n",
    "Le facteur de $\\frac{1}{\\sqrt{d}}$ peut sembler inutile, pourtant, il est crucial à l'optimisation des Transformers.\n",
    "Si on fait l'hypothèse que $q_i$ et $k_i$ suivent une distribution normale $\\mathcal{N}(0, 1)$, le produit entre $q$ et $k$ aura une variance de $d$.\n",
    "Il faut donc diviser par $\\sqrt{d}$ afin d'obtenir une variance de $1$.\n",
    "\n",
    "Dans la cellule suivante, calculez `attention` en faisant le produit entre $q$ et $k$ sans le facteur d'échelle.\n",
    "Ensuite, calculez `scaled_attention` en y ajoutant le facteur de $\\frac{1}{\\sqrt{d}}$.\n",
    "\n",
    "Comparez la variance dans les deux cas."
   ]
  },
  {
   "cell_type": "code",
   "id": "dd41f0c6",
   "metadata": {
    "ExecuteTime": {
     "end_time": "2024-04-15T14:15:20.884959Z",
     "start_time": "2024-04-15T14:15:20.873369Z"
    }
   },
   "source": [
    "torch.manual_seed(1337)\n",
    "num_tokens = 32\n",
    "dimension = 256\n",
    "\n",
    "q = torch.randn(num_tokens, dimension)\n",
    "k = torch.randn(num_tokens, dimension)\n",
    "\n",
    "# TODO\n",
    "attention = q @ k.T\n",
    "# TODO\n",
    "scaled_attention = attention * dimension ** -0.5\n",
    "\n",
    "# TODO\n",
    "print(f'Variance sans scaling: {attention.var()}')\n",
    "print(f'Variance avec scaling: {scaled_attention.var()}')"
   ],
   "outputs": [
    {
     "name": "stdout",
     "output_type": "stream",
     "text": [
      "Variance sans scaling: 259.6633605957031\n",
      "Variance avec scaling: 1.0143100023269653\n"
     ]
    }
   ],
   "execution_count": 12
  },
  {
   "cell_type": "markdown",
   "id": "61673f8d",
   "metadata": {},
   "source": [
    "#### Questions\n",
    "- Justifiez pourquoi la variance est de $d$\n",
    "\n",
    "Lors du produit scalaire, on fait la somme de $d$ éléments qui ont tous une variance unitaire.\n",
    "Ainsi, la variance est de $\\sum_{i=1}^{d}1=d$.\n"
   ]
  },
  {
   "cell_type": "markdown",
   "id": "b09ef453",
   "metadata": {},
   "source": [
    "#### Impact sur les Transformers\n",
    "\n",
    "Quel est l'impact d'une grande variance sur la softmax?\n",
    "\n",
    "Comparez la sortie de la softmax des vecteurs `attention` et `scaled_attention` de la cellule précédente."
   ]
  },
  {
   "cell_type": "code",
   "id": "01c8fd07",
   "metadata": {
    "ExecuteTime": {
     "end_time": "2024-04-15T14:15:23.683186Z",
     "start_time": "2024-04-15T14:15:23.673015Z"
    }
   },
   "source": [
    "low_variance = torch.softmax(torch.tensor([0.1, -0.2, 0.3, -0.2, 0.5]), dim=-1)\n",
    "high_variance = torch.softmax(torch.tensor([0.1, -0.2, 0.3, -0.2, 0.5]) * np.sqrt(256), dim=-1)\n",
    "\n",
    "# TODO\n",
    "print(f'Softmax avec faible variance:\\n\\t{[round(x.item(), 5) for x in low_variance]}')\n",
    "print(f'Softmax avec haute variance:\\n\\t{[round(x.item(), 5) for x in high_variance]}')"
   ],
   "outputs": [
    {
     "name": "stdout",
     "output_type": "stream",
     "text": [
      "Softmax avec faible variance:\n",
      "\t[0.1925, 0.14261, 0.23512, 0.14261, 0.28717]\n",
      "Softmax avec haute variance:\n",
      "\t[0.00159, 1e-05, 0.0391, 1e-05, 0.95928]\n"
     ]
    }
   ],
   "execution_count": 13
  },
  {
   "cell_type": "markdown",
   "id": "53bd881e",
   "metadata": {},
   "source": [
    "#### Questions\n",
    "- Que remarquez-vous du vecteur softmax lorsque la variance est grande?\n",
    "\n",
    "Lorsque la variance est grande, le vecteur converge vers un vecteur one-hot.\n",
    "\n",
    "- Pourquoi est-ce que ceci serait mauvais le Transformer?\n",
    "\n",
    "Si le vecteur softmax est one-hot, cela veut dire qu'une seule valeur contribut au calcul, ce qui limite les performances du réseau en forçant une convergence vers une seule valeur trop tôt dans l'entraînement.\n",
    "Au final, on n'aggrège de l'information que d'une seule valeur plutôt que de l'ensemble des éléments."
   ]
  },
  {
   "cell_type": "markdown",
   "id": "b4658024",
   "metadata": {},
   "source": [
    "## Partie 2: Multi-Head Attention\n",
    "On va maintenant créer un module PyTorch utilisant l'attention."
   ]
  },
  {
   "cell_type": "markdown",
   "id": "ea69c518",
   "metadata": {},
   "source": [
    "### AttentionHead\n",
    "On commence par définir `AttentionHead`, un module représentant une tête d'attention à l'intérieur d'un Transformer.\n",
    "- On projette `q`, `k`, et `v` avec des couches linéaires sans biais.\n",
    "- On applique du dropout sur la matrice d'attention après la softmax.\n",
    "\n",
    "Remplissez les TODOs dans le code suivant."
   ]
  },
  {
   "cell_type": "code",
   "id": "858e2f9a",
   "metadata": {
    "ExecuteTime": {
     "end_time": "2024-04-15T14:15:27.024352Z",
     "start_time": "2024-04-15T14:15:27.012582Z"
    }
   },
   "source": [
    "class AttentionHead(nn.Module):\n",
    "    def __init__(self, dim_embed: int, head_size: int, dropout: float):\n",
    "        super().__init__()\n",
    "        # TODO trois couches linéaires sans biais\n",
    "        self.q_proj = nn.Linear(dim_embed, head_size, bias=False)\n",
    "        self.k_proj = nn.Linear(dim_embed, head_size, bias=False)\n",
    "        self.v_proj = nn.Linear(dim_embed, head_size, bias=False)\n",
    "        \n",
    "        # TODO dropout\n",
    "        self.dropout = nn.Dropout(dropout)\n",
    "        \n",
    "    def forward(self, q, k, v, mask=None):\n",
    "        B, T, C = q.shape\n",
    "        # TODO\n",
    "        q, k, v = self.q_proj(q), self.k_proj(k), self.v_proj(v)\n",
    "        \n",
    "        # TODO\n",
    "        attention = q.bmm(k.transpose(-2, -1))  # or query @ key.transpose(1, 2)\n",
    "        \n",
    "        # TODO\n",
    "        if mask is not None:\n",
    "            attention[:, mask[:T, :T].logical_not()] = -torch.inf\n",
    "    \n",
    "        # TODO\n",
    "        scale = q.size(-1) ** 0.5\n",
    "        softmax = F.softmax(attention / scale, dim=-1)\n",
    "        \n",
    "        # TODO\n",
    "        softmax = self.dropout(softmax)\n",
    "        \n",
    "        return softmax.bmm(v)\n",
    "\n",
    "    \n",
    "head = AttentionHead(16, 32, 0.1)\n",
    "x = torch.randn((1, 6, 16))\n",
    "output = head(x, x, x)\n",
    "\n",
    "print(f'Shape \\t\\t= {tuple(output.shape)}')\n",
    "print(f'Expected shape \\t= {(1, 6, 32)}')"
   ],
   "outputs": [
    {
     "name": "stdout",
     "output_type": "stream",
     "text": [
      "Shape \t\t= (1, 6, 32)\n",
      "Expected shape \t= (1, 6, 32)\n"
     ]
    }
   ],
   "execution_count": 14
  },
  {
   "cell_type": "markdown",
   "id": "4bb99765",
   "metadata": {},
   "source": [
    "### Multi-Head Attention\n",
    "On définit maintenant le module `MultiHeadAttention` qui utilise plusieurs têtes d'attention séparées.\n",
    "- Plusieurs têtes d'attention.\n",
    "- Concaténation des sorties de chaque tête\n",
    "- Couche linéaire\n",
    "- Dropout\n",
    "\n",
    "Remplissez les TODOs dans le code suivant."
   ]
  },
  {
   "cell_type": "code",
   "id": "005990f2",
   "metadata": {
    "ExecuteTime": {
     "end_time": "2024-04-15T14:15:30.036732Z",
     "start_time": "2024-04-15T14:15:30.021538Z"
    }
   },
   "source": [
    "class MultiHeadAttention(nn.Module):\n",
    "    def __init__(self, num_heads: int, dim_embed: int, head_size: int, dropout: float):\n",
    "        super().__init__()\n",
    "        # TODO\n",
    "        self.heads = nn.ModuleList([AttentionHead(dim_embed, head_size, dropout) for _ in range(num_heads)])\n",
    "        # TODO\n",
    "        self.fc = nn.Linear(num_heads * head_size, dim_embed)\n",
    "        # TODO\n",
    "        self.dropout = nn.Dropout(dropout)\n",
    "        \n",
    "    def forward(self, q, k, v, mask=None):\n",
    "        # TODO\n",
    "        out = torch.cat([h(q, k, v, mask) for h in self.heads], dim=-1)\n",
    "        # TODO\n",
    "        return self.dropout(self.fc(out))\n",
    "\n",
    "    \n",
    "m_head = MultiHeadAttention(3, 32, 256, 0.1)\n",
    "x = torch.randn((1, 6, 32))\n",
    "output = m_head(x, x, x)\n",
    "\n",
    "print(f'Shape \\t\\t= {tuple(output.shape)}')\n",
    "print(f'Expected shape \\t= {(1, 6, 32)}')"
   ],
   "outputs": [
    {
     "name": "stdout",
     "output_type": "stream",
     "text": [
      "Shape \t\t= (1, 6, 32)\n",
      "Expected shape \t= (1, 6, 32)\n"
     ]
    }
   ],
   "execution_count": 15
  },
  {
   "cell_type": "markdown",
   "id": "8653e212",
   "metadata": {},
   "source": [
    "## Partie 3: TransformerEncoderLayer"
   ]
  },
  {
   "cell_type": "markdown",
   "id": "3a82fb3d",
   "metadata": {},
   "source": [
    "### FeedForward\n",
    "On définit maintenant le réseau `FeedForward` utilisé dans le Transformer.\n",
    "\n",
    "- Linear: dim_model -> 4 * dim_model\n",
    "- ReLU\n",
    "- Linear: 4 * dim_model -> dim_model\n",
    "- Dropout"
   ]
  },
  {
   "cell_type": "code",
   "id": "05e97326",
   "metadata": {
    "ExecuteTime": {
     "end_time": "2024-04-15T14:15:32.492217Z",
     "start_time": "2024-04-15T14:15:32.481155Z"
    }
   },
   "source": [
    "class FeedForward(nn.Module):\n",
    "    def __init__(self, dim_model: int, dropout: float):\n",
    "        super().__init__()\n",
    "        # TODO\n",
    "        self.ffn = nn.Sequential(\n",
    "            nn.Linear(dim_model, 4 * dim_model),\n",
    "            nn.ReLU(),\n",
    "            nn.Linear(4 * dim_model, dim_model),\n",
    "            nn.Dropout(dropout)\n",
    "        )\n",
    "        \n",
    "    def forward(self, x):\n",
    "        return self.ffn(x)\n"
   ],
   "outputs": [],
   "execution_count": 16
  },
  {
   "cell_type": "markdown",
   "id": "e9ad204d",
   "metadata": {},
   "source": [
    "### TransformerEncoderLayer\n",
    "On peut maintenant construire une couche du Transformer.\n",
    "\n",
    "- LayerNorm\n",
    "- MultiHeadAttention\n",
    "- Connexion résiduelle\n",
    "- LayerNorm\n",
    "- FeedForward\n",
    "- Connexion résiduelle"
   ]
  },
  {
   "cell_type": "code",
   "id": "6ff2d9dd",
   "metadata": {
    "ExecuteTime": {
     "end_time": "2024-04-15T14:15:34.495946Z",
     "start_time": "2024-04-15T14:15:34.482355Z"
    }
   },
   "source": [
    "class TransformerEncoderLayer(nn.Module):\n",
    "    def __init__(self, dim_model: int, num_head: int, dropout: float):\n",
    "        super().__init__()\n",
    "        # TODO\n",
    "        head_size = dim_model // num_head\n",
    "        self.attention = MultiHeadAttention(num_head, dim_model, head_size, dropout)\n",
    "        self.ffn = FeedForward(dim_model, dropout)\n",
    "        self.norm1_q = nn.LayerNorm(dim_model)\n",
    "        self.norm1_k = nn.LayerNorm(dim_model)\n",
    "        self.norm1_v = nn.LayerNorm(dim_model)\n",
    "        self.norm2 = nn.LayerNorm(dim_model)\n",
    "        \n",
    "    def forward(self, q, k, v, mask=None):\n",
    "        # TODO\n",
    "        q = q + self.attention(self.norm1_q(q), self.norm1_k(k), self.norm1_v(v), mask)\n",
    "        # TODO\n",
    "        q = q + self.ffn(self.norm2(q))\n",
    "        return q\n",
    "    \n",
    "transf = TransformerEncoderLayer(64, 2, 0.1)\n",
    "x = torch.randn((1, 6, 64))\n",
    "output = transf(x, x, x)\n",
    "\n",
    "print(f'Shape \\t\\t= {tuple(output.shape)}')\n",
    "print(f'Expected shape \\t= {(1, 6, 64)}')"
   ],
   "outputs": [
    {
     "name": "stdout",
     "output_type": "stream",
     "text": [
      "Shape \t\t= (1, 6, 64)\n",
      "Expected shape \t= (1, 6, 64)\n"
     ]
    }
   ],
   "execution_count": 17
  },
  {
   "cell_type": "markdown",
   "id": "93c5bebb",
   "metadata": {},
   "source": [
    "## Partie 4: TransformerEncoder\n",
    "On peut maintenant tout mettre ensemble et construire le `TransformerEncoder`!"
   ]
  },
  {
   "cell_type": "code",
   "id": "bfb6b0ff",
   "metadata": {
    "ExecuteTime": {
     "end_time": "2024-04-15T14:15:36.310343Z",
     "start_time": "2024-04-15T14:15:36.291062Z"
    }
   },
   "source": [
    "class TransformerEncoder(nn.Module):\n",
    "    def __init__(self, num_layers: int, dim_model: int, num_heads: int, out_size: int, dropout: float):\n",
    "        super().__init__()\n",
    "        # TODO\n",
    "        self.layers = nn.ModuleList([TransformerEncoderLayer(dim_model, num_heads, dropout) for _ in range(num_layers)])\n",
    "        self.norm = nn.LayerNorm(dim_model)\n",
    "        self.fc = nn.Linear(dim_model, out_size)\n",
    "        \n",
    "        self.apply(self._init_weights)\n",
    "        \n",
    "    def _init_weights(self, module):\n",
    "        # TODO\n",
    "        if isinstance(module, nn.Linear):\n",
    "            torch.nn.init.normal_(module.weight, mean=0.0, std=0.02)\n",
    "            if module.bias is not None:\n",
    "                torch.nn.init.zeros_(module.bias)\n",
    "        elif isinstance(module, nn.Embedding):\n",
    "            torch.nn.init.normal_(module.weight, mean=0.0, std=0.02)\n",
    "        \n",
    "    def forward(self, x, mask=None):\n",
    "        # TODO\n",
    "        batch_size, num_tokens, dim = x.shape\n",
    "        x += position_encoding(num_tokens, dim, x.device)\n",
    "        for layer in self.layers:\n",
    "            x = layer(x, x, x, mask)\n",
    "        x = self.norm(x)\n",
    "        x = self.fc(x)\n",
    "        return x\n",
    "    \n",
    "x = torch.randn((2, 64, 64))\n",
    "\n",
    "transformer_enc = TransformerEncoder(6, 64, 2, 10, 0.0)\n",
    "output = transformer_enc(x)\n",
    "\n",
    "print(f'Shape \\t\\t= {tuple(output.shape)}')\n",
    "print(f'Expected shape \\t= {(2, 64, 10)}')"
   ],
   "outputs": [
    {
     "name": "stdout",
     "output_type": "stream",
     "text": [
      "Shape \t\t= (2, 64, 10)\n",
      "Expected shape \t= (2, 64, 10)\n"
     ]
    }
   ],
   "execution_count": 18
  },
  {
   "cell_type": "markdown",
   "id": "061452ec",
   "metadata": {},
   "source": [
    "## Partie 5: Entraînement\n",
    "On entraîne maintenant notre Transformer à prédire du texte.\n",
    "- Inspiré par https://github.com/karpathy/ng-video-lecture/tree/master de Andrej karpathy\n"
   ]
  },
  {
   "cell_type": "code",
   "id": "e14995a9",
   "metadata": {
    "ExecuteTime": {
     "end_time": "2024-04-15T14:15:40.475801Z",
     "start_time": "2024-04-15T14:15:40.047171Z"
    }
   },
   "source": [
    "# Télécharger les données localement\n",
    "!curl -o ~/GLO-4030/datasets/tiny_shakespeare.txt https://raw.githubusercontent.com/karpathy/ng-video-lecture/master/input.txt"
   ],
   "outputs": [
    {
     "name": "stdout",
     "output_type": "stream",
     "text": [
      "  % Total    % Received % Xferd  Average Speed   Time    Time     Time  Current\r\n",
      "                                 Dload  Upload   Total   Spent    Left  Speed\r\n",
      "100 1089k  100 1089k    0     0  4580k      0 --:--:-- --:--:-- --:--:-- 4576k\r\n"
     ]
    }
   ],
   "execution_count": 19
  },
  {
   "cell_type": "code",
   "source": [
    "# Sur Google Colab\n",
    "import requests\n",
    "\n",
    "url = 'https://raw.githubusercontent.com/karpathy/ng-video-lecture/master/input.txt'\n",
    "res = requests.get(url)\n",
    "text = res.content.decode('utf-8')\n",
    "\n",
    "# Extrait des données\n",
    "print(text[:147])"
   ],
   "metadata": {
    "collapsed": false,
    "ExecuteTime": {
     "end_time": "2024-04-15T14:15:43.343477Z",
     "start_time": "2024-04-15T14:15:43.153154Z"
    }
   },
   "id": "316d28919ecac4e3",
   "outputs": [
    {
     "name": "stdout",
     "output_type": "stream",
     "text": [
      "First Citizen:\n",
      "Before we proceed any further, hear me speak.\n",
      "\n",
      "All:\n",
      "Speak, speak.\n",
      "\n",
      "First Citizen:\n",
      "You are all resolved rather to die than to famish?\n"
     ]
    }
   ],
   "execution_count": 20
  },
  {
   "cell_type": "code",
   "id": "129b76b8",
   "metadata": {
    "ExecuteTime": {
     "end_time": "2024-04-15T14:15:45.572057Z",
     "start_time": "2024-04-15T14:15:45.558916Z"
    }
   },
   "source": [
    "# Sur Calcul Québec et localement\n",
    "# Charger les données\n",
    "data_path = pathlib.Path('~/GLO-4030/datasets/tiny_shakespeare.txt').expanduser()\n",
    "with open(data_path, 'r') as f:\n",
    "    text = f.read()\n",
    "\n",
    "# Extrait des données\n",
    "print(text[:147])"
   ],
   "outputs": [
    {
     "name": "stdout",
     "output_type": "stream",
     "text": [
      "First Citizen:\n",
      "Before we proceed any further, hear me speak.\n",
      "\n",
      "All:\n",
      "Speak, speak.\n",
      "\n",
      "First Citizen:\n",
      "You are all resolved rather to die than to famish?\n"
     ]
    }
   ],
   "execution_count": 21
  },
  {
   "cell_type": "code",
   "id": "77e78d6f",
   "metadata": {
    "ExecuteTime": {
     "end_time": "2024-04-15T14:15:47.744367Z",
     "start_time": "2024-04-15T14:15:47.727049Z"
    }
   },
   "source": [
    "# Calculer le vocabulaire (les caractères utilisés dans le texte)\n",
    "characters = sorted(list(set(text)))\n",
    "vocab_size = len(characters)\n",
    "\n",
    "str_to_int = {c:i for i, c in enumerate(characters)}\n",
    "int_to_str = {v: k for k, v in str_to_int.items()}\n",
    "\n",
    "# Fonction utilitaires pour convertir les caractères en entier, et inversement\n",
    "def encode(s):\n",
    "    return [str_to_int[c] for c in s]\n",
    "\n",
    "def decode(s):\n",
    "    return [int_to_str[c] for c in s]"
   ],
   "outputs": [],
   "execution_count": 22
  },
  {
   "cell_type": "code",
   "id": "9459bc61",
   "metadata": {
    "ExecuteTime": {
     "end_time": "2024-04-15T14:15:49.735709Z",
     "start_time": "2024-04-15T14:15:49.676635Z"
    }
   },
   "source": [
    "data = torch.tensor(encode(text), dtype=torch.long)\n",
    "\n",
    "n = int(0.9*len(data))\n",
    "train_data = data[:n]\n",
    "val_data = data[n:]\n",
    "batch_size = 128\n",
    "\n",
    "# Générer une batch aléatoire\n",
    "def get_batch(split, block_size, device):\n",
    "    data = train_data if split == 'train' else val_data\n",
    "    indices = torch.randint(len(data) - block_size, (batch_size,))\n",
    "    x = torch.stack([data[i:i+block_size] for i in indices])\n",
    "    y = torch.stack([data[i+1:i+block_size+1] for i in indices])\n",
    "    x, y = x.to(device), y.to(device)\n",
    "    return x, y\n",
    "\n",
    "print(get_batch('train', 256, 'cpu'))"
   ],
   "outputs": [
    {
     "name": "stdout",
     "output_type": "stream",
     "text": [
      "(tensor([[ 1, 61, 47,  ..., 57, 58, 53],\n",
      "        [ 6,  1, 39,  ..., 56, 43,  5],\n",
      "        [43, 43,  8,  ..., 53, 58,  1],\n",
      "        ...,\n",
      "        [39, 56, 49,  ..., 39, 57,  1],\n",
      "        [ 0, 35, 46,  ..., 53, 44, 44],\n",
      "        [43,  1, 52,  ..., 52, 45,  2]]), tensor([[61, 47, 58,  ..., 58, 53, 54],\n",
      "        [ 1, 39, 52,  ..., 43,  5, 57],\n",
      "        [43,  8,  0,  ..., 58,  1, 40],\n",
      "        ...,\n",
      "        [56, 49, 10,  ..., 57,  1, 57],\n",
      "        [35, 46, 39,  ..., 44, 44,  6],\n",
      "        [ 1, 52, 39,  ..., 45,  2,  1]]))\n"
     ]
    }
   ],
   "execution_count": 23
  },
  {
   "cell_type": "code",
   "id": "1b1d3aac",
   "metadata": {
    "ExecuteTime": {
     "end_time": "2024-04-15T14:15:51.811908Z",
     "start_time": "2024-04-15T14:15:51.801276Z"
    }
   },
   "source": [
    "class TransformerNLP(nn.Module):\n",
    "    def __init__(self, num_layers: int, dim_model: int, num_heads: int, out_size: int, dropout: float, vocab_size: int, block_size: int):\n",
    "        super().__init__()\n",
    "        # Embedding pour convertir des entiers en vecteurs\n",
    "        # Il s'agit essentiellement d'un tableau associant chaque entier à un vecteur\n",
    "        self.embedding = nn.Embedding(vocab_size, dim_model)\n",
    "        # Notre transformer!\n",
    "        self.transformer = TransformerEncoder(num_layers, dim_model, num_heads, out_size, dropout)\n",
    "        # Masque pour éviter que les lettre puissent porter attention aux lettres subséquentes\n",
    "        # On ne veut permettre aux lettres que de porter attention aux lettres précédentes\n",
    "        # On utilise `tril` afin de générer une matrice triangulaire inférieure\n",
    "        self.register_buffer('mask', torch.tril(torch.ones(block_size, block_size)))\n",
    "        \n",
    "    def forward(self, x):\n",
    "        B, T = x.shape\n",
    "        # TODO\n",
    "        x = self.embedding(x)\n",
    "        _, num_tokens, d_model = x.shape\n",
    "        x += position_encoding(num_tokens, d_model, x.device)\n",
    "\n",
    "        # TODO\n",
    "        x = self.transformer(x, self.mask)\n",
    "        return x\n",
    "        \n",
    "    def loss(self, pred, y):\n",
    "        B, T, C = pred.shape\n",
    "        pred = pred.view(B * T, C)\n",
    "        y = y.view(B * T)\n",
    "        return F.cross_entropy(pred, y)\n",
    "    \n",
    "    def generate(self, idx, max_new_tokens, block_size):\n",
    "        # Génère du texte avec le modèle\n",
    "        for _ in range(max_new_tokens):\n",
    "            idx_cond = idx[:, -block_size:]\n",
    "            logits = self(idx_cond)\n",
    "            logits = logits[:, -1, :]\n",
    "            probs = F.softmax(logits, dim=-1)\n",
    "            idx_next = torch.multinomial(probs, num_samples=1)\n",
    "            idx = torch.cat((idx, idx_next), dim=1)\n",
    "        return idx"
   ],
   "outputs": [],
   "execution_count": 24
  },
  {
   "cell_type": "code",
   "id": "fd5670ec",
   "metadata": {
    "ExecuteTime": {
     "end_time": "2024-04-15T14:15:54.829473Z",
     "start_time": "2024-04-15T14:15:54.116415Z"
    }
   },
   "source": [
    "block_size = 256\n",
    "max_iters = 1_000\n",
    "eval_interval = 1000\n",
    "learning_rate = 1e-3\n",
    "device = 'cuda' if torch.cuda.is_available() else 'cpu'\n",
    "eval_iters = 200\n",
    "n_embd = 384\n",
    "n_head = 6\n",
    "n_layer = 6\n",
    "dropout = 0.1\n",
    "\n",
    "# Model\n",
    "model = TransformerNLP(n_layer, n_embd, n_head, vocab_size, dropout, vocab_size, block_size)\n",
    "# Load a pretrained model\n",
    "model.load_state_dict(torch.load('../checkpoints/transformer_nlp.pth'))\n",
    "model = model.to(device)\n",
    "\n",
    "optimizer = torch.optim.AdamW(model.parameters(), lr=learning_rate)"
   ],
   "outputs": [],
   "execution_count": 25
  },
  {
   "cell_type": "code",
   "id": "3705d011",
   "metadata": {
    "scrolled": true,
    "ExecuteTime": {
     "end_time": "2024-04-15T14:18:01.296119Z",
     "start_time": "2024-04-15T14:16:57.281241Z"
    }
   },
   "source": [
    "iter_loss = []\n",
    "for i in range(max_iters):\n",
    "    if i % eval_interval == 0 or i == max_iters - 1:\n",
    "        with torch.no_grad():\n",
    "            out = {}\n",
    "            model.eval()\n",
    "            for split in ['train', 'val']:\n",
    "                losses = torch.zeros(eval_iters)\n",
    "                for k in range(eval_iters):\n",
    "                    x, y = get_batch(split, block_size, device)\n",
    "                    pred = model(x)\n",
    "                    loss = model.loss(pred, y)\n",
    "                    losses[k] = loss.item()\n",
    "                out[split] = losses.mean()\n",
    "            print(f\"step {i}: train loss {out['train'].item():.4f}, val loss {out['val'].item():.4f}\")\n",
    "            iter_loss.append((out['train'].item(), out['val'].item()))\n",
    "            model.train()\n",
    "        x, y = get_batch('train', block_size, device)\n",
    "        \n",
    "        pred = model(x)\n",
    "        loss = model.loss(pred, y)\n",
    "        \n",
    "        optimizer.zero_grad(set_to_none=True)\n",
    "        loss.backward()\n",
    "        optimizer.step()"
   ],
   "outputs": [
    {
     "name": "stdout",
     "output_type": "stream",
     "text": [
      "step 0: train loss 4.1532, val loss 4.2950\n",
      "step 999: train loss 2.8422, val loss 2.9973\n"
     ]
    }
   ],
   "execution_count": 27
  },
  {
   "cell_type": "code",
   "id": "45f163fe",
   "metadata": {
    "ExecuteTime": {
     "end_time": "2024-04-15T14:18:01.400379Z",
     "start_time": "2024-04-15T14:18:01.297025Z"
    }
   },
   "source": [
    "iter_loss_np = np.array(iter_loss)\n",
    "plt.plot(iter_loss_np[:, 0], label='train')\n",
    "plt.plot(iter_loss_np[:, 1], label='valid')\n",
    "plt.legend()\n",
    "plt.show()"
   ],
   "outputs": [
    {
     "data": {
      "text/plain": [
       "<Figure size 640x480 with 1 Axes>"
      ],
      "image/png": "[encoded data removed]"
     },
     "metadata": {},
     "output_type": "display_data"
    }
   ],
   "execution_count": 28
  },
  {
   "cell_type": "code",
   "id": "60bc695f",
   "metadata": {
    "ExecuteTime": {
     "end_time": "2024-04-15T14:18:03.695212Z",
     "start_time": "2024-04-15T14:18:01.401668Z"
    }
   },
   "source": [
    "# Prediction du texte\n",
    "context = torch.zeros((1, 1), dtype=torch.long, device=device)\n",
    "print(''.join(decode(model.generate(context, 500, block_size)[0].tolist())))"
   ],
   "outputs": [
    {
     "name": "stdout",
     "output_type": "stream",
     "text": [
      "\n",
      "LEONTES:\n",
      "Hawd ybra\n",
      "Gssing, asssice is hic d\n",
      "TICs this:\n",
      "The we nd pesray by singe, if o 's ' das mis frias, sso lie yo\n",
      "TIC queemais!\n",
      "IONCE:\n",
      "IF n's cheels, iais me, to a   a   tis eise sis.\n",
      "HNGNRY:\n",
      "\n",
      "By feal se os he clee semairs feeelrs a he pie as aue s,\n",
      "S ho sse air an s ee\n",
      "TKe CKIRDARD:\n",
      "YBUS:\n",
      "Sime har ghe sp't e pre pe ap shais Ry gre, caille.\n",
      "THENNBBENV:\n",
      "TIg\n",
      "STre mag les.\n",
      "TSe thac io r is G\n",
      "ARTClae:\n",
      "Swepr ly anl hap iso.\n",
      "BY:\n",
      "FHRS:\n",
      "T-s a mis ' willliEx:\n",
      "Twic gray, ming sto s stiils wis win he\n",
      "T\n"
     ]
    }
   ],
   "execution_count": 29
  },
  {
   "cell_type": "code",
   "id": "aca9a706",
   "metadata": {},
   "source": [
    "# Sauvegarde des poids\n",
    "# torch.save(model.state_dict(), pathlib.Path('~/GLO-4030/datasets/transformer_nlp.pth').expanduser())"
   ],
   "outputs": [],
   "execution_count": null
  },
  {
   "cell_type": "markdown",
   "id": "e5863590",
   "metadata": {},
   "source": [
    "## Partie 6: Vision Transformer\n",
    "\n",
    "Les Transformers ne sont pas limités au traitement de la langue naturelle.\n",
    "Plutôt que de passer des lettres ou des mots, on peut passer des portions d'images encodés en vecteur.\n",
    "\n",
    "Pour cette partie, nous allons entraîner un ViT (Vision Transformer) sur CIFAR10.\n"
   ]
  },
  {
   "cell_type": "code",
   "id": "fd8fa741",
   "metadata": {
    "ExecuteTime": {
     "end_time": "2024-04-15T14:18:08.845727Z",
     "start_time": "2024-04-15T14:18:08.834948Z"
    }
   },
   "source": [
    "import torchvision.models\n",
    "\n",
    "import poutyne as pt"
   ],
   "outputs": [],
   "execution_count": 30
  },
  {
   "cell_type": "code",
   "id": "b056f4a0",
   "metadata": {
    "ExecuteTime": {
     "end_time": "2024-04-15T14:18:11.471173Z",
     "start_time": "2024-04-15T14:18:10.488470Z"
    }
   },
   "source": [
    "# Data\n",
    "batch_size = 128\n",
    "\n",
    "transform_train = T.Compose([\n",
    "    T.RandAugment(4, 14),\n",
    "    T.RandomCrop(32, padding=4),\n",
    "    T.RandomHorizontalFlip(),\n",
    "    T.ToTensor(),\n",
    "    T.Normalize((0.4914, 0.4822, 0.4465), (0.2023, 0.1994, 0.2010)),\n",
    "])\n",
    "\n",
    "transform_test = T.Compose([\n",
    "    T.ToTensor(),\n",
    "    T.Normalize((0.4914, 0.4822, 0.4465), (0.2023, 0.1994, 0.2010)),\n",
    "])\n",
    "\n",
    "cifar, cifar_test = ddatasets.load_cifar10()\n",
    "cifar.transform = transform_train\n",
    "cifar_test.transform = transform_test\n",
    "\n",
    "train_split = 0.8\n",
    "num_data = len(cifar)\n",
    "indices = np.arange(num_data)\n",
    "np.random.shuffle(indices)\n",
    "\n",
    "split = math.floor(train_split * num_data)\n",
    "train_idx, valid_idx = indices[:split], indices[split:]\n",
    "\n",
    "train_dataset = torch.utils.data.Subset(cifar, train_idx)\n",
    "valid_dataset = torch.utils.data.Subset(cifar, valid_idx)\n",
    "\n",
    "train_loader = torch.utils.data.DataLoader(train_dataset, batch_size=batch_size, shuffle=True, num_workers=4, pin_memory=True)\n",
    "valid_loader = torch.utils.data.DataLoader(valid_dataset, batch_size=batch_size, shuffle=True, num_workers=4, pin_memory=True)\n",
    "test_loader = torch.utils.data.DataLoader(cifar_test, batch_size=batch_size)"
   ],
   "outputs": [
    {
     "name": "stdout",
     "output_type": "stream",
     "text": [
      "Files already downloaded and verified\n",
      "Files already downloaded and verified\n"
     ]
    }
   ],
   "execution_count": 31
  },
  {
   "cell_type": "code",
   "id": "dfe437b0",
   "metadata": {
    "ExecuteTime": {
     "end_time": "2024-04-15T15:06:50.910044Z",
     "start_time": "2024-04-15T14:18:14.147929Z"
    }
   },
   "source": [
    "pathlib.Path('logs').mkdir(exist_ok=True, parents=True)\n",
    "\n",
    "epoch = 100\n",
    "learning_rate = 1e-4\n",
    "\n",
    "img_size = cifar[0][0].shape[-1]\n",
    "patch_size = 4\n",
    "num_layers = 12\n",
    "num_heads = 12\n",
    "hidden_dim = 768\n",
    "mlp_dim = 3072\n",
    "\n",
    "model = torchvision.models.VisionTransformer(img_size, patch_size, num_layers, num_heads, hidden_dim, mlp_dim, dropout=0.1, attention_dropout=0.1, num_classes=10)\n",
    "optimizer = torch.optim.AdamW(model.parameters(), lr=learning_rate)\n",
    "\n",
    "model = pt.Model(model, optimizer, 'cross_entropy', batch_metrics=['accuracy'])\n",
    "model.cuda()\n",
    "\n",
    "history = model.fit_generator(train_loader, valid_loader, epochs=epoch, callbacks=[\n",
    "    pt.ModelCheckpoint('logs/best_epoch_{epoch}.ckpt', monitor='val_acc', mode='max', save_best_only=True, restore_best=True, verbose=True, temporary_filename='best_epoch.ckpt.tmp'),\n",
    "])\n",
    "\n",
    "dtrain.History(history).display()\n",
    "\n",
    "test_loss, test_acc = model.evaluate_generator(test_loader)\n",
    "print('test_loss: {:.4f} test_acc: {:.2f}'.format(test_loss, test_acc))"
   ],
   "outputs": [
    {
     "name": "stdout",
     "output_type": "stream",
     "text": [
      "Epoch:   1/100 Train steps: 313 Val steps: 79 1m51.17s loss: 2.126198 acc: 19.895000 val_loss: 2.046401 val_acc: 21.940000\n",
      "Epoch 1: val_acc improved from -inf to 21.94000, saving file to logs/best_epoch_1.ckpt\n",
      "Epoch:   2/100 Train steps: 313 Val steps: 79 1m50.21s loss: 1.955134 acc: 26.332500 val_loss: 1.909759 val_acc: 29.880000\n",
      "Epoch 2: val_acc improved from 21.94000 to 29.88000, saving file to logs/best_epoch_2.ckpt\n",
      "Epoch:   3/100 Train steps: 313 Val steps: 79 1m45.30s loss: 1.840979 acc: 31.755000 val_loss: 1.854002 val_acc: 31.500000\n",
      "Epoch 3: val_acc improved from 29.88000 to 31.50000, saving file to logs/best_epoch_3.ckpt\n",
      "Epoch:   4/100 Train steps: 313 Val steps: 79 1m44.08s loss: 1.767160 acc: 35.172500 val_loss: 1.722145 val_acc: 36.640000\n",
      "Epoch 4: val_acc improved from 31.50000 to 36.64000, saving file to logs/best_epoch_4.ckpt\n",
      "Epoch:   5/100 Train steps: 313 Val steps: 79 1m44.10s loss: 1.713222 acc: 37.132500 val_loss: 1.665590 val_acc: 38.620000\n",
      "Epoch 5: val_acc improved from 36.64000 to 38.62000, saving file to logs/best_epoch_5.ckpt\n",
      "Epoch:   6/100 Train steps: 313 Val steps: 79 1m44.18s loss: 1.667981 acc: 39.480000 val_loss: 1.650259 val_acc: 39.790000\n",
      "Epoch 6: val_acc improved from 38.62000 to 39.79000, saving file to logs/best_epoch_6.ckpt\n",
      "Epoch:   7/100 Train steps: 313 Val steps: 79 1m44.24s loss: 1.624741 acc: 40.977500 val_loss: 1.623606 val_acc: 41.290000\n",
      "Epoch 7: val_acc improved from 39.79000 to 41.29000, saving file to logs/best_epoch_7.ckpt\n",
      "Epoch:   8/100 Train steps: 313 Val steps: 79 1m44.41s loss: 1.589907 acc: 42.340000 val_loss: 1.572723 val_acc: 42.660000\n",
      "Epoch 8: val_acc improved from 41.29000 to 42.66000, saving file to logs/best_epoch_8.ckpt\n",
      "Epoch:   9/100 Train steps: 313 Val steps: 79 1m46.29s loss: 1.572119 acc: 42.910000 val_loss: 1.586296 val_acc: 42.820000\n",
      "Epoch 9: val_acc improved from 42.66000 to 42.82000, saving file to logs/best_epoch_9.ckpt\n",
      "Epoch:  10/100 Train steps: 313 Val steps: 79 1m48.35s loss: 1.549189 acc: 44.287500 val_loss: 1.542535 val_acc: 44.570000\n",
      "Epoch 10: val_acc improved from 42.82000 to 44.57000, saving file to logs/best_epoch_10.ckpt\n",
      "Epoch:  11/100 Train steps: 313 Val steps: 79 1m50.33s loss: 1.518676 acc: 45.275000 val_loss: 1.487566 val_acc: 46.660000\n",
      "Epoch 11: val_acc improved from 44.57000 to 46.66000, saving file to logs/best_epoch_11.ckpt\n",
      "Epoch:  12/100 Train steps: 313 Val steps: 79 1m52.21s loss: 1.498161 acc: 45.757500 val_loss: 1.530811 val_acc: 44.080000\n",
      "Epoch:  13/100 Train steps: 313 Val steps: 79 1m52.97s loss: 1.479338 acc: 46.877500 val_loss: 1.486271 val_acc: 46.410000\n",
      "Epoch:  14/100 Train steps: 313 Val steps: 79 1m53.77s loss: 1.460267 acc: 47.625000 val_loss: 1.461305 val_acc: 47.520000\n",
      "Epoch 14: val_acc improved from 46.66000 to 47.52000, saving file to logs/best_epoch_14.ckpt\n",
      "Epoch:  15/100 Train steps: 313 Val steps: 79 1m54.13s loss: 1.445458 acc: 48.032500 val_loss: 1.414133 val_acc: 49.310000\n",
      "Epoch 15: val_acc improved from 47.52000 to 49.31000, saving file to logs/best_epoch_15.ckpt\n",
      "Epoch:  16/100 Train steps: 313 Val steps: 79 1m54.12s loss: 1.426744 acc: 48.780000 val_loss: 1.404056 val_acc: 49.740000\n",
      "Epoch 16: val_acc improved from 49.31000 to 49.74000, saving file to logs/best_epoch_16.ckpt\n",
      "Epoch:  17/100 Train steps: 313 Val steps: 79 1m54.11s loss: 1.406273 acc: 49.702500 val_loss: 1.390519 val_acc: 50.410000\n",
      "Epoch 17: val_acc improved from 49.74000 to 50.41000, saving file to logs/best_epoch_17.ckpt\n",
      "Epoch:  18/100 Train steps: 313 Val steps: 79 1m53.98s loss: 1.381822 acc: 50.275000 val_loss: 1.372724 val_acc: 50.630000\n",
      "Epoch 18: val_acc improved from 50.41000 to 50.63000, saving file to logs/best_epoch_18.ckpt\n",
      "Epoch:  19/100 Train steps: 313 Val steps: 79 1m54.14s loss: 1.369073 acc: 50.720000 val_loss: 1.359164 val_acc: 51.170000\n",
      "Epoch 19: val_acc improved from 50.63000 to 51.17000, saving file to logs/best_epoch_19.ckpt\n",
      "Epoch:  20/100 Train steps: 313 Val steps: 79 2m3.21s loss: 1.346419 acc: 52.002500 val_loss: 1.336002 val_acc: 52.480000\n",
      "Epoch 20: val_acc improved from 51.17000 to 52.48000, saving file to logs/best_epoch_20.ckpt\n",
      "Epoch:  21/100 Train steps: 313 Val steps: 79 2m5.08s loss: 1.332078 acc: 52.492500 val_loss: 1.317476 val_acc: 52.930000\n",
      "Epoch 21: val_acc improved from 52.48000 to 52.93000, saving file to logs/best_epoch_21.ckpt\n",
      "Epoch:  22/100 Train steps: 313 Val steps: 79 2m1.00s loss: 1.315961 acc: 52.927500 val_loss: 1.308260 val_acc: 52.980000\n",
      "Epoch 22: val_acc improved from 52.93000 to 52.98000, saving file to logs/best_epoch_22.ckpt\n",
      "Epoch:  23/100 Train steps: 313 Val steps: 79 2m1.04s loss: 1.290192 acc: 54.062500 val_loss: 1.291750 val_acc: 53.990000\n",
      "Epoch 23: val_acc improved from 52.98000 to 53.99000, saving file to logs/best_epoch_23.ckpt\n",
      "Epoch:  24/100 Train steps: 313 Val steps: 79 2m0.92s loss: 1.274563 acc: 54.707500 val_loss: 1.280020 val_acc: 54.370000\n",
      "Epoch 24: val_acc improved from 53.99000 to 54.37000, saving file to logs/best_epoch_24.ckpt\n",
      "Epoch:  25/100 Train steps: 313 Val steps: 79 2m1.34s loss: 1.266746 acc: 55.185000 val_loss: 1.252872 val_acc: 54.610000\n",
      "Epoch 25: val_acc improved from 54.37000 to 54.61000, saving file to logs/best_epoch_25.ckpt\n",
      "Epoch:  26/100 Step: 284/313  90.73% |██████████████████▏ |ETA: 9.75s loss: 1.293451 acc: 54.687500   "
     ]
    },
    {
     "ename": "KeyboardInterrupt",
     "evalue": "",
     "output_type": "error",
     "traceback": [
      "\u001B[0;31m---------------------------------------------------------------------------\u001B[0m",
      "\u001B[0;31mKeyboardInterrupt\u001B[0m                         Traceback (most recent call last)",
      "Cell \u001B[0;32mIn[32], line 19\u001B[0m\n\u001B[1;32m     16\u001B[0m model \u001B[38;5;241m=\u001B[39m pt\u001B[38;5;241m.\u001B[39mModel(model, optimizer, \u001B[38;5;124m'\u001B[39m\u001B[38;5;124mcross_entropy\u001B[39m\u001B[38;5;124m'\u001B[39m, batch_metrics\u001B[38;5;241m=\u001B[39m[\u001B[38;5;124m'\u001B[39m\u001B[38;5;124maccuracy\u001B[39m\u001B[38;5;124m'\u001B[39m])\n\u001B[1;32m     17\u001B[0m model\u001B[38;5;241m.\u001B[39mcuda()\n\u001B[0;32m---> 19\u001B[0m history \u001B[38;5;241m=\u001B[39m \u001B[43mmodel\u001B[49m\u001B[38;5;241;43m.\u001B[39;49m\u001B[43mfit_generator\u001B[49m\u001B[43m(\u001B[49m\u001B[43mtrain_loader\u001B[49m\u001B[43m,\u001B[49m\u001B[43m \u001B[49m\u001B[43mvalid_loader\u001B[49m\u001B[43m,\u001B[49m\u001B[43m \u001B[49m\u001B[43mepochs\u001B[49m\u001B[38;5;241;43m=\u001B[39;49m\u001B[43mepoch\u001B[49m\u001B[43m,\u001B[49m\u001B[43m \u001B[49m\u001B[43mcallbacks\u001B[49m\u001B[38;5;241;43m=\u001B[39;49m\u001B[43m[\u001B[49m\n\u001B[1;32m     20\u001B[0m \u001B[43m    \u001B[49m\u001B[43mpt\u001B[49m\u001B[38;5;241;43m.\u001B[39;49m\u001B[43mModelCheckpoint\u001B[49m\u001B[43m(\u001B[49m\u001B[38;5;124;43m'\u001B[39;49m\u001B[38;5;124;43mlogs/best_epoch_\u001B[39;49m\u001B[38;5;132;43;01m{epoch}\u001B[39;49;00m\u001B[38;5;124;43m.ckpt\u001B[39;49m\u001B[38;5;124;43m'\u001B[39;49m\u001B[43m,\u001B[49m\u001B[43m \u001B[49m\u001B[43mmonitor\u001B[49m\u001B[38;5;241;43m=\u001B[39;49m\u001B[38;5;124;43m'\u001B[39;49m\u001B[38;5;124;43mval_acc\u001B[39;49m\u001B[38;5;124;43m'\u001B[39;49m\u001B[43m,\u001B[49m\u001B[43m \u001B[49m\u001B[43mmode\u001B[49m\u001B[38;5;241;43m=\u001B[39;49m\u001B[38;5;124;43m'\u001B[39;49m\u001B[38;5;124;43mmax\u001B[39;49m\u001B[38;5;124;43m'\u001B[39;49m\u001B[43m,\u001B[49m\u001B[43m \u001B[49m\u001B[43msave_best_only\u001B[49m\u001B[38;5;241;43m=\u001B[39;49m\u001B[38;5;28;43;01mTrue\u001B[39;49;00m\u001B[43m,\u001B[49m\u001B[43m \u001B[49m\u001B[43mrestore_best\u001B[49m\u001B[38;5;241;43m=\u001B[39;49m\u001B[38;5;28;43;01mTrue\u001B[39;49;00m\u001B[43m,\u001B[49m\u001B[43m \u001B[49m\u001B[43mverbose\u001B[49m\u001B[38;5;241;43m=\u001B[39;49m\u001B[38;5;28;43;01mTrue\u001B[39;49;00m\u001B[43m,\u001B[49m\u001B[43m \u001B[49m\u001B[43mtemporary_filename\u001B[49m\u001B[38;5;241;43m=\u001B[39;49m\u001B[38;5;124;43m'\u001B[39;49m\u001B[38;5;124;43mbest_epoch.ckpt.tmp\u001B[39;49m\u001B[38;5;124;43m'\u001B[39;49m\u001B[43m)\u001B[49m\u001B[43m,\u001B[49m\n\u001B[1;32m     21\u001B[0m \u001B[43m]\u001B[49m\u001B[43m)\u001B[49m\n\u001B[1;32m     23\u001B[0m dtrain\u001B[38;5;241m.\u001B[39mHistory(history)\u001B[38;5;241m.\u001B[39mdisplay()\n\u001B[1;32m     25\u001B[0m test_loss, test_acc \u001B[38;5;241m=\u001B[39m model\u001B[38;5;241m.\u001B[39mevaluate_generator(test_loader)\n",
      "File \u001B[0;32m~/Documents/Programming/glo4030-labs/venv/lib/python3.9/site-packages/poutyne/framework/model.py:612\u001B[0m, in \u001B[0;36mModel.fit_generator\u001B[0;34m(self, train_generator, valid_generator, epochs, steps_per_epoch, validation_steps, batches_per_step, initial_epoch, verbose, progress_options, callbacks)\u001B[0m\n\u001B[1;32m    610\u001B[0m     \u001B[38;5;28mself\u001B[39m\u001B[38;5;241m.\u001B[39m_fit_generator_n_batches_per_step(epoch_iterator, callback_list, batches_per_step)\n\u001B[1;32m    611\u001B[0m \u001B[38;5;28;01melse\u001B[39;00m:\n\u001B[0;32m--> 612\u001B[0m     \u001B[38;5;28;43mself\u001B[39;49m\u001B[38;5;241;43m.\u001B[39;49m\u001B[43m_fit_generator_one_batch_per_step\u001B[49m\u001B[43m(\u001B[49m\u001B[43mepoch_iterator\u001B[49m\u001B[43m,\u001B[49m\u001B[43m \u001B[49m\u001B[43mcallback_list\u001B[49m\u001B[43m)\u001B[49m\n\u001B[1;32m    614\u001B[0m \u001B[38;5;28;01mreturn\u001B[39;00m epoch_iterator\u001B[38;5;241m.\u001B[39mepoch_logs\n",
      "File \u001B[0;32m~/Documents/Programming/glo4030-labs/venv/lib/python3.9/site-packages/poutyne/framework/model.py:683\u001B[0m, in \u001B[0;36mModel._fit_generator_one_batch_per_step\u001B[0;34m(self, epoch_iterator, callback_list)\u001B[0m\n\u001B[1;32m    681\u001B[0m \u001B[38;5;28;01mwith\u001B[39;00m \u001B[38;5;28mself\u001B[39m\u001B[38;5;241m.\u001B[39m_set_training_mode(\u001B[38;5;28;01mTrue\u001B[39;00m):\n\u001B[1;32m    682\u001B[0m     \u001B[38;5;28;01mfor\u001B[39;00m step, (x, y) \u001B[38;5;129;01min\u001B[39;00m train_step_iterator:\n\u001B[0;32m--> 683\u001B[0m         step\u001B[38;5;241m.\u001B[39mloss, step\u001B[38;5;241m.\u001B[39mbatch_metrics, _ \u001B[38;5;241m=\u001B[39m \u001B[38;5;28;43mself\u001B[39;49m\u001B[38;5;241;43m.\u001B[39;49m\u001B[43m_fit_batch\u001B[49m\u001B[43m(\u001B[49m\u001B[43mx\u001B[49m\u001B[43m,\u001B[49m\u001B[43m \u001B[49m\u001B[43my\u001B[49m\u001B[43m,\u001B[49m\u001B[43m \u001B[49m\u001B[43mcallback\u001B[49m\u001B[38;5;241;43m=\u001B[39;49m\u001B[43mcallback_list\u001B[49m\u001B[43m,\u001B[49m\u001B[43m \u001B[49m\u001B[43mstep\u001B[49m\u001B[38;5;241;43m=\u001B[39;49m\u001B[43mstep\u001B[49m\u001B[38;5;241;43m.\u001B[39;49m\u001B[43mnumber\u001B[49m\u001B[43m)\u001B[49m\n\u001B[1;32m    684\u001B[0m         step\u001B[38;5;241m.\u001B[39msize \u001B[38;5;241m=\u001B[39m get_batch_size(x, y)\n\u001B[1;32m    686\u001B[0m train_step_iterator\u001B[38;5;241m.\u001B[39mloss \u001B[38;5;241m=\u001B[39m \u001B[38;5;28mself\u001B[39m\u001B[38;5;241m.\u001B[39m_get_loss()\n",
      "File \u001B[0;32m~/Documents/Programming/glo4030-labs/venv/lib/python3.9/site-packages/poutyne/framework/model.py:699\u001B[0m, in \u001B[0;36mModel._fit_batch\u001B[0;34m(self, x, y, callback, step, return_pred, convert_to_numpy)\u001B[0m\n\u001B[1;32m    693\u001B[0m \u001B[38;5;28mself\u001B[39m\u001B[38;5;241m.\u001B[39moptimizer\u001B[38;5;241m.\u001B[39mzero_grad()\n\u001B[1;32m    695\u001B[0m loss_tensor, batch_metrics, pred_y \u001B[38;5;241m=\u001B[39m \u001B[38;5;28mself\u001B[39m\u001B[38;5;241m.\u001B[39m_compute_loss_and_metrics(\n\u001B[1;32m    696\u001B[0m     x, y, return_loss_tensor\u001B[38;5;241m=\u001B[39m\u001B[38;5;28;01mTrue\u001B[39;00m, return_pred\u001B[38;5;241m=\u001B[39mreturn_pred, convert_to_numpy\u001B[38;5;241m=\u001B[39mconvert_to_numpy\n\u001B[1;32m    697\u001B[0m )\n\u001B[0;32m--> 699\u001B[0m \u001B[43mloss_tensor\u001B[49m\u001B[38;5;241;43m.\u001B[39;49m\u001B[43mbackward\u001B[49m\u001B[43m(\u001B[49m\u001B[43m)\u001B[49m\n\u001B[1;32m    700\u001B[0m callback\u001B[38;5;241m.\u001B[39mon_backward_end(step)\n\u001B[1;32m    701\u001B[0m \u001B[38;5;28mself\u001B[39m\u001B[38;5;241m.\u001B[39moptimizer\u001B[38;5;241m.\u001B[39mstep()\n",
      "File \u001B[0;32m~/Documents/Programming/glo4030-labs/venv/lib/python3.9/site-packages/torch/_tensor.py:488\u001B[0m, in \u001B[0;36mTensor.backward\u001B[0;34m(self, gradient, retain_graph, create_graph, inputs)\u001B[0m\n\u001B[1;32m    478\u001B[0m \u001B[38;5;28;01mif\u001B[39;00m has_torch_function_unary(\u001B[38;5;28mself\u001B[39m):\n\u001B[1;32m    479\u001B[0m     \u001B[38;5;28;01mreturn\u001B[39;00m handle_torch_function(\n\u001B[1;32m    480\u001B[0m         Tensor\u001B[38;5;241m.\u001B[39mbackward,\n\u001B[1;32m    481\u001B[0m         (\u001B[38;5;28mself\u001B[39m,),\n\u001B[0;32m   (...)\u001B[0m\n\u001B[1;32m    486\u001B[0m         inputs\u001B[38;5;241m=\u001B[39minputs,\n\u001B[1;32m    487\u001B[0m     )\n\u001B[0;32m--> 488\u001B[0m \u001B[43mtorch\u001B[49m\u001B[38;5;241;43m.\u001B[39;49m\u001B[43mautograd\u001B[49m\u001B[38;5;241;43m.\u001B[39;49m\u001B[43mbackward\u001B[49m\u001B[43m(\u001B[49m\n\u001B[1;32m    489\u001B[0m \u001B[43m    \u001B[49m\u001B[38;5;28;43mself\u001B[39;49m\u001B[43m,\u001B[49m\u001B[43m \u001B[49m\u001B[43mgradient\u001B[49m\u001B[43m,\u001B[49m\u001B[43m \u001B[49m\u001B[43mretain_graph\u001B[49m\u001B[43m,\u001B[49m\u001B[43m \u001B[49m\u001B[43mcreate_graph\u001B[49m\u001B[43m,\u001B[49m\u001B[43m \u001B[49m\u001B[43minputs\u001B[49m\u001B[38;5;241;43m=\u001B[39;49m\u001B[43minputs\u001B[49m\n\u001B[1;32m    490\u001B[0m \u001B[43m\u001B[49m\u001B[43m)\u001B[49m\n",
      "File \u001B[0;32m~/Documents/Programming/glo4030-labs/venv/lib/python3.9/site-packages/torch/autograd/__init__.py:197\u001B[0m, in \u001B[0;36mbackward\u001B[0;34m(tensors, grad_tensors, retain_graph, create_graph, grad_variables, inputs)\u001B[0m\n\u001B[1;32m    192\u001B[0m     retain_graph \u001B[38;5;241m=\u001B[39m create_graph\n\u001B[1;32m    194\u001B[0m \u001B[38;5;66;03m# The reason we repeat same the comment below is that\u001B[39;00m\n\u001B[1;32m    195\u001B[0m \u001B[38;5;66;03m# some Python versions print out the first line of a multi-line function\u001B[39;00m\n\u001B[1;32m    196\u001B[0m \u001B[38;5;66;03m# calls in the traceback and some print out the last line\u001B[39;00m\n\u001B[0;32m--> 197\u001B[0m \u001B[43mVariable\u001B[49m\u001B[38;5;241;43m.\u001B[39;49m\u001B[43m_execution_engine\u001B[49m\u001B[38;5;241;43m.\u001B[39;49m\u001B[43mrun_backward\u001B[49m\u001B[43m(\u001B[49m\u001B[43m  \u001B[49m\u001B[38;5;66;43;03m# Calls into the C++ engine to run the backward pass\u001B[39;49;00m\n\u001B[1;32m    198\u001B[0m \u001B[43m    \u001B[49m\u001B[43mtensors\u001B[49m\u001B[43m,\u001B[49m\u001B[43m \u001B[49m\u001B[43mgrad_tensors_\u001B[49m\u001B[43m,\u001B[49m\u001B[43m \u001B[49m\u001B[43mretain_graph\u001B[49m\u001B[43m,\u001B[49m\u001B[43m \u001B[49m\u001B[43mcreate_graph\u001B[49m\u001B[43m,\u001B[49m\u001B[43m \u001B[49m\u001B[43minputs\u001B[49m\u001B[43m,\u001B[49m\n\u001B[1;32m    199\u001B[0m \u001B[43m    \u001B[49m\u001B[43mallow_unreachable\u001B[49m\u001B[38;5;241;43m=\u001B[39;49m\u001B[38;5;28;43;01mTrue\u001B[39;49;00m\u001B[43m,\u001B[49m\u001B[43m \u001B[49m\u001B[43maccumulate_grad\u001B[49m\u001B[38;5;241;43m=\u001B[39;49m\u001B[38;5;28;43;01mTrue\u001B[39;49;00m\u001B[43m)\u001B[49m\n",
      "\u001B[0;31mKeyboardInterrupt\u001B[0m: "
     ]
    }
   ],
   "execution_count": 32
  },
  {
   "cell_type": "code",
   "id": "d9573bdc",
   "metadata": {
    "ExecuteTime": {
     "end_time": "2024-04-15T15:07:02.012636Z",
     "start_time": "2024-04-15T15:06:52.624434Z"
    }
   },
   "source": [
    "model.load_weights('logs/best_epoch_5.ckpt')\n",
    "test_loss, test_acc = model.evaluate_generator(test_loader)\n",
    "print('Epoch 5: test_loss: {:.4f} test_acc: {:.2f}'.format(test_loss, test_acc))"
   ],
   "outputs": [
    {
     "name": "stdout",
     "output_type": "stream",
     "text": [
      "Test steps: 79 9.25s test_loss: 1.290878 test_acc: 53.760757                                \n",
      "Epoch 5: test_loss: 1.2909 test_acc: 53.76\n"
     ]
    }
   ],
   "execution_count": 33
  },
  {
   "cell_type": "markdown",
   "id": "3e9e53a0",
   "metadata": {},
   "source": [
    "## Extra"
   ]
  },
  {
   "cell_type": "markdown",
   "id": "6753c010",
   "metadata": {},
   "source": [
    "### Transformers annotés\n",
    "\n",
    "On vous recommande de consulter [willGuimont/transformers](https://github.com/willGuimont/transformers) pour mieux comprendre les modèles de Transformer.\n",
    "Le projet implémente plusieurs architectures basées sur les Transformers; le code est bien commenté et devrait être facile à suivre.\n"
   ]
  },
  {
   "cell_type": "markdown",
   "id": "f42068c2",
   "metadata": {},
   "source": [
    "### Self-attention vs Cross-attention\n",
    "\n",
    "Dans les exemples utilisés dans ce laboratoire, $q$, $k$ et $v$ sont dérivés d'une seule valeur (`x = layer(x, x, x, mask)` dans le `TransformerEncoder`.\n",
    "Ceci est appelé du \"self-attention\".\n",
    "\n",
    "Il est aussi possible de faire du \"cross-attention\", lorsque $q$ et $(k, v)$ proviennent de données différentes.\n",
    "\n",
    "[Perceiver](https://www.deepmind.com/publications/perceiver-general-perception-with-iterative-attention) et [PerceiverIO](https://www.deepmind.com/open-source/perceiver-io) sont de beaux exemples d'utilisation du \"cross-attention\".\n"
   ]
  },
  {
   "cell_type": "markdown",
   "id": "825829c8",
   "metadata": {},
   "source": [
    "### TransformerDecoder\n",
    "\n",
    "Voici une implémentation du TransformerDecoder de \"Attention Is All You Need\".\n"
   ]
  },
  {
   "cell_type": "code",
   "id": "6be3c735",
   "metadata": {
    "ExecuteTime": {
     "end_time": "2024-04-15T15:07:02.037189Z",
     "start_time": "2024-04-15T15:07:02.013355Z"
    }
   },
   "source": [
    "class TransformerDecoderLayer(nn.Module):\n",
    "    def __init__(self, dim_model: int, num_head: int, dropout: float):\n",
    "        super().__init__()\n",
    "        head_size = dim_model // num_head\n",
    "        self.self_attention = MultiHeadAttention(num_head, dim_model, head_size, dropout)\n",
    "        self.norm1_target = nn.LayerNorm(dim_model)\n",
    "        self.norm1_memory = nn.LayerNorm(dim_model)\n",
    "        \n",
    "        self.norm2 = nn.LayerNorm(dim_model)\n",
    "        self.cross_attention = MultiHeadAttention(num_head, dim_model, head_size, dropout)\n",
    "        \n",
    "        self.norm3 = nn.LayerNorm(dim_model)\n",
    "        self.dropout = nn.Dropout(dropout)\n",
    "        self.ffn = FeedForward(dim_model, dropout)\n",
    "    \n",
    "    def forward(self, target, memory, self_attention_mask=None, cross_attention_mask=None):\n",
    "        target, memory = self.norm1_target(target), self.norm1_memory(memory)\n",
    "        target = target + self.self_attention(target, target, target, self_attention_mask)\n",
    "        target = target + self.cross_attention(self.norm2(target), memory, memory, cross_attention_mask)\n",
    "        return target + self.ffn(self.norm3(target))\n",
    "    \n",
    "class TransformerDecoder(nn.Module):\n",
    "    def __init__(self, num_layers: int, dim_model: int, num_heads: int, out_size: int, dropout: float):\n",
    "        super().__init__()\n",
    "        self.layers = nn.ModuleList([TransformerDecoderLayer(dim_model, num_heads, dropout) for _ in range(num_layers)])\n",
    "        self.norm = nn.LayerNorm(dim_model)\n",
    "        self.fc = nn.Linear(dim_model, out_size)\n",
    "        \n",
    "        self.apply(self._init_weights)\n",
    "        \n",
    "    def _init_weights(self, module):\n",
    "        if isinstance(module, nn.Linear):\n",
    "            torch.nn.init.normal_(module.weight, mean=0.0, std=0.02)\n",
    "            if module.bias is not None:\n",
    "                torch.nn.init.zeros_(module.bias)\n",
    "        elif isinstance(module, nn.Embedding):\n",
    "            torch.nn.init.normal_(module.weight, mean=0.0, std=0.02)\n",
    "            \n",
    "    def forward(self, target, memory, self_attention_mask=None, cross_attention_mask=None):\n",
    "        num_tokens, dim = target.shape[1], target.shape[2]\n",
    "        target += position_encoding(num_tokens, dim, target.device)\n",
    "        for layer in self.layers:\n",
    "            target = layer(target, memory, self_attention_mask, cross_attention_mask)\n",
    "        target = self.norm(target)\n",
    "        target = self.fc(target)\n",
    "        return target\n",
    "    \n",
    "dec = TransformerDecoder(6, 10, 5, 100, 0.0)\n",
    "target = torch.randn((2, 5, 10))\n",
    "memory = torch.randn((2, 5, 10))\n",
    "print(dec(target, memory).shape)"
   ],
   "outputs": [
    {
     "name": "stdout",
     "output_type": "stream",
     "text": [
      "torch.Size([2, 5, 100])\n"
     ]
    }
   ],
   "execution_count": 34
  },
  {
   "cell_type": "markdown",
   "id": "225e87e2",
   "metadata": {},
   "source": [
    "### Exemple d'implémentation de ViT"
   ]
  },
  {
   "cell_type": "code",
   "id": "d0de7a71",
   "metadata": {
    "ExecuteTime": {
     "end_time": "2024-04-15T15:07:02.051103Z",
     "start_time": "2024-04-15T15:07:02.038146Z"
    }
   },
   "source": [
    "class VisionTransformer(nn.Module):\n",
    "    def __init__(self, img_size: int, patch_size: int, num_classes: int, channels: int, num_layers: int, dim_model: int, num_heads: int, out_size: int, dropout: float):\n",
    "        super().__init__()\n",
    "        assert img_size % patch_size == 0, \"img_size must be divisible by patch_size\"\n",
    "        self.img_size = img_size\n",
    "        self.patch_size = patch_size\n",
    "        self.num_patches = (img_size // patch_size) ** 2\n",
    "        self.patch_dim = channels * patch_size * patch_size\n",
    "        \n",
    "        self.norm1 = nn.LayerNorm(self.patch_dim)\n",
    "        self.fc1 = nn.Linear(self.patch_dim, dim_model)\n",
    "        self.norm2 = nn.LayerNorm(dim_model)\n",
    "        \n",
    "        self.cls = nn.Parameter(torch.randn((1, 1, dim_model)))\n",
    "        self.dropout = nn.Dropout(dropout)\n",
    "        self.trans_enc = TransformerEncoder(num_layers, dim_model, num_heads, out_size, dropout)\n",
    "        \n",
    "        self.norm3 = nn.LayerNorm(dim_model)\n",
    "        self.fc2 = nn.Linear(dim_model, num_classes)\n",
    "    \n",
    "    def forward(self, x):\n",
    "        batch_size = x.shape[0]\n",
    "        size = 8\n",
    "        stride = 1\n",
    "        \n",
    "        # Image to patches\n",
    "        x = self._img_to_patch_emdedding(x)\n",
    "        \n",
    "        # Add cls token\n",
    "        cls = ein.repeat(self.cls, '1 1 d -> b 1 d', b=batch_size)\n",
    "        x = torch.cat((cls, x), dim=1)\n",
    "        \n",
    "        # Positional encoding\n",
    "        batch_size, num_tokens, dim = x.shape\n",
    "        x += position_encoding(num_tokens, dim, x.device)\n",
    "        \n",
    "        # Dropout\n",
    "        x = self.dropout(x)\n",
    "        \n",
    "        # Transformer\n",
    "        x = self.trans_enc(x)\n",
    "\n",
    "        \n",
    "        # Final prediction from cls token\n",
    "        x = x[:, 0]\n",
    "        x = self.fc2(self.norm3(x))\n",
    "\n",
    "        return x\n",
    "    \n",
    "    def _img_to_patch_emdedding(self, img):\n",
    "        x = ein.rearrange(img, 'b c (h p1) (w p2) -> b (h w) (p1 p2 c)', p1=self.patch_size, p2=self.patch_size)\n",
    "        x = self.norm1(x)\n",
    "        x = self.fc1(x)\n",
    "        x = self.norm2(x)\n",
    "        return x"
   ],
   "outputs": [],
   "execution_count": 35
  },
  {
   "cell_type": "code",
   "id": "131baa3a",
   "metadata": {
    "ExecuteTime": {
     "end_time": "2024-04-15T15:07:57.970127Z",
     "start_time": "2024-04-15T15:07:04.593024Z"
    }
   },
   "source": [
    "epoch = 100\n",
    "batch_size = 256\n",
    "learning_rate = 1e-4\n",
    "\n",
    "img_size = 32\n",
    "patch_size = 8\n",
    "num_classes = 10\n",
    "channels = 3\n",
    "num_layers = 6\n",
    "dim_model = 512\n",
    "num_heads = 12\n",
    "out_size = dim_model\n",
    "dropout = 0.1\n",
    "\n",
    "model = VisionTransformer(img_size, patch_size, num_classes, channels, num_layers, dim_model, num_heads, out_size, dropout)\n",
    "optimizer = torch.optim.AdamW(model.parameters(), lr=learning_rate)\n",
    "\n",
    "model = pt.Model(model, optimizer, 'cross_entropy', batch_metrics=['accuracy'])\n",
    "model.cuda()\n",
    "\n",
    "history = model.fit_generator(train_loader, valid_loader, epochs=epoch, callbacks=[\n",
    "    pt.ModelCheckpoint('logs/vit_best_epoch_{epoch}.ckpt', monitor='val_acc', mode='max', save_best_only=True, restore_best=True, verbose=True, temporary_filename='best_epoch.ckpt.tmp'),\n",
    "])\n",
    "\n",
    "dtrain.History(history).display()\n",
    "\n",
    "test_loss, test_acc = model.evaluate_generator(test_loader)\n",
    "print('test_loss: {:.4f} test_acc: {:.2f}'.format(test_loss, test_acc))"
   ],
   "outputs": [
    {
     "name": "stdout",
     "output_type": "stream",
     "text": [
      "Epoch:   1/100 Train steps: 313 Val steps: 79 17.41s loss: 2.164995 acc: 19.075000 val_loss: 2.029455 val_acc: 23.950000\n",
      "Epoch 1: val_acc improved from -inf to 23.95000, saving file to logs/vit_best_epoch_1.ckpt\n",
      "Epoch:   2/100 Train steps: 313 Val steps: 79 16.23s loss: 1.971836 acc: 27.257500 val_loss: 1.921866 val_acc: 28.590000\n",
      "Epoch 2: val_acc improved from 23.95000 to 28.59000, saving file to logs/vit_best_epoch_2.ckpt\n",
      "Epoch:   3/100 Train steps: 313 Val steps: 79 17.09s loss: 1.883047 acc: 30.690000 val_loss: 1.825267 val_acc: 32.100000\n",
      "Epoch 3: val_acc improved from 28.59000 to 32.10000, saving file to logs/vit_best_epoch_3.ckpt\n",
      "Epoch:   4/100 Step:  42/313  13.42% |██▋                 |ETA: 13.60s loss: 1.973843 acc: 25.781250"
     ]
    },
    {
     "ename": "KeyboardInterrupt",
     "evalue": "",
     "output_type": "error",
     "traceback": [
      "\u001B[0;31m---------------------------------------------------------------------------\u001B[0m",
      "\u001B[0;31mKeyboardInterrupt\u001B[0m                         Traceback (most recent call last)",
      "Cell \u001B[0;32mIn[36], line 21\u001B[0m\n\u001B[1;32m     18\u001B[0m model \u001B[38;5;241m=\u001B[39m pt\u001B[38;5;241m.\u001B[39mModel(model, optimizer, \u001B[38;5;124m'\u001B[39m\u001B[38;5;124mcross_entropy\u001B[39m\u001B[38;5;124m'\u001B[39m, batch_metrics\u001B[38;5;241m=\u001B[39m[\u001B[38;5;124m'\u001B[39m\u001B[38;5;124maccuracy\u001B[39m\u001B[38;5;124m'\u001B[39m])\n\u001B[1;32m     19\u001B[0m model\u001B[38;5;241m.\u001B[39mcuda()\n\u001B[0;32m---> 21\u001B[0m history \u001B[38;5;241m=\u001B[39m \u001B[43mmodel\u001B[49m\u001B[38;5;241;43m.\u001B[39;49m\u001B[43mfit_generator\u001B[49m\u001B[43m(\u001B[49m\u001B[43mtrain_loader\u001B[49m\u001B[43m,\u001B[49m\u001B[43m \u001B[49m\u001B[43mvalid_loader\u001B[49m\u001B[43m,\u001B[49m\u001B[43m \u001B[49m\u001B[43mepochs\u001B[49m\u001B[38;5;241;43m=\u001B[39;49m\u001B[43mepoch\u001B[49m\u001B[43m,\u001B[49m\u001B[43m \u001B[49m\u001B[43mcallbacks\u001B[49m\u001B[38;5;241;43m=\u001B[39;49m\u001B[43m[\u001B[49m\n\u001B[1;32m     22\u001B[0m \u001B[43m    \u001B[49m\u001B[43mpt\u001B[49m\u001B[38;5;241;43m.\u001B[39;49m\u001B[43mModelCheckpoint\u001B[49m\u001B[43m(\u001B[49m\u001B[38;5;124;43m'\u001B[39;49m\u001B[38;5;124;43mlogs/vit_best_epoch_\u001B[39;49m\u001B[38;5;132;43;01m{epoch}\u001B[39;49;00m\u001B[38;5;124;43m.ckpt\u001B[39;49m\u001B[38;5;124;43m'\u001B[39;49m\u001B[43m,\u001B[49m\u001B[43m \u001B[49m\u001B[43mmonitor\u001B[49m\u001B[38;5;241;43m=\u001B[39;49m\u001B[38;5;124;43m'\u001B[39;49m\u001B[38;5;124;43mval_acc\u001B[39;49m\u001B[38;5;124;43m'\u001B[39;49m\u001B[43m,\u001B[49m\u001B[43m \u001B[49m\u001B[43mmode\u001B[49m\u001B[38;5;241;43m=\u001B[39;49m\u001B[38;5;124;43m'\u001B[39;49m\u001B[38;5;124;43mmax\u001B[39;49m\u001B[38;5;124;43m'\u001B[39;49m\u001B[43m,\u001B[49m\u001B[43m \u001B[49m\u001B[43msave_best_only\u001B[49m\u001B[38;5;241;43m=\u001B[39;49m\u001B[38;5;28;43;01mTrue\u001B[39;49;00m\u001B[43m,\u001B[49m\u001B[43m \u001B[49m\u001B[43mrestore_best\u001B[49m\u001B[38;5;241;43m=\u001B[39;49m\u001B[38;5;28;43;01mTrue\u001B[39;49;00m\u001B[43m,\u001B[49m\u001B[43m \u001B[49m\u001B[43mverbose\u001B[49m\u001B[38;5;241;43m=\u001B[39;49m\u001B[38;5;28;43;01mTrue\u001B[39;49;00m\u001B[43m,\u001B[49m\u001B[43m \u001B[49m\u001B[43mtemporary_filename\u001B[49m\u001B[38;5;241;43m=\u001B[39;49m\u001B[38;5;124;43m'\u001B[39;49m\u001B[38;5;124;43mbest_epoch.ckpt.tmp\u001B[39;49m\u001B[38;5;124;43m'\u001B[39;49m\u001B[43m)\u001B[49m\u001B[43m,\u001B[49m\n\u001B[1;32m     23\u001B[0m \u001B[43m]\u001B[49m\u001B[43m)\u001B[49m\n\u001B[1;32m     25\u001B[0m dtrain\u001B[38;5;241m.\u001B[39mHistory(history)\u001B[38;5;241m.\u001B[39mdisplay()\n\u001B[1;32m     27\u001B[0m test_loss, test_acc \u001B[38;5;241m=\u001B[39m model\u001B[38;5;241m.\u001B[39mevaluate_generator(test_loader)\n",
      "File \u001B[0;32m~/Documents/Programming/glo4030-labs/venv/lib/python3.9/site-packages/poutyne/framework/model.py:612\u001B[0m, in \u001B[0;36mModel.fit_generator\u001B[0;34m(self, train_generator, valid_generator, epochs, steps_per_epoch, validation_steps, batches_per_step, initial_epoch, verbose, progress_options, callbacks)\u001B[0m\n\u001B[1;32m    610\u001B[0m     \u001B[38;5;28mself\u001B[39m\u001B[38;5;241m.\u001B[39m_fit_generator_n_batches_per_step(epoch_iterator, callback_list, batches_per_step)\n\u001B[1;32m    611\u001B[0m \u001B[38;5;28;01melse\u001B[39;00m:\n\u001B[0;32m--> 612\u001B[0m     \u001B[38;5;28;43mself\u001B[39;49m\u001B[38;5;241;43m.\u001B[39;49m\u001B[43m_fit_generator_one_batch_per_step\u001B[49m\u001B[43m(\u001B[49m\u001B[43mepoch_iterator\u001B[49m\u001B[43m,\u001B[49m\u001B[43m \u001B[49m\u001B[43mcallback_list\u001B[49m\u001B[43m)\u001B[49m\n\u001B[1;32m    614\u001B[0m \u001B[38;5;28;01mreturn\u001B[39;00m epoch_iterator\u001B[38;5;241m.\u001B[39mepoch_logs\n",
      "File \u001B[0;32m~/Documents/Programming/glo4030-labs/venv/lib/python3.9/site-packages/poutyne/framework/model.py:683\u001B[0m, in \u001B[0;36mModel._fit_generator_one_batch_per_step\u001B[0;34m(self, epoch_iterator, callback_list)\u001B[0m\n\u001B[1;32m    681\u001B[0m \u001B[38;5;28;01mwith\u001B[39;00m \u001B[38;5;28mself\u001B[39m\u001B[38;5;241m.\u001B[39m_set_training_mode(\u001B[38;5;28;01mTrue\u001B[39;00m):\n\u001B[1;32m    682\u001B[0m     \u001B[38;5;28;01mfor\u001B[39;00m step, (x, y) \u001B[38;5;129;01min\u001B[39;00m train_step_iterator:\n\u001B[0;32m--> 683\u001B[0m         step\u001B[38;5;241m.\u001B[39mloss, step\u001B[38;5;241m.\u001B[39mbatch_metrics, _ \u001B[38;5;241m=\u001B[39m \u001B[38;5;28;43mself\u001B[39;49m\u001B[38;5;241;43m.\u001B[39;49m\u001B[43m_fit_batch\u001B[49m\u001B[43m(\u001B[49m\u001B[43mx\u001B[49m\u001B[43m,\u001B[49m\u001B[43m \u001B[49m\u001B[43my\u001B[49m\u001B[43m,\u001B[49m\u001B[43m \u001B[49m\u001B[43mcallback\u001B[49m\u001B[38;5;241;43m=\u001B[39;49m\u001B[43mcallback_list\u001B[49m\u001B[43m,\u001B[49m\u001B[43m \u001B[49m\u001B[43mstep\u001B[49m\u001B[38;5;241;43m=\u001B[39;49m\u001B[43mstep\u001B[49m\u001B[38;5;241;43m.\u001B[39;49m\u001B[43mnumber\u001B[49m\u001B[43m)\u001B[49m\n\u001B[1;32m    684\u001B[0m         step\u001B[38;5;241m.\u001B[39msize \u001B[38;5;241m=\u001B[39m get_batch_size(x, y)\n\u001B[1;32m    686\u001B[0m train_step_iterator\u001B[38;5;241m.\u001B[39mloss \u001B[38;5;241m=\u001B[39m \u001B[38;5;28mself\u001B[39m\u001B[38;5;241m.\u001B[39m_get_loss()\n",
      "File \u001B[0;32m~/Documents/Programming/glo4030-labs/venv/lib/python3.9/site-packages/poutyne/framework/model.py:703\u001B[0m, in \u001B[0;36mModel._fit_batch\u001B[0;34m(self, x, y, callback, step, return_pred, convert_to_numpy)\u001B[0m\n\u001B[1;32m    700\u001B[0m callback\u001B[38;5;241m.\u001B[39mon_backward_end(step)\n\u001B[1;32m    701\u001B[0m \u001B[38;5;28mself\u001B[39m\u001B[38;5;241m.\u001B[39moptimizer\u001B[38;5;241m.\u001B[39mstep()\n\u001B[0;32m--> 703\u001B[0m loss \u001B[38;5;241m=\u001B[39m \u001B[38;5;28;43mfloat\u001B[39;49m\u001B[43m(\u001B[49m\u001B[43mloss_tensor\u001B[49m\u001B[43m)\u001B[49m\n\u001B[1;32m    704\u001B[0m \u001B[38;5;28;01mreturn\u001B[39;00m loss, batch_metrics, pred_y\n",
      "\u001B[0;31mKeyboardInterrupt\u001B[0m: "
     ]
    }
   ],
   "execution_count": 36
  },
  {
   "cell_type": "markdown",
   "id": "86b1d6d0",
   "metadata": {},
   "source": [
    "### Attention comme passage de messages\n",
    "- L'attention peut être interprété comme du passage de message sur un graphe.\n",
    "- Chaque noeud $i$ dans le graphe possède un triplet $(q_i, k_i, v_i$)\n",
    "- Grâce à $k_i$, chaque noeud \"diffuse\" ce qu'il connait\n",
    "- Grâce à $q_i$, chaque noeud demande aux autres noeuds de l'information\n",
    "- Selon ce que l'affinité entre les $q_i$ et les $k_i$, chaque noeud aggrège l'information $v_i$ de ses voisins\n",
    "- Champ réceptif large, chaque noeud à accès aux autres noeuds en une seule opération.\n",
    "\n",
    "<div>\n",
    "<img src=\"../docs/simplex_graph.png\" width=\"500\"/>\n",
    "</div>\n",
    "\n",
    "- Cette interprétation est cohérente avec la notion que les transformers sont des fonctions d'ensemble vers ensemble (invariance à l'ordre des éléments), la position des noeuds n'a pas d'importance, on doit encoder l'information sur la position autrement."
   ]
  }
 ],
 "metadata": {
  "kernelspec": {
   "display_name": "Python 3 (ipykernel)",
   "language": "python",
   "name": "python3"
  },
  "language_info": {
   "codemirror_mode": {
    "name": "ipython",
    "version": 3
   },
   "file_extension": ".py",
   "mimetype": "text/x-python",
   "name": "python",
   "nbconvert_exporter": "python",
   "pygments_lexer": "ipython3",
   "version": "3.9.16"
  }
 },
 "nbformat": 4,
 "nbformat_minor": 5
}
