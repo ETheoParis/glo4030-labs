{
 "cells": [
  {
   "cell_type": "markdown",
   "id": "78bdaafd",
   "metadata": {},
   "source": [
    "### Utilisation de Google Colab\n",
    "\n",
    "Si vous utilisez Google Colab, suivez les instructions ci-dessous.\n",
    "\n",
    "Tout d'abord, sélectionnez l'option GPU de Colab avec *Edit > Notebook settings* et sélectionner GPU comme Hardware accelerator. Installer ensuite deeplib avec la commande suivante:"
   ]
  },
  {
   "cell_type": "code",
   "execution_count": null,
   "id": "05c04f14",
   "metadata": {},
   "outputs": [],
   "source": [
    "!pip install git+https://github.com/ulaval-damas/glo4030-labs.git"
   ]
  },
  {
   "cell_type": "markdown",
   "id": "1c729b9f",
   "metadata": {},
   "source": [
    "# Laboratoire 8: Transformers\n",
    "\n",
    "Dans ce laboratoire, nous allons implémenter l'architecture Transformer de \"Attention Is All You Need\" (Vaswani, 2017)."
   ]
  },
  {
   "cell_type": "code",
   "execution_count": 1,
   "id": "7e48c943",
   "metadata": {
    "ExecuteTime": {
     "end_time": "2023-05-05T15:41:47.471604650Z",
     "start_time": "2023-05-05T15:41:46.769042327Z"
    }
   },
   "outputs": [],
   "source": [
    "%load_ext autoreload\n",
    "%autoreload 2\n",
    "%matplotlib inline\n",
    "\n",
    "import pathlib\n",
    "import math\n",
    "\n",
    "import numpy as np\n",
    "\n",
    "import torch\n",
    "import torch.random\n",
    "import torch.nn as nn\n",
    "import torch.nn.functional as F\n",
    "import torchvision\n",
    "import torchvision.transforms as T\n",
    "\n",
    "import matplotlib.pyplot as plt\n",
    "\n",
    "import einops as ein\n",
    "\n",
    "import deeplib.training as dtrain\n",
    "import deeplib.datasets as ddatasets"
   ]
  },
  {
   "cell_type": "markdown",
   "id": "aae58cdb",
   "metadata": {},
   "source": [
    "## Partie 1: Scaled Dot-Product Attention\n",
    "\n",
    "Au cœur des transformers se trouve le principe d'attention, qui permet de se concentrer sur certaines parties de l'information plutôt que sur d'autres.\n",
    "Dans le cas des transformers, on utilise le \"Scaled Dot-Product Attention\" décrit dans \"Attention Is All You Need\".\n",
    "Ce principe fonctionne comme une requête sur une hashmap: on fait une requête $q$ (query) selon des clés $k_i$ (keys), et on reçoit la valeur $v_i$ (values) associée à $q$.\n",
    "Plus formellement, on peut représenter la hashmap comme un ensemble de pair (clé, valeur) $D = \\{(k_1, v_1), \\ldots (k_m, v_m)\\}$, où $k_i$ sont les clés et $v_i$ leur valeur associée.\n",
    "Ainsi, lorsque l'on fait la requête $q$ sur la base de données $D$, on obtient la valeur associée à $q$.\n",
    "\n",
    "L'attention est similaire à ce principle, sauf que $q$, $k_i$ et $v_i$ sont tous des vecteurs, et la réponse est une somme pondérée de $v_i$.\n",
    "Ainsi, l'attention calcule la fonction suivante:\n",
    "$$Attention(q, D) = \\sum_{i=1}^{m}{\\alpha(q, k_i)v_i}$$\n",
    "\n",
    "L'attention portée à une valeur est donnée par $\\alpha(q, k_i)$.\n",
    "Il s'agit en quelque sorte d'une mesure de la similarité entre la requête $q$ et les clés $k_i$.\n",
    "Comme le nom \"Scaled Dot-Product Attention\" laisse deviner, cette similarité, $\\alpha(\\cdot)$, est un produit scalaire entre les vecteurs $q$ et $k_i$:\n",
    "\n",
    "$$\\alpha(q, k_i) = \\frac{q^Tk_i}{\\sqrt{d}} = \\frac{q \\cdot k_i }{\\sqrt{d}}$$\n",
    "\n",
    "$d$ est le nombre de dimension des vecteurs. On justifiera le facteur d'échelle de $\\frac{1}{\\sqrt{d}}$ plus tard dans le laboratoire.\n",
    "\n",
    "\n",
    "On normalise souvent cette valeur à l'aide d'une softmax afin de garder chaque pondération positive et sommant à 1.\n",
    "\n",
    "$$\\alpha(q, k_i) = \\frac{\\exp(\\alpha(q, k_i))}{\\sum_j\\exp(\\alpha(q, k_j))}$$\n",
    "\n",
    "Ainsi, le calcul d'attention dans un Transformer est:\n",
    "\n",
    "$$\\alpha(q, k_i) = \\frac{\\exp\\left(q \\cdot k_i / \\sqrt{d}\\right)}{\\sum_j\\exp\\left(q \\cdot k_i / \\sqrt{d}\\right)}$$\n",
    "\n",
    "Dans la cellule suivante, remplisser la fonction suivante pour appliquer l'attention sur les tenseurs $q$, $k$ et $v$.\n",
    "Les dimensions des tenseurs sont spécifiés en commentaire.\n",
    "Utilisez `F.softmax` pour normaliser l'attention.\n",
    "\n",
    "Assurez-vous que votre calcul d'attention donne bien la valeur attendue."
   ]
  },
  {
   "cell_type": "code",
   "execution_count": 6,
   "id": "ab97de76",
   "metadata": {
    "ExecuteTime": {
     "end_time": "2023-05-05T15:42:24.659203967Z",
     "start_time": "2023-05-05T15:42:24.617603044Z"
    }
   },
   "outputs": [
    {
     "name": "stdout",
     "output_type": "stream",
     "text": [
      "simple_attention(q, k, v) =\ttensor([[-0.3584,  0.4563]])\n",
      "valeur attendue =\t\ttensor([[-0.3584,  0.4563]])\n"
     ]
    }
   ],
   "source": [
    "def simple_attention(q, k, v):\n",
    "    \"\"\"\n",
    "    Attention simple\n",
    "    q est un tenseur de dimension (1, d)\n",
    "    k est un tenseur de dimension (n, d)\n",
    "    v est un tenseur de dimension (n, d)\n",
    "    d est la dimension des vecteurs, n le nombre de clés et de valeurs\n",
    "    La sortie devrait être de dimension (1, d)\n",
    "    \"\"\"\n",
    "    # TODO\n",
    "    d = q.size(-1)\n",
    "    alpha = F.softmax(q @ k.T / np.sqrt(d), dim=1)\n",
    "    return alpha @ v\n",
    "    \n",
    "q = F.normalize(torch.tensor([[3.0, 3.0]]), dim=1)\n",
    "k = F.normalize(torch.tensor([[2.0, 1.5], [-4, 3], [0, 3], [-1, -4]]), dim=1)\n",
    "v = F.normalize(torch.tensor([[-1.0, 2], [3, 4], [-2, -1], [0, 2]]), dim=1)\n",
    "\n",
    "expected = torch.tensor([[-0.3584,  0.4563]])\n",
    "output = simple_attention(q, k, v)\n",
    "\n",
    "print(f'simple_attention(q, k, v) =\\t{output}')\n",
    "print(f'valeur attendue =\\t\\t{expected}')"
   ]
  },
  {
   "cell_type": "markdown",
   "id": "4f279151",
   "metadata": {},
   "source": [
    "### Visualisation de l'attention\n",
    "Le produit scalaire peut aussi s'écrire sous la forme $q\\cdot k_i = \\|q\\|\\|k_i\\|\\cos(\\theta)$, où $\\theta$ est l'angle entre les vecteurs.\n",
    "Si on fait l'hypothèse que les vecteurs en jeux sont unitaires, alors on a que le produit scalaire entre deux donne une mesure d'à quel point les vecteurs sont alignés.\n",
    "On utilise cette interprétation du produit scalaire pour mieux visualiser ce que fait le Scaled Dot-Product Attention.\n",
    "\n",
    "Dans la cellule suivante, remplissez le `TODO` avec le calcul pour calculer `alpha`, le vecteur d'attention."
   ]
  },
  {
   "cell_type": "code",
   "execution_count": 7,
   "id": "dd2934b4",
   "metadata": {
    "ExecuteTime": {
     "end_time": "2023-05-05T15:42:27.015837821Z",
     "start_time": "2023-05-05T15:42:26.809504503Z"
    }
   },
   "outputs": [
    {
     "data": {
      "text/plain": "<Figure size 1400x600 with 2 Axes>",
      "image/png": "[encoded data removed]"
     },
     "metadata": {},
     "output_type": "display_data"
    }
   ],
   "source": [
    "def show_attention(q, k, v):\n",
    "    # TODO\n",
    "    d = q.size(-1)\n",
    "    alpha = F.softmax(q @ k.T / np.sqrt(d), dim=1)\n",
    "    \n",
    "    figs, axes = plt.subplots(ncols=2, figsize=(14, 6))\n",
    "    ax = axes[0]\n",
    "    ax.arrow(0, 0, q[0][0], q[0][1], head_width=0.1, head_length=0.1, fc='red', ec='red', label='$q$')\n",
    "\n",
    "    colors = ['rosybrown', 'cornflowerblue', 'lightcoral', 'mediumpurple']\n",
    "    for i, k_i in enumerate(k):\n",
    "        ax.arrow(0, 0, k_i[0], k_i[1], head_width=0.1, head_length=0.1, label=f'$k_{i}$, $\\\\alpha(q, k_{i}) = {alpha[0][i]:.3f}$', fc=colors[i], ec=colors[i])\n",
    "\n",
    "    ax.set_xlim(-1.25, 1.25)\n",
    "    ax.set_ylim(-1.25, 1.25)\n",
    "    ax.set_xlabel('X-axis')\n",
    "    ax.set_ylabel('Y-axis')\n",
    "    ax.set_title('$q$ and $k_i$')\n",
    "    ax.legend(loc='lower right')\n",
    "    ax.set_aspect('equal', adjustable='box')\n",
    "    \n",
    "    ax = axes[1]\n",
    "    ax.arrow(0, 0, output[0][0], output[0][1], head_width=0.1, head_length=0.1, fc='red', ec='red', label='$\\sum_i v_{i} \\cdot \\\\alpha(q, k_{i})$')\n",
    "\n",
    "    for i, v_i in enumerate(v):\n",
    "        v_i = v_i * alpha[0, i]\n",
    "        ax.arrow(0, 0, v_i[0], v_i[1], head_width=0.1, head_length=0.1, label=f'$v_{i} \\cdot \\\\alpha(q, k_{i})$', fc=colors[i], ec=colors[i])\n",
    "\n",
    "    ax.set_xlim(-1.25, 1.25)\n",
    "    ax.set_ylim(-1.25, 1.25)\n",
    "    ax.set_xlabel('X-axis')\n",
    "    ax.set_ylabel('Y-axis')\n",
    "    ax.set_title(r'Valeurs pondérées par $\\alpha$')\n",
    "    ax.legend(loc='lower right')\n",
    "    ax.set_aspect('equal', adjustable='box')\n",
    "\n",
    "    plt.show()\n",
    "    \n",
    "show_attention(q, k, v)"
   ]
  },
  {
   "cell_type": "markdown",
   "id": "7da42f1b",
   "metadata": {},
   "source": [
    "#### Questions\n",
    "- Visuellement, quel clé est la plus alignée avec $q$? Que peut-on dire de la valeur de $\\alpha$ correspondante? Qu'est-ce que cela veut-dire à propose de la valeur finale?\n",
    "\n",
    "La clé la plus alignée est $k_0$.\n",
    "Son score d'attention de $0.394$ est plus élevé que les autres.\n",
    "Le vecteur résultant sera plus près de $v_0$, car il a une plus grande pondération.\n",
    "\n",
    "- Que ce passe-t'il si vous changez tous les $k_i$ afin qu'ils soient opposés à $q$, sauf un? Quel est l'impact sur la valeur retournée par l'attention?\n",
    "\n",
    "Le vecteur résultant sera la valeur correspondant à la clé alignée avec la requête.\n",
    "\n",
    "- Que ce passe-t'il si vous changez tous les $k_i$ afin qu'ils soient opposés à $q$, sauf **deux** qui ont des valeurs égales? Quel est l'impact sur la valeur retournée par l'attention?\n",
    "\n",
    "Le vecteur résultant sera la moyenne des deux valeurs correspondantes."
   ]
  },
  {
   "cell_type": "markdown",
   "id": "95d5198f",
   "metadata": {},
   "source": [
    "### Plusieurs requêtes\n",
    "\n",
    "Maintenant, on veut implémenter l'attention avec plusieurs requêtes $q_i$.\n",
    "On veut comparer chaque $q_i$ avec chaque $k_i$.\n",
    "Afin d'accélérer le calcul de l'attention, on va représenter cette opération grâce à une multiplication de tenseurs.\n",
    "\n",
    "$$\\text{Attention}(Q, K, V) = \\text{softmax}\\left(\\frac{QK^T}{\\sqrt{d}}\\right)V$$\n",
    "\n",
    "$$Q=\\begin{pmatrix}\n",
    "q_1\\\\\n",
    "q_2\\\\\n",
    "\\vdots\\\\\n",
    "q_n\n",
    "\\end{pmatrix}_{n\\times d}, K=\\begin{pmatrix}\n",
    "k_1\\\\\n",
    "k_2\\\\\n",
    "\\vdots\\\\\n",
    "k_n\n",
    "\\end{pmatrix}_{n\\times d}, V=\\begin{pmatrix}\n",
    "v_1\\\\\n",
    "v_2\\\\\n",
    "\\vdots\\\\\n",
    "v_n\n",
    "\\end{pmatrix}_{n\\times d}$$\n",
    "\n",
    "Chaque $q_i$, $k_i$ et $v_i$ sont des vecteurs de dimensions $d$.\n",
    "\n",
    "La comparaison de chaque $q_i$ et $k_i$ se fait lors du produit suivant:\n",
    "\n",
    "$$QK^T = \\begin{pmatrix}\n",
    "q_1\\\\\n",
    "q_2\\\\\n",
    "\\vdots\\\\\n",
    "q_n\n",
    "\\end{pmatrix}_{n\\times d} \\begin{pmatrix}\n",
    "k_1 & k_2 & \\dots & k_n\n",
    "\\end{pmatrix}_{d\\times n} = \\begin{pmatrix}\n",
    "q_1k_1 & q_1k_2 & \\dots  & q_1k_n \\\\\n",
    "q_2k_1 & q_2k_2 & \\dots  & q_2k_n \\\\\n",
    "\\vdots & \\vdots & \\ddots & \\vdots \\\\\n",
    "q_nk_1 & q_nk_2 & \\dots  & q_nk_n \\\\\n",
    "\\end{pmatrix}_{n\\times n}$$\n",
    "\n",
    "On appelle $QK^T$ la matrice d'attention.\n",
    "Chaque élément de cette matrice correspond au produit scalaire entre une requête et une clé.\n",
    "\n",
    "Si on ignore la softmax et le facteur d'échelle, on obtient bel et bien une somme pondérée des valeurs, selon la similarité entre les clés et les requêtes.\n",
    "\n",
    "$$QK^TV = \\begin{pmatrix}\n",
    "q_1k_1 & q_1k_2 & \\dots  & q_1k_n \\\\\n",
    "q_2k_1 & q_2k_2 & \\dots  & q_2k_n \\\\\n",
    "\\vdots & \\vdots & \\ddots & \\vdots \\\\\n",
    "q_nk_1 & q_nk_2 & \\dots  & q_nk_n \\\\\n",
    "\\end{pmatrix}_{n\\times n}\\begin{pmatrix}\n",
    "v_1\\\\\n",
    "v_2\\\\\n",
    "\\vdots\\\\\n",
    "v_n\n",
    "\\end{pmatrix}_{n\\times d}=\\begin{pmatrix}\n",
    "q_1k_1v_1 + q_1k_2v_2 + \\dots  + q_1k_nv_n \\\\\n",
    "q_2k_1v_1 + q_2k_2v_2 + \\dots  + q_2k_nv_n \\\\\n",
    "\\vdots \\\\\n",
    "q_nk_1v_1 + q_nk_2v_2 + \\dots  + q_nk_nv_n \\\\\n",
    "\\end{pmatrix}_{n\\times d}$$\n",
    "\n",
    "Dans la cellule suivante, implémenter l'attention en batch avec plusieurs requêtes.\n",
    "Les dimensions des tenseurs sont spécifiés en commentaire.\n",
    "\n",
    "Assurez-vous que votre calcul d'attention donne bien la valeur attendue."
   ]
  },
  {
   "cell_type": "code",
   "execution_count": 8,
   "id": "4d11c2d2",
   "metadata": {
    "scrolled": true,
    "ExecuteTime": {
     "end_time": "2023-05-05T15:42:30.054247680Z",
     "start_time": "2023-05-05T15:42:30.045248203Z"
    }
   },
   "outputs": [
    {
     "name": "stdout",
     "output_type": "stream",
     "text": [
      "scaled_dot_product_attention(q, k, v) =\n",
      "tensor([[[0.1089, 0.3322],\n",
      "         [0.2860, 0.2639],\n",
      "         [0.0600, 0.6791],\n",
      "         [0.0986, 0.7087]]])\n",
      "valeur attendue =\n",
      "tensor([[[0.1089, 0.3322],\n",
      "         [0.2860, 0.2639],\n",
      "         [0.0600, 0.6791],\n",
      "         [0.0986, 0.7087]]])\n"
     ]
    }
   ],
   "source": [
    "def scaled_dot_product_attention(q, k, v, mask=None):\n",
    "    \"\"\"\n",
    "    Attention sur batch\n",
    "    q est un tenseur de dimension (b, n, d)\n",
    "    k est un tenseur de dimension (b, n, d)\n",
    "    v est un tenseur de dimension (b, n, d)\n",
    "    b est la taille de la mini-batch, n le nombre de clés et de valeurs, d est la dimension des vecteurs\n",
    "    La sortie devrait être de dimension (b, n, d)\n",
    "    \"\"\"\n",
    "    # TODO\n",
    "    attention = q.bmm(k.transpose(-2, -1))  # or query @ key.transpose(1, 2)\n",
    "    if mask is not None:\n",
    "        attention[:, mask.logical_not()] = -torch.inf\n",
    "    \n",
    "    scale = q.size(-1) ** 0.5\n",
    "    softmax = F.softmax(attention / scale, dim=-1)\n",
    "    return softmax.bmm(v)\n",
    "\n",
    "q = F.normalize(torch.tensor([[3.0, 3.0], [-1, 3.2], [0.2, -0.4], [0, -1]]), dim=1).unsqueeze(0)\n",
    "k = F.normalize(torch.tensor([[2.0, 1.5], [-4, 3], [0, 3], [-1, -4]]), dim=1).unsqueeze(0)\n",
    "v = F.normalize(torch.tensor([[-1.0, 2], [3, 4], [2, -3], [0, 2]]), dim=1).unsqueeze(0)\n",
    "\n",
    "expected = torch.tensor([[[0.1089, 0.3322], [0.2860, 0.2639], [0.0600, 0.6791], [0.0986, 0.7087]]])\n",
    "output = scaled_dot_product_attention(q, k, v)\n",
    "\n",
    "print(f'scaled_dot_product_attention(q, k, v) =\\n{output}')\n",
    "print(f'valeur attendue =\\n{expected}')"
   ]
  },
  {
   "cell_type": "markdown",
   "id": "b962ca3a",
   "metadata": {},
   "source": [
    "#### Questions\n",
    "- Quelle est la taille du tenseur lorsque l'on multiple $q$ et $v$? Est-ce problématique pour le temps de calculs et la mémoire utilisée si $n$ (le nombre de queries, keys et valeurs) augmente?\n",
    "\n",
    "Lorsque l'on compare $n$ éléments à $n$ autres, il y à $n^2$ comparaisons possibles.\n",
    "Ainsi, la matrice d'attention résultante des dimensions $n\\times n$, soit en $O(n^2)$.\n",
    "Ceci est un enjeu important puisque la taille de la matrice (espace mémoire nécessaire, et temps de calcul) augmente selon le carré du nombre de requêtes et de clés.\n",
    "Ceci limite la valeur de $n$ qu'il est possible d'utiliser en pratique.\n"
   ]
  },
  {
   "cell_type": "markdown",
   "id": "e499e915",
   "metadata": {},
   "source": [
    "#### Masques\n",
    "Implémentez l'opération de masque dans la fonction `scaled_dot_product_attention`.\n",
    "Le masque permet d'empêcher certaines requêtes de porter attention à certaines valeurs.\n",
    "\n",
    "Ceci est possible en remplaçant les éléments de la matrice d'attention par $-\\infty$ où `mask` est `False`"
   ]
  },
  {
   "cell_type": "code",
   "execution_count": 9,
   "id": "0002375a",
   "metadata": {
    "ExecuteTime": {
     "end_time": "2023-05-05T15:42:32.300396516Z",
     "start_time": "2023-05-05T15:42:32.290849816Z"
    }
   },
   "outputs": [
    {
     "name": "stdout",
     "output_type": "stream",
     "text": [
      "scaled_dot_product_attention(q, k, v) =\n",
      "tensor([[[-0.4472,  0.8944],\n",
      "         [ 0.1639,  0.8393],\n",
      "         [ 0.1129,  0.3967],\n",
      "         [ 0.0986,  0.7087]]])\n",
      "valeur attendue =\n",
      "tensor([[[-0.4472,  0.8944],\n",
      "         [ 0.1639,  0.8393],\n",
      "         [ 0.1129,  0.3967],\n",
      "         [ 0.0986,  0.7087]]])\n"
     ]
    }
   ],
   "source": [
    "q = F.normalize(torch.tensor([[3.0, 3.0], [-1, 3.2], [0.2, -0.4], [0, -1]]), dim=1).unsqueeze(0)\n",
    "k = F.normalize(torch.tensor([[2.0, 1.5], [-4, 3], [0, 3], [-1, -4]]), dim=1).unsqueeze(0)\n",
    "v = F.normalize(torch.tensor([[-1.0, 2], [3, 4], [2, -3], [0, 2]]), dim=1).unsqueeze(0)\n",
    "mask = torch.tensor([[1, 0, 0, 0], [1, 1, 0, 0], [1, 1, 1, 0], [1, 1, 1, 1]], dtype=torch.bool)\n",
    "\n",
    "expected = torch.tensor([[[-0.4472,  0.8944], [ 0.1639,  0.8393], [ 0.1129,  0.3967], [ 0.0986,  0.7087]]])\n",
    "output = scaled_dot_product_attention(q, k, v, mask)\n",
    "\n",
    "print(f'scaled_dot_product_attention(q, k, v) =\\n{output}')\n",
    "print(f'valeur attendue =\\n{expected}')"
   ]
  },
  {
   "cell_type": "markdown",
   "id": "c467e9c4",
   "metadata": {},
   "source": [
    "#### Visualisation de l'attention\n",
    "Il est aussi possible de visualiser directement la matrice d'attention.\n",
    "\n",
    "Dans la cellule suivate, calculez l'attention avec un masque."
   ]
  },
  {
   "cell_type": "code",
   "execution_count": 10,
   "id": "f29419ef",
   "metadata": {
    "ExecuteTime": {
     "end_time": "2023-05-05T15:42:34.341486767Z",
     "start_time": "2023-05-05T15:42:34.263028276Z"
    }
   },
   "outputs": [
    {
     "data": {
      "text/plain": "<Figure size 640x480 with 2 Axes>",
      "image/png": "[encoded data removed]"
     },
     "metadata": {},
     "output_type": "display_data"
    }
   ],
   "source": [
    "q = F.normalize(torch.tensor([[3.0, 3.0], [-1, 3.2], [0.2, -0.4], [0, -1]]), dim=1).unsqueeze(0)\n",
    "k = F.normalize(torch.tensor([[2.0, 1.5], [-4, 3], [0, 3], [-1, -4]]), dim=1).unsqueeze(0)\n",
    "v = F.normalize(torch.tensor([[-1.0, 2], [3, 4], [2, -3], [0, 2]]), dim=1).unsqueeze(0)\n",
    "mask = torch.tensor([[1, 0, 0, 0], [1, 1, 0, 0], [1, 1, 1, 0], [1, 1, 1, 1]], dtype=torch.bool)\n",
    "# mask = torch.ones((4, 4), dtype=torch.bool)\n",
    "\n",
    "# TODO\n",
    "attention = q.bmm(k.transpose(-2, -1)) / q.size(-1) ** 0.5\n",
    "attention[:, mask.logical_not()] = -torch.inf\n",
    "softmax = F.softmax(attention, dim=-1)\n",
    "output = softmax.bmm(v)\n",
    "\n",
    "qs = [f'$q_{i}$' for i in range(q.size(1))]\n",
    "ks = [f'$k_{i}$' for i in range(q.size(1))]\n",
    "\n",
    "plt.imshow((softmax[0]))\n",
    "\n",
    "plt.xticks(range(q.size(1)), ks)\n",
    "plt.yticks(range(q.size(1)), qs)\n",
    "\n",
    "plt.xlabel('Keys')\n",
    "plt.ylabel('Queries')\n",
    "\n",
    "plt.colorbar()\n",
    "plt.show()"
   ]
  },
  {
   "cell_type": "markdown",
   "id": "e0a215d7",
   "metadata": {},
   "source": [
    "#### Questions\n",
    "- Que se passe-t'il lors de l'ajout d'un masque?\n",
    "\n",
    "Les pixels correspondants sont mis à zéro.\n",
    "Une $q_i$ ne peut donc pas tenir compte que la valeur correspondant à la clé $k_j$.\n",
    "\n",
    "- Pour les questions suivantes, n'utilisez pas de masque.\n",
    "\n",
    "- Que se passe-t'il si on change l'ordre des requêtes $q$? Vous pouvez changer l'ordre manuellement avec `q = q[:, [1, 0, 2, 3]]`.\n",
    "\n",
    "L'ordre des vecteurs en sortie sera aussi permuté, mais conserveront les mêmes valeurs.\n",
    "\n",
    "```\n",
    "# sans permutation\n",
    "tensor([[[0.1089, 0.3322],\n",
    "         [0.2860, 0.2639],\n",
    "         [0.0600, 0.6791],\n",
    "         [0.0986, 0.7087]]])\n",
    "# avec permutation\n",
    "tensor([[[0.2860, 0.2639],\n",
    "         [0.1089, 0.3322],\n",
    "         [0.0600, 0.6791],\n",
    "         [0.0986, 0.7087]]])\n",
    "```\n",
    "\n",
    "Ainsi, les Transformers sont invariants à l'ordre de $q$.\n",
    "\n",
    "- Que se passe-t'il si on change l'ordre des clés et des valeurs? Vous devez permuter $k$ et $v$ de la même façon.\n",
    "\n",
    "La sortie sera exactement la même.\n",
    "La permutation de l'ordre des paires $(k_i, v_i)$, ne change pas la pondération de chaque vecteur.\n",
    "Ainsi, les Transformer sont aussi invariants à l'ordre des $(k_i, v_i)$.\n",
    "\n",
    "\n",
    "- Est-ce l'invariance à l'ordre des entrées est problématique? Quant est-t'il si l'ordre est important? par exemple en traitement de la langue naturelle.\n",
    "\n",
    "C'est problématique puisque le Transformer n'est simplement pas capable d'extraire de l'information sur l'ordre de $q$, $(k_i, v_i)$.\n",
    "Dans le cas du traitement de la langue naturelle, le Transformer ne serait pas capable de distinguer l'ordre de la phrase.\n",
    "Ainsi, les phrases \"Alice aime Bob\" et \"Bob aime Alice\" seraient les mêmes pour un Transformer, même si leur sens n'est pas le même.\n",
    "Il faut ajouter un encodage de position pour donner de l'information sur la position.\n"
   ]
  },
  {
   "cell_type": "markdown",
   "id": "653ebbfa",
   "metadata": {},
   "source": [
    "### Encodage de position\n",
    "Comme on vient de le remarquer, les Transformers sont invariants à la permutation des $q_i$ et des paires $(k_i, v_i)$, on doit donc encoder l'information sur la position directement dans ces vecteurs.\n",
    "Pour ce faire, on utilise une suite de sinus et de cosinus.\n",
    "\n",
    "L'idée est de générer des vecteurs où chaque composante oscille à des fréquences différentes.\n",
    "Comme illustré dans la figure suivante issue de [Visual Guide to Transformer Neural Networks, Hedu AI](https://www.youtube.com/watch?v=dichIcUZfOw), chaque vecteur (une slice verticale dans le graphique) permet de représenter une position dans la séquence.\n",
    "Les composantes avec une fréquence faible (en bleu) permettent d'avoir un estimé de la position sur l'ensemble de la séquence, mais avec peu de précision.\n",
    "Les composantes avec une fréquence élevée (en rouge) permettent d'avoir une estimation plus précise de la position, mais seulement sur une petite partie de la séquence puisque les valeurs se répètent périodiquement.\n",
    "\n",
    "![Positional Encoding](../docs/pos_encoding.png)\n",
    "\n",
    "Dans la cellule suivante, implémenter un encodage de position similaire à ce qui est utilisé dans \"Attention Is All You Need\".\n",
    "Il faudra générer un tenseur de dimensions $(1, n, d)$, où $n$ est le nombre d'éléments et $d$ le nombre de dimension de $q_i$.\n",
    "Générez l'encodage selon cet encodage:\n",
    "\n",
    "$$\\text{PE}_{pos, 2i} = \\sin(\\text{pos} / 10000^{i/d})$$\n",
    "\n",
    "$$\\text{PE}_{pos, 2i + 1} = \\cos(\\text{pos} / 10000^{i/d})$$\n",
    "\n",
    "Où $\\text{pos}$ est la position dans la séquence (de 0 à $n - 1$) et $i$ est l'index dans le vecteur (de 0 à $d - 1$)."
   ]
  },
  {
   "cell_type": "code",
   "execution_count": 11,
   "id": "b32ebae2",
   "metadata": {
    "ExecuteTime": {
     "end_time": "2023-05-05T15:42:41.053550092Z",
     "start_time": "2023-05-05T15:42:40.999322934Z"
    }
   },
   "outputs": [
    {
     "data": {
      "text/plain": "<Figure size 640x480 with 1 Axes>",
      "image/png": "[encoded data removed]"
     },
     "metadata": {},
     "output_type": "display_data"
    }
   ],
   "source": [
    "def position_encoding(n_keys: int, dimension: int, device: torch.device = torch.device(\"cpu\")):\n",
    "    # TODO\n",
    "    pos = torch.arange(n_keys, dtype=torch.float, device=device).reshape(1, -1, 1)\n",
    "    dim = torch.arange(dimension, dtype=torch.float, device=device).reshape(1, 1, -1)\n",
    "    phase = pos / (10000 ** (dim / dimension))\n",
    "\n",
    "    return torch.where(dim.long() % 2 == 0, torch.sin(phase), torch.cos(phase))\n",
    "\n",
    "pe = position_encoding(64, 128)\n",
    "plt.imshow(pe.squeeze())\n",
    "plt.xlabel('dimension')\n",
    "plt.ylabel('n')\n",
    "plt.show()"
   ]
  },
  {
   "cell_type": "markdown",
   "id": "1fe9690e",
   "metadata": {},
   "source": [
    "Dans la cellule suivante, ajoutez de l'encodage de position sur $q$ et $k$."
   ]
  },
  {
   "cell_type": "code",
   "execution_count": 12,
   "id": "e4def6ec",
   "metadata": {
    "ExecuteTime": {
     "end_time": "2023-05-05T15:42:43.173901462Z",
     "start_time": "2023-05-05T15:42:43.163706795Z"
    }
   },
   "outputs": [
    {
     "data": {
      "text/plain": "tensor([[[0.2614, 0.0326],\n         [0.2765, 0.0179],\n         [0.1590, 0.2344],\n         [0.1739, 0.4437]]])"
     },
     "execution_count": 12,
     "metadata": {},
     "output_type": "execute_result"
    }
   ],
   "source": [
    "q = F.normalize(torch.tensor([[3.0, 3.0], [-1, 3.2], [0.2, -0.4], [0, -1]]), dim=1).unsqueeze(0)\n",
    "k = F.normalize(torch.tensor([[2.0, 1.5], [-4, 3], [0, 3], [-1, -4]]), dim=1).unsqueeze(0)\n",
    "v = F.normalize(torch.tensor([[-1.0, 2], [3, 4], [2, -3], [0, 2]]), dim=1).unsqueeze(0)\n",
    "\n",
    "_, n, d = q.shape\n",
    "\n",
    "# TODO\n",
    "q += position_encoding(n, d)\n",
    "k += position_encoding(n, d)\n",
    "\n",
    "scaled_dot_product_attention(q, k, v)"
   ]
  },
  {
   "cell_type": "markdown",
   "id": "a99bcec4",
   "metadata": {},
   "source": [
    "#### Questions\n",
    "- Maintenant, que se passe-t'il lorsque l'on permute les $q_i$? et les $(k_i, v_i)$ après l'ajout de l'encodage de position?\n",
    "\n",
    "Comme la position est encodé dans les vecteurs, la permutation des vecteurs change la sortie de l'attention."
   ]
  },
  {
   "cell_type": "markdown",
   "id": "8290c315",
   "metadata": {},
   "source": [
    "### Le \"Scaled\" dans Scaled Dot-Product Attention\n",
    "\n",
    "Le facteur de $\\frac{1}{\\sqrt{d}}$ peut sembler inutile, pourtant, il est crucial à l'optimisation des Transformers.\n",
    "Si on fait l'hypothèse que $q_i$ et $k_i$ suivent une distribution normale $\\mathcal{N}(0, 1)$, le produit entre $q$ et $k$ aura une variance de $d$.\n",
    "Il faut donc diviser par $\\sqrt{d}$ afin d'obtenir une variance de $1$.\n",
    "\n",
    "Dans la cellule suivante, calculez `attention` en faisant le produit entre $q$ et $k$ sans le facteur d'échelle.\n",
    "Ensuite, calculez `scaled_attention` en y ajoutant le facteur de $\\frac{1}{\\sqrt{d}}$.\n",
    "\n",
    "Comparez la variance dans les deux cas."
   ]
  },
  {
   "cell_type": "code",
   "execution_count": 13,
   "id": "dd41f0c6",
   "metadata": {
    "ExecuteTime": {
     "end_time": "2023-05-05T15:42:45.853009651Z",
     "start_time": "2023-05-05T15:42:45.838296464Z"
    }
   },
   "outputs": [
    {
     "name": "stdout",
     "output_type": "stream",
     "text": [
      "Variance sans scaling: 259.6633605957031\n",
      "Variance avec scaling: 1.0143100023269653\n"
     ]
    }
   ],
   "source": [
    "torch.manual_seed(1337)\n",
    "num_tokens = 32\n",
    "dimension = 256\n",
    "\n",
    "q = torch.randn(num_tokens, dimension)\n",
    "k = torch.randn(num_tokens, dimension)\n",
    "\n",
    "# TODO\n",
    "attention = q @ k.T\n",
    "# TODO\n",
    "scaled_attention = attention * dimension ** -0.5\n",
    "\n",
    "# TODO\n",
    "print(f'Variance sans scaling: {attention.var()}')\n",
    "print(f'Variance avec scaling: {scaled_attention.var()}')"
   ]
  },
  {
   "cell_type": "markdown",
   "id": "61673f8d",
   "metadata": {},
   "source": [
    "#### Questions\n",
    "- Justifiez pourquoi la variance est de $d$\n",
    "\n",
    "Lors du produit scalaire, on fait la somme de $d$ éléments qui ont tous une variance unitaire.\n",
    "Ainsi, la variance est de $\\sum_{i=1}^{d}1=d$.\n"
   ]
  },
  {
   "cell_type": "markdown",
   "id": "b09ef453",
   "metadata": {},
   "source": [
    "#### Impact sur les Transformers\n",
    "\n",
    "Quel est l'impact d'une grande variance sur la softmax?\n",
    "\n",
    "Comparez la sortie de la softmax des vecteurs `attention` et `scaled_attention` de la cellule précédente."
   ]
  },
  {
   "cell_type": "code",
   "execution_count": 14,
   "id": "01c8fd07",
   "metadata": {
    "ExecuteTime": {
     "end_time": "2023-05-05T15:42:48.775918801Z",
     "start_time": "2023-05-05T15:42:48.732937005Z"
    }
   },
   "outputs": [
    {
     "name": "stdout",
     "output_type": "stream",
     "text": [
      "Softmax avec faible variance:\n",
      "\t[0.1925, 0.14261, 0.23512, 0.14261, 0.28717]\n",
      "Softmax avec haute variance:\n",
      "\t[0.00159, 1e-05, 0.0391, 1e-05, 0.95928]\n"
     ]
    }
   ],
   "source": [
    "low_variance = torch.softmax(torch.tensor([0.1, -0.2, 0.3, -0.2, 0.5]), dim=-1)\n",
    "high_variance = torch.softmax(torch.tensor([0.1, -0.2, 0.3, -0.2, 0.5]) * np.sqrt(256), dim=-1)\n",
    "\n",
    "# TODO\n",
    "print(f'Softmax avec faible variance:\\n\\t{[round(x.item(), 5) for x in low_variance]}')\n",
    "print(f'Softmax avec haute variance:\\n\\t{[round(x.item(), 5) for x in high_variance]}')"
   ]
  },
  {
   "cell_type": "markdown",
   "id": "53bd881e",
   "metadata": {},
   "source": [
    "#### Questions\n",
    "- Que remarquez-vous du vecteur softmax lorsque la variance est grande?\n",
    "\n",
    "Lorsque la variance est grande, le vecteur converge vers un vecteur one-hot.\n",
    "\n",
    "- Pourquoi est-ce que ceci serait mauvais le Transformer?\n",
    "\n",
    "Si le vecteur softmax est one-hot, cela veut dire qu'une seule valeur contribut au calcul, ce qui limite les performances du réseau en forçant une convergence vers une seule valeur trop tôt dans l'entraînement.\n",
    "Au final, on n'aggrège de l'information que d'une seule valeur plutôt que de l'ensemble des éléments."
   ]
  },
  {
   "cell_type": "markdown",
   "id": "b4658024",
   "metadata": {},
   "source": [
    "## Partie 2: Multi-Head Attention\n",
    "On va maintenant créer un module PyTorch utilisant l'attention."
   ]
  },
  {
   "cell_type": "markdown",
   "id": "ea69c518",
   "metadata": {},
   "source": [
    "### AttentionHead\n",
    "On commence par définir `AttentionHead`, un module représentant une tête d'attention à l'intérieur d'un Transformer.\n",
    "- On projette `q`, `k`, et `v` avec des couches linéaires sans biais.\n",
    "- On applique du dropout sur la matrice d'attention après la softmax.\n",
    "\n",
    "Remplissez les TODOs dans le code suivant."
   ]
  },
  {
   "cell_type": "code",
   "execution_count": 15,
   "id": "858e2f9a",
   "metadata": {
    "ExecuteTime": {
     "end_time": "2023-05-05T15:42:51.877586184Z",
     "start_time": "2023-05-05T15:42:51.868516180Z"
    }
   },
   "outputs": [
    {
     "name": "stdout",
     "output_type": "stream",
     "text": [
      "Shape \t\t= (1, 6, 32)\n",
      "Expected shape \t= (1, 6, 32)\n"
     ]
    }
   ],
   "source": [
    "class AttentionHead(nn.Module):\n",
    "    def __init__(self, dim_embed: int, head_size: int, dropout: float):\n",
    "        super().__init__()\n",
    "        # TODO trois couches linéaires sans biais\n",
    "        self.q_proj = nn.Linear(dim_embed, head_size, bias=False)\n",
    "        self.k_proj = nn.Linear(dim_embed, head_size, bias=False)\n",
    "        self.v_proj = nn.Linear(dim_embed, head_size, bias=False)\n",
    "        \n",
    "        # TODO dropout\n",
    "        self.dropout = nn.Dropout(dropout)\n",
    "        \n",
    "    def forward(self, q, k, v, mask=None):\n",
    "        B, T, C = q.shape\n",
    "        # TODO\n",
    "        q, k, v = self.q_proj(q), self.k_proj(k), self.v_proj(v)\n",
    "        \n",
    "        # TODO\n",
    "        attention = q.bmm(k.transpose(-2, -1))  # or query @ key.transpose(1, 2)\n",
    "        \n",
    "        # TODO\n",
    "        if mask is not None:\n",
    "            attention[:, mask[:T, :T].logical_not()] = -torch.inf\n",
    "    \n",
    "        # TODO\n",
    "        scale = q.size(-1) ** 0.5\n",
    "        softmax = F.softmax(attention / scale, dim=-1)\n",
    "        \n",
    "        # TODO\n",
    "        softmax = self.dropout(softmax)\n",
    "        \n",
    "        return softmax.bmm(v)\n",
    "\n",
    "    \n",
    "head = AttentionHead(16, 32, 0.1)\n",
    "x = torch.randn((1, 6, 16))\n",
    "output = head(x, x, x)\n",
    "\n",
    "print(f'Shape \\t\\t= {tuple(output.shape)}')\n",
    "print(f'Expected shape \\t= {(1, 6, 32)}')"
   ]
  },
  {
   "cell_type": "markdown",
   "id": "4bb99765",
   "metadata": {},
   "source": [
    "### Multi-Head Attention\n",
    "On définit maintenant le module `MultiHeadAttention` qui utilise plusieurs têtes d'attention séparées.\n",
    "- Plusieurs têtes d'attention.\n",
    "- Concaténation des sorties de chaque tête\n",
    "- Couche linéaire\n",
    "- Dropout\n",
    "\n",
    "Remplissez les TODOs dans le code suivant."
   ]
  },
  {
   "cell_type": "code",
   "execution_count": 16,
   "id": "005990f2",
   "metadata": {
    "ExecuteTime": {
     "end_time": "2023-05-05T15:42:54.788076362Z",
     "start_time": "2023-05-05T15:42:54.773283882Z"
    }
   },
   "outputs": [
    {
     "name": "stdout",
     "output_type": "stream",
     "text": [
      "Shape \t\t= (1, 6, 32)\n",
      "Expected shape \t= (1, 6, 32)\n"
     ]
    }
   ],
   "source": [
    "class MultiHeadAttention(nn.Module):\n",
    "    def __init__(self, num_heads: int, dim_embed: int, head_size: int, dropout: float):\n",
    "        super().__init__()\n",
    "        # TODO\n",
    "        self.heads = nn.ModuleList([AttentionHead(dim_embed, head_size, dropout) for _ in range(num_heads)])\n",
    "        # TODO\n",
    "        self.fc = nn.Linear(num_heads * head_size, dim_embed)\n",
    "        # TODO\n",
    "        self.dropout = nn.Dropout(dropout)\n",
    "        \n",
    "    def forward(self, q, k, v, mask=None):\n",
    "        # TODO\n",
    "        out = torch.cat([h(q, k, v, mask) for h in self.heads], dim=-1)\n",
    "        # TODO\n",
    "        return self.dropout(self.fc(out))\n",
    "\n",
    "    \n",
    "m_head = MultiHeadAttention(3, 32, 256, 0.1)\n",
    "x = torch.randn((1, 6, 32))\n",
    "output = m_head(x, x, x)\n",
    "\n",
    "print(f'Shape \\t\\t= {tuple(output.shape)}')\n",
    "print(f'Expected shape \\t= {(1, 6, 32)}')"
   ]
  },
  {
   "cell_type": "markdown",
   "id": "8653e212",
   "metadata": {},
   "source": [
    "## Partie 3: TransformerEncoderLayer"
   ]
  },
  {
   "cell_type": "markdown",
   "id": "3a82fb3d",
   "metadata": {},
   "source": [
    "### FeedForward\n",
    "On définit maintenant le réseau `FeedForward` utilisé dans le Transformer.\n",
    "\n",
    "- Linear: dim_model -> 4 * dim_model\n",
    "- ReLU\n",
    "- Linear: 4 * dim_model -> dim_model\n",
    "- Dropout"
   ]
  },
  {
   "cell_type": "code",
   "execution_count": 17,
   "id": "05e97326",
   "metadata": {
    "ExecuteTime": {
     "end_time": "2023-05-05T15:42:57.229232424Z",
     "start_time": "2023-05-05T15:42:57.220403159Z"
    }
   },
   "outputs": [],
   "source": [
    "class FeedForward(nn.Module):\n",
    "    def __init__(self, dim_model: int, dropout: float):\n",
    "        super().__init__()\n",
    "        # TODO\n",
    "        self.ffn = nn.Sequential(\n",
    "            nn.Linear(dim_model, 4 * dim_model),\n",
    "            nn.ReLU(),\n",
    "            nn.Linear(4 * dim_model, dim_model),\n",
    "            nn.Dropout(dropout)\n",
    "        )\n",
    "        \n",
    "    def forward(self, x):\n",
    "        return self.ffn(x)\n"
   ]
  },
  {
   "cell_type": "markdown",
   "id": "e9ad204d",
   "metadata": {},
   "source": [
    "### TransformerEncoderLayer\n",
    "On peut maintenant construire une couche du Transformer.\n",
    "\n",
    "- LayerNorm\n",
    "- MultiHeadAttention\n",
    "- Connexion résiduelle\n",
    "- LayerNorm\n",
    "- FeedForward\n",
    "- Connexion résiduelle"
   ]
  },
  {
   "cell_type": "code",
   "execution_count": 18,
   "id": "6ff2d9dd",
   "metadata": {
    "ExecuteTime": {
     "end_time": "2023-05-05T15:42:59.482363629Z",
     "start_time": "2023-05-05T15:42:59.469943707Z"
    }
   },
   "outputs": [
    {
     "name": "stdout",
     "output_type": "stream",
     "text": [
      "Shape \t\t= (1, 6, 64)\n",
      "Expected shape \t= (1, 6, 64)\n"
     ]
    }
   ],
   "source": [
    "class TransformerEncoderLayer(nn.Module):\n",
    "    def __init__(self, dim_model: int, num_head: int, dropout: float):\n",
    "        super().__init__()\n",
    "        # TODO\n",
    "        head_size = dim_model // num_head\n",
    "        self.attention = MultiHeadAttention(num_head, dim_model, head_size, dropout)\n",
    "        self.ffn = FeedForward(dim_model, dropout)\n",
    "        self.norm1_q = nn.LayerNorm(dim_model)\n",
    "        self.norm1_k = nn.LayerNorm(dim_model)\n",
    "        self.norm1_v = nn.LayerNorm(dim_model)\n",
    "        self.norm2 = nn.LayerNorm(dim_model)\n",
    "        \n",
    "    def forward(self, q, k, v, mask=None):\n",
    "        # TODO\n",
    "        q = q + self.attention(self.norm1_q(q), self.norm1_k(k), self.norm1_v(v), mask)\n",
    "        # TODO\n",
    "        q = q + self.ffn(self.norm2(q))\n",
    "        return q\n",
    "    \n",
    "transf = TransformerEncoderLayer(64, 2, 0.1)\n",
    "x = torch.randn((1, 6, 64))\n",
    "output = transf(x, x, x)\n",
    "\n",
    "print(f'Shape \\t\\t= {tuple(output.shape)}')\n",
    "print(f'Expected shape \\t= {(1, 6, 64)}')"
   ]
  },
  {
   "cell_type": "markdown",
   "id": "93c5bebb",
   "metadata": {},
   "source": [
    "## Partie 4: TransformerEncoder\n",
    "On peut maintenant tout mettre ensemble et construire le `TransformerEncoder`!"
   ]
  },
  {
   "cell_type": "code",
   "execution_count": 19,
   "id": "bfb6b0ff",
   "metadata": {
    "ExecuteTime": {
     "end_time": "2023-05-05T15:43:02.677863284Z",
     "start_time": "2023-05-05T15:43:02.656249785Z"
    }
   },
   "outputs": [
    {
     "name": "stdout",
     "output_type": "stream",
     "text": [
      "Shape \t\t= (2, 64, 10)\n",
      "Expected shape \t= (2, 64, 10)\n"
     ]
    }
   ],
   "source": [
    "class TransformerEncoder(nn.Module):\n",
    "    def __init__(self, num_layers: int, dim_model: int, num_heads: int, out_size: int, dropout: float):\n",
    "        super().__init__()\n",
    "        # TODO\n",
    "        self.layers = nn.ModuleList([TransformerEncoderLayer(dim_model, num_heads, dropout) for _ in range(num_layers)])\n",
    "        self.norm = nn.LayerNorm(dim_model)\n",
    "        self.fc = nn.Linear(dim_model, out_size)\n",
    "        \n",
    "        self.apply(self._init_weights)\n",
    "        \n",
    "    def _init_weights(self, module):\n",
    "        # TODO\n",
    "        if isinstance(module, nn.Linear):\n",
    "            torch.nn.init.normal_(module.weight, mean=0.0, std=0.02)\n",
    "            if module.bias is not None:\n",
    "                torch.nn.init.zeros_(module.bias)\n",
    "        elif isinstance(module, nn.Embedding):\n",
    "            torch.nn.init.normal_(module.weight, mean=0.0, std=0.02)\n",
    "        \n",
    "    def forward(self, x, mask=None):\n",
    "        # TODO\n",
    "        batch_size, num_tokens, dim = x.shape\n",
    "        x += position_encoding(num_tokens, dim, x.device)\n",
    "        for layer in self.layers:\n",
    "            x = layer(x, x, x, mask)\n",
    "        x = self.norm(x)\n",
    "        x = self.fc(x)\n",
    "        return x\n",
    "    \n",
    "x = torch.randn((2, 64, 64))\n",
    "\n",
    "transformer_enc = TransformerEncoder(6, 64, 2, 10, 0.0)\n",
    "output = transformer_enc(x)\n",
    "\n",
    "print(f'Shape \\t\\t= {tuple(output.shape)}')\n",
    "print(f'Expected shape \\t= {(2, 64, 10)}')"
   ]
  },
  {
   "cell_type": "markdown",
   "id": "061452ec",
   "metadata": {},
   "source": [
    "## Partie 5: Entraînement\n",
    "On entraîne maintenant notre Transformer à prédire du texte.\n",
    "- Inspiré par https://github.com/karpathy/ng-video-lecture/tree/master de Andrej karpathy\n"
   ]
  },
  {
   "cell_type": "code",
   "execution_count": 20,
   "id": "e14995a9",
   "metadata": {
    "ExecuteTime": {
     "end_time": "2023-05-05T15:43:08.033007453Z",
     "start_time": "2023-05-05T15:43:07.713343277Z"
    }
   },
   "outputs": [
    {
     "name": "stdout",
     "output_type": "stream",
     "text": [
      "  % Total    % Received % Xferd  Average Speed   Time    Time     Time  Current\r\n",
      "                                 Dload  Upload   Total   Spent    Left  Speed\r\n",
      "100 1089k  100 1089k    0     0  6742k      0 --:--:-- --:--:-- --:--:-- 6765k\r\n"
     ]
    }
   ],
   "source": [
    "# Télécharger les données localement\n",
    "!curl -o ~/GLO-4030/datasets/tiny_shakespeare.txt https://raw.githubusercontent.com/karpathy/ng-video-lecture/master/input.txt"
   ]
  },
  {
   "cell_type": "code",
   "execution_count": 21,
   "outputs": [
    {
     "name": "stdout",
     "output_type": "stream",
     "text": [
      "First Citizen:\n",
      "Before we proceed any further, hear me speak.\n",
      "\n",
      "All:\n",
      "Speak, speak.\n",
      "\n",
      "First Citizen:\n",
      "You are all resolved rather to die than to famish?\n"
     ]
    }
   ],
   "source": [
    "# Sur Google Colab\n",
    "import requests\n",
    "\n",
    "url = 'https://raw.githubusercontent.com/karpathy/ng-video-lecture/master/input.txt'\n",
    "res = requests.get(url)\n",
    "text = res.content.decode('utf-8')\n",
    "\n",
    "# Extrait des données\n",
    "print(text[:147])"
   ],
   "metadata": {
    "collapsed": false,
    "ExecuteTime": {
     "end_time": "2023-05-05T15:43:14.199394845Z",
     "start_time": "2023-05-05T15:43:14.062687560Z"
    }
   }
  },
  {
   "cell_type": "code",
   "execution_count": 22,
   "id": "129b76b8",
   "metadata": {
    "ExecuteTime": {
     "end_time": "2023-05-05T15:43:16.679238974Z",
     "start_time": "2023-05-05T15:43:16.638524206Z"
    }
   },
   "outputs": [
    {
     "name": "stdout",
     "output_type": "stream",
     "text": [
      "First Citizen:\n",
      "Before we proceed any further, hear me speak.\n",
      "\n",
      "All:\n",
      "Speak, speak.\n",
      "\n",
      "First Citizen:\n",
      "You are all resolved rather to die than to famish?\n"
     ]
    }
   ],
   "source": [
    "# Sur Calcul Québec et localement\n",
    "# Charger les données\n",
    "data_path = pathlib.Path('~/GLO-4030/datasets/tiny_shakespeare.txt').expanduser()\n",
    "with open(data_path, 'r') as f:\n",
    "    text = f.read()\n",
    "\n",
    "# Extrait des données\n",
    "print(text[:147])"
   ]
  },
  {
   "cell_type": "code",
   "execution_count": 23,
   "id": "77e78d6f",
   "metadata": {
    "ExecuteTime": {
     "end_time": "2023-05-05T15:43:19.453169229Z",
     "start_time": "2023-05-05T15:43:19.437380809Z"
    }
   },
   "outputs": [],
   "source": [
    "# Calculer le vocabulaire (les caractères utilisés dans le texte)\n",
    "characters = sorted(list(set(text)))\n",
    "vocab_size = len(characters)\n",
    "\n",
    "str_to_int = {c:i for i, c in enumerate(characters)}\n",
    "int_to_str = {v: k for k, v in str_to_int.items()}\n",
    "\n",
    "# Fonction utilitaires pour convertir les caractères en entier, et inversement\n",
    "def encode(s):\n",
    "    return [str_to_int[c] for c in s]\n",
    "\n",
    "def decode(s):\n",
    "    return [int_to_str[c] for c in s]"
   ]
  },
  {
   "cell_type": "code",
   "execution_count": 24,
   "id": "9459bc61",
   "metadata": {
    "ExecuteTime": {
     "end_time": "2023-05-05T15:43:21.414495480Z",
     "start_time": "2023-05-05T15:43:21.362352611Z"
    }
   },
   "outputs": [
    {
     "name": "stdout",
     "output_type": "stream",
     "text": [
      "(tensor([[ 1, 61, 47,  ..., 57, 58, 53],\n",
      "        [ 6,  1, 39,  ..., 56, 43,  5],\n",
      "        [43, 43,  8,  ..., 53, 58,  1],\n",
      "        ...,\n",
      "        [39, 56, 49,  ..., 39, 57,  1],\n",
      "        [ 0, 35, 46,  ..., 53, 44, 44],\n",
      "        [43,  1, 52,  ..., 52, 45,  2]]), tensor([[61, 47, 58,  ..., 58, 53, 54],\n",
      "        [ 1, 39, 52,  ..., 43,  5, 57],\n",
      "        [43,  8,  0,  ..., 58,  1, 40],\n",
      "        ...,\n",
      "        [56, 49, 10,  ..., 57,  1, 57],\n",
      "        [35, 46, 39,  ..., 44, 44,  6],\n",
      "        [ 1, 52, 39,  ..., 45,  2,  1]]))\n"
     ]
    }
   ],
   "source": [
    "data = torch.tensor(encode(text), dtype=torch.long)\n",
    "\n",
    "n = int(0.9*len(data))\n",
    "train_data = data[:n]\n",
    "val_data = data[n:]\n",
    "batch_size = 128\n",
    "\n",
    "# Générer une batch aléatoire\n",
    "def get_batch(split, block_size, device):\n",
    "    data = train_data if split == 'train' else val_data\n",
    "    indices = torch.randint(len(data) - block_size, (batch_size,))\n",
    "    x = torch.stack([data[i:i+block_size] for i in indices])\n",
    "    y = torch.stack([data[i+1:i+block_size+1] for i in indices])\n",
    "    x, y = x.to(device), y.to(device)\n",
    "    return x, y\n",
    "\n",
    "print(get_batch('train', 256, 'cpu'))"
   ]
  },
  {
   "cell_type": "code",
   "execution_count": 25,
   "id": "1b1d3aac",
   "metadata": {
    "ExecuteTime": {
     "end_time": "2023-05-05T15:43:23.729539319Z",
     "start_time": "2023-05-05T15:43:23.721699082Z"
    }
   },
   "outputs": [],
   "source": [
    "class TransformerNLP(nn.Module):\n",
    "    def __init__(self, num_layers: int, dim_model: int, num_heads: int, out_size: int, dropout: float, vocab_size: int, block_size: int):\n",
    "        super().__init__()\n",
    "        # Embedding pour convertir des entiers en vecteurs\n",
    "        # Il s'agit essentiellement d'un tableau associant chaque entier à un vecteur\n",
    "        self.embedding = nn.Embedding(vocab_size, dim_model)\n",
    "        # Notre transformer!\n",
    "        self.transformer = TransformerEncoder(num_layers, dim_model, num_heads, out_size, dropout)\n",
    "        # Masque pour éviter que les lettre puissent porter attention aux lettres subséquentes\n",
    "        # On ne veut permettre aux lettres que de porter attention aux lettres précédentes\n",
    "        # On utilise `tril` afin de générer une matrice triangulaire inférieure\n",
    "        self.register_buffer('mask', torch.tril(torch.ones(block_size, block_size)))\n",
    "        \n",
    "    def forward(self, x):\n",
    "        B, T = x.shape\n",
    "        # TODO\n",
    "        x = self.embedding(x)\n",
    "        _, num_tokens, d_model = x.shape\n",
    "        x += position_encoding(num_tokens, d_model, x.device)\n",
    "\n",
    "        # TODO\n",
    "        x = self.transformer(x, self.mask)\n",
    "        return x\n",
    "        \n",
    "    def loss(self, pred, y):\n",
    "        B, T, C = pred.shape\n",
    "        pred = pred.view(B * T, C)\n",
    "        y = y.view(B * T)\n",
    "        return F.cross_entropy(pred, y)\n",
    "    \n",
    "    def generate(self, idx, max_new_tokens, block_size):\n",
    "        # Génère du texte avec le modèle\n",
    "        for _ in range(max_new_tokens):\n",
    "            idx_cond = idx[:, -block_size:]\n",
    "            logits = self(idx_cond)\n",
    "            logits = logits[:, -1, :]\n",
    "            probs = F.softmax(logits, dim=-1)\n",
    "            idx_next = torch.multinomial(probs, num_samples=1)\n",
    "            idx = torch.cat((idx, idx_next), dim=1)\n",
    "        return idx"
   ]
  },
  {
   "cell_type": "code",
   "execution_count": 70,
   "id": "fd5670ec",
   "metadata": {
    "ExecuteTime": {
     "end_time": "2023-05-06T00:59:36.047886456Z",
     "start_time": "2023-05-06T00:59:35.934045613Z"
    }
   },
   "outputs": [],
   "source": [
    "block_size = 256\n",
    "max_iters = 1_000\n",
    "eval_interval = 1000\n",
    "learning_rate = 1e-3\n",
    "device = 'cuda' if torch.cuda.is_available() else 'cpu'\n",
    "eval_iters = 200\n",
    "n_embd = 384\n",
    "n_head = 6\n",
    "n_layer = 6\n",
    "dropout = 0.1\n",
    "\n",
    "# Model\n",
    "model = TransformerNLP(n_layer, n_embd, n_head, vocab_size, dropout, vocab_size, block_size)\n",
    "# Load a pretrained model\n",
    "model.load_state_dict(torch.load('../checkpoints/transformer_nlp.pth'))\n",
    "model = model.to(device)\n",
    "\n",
    "optimizer = torch.optim.AdamW(model.parameters(), lr=learning_rate)"
   ]
  },
  {
   "cell_type": "code",
   "execution_count": 59,
   "id": "3705d011",
   "metadata": {
    "scrolled": true,
    "ExecuteTime": {
     "end_time": "2023-05-05T23:03:06.904682234Z",
     "start_time": "2023-05-05T22:12:05.224322169Z"
    }
   },
   "outputs": [
    {
     "name": "stdout",
     "output_type": "stream",
     "text": [
      "step 0: train loss 1.5079, val loss 1.6967\n",
      "step 1000: train loss 1.5072, val loss 1.6949\n",
      "step 2000: train loss 1.5057, val loss 1.6942\n",
      "step 3000: train loss 1.5030, val loss 1.6915\n",
      "step 4000: train loss 1.5012, val loss 1.6878\n",
      "step 5000: train loss 1.4984, val loss 1.6877\n",
      "step 6000: train loss 1.5009, val loss 1.6890\n",
      "step 7000: train loss 1.4940, val loss 1.6840\n",
      "step 8000: train loss 1.4941, val loss 1.6857\n",
      "step 9000: train loss 1.4954, val loss 1.6851\n",
      "step 10000: train loss 1.4969, val loss 1.6842\n",
      "step 11000: train loss 1.4954, val loss 1.6819\n",
      "step 12000: train loss 1.4929, val loss 1.6761\n",
      "step 13000: train loss 1.4914, val loss 1.6765\n",
      "step 14000: train loss 1.4898, val loss 1.6798\n",
      "step 15000: train loss 1.4953, val loss 1.6869\n",
      "step 16000: train loss 1.4923, val loss 1.6853\n",
      "step 17000: train loss 1.4904, val loss 1.6837\n",
      "step 18000: train loss 1.4907, val loss 1.6797\n",
      "step 19000: train loss 1.4918, val loss 1.6788\n",
      "step 20000: train loss 1.4848, val loss 1.6695\n",
      "step 21000: train loss 1.4851, val loss 1.6737\n",
      "step 22000: train loss 1.4838, val loss 1.6706\n",
      "step 23000: train loss 1.4836, val loss 1.6753\n",
      "step 24000: train loss 1.4820, val loss 1.6754\n",
      "step 25000: train loss 1.4836, val loss 1.6721\n",
      "step 26000: train loss 1.4797, val loss 1.6674\n",
      "step 27000: train loss 1.4847, val loss 1.6746\n",
      "step 28000: train loss 1.4796, val loss 1.6600\n",
      "step 29000: train loss 1.4786, val loss 1.6610\n",
      "step 30000: train loss 1.4779, val loss 1.6636\n",
      "step 31000: train loss 1.4755, val loss 1.6641\n",
      "step 32000: train loss 1.4755, val loss 1.6652\n",
      "step 33000: train loss 1.4742, val loss 1.6656\n",
      "step 34000: train loss 1.4712, val loss 1.6625\n",
      "step 35000: train loss 1.4691, val loss 1.6595\n",
      "step 36000: train loss 1.4702, val loss 1.6631\n",
      "step 37000: train loss 1.4731, val loss 1.6607\n",
      "step 38000: train loss 1.4681, val loss 1.6582\n",
      "step 39000: train loss 1.4675, val loss 1.6619\n",
      "step 40000: train loss 1.4664, val loss 1.6640\n",
      "step 41000: train loss 1.4647, val loss 1.6670\n",
      "step 42000: train loss 1.4643, val loss 1.6667\n",
      "step 43000: train loss 1.4617, val loss 1.6616\n",
      "step 44000: train loss 1.4621, val loss 1.6595\n",
      "step 45000: train loss 1.4622, val loss 1.6610\n",
      "step 46000: train loss 1.4648, val loss 1.6662\n",
      "step 47000: train loss 1.4601, val loss 1.6593\n",
      "step 48000: train loss 1.4623, val loss 1.6600\n",
      "step 49000: train loss 1.4621, val loss 1.6611\n",
      "step 50000: train loss 1.4567, val loss 1.6534\n",
      "step 51000: train loss 1.4549, val loss 1.6538\n",
      "step 52000: train loss 1.4630, val loss 1.6589\n",
      "step 53000: train loss 1.4553, val loss 1.6526\n",
      "step 54000: train loss 1.4557, val loss 1.6535\n",
      "step 55000: train loss 1.4568, val loss 1.6588\n",
      "step 56000: train loss 1.4525, val loss 1.6540\n",
      "step 57000: train loss 1.4524, val loss 1.6564\n",
      "step 58000: train loss 1.4557, val loss 1.6588\n",
      "step 59000: train loss 1.4523, val loss 1.6543\n",
      "step 60000: train loss 1.4497, val loss 1.6514\n",
      "step 61000: train loss 1.4498, val loss 1.6544\n",
      "step 62000: train loss 1.4475, val loss 1.6471\n",
      "step 63000: train loss 1.4487, val loss 1.6501\n",
      "step 64000: train loss 1.4478, val loss 1.6471\n",
      "step 65000: train loss 1.4464, val loss 1.6455\n",
      "step 66000: train loss 1.4458, val loss 1.6450\n",
      "step 67000: train loss 1.4456, val loss 1.6517\n",
      "step 68000: train loss 1.4411, val loss 1.6462\n",
      "step 69000: train loss 1.4422, val loss 1.6456\n",
      "step 70000: train loss 1.4414, val loss 1.6395\n",
      "step 71000: train loss 1.4424, val loss 1.6411\n",
      "step 72000: train loss 1.4401, val loss 1.6392\n",
      "step 73000: train loss 1.4421, val loss 1.6431\n",
      "step 74000: train loss 1.4359, val loss 1.6368\n",
      "step 75000: train loss 1.4357, val loss 1.6337\n",
      "step 76000: train loss 1.4399, val loss 1.6399\n",
      "step 77000: train loss 1.4357, val loss 1.6376\n",
      "step 78000: train loss 1.4331, val loss 1.6346\n",
      "step 79000: train loss 1.4350, val loss 1.6372\n",
      "step 80000: train loss 1.4354, val loss 1.6382\n",
      "step 81000: train loss 1.4344, val loss 1.6338\n",
      "step 82000: train loss 1.4333, val loss 1.6361\n",
      "step 83000: train loss 1.4372, val loss 1.6373\n",
      "step 84000: train loss 1.4303, val loss 1.6292\n",
      "step 85000: train loss 1.4307, val loss 1.6296\n",
      "step 86000: train loss 1.4319, val loss 1.6322\n",
      "step 87000: train loss 1.4275, val loss 1.6288\n",
      "step 88000: train loss 1.4254, val loss 1.6312\n",
      "step 89000: train loss 1.4258, val loss 1.6361\n",
      "step 90000: train loss 1.4256, val loss 1.6364\n",
      "step 91000: train loss 1.4245, val loss 1.6351\n",
      "step 92000: train loss 1.4286, val loss 1.6349\n",
      "step 93000: train loss 1.4269, val loss 1.6347\n",
      "step 94000: train loss 1.4227, val loss 1.6352\n",
      "step 95000: train loss 1.4244, val loss 1.6372\n",
      "step 96000: train loss 1.4225, val loss 1.6349\n",
      "step 97000: train loss 1.4207, val loss 1.6363\n",
      "step 98000: train loss 1.4213, val loss 1.6357\n",
      "step 99000: train loss 1.4222, val loss 1.6364\n",
      "step 99999: train loss 1.4189, val loss 1.6380\n"
     ]
    }
   ],
   "source": [
    "iter_loss = []\n",
    "for i in range(max_iters):\n",
    "    if i % eval_interval == 0 or i == max_iters - 1:\n",
    "        with torch.no_grad():\n",
    "            out = {}\n",
    "            model.eval()\n",
    "            for split in ['train', 'val']:\n",
    "                losses = torch.zeros(eval_iters)\n",
    "                for k in range(eval_iters):\n",
    "                    x, y = get_batch(split, block_size, device)\n",
    "                    pred = model(x)\n",
    "                    loss = model.loss(pred, y)\n",
    "                    losses[k] = loss.item()\n",
    "                out[split] = losses.mean()\n",
    "            print(f\"step {i}: train loss {out['train'].item():.4f}, val loss {out['val'].item():.4f}\")\n",
    "            iter_loss.append((out['train'].item(), out['val'].item()))\n",
    "            model.train()\n",
    "        x, y = get_batch('train', block_size, device)\n",
    "        \n",
    "        pred = model(x)\n",
    "        loss = model.loss(pred, y)\n",
    "        \n",
    "        optimizer.zero_grad(set_to_none=True)\n",
    "        loss.backward()\n",
    "        optimizer.step()"
   ]
  },
  {
   "cell_type": "code",
   "execution_count": 71,
   "id": "45f163fe",
   "metadata": {
    "ExecuteTime": {
     "end_time": "2023-05-06T00:59:40.689148554Z",
     "start_time": "2023-05-06T00:59:40.632866972Z"
    }
   },
   "outputs": [
    {
     "data": {
      "text/plain": "<Figure size 640x480 with 1 Axes>",
      "image/png": "[encoded data removed]"
     },
     "metadata": {},
     "output_type": "display_data"
    }
   ],
   "source": [
    "iter_loss_np = np.array(iter_loss)\n",
    "plt.plot(iter_loss_np[:, 0], label='train')\n",
    "plt.plot(iter_loss_np[:, 1], label='valid')\n",
    "plt.legend()\n",
    "plt.show()"
   ]
  },
  {
   "cell_type": "code",
   "execution_count": 72,
   "id": "60bc695f",
   "metadata": {
    "ExecuteTime": {
     "end_time": "2023-05-06T00:59:45.590901223Z",
     "start_time": "2023-05-06T00:59:43.080728554Z"
    }
   },
   "outputs": [
    {
     "name": "stdout",
     "output_type": "stream",
     "text": [
      "\n",
      "GEORLANUS:\n",
      "Ay, the king sentates swear'd of talk,\n",
      "Venfius; masticam of my grounders is live.\n",
      "In that, guet dever thy gadol. Geo, and death?\n",
      "\n",
      "MENENIUS:\n",
      "A approse, 'tis for an he father voe dispar'd.\n",
      "But his bout York, seter'd the cousin,\n",
      "Maust the sun's come, but lentle murse to the son streenc deeling:\n",
      "Couse fal lesse a give by ourse,\n",
      "And lighte sso.\n",
      "\n",
      "EXETER:\n",
      "I bee make a poor now fall long.\n",
      "Betagary, it rue seenit no crie--it, heaven'd sorrum,\n",
      "The to fly! but cloyaged, alway make wingly,\n",
      "And to\n"
     ]
    }
   ],
   "source": [
    "# Prediction du texte\n",
    "context = torch.zeros((1, 1), dtype=torch.long, device=device)\n",
    "print(''.join(decode(model.generate(context, 500, block_size)[0].tolist())))"
   ]
  },
  {
   "cell_type": "code",
   "execution_count": 64,
   "id": "aca9a706",
   "metadata": {
    "ExecuteTime": {
     "end_time": "2023-05-06T00:55:25.871898666Z",
     "start_time": "2023-05-06T00:55:25.815652634Z"
    }
   },
   "outputs": [],
   "source": [
    "# Sauvegarde des poids\n",
    "# torch.save(model.state_dict(), pathlib.Path('~/GLO-4030/datasets/transformer_nlp.pth').expanduser())"
   ]
  },
  {
   "cell_type": "markdown",
   "id": "e5863590",
   "metadata": {},
   "source": [
    "## Partie 6: Vision Transformer\n",
    "\n",
    "Les Transformers ne sont pas limités au traitement de la langue naturelle.\n",
    "Plutôt que de passer des lettres ou des mots, on peut passer des portions d'images encodés en vecteur.\n",
    "\n",
    "Pour cette partie, nous allons entraîner un ViT (Vision Transformer) sur CIFAR10.\n"
   ]
  },
  {
   "cell_type": "code",
   "execution_count": null,
   "id": "fd8fa741",
   "metadata": {},
   "outputs": [],
   "source": [
    "import torchvision.models\n",
    "\n",
    "import poutyne as pt"
   ]
  },
  {
   "cell_type": "code",
   "execution_count": null,
   "id": "b056f4a0",
   "metadata": {},
   "outputs": [],
   "source": [
    "# Data\n",
    "batch_size = 128\n",
    "\n",
    "transform_train = T.Compose([\n",
    "    T.RandAugment(4, 14),\n",
    "    T.RandomCrop(32, padding=4),\n",
    "    T.RandomHorizontalFlip(),\n",
    "    T.ToTensor(),\n",
    "    T.Normalize((0.4914, 0.4822, 0.4465), (0.2023, 0.1994, 0.2010)),\n",
    "])\n",
    "\n",
    "transform_test = T.Compose([\n",
    "    T.ToTensor(),\n",
    "    T.Normalize((0.4914, 0.4822, 0.4465), (0.2023, 0.1994, 0.2010)),\n",
    "])\n",
    "\n",
    "cifar, cifar_test = ddatasets.load_cifar10()\n",
    "cifar.transform = transform_train\n",
    "cifar_test.transform = transform_test\n",
    "\n",
    "train_split = 0.8\n",
    "num_data = len(cifar)\n",
    "indices = np.arange(num_data)\n",
    "np.random.shuffle(indices)\n",
    "\n",
    "split = math.floor(train_split * num_data)\n",
    "train_idx, valid_idx = indices[:split], indices[split:]\n",
    "\n",
    "train_dataset = torch.utils.data.Subset(cifar, train_idx)\n",
    "valid_dataset = torch.utils.data.Subset(cifar, valid_idx)\n",
    "\n",
    "train_loader = torch.utils.data.DataLoader(train_dataset, batch_size=batch_size, shuffle=True, num_workers=4, pin_memory=True)\n",
    "valid_loader = torch.utils.data.DataLoader(valid_dataset, batch_size=batch_size, shuffle=True, num_workers=4, pin_memory=True)\n",
    "test_loader = torch.utils.data.DataLoader(cifar_test, batch_size=batch_size)"
   ]
  },
  {
   "cell_type": "code",
   "execution_count": null,
   "id": "dfe437b0",
   "metadata": {},
   "outputs": [],
   "source": [
    "pathlib.Path('logs').mkdir(exist_ok=True, parents=True)\n",
    "\n",
    "epoch = 100\n",
    "learning_rate = 1e-4\n",
    "\n",
    "img_size = cifar[0][0].shape[-1]\n",
    "patch_size = 4\n",
    "num_layers = 12\n",
    "num_heads = 12\n",
    "hidden_dim = 768\n",
    "mlp_dim = 3072\n",
    "\n",
    "model = torchvision.models.VisionTransformer(img_size, patch_size, num_layers, num_heads, hidden_dim, mlp_dim, dropout=0.1, attention_dropout=0.1, num_classes=10)\n",
    "optimizer = torch.optim.AdamW(model.parameters(), lr=learning_rate)\n",
    "\n",
    "model = pt.Model(model, optimizer, 'cross_entropy', batch_metrics=['accuracy'])\n",
    "model.cuda()\n",
    "\n",
    "history = model.fit_generator(train_loader, valid_loader, epochs=epoch, callbacks=[\n",
    "    pt.ModelCheckpoint('logs/best_epoch_{epoch}.ckpt', monitor='val_acc', mode='max', save_best_only=True, restore_best=True, verbose=True, temporary_filename='best_epoch.ckpt.tmp'),\n",
    "])\n",
    "\n",
    "dtrain.History(history).display()\n",
    "\n",
    "test_loss, test_acc = model.evaluate_generator(test_loader)\n",
    "print('test_loss: {:.4f} test_acc: {:.2f}'.format(test_loss, test_acc))"
   ]
  },
  {
   "cell_type": "code",
   "execution_count": null,
   "id": "d9573bdc",
   "metadata": {},
   "outputs": [],
   "source": [
    "model.load_weights('logs/best_epoch_5.ckpt')\n",
    "test_loss, test_acc = model.evaluate_generator(test_loader)\n",
    "print('Epoch 5: test_loss: {:.4f} test_acc: {:.2f}'.format(test_loss, test_acc))"
   ]
  },
  {
   "cell_type": "markdown",
   "id": "3e9e53a0",
   "metadata": {},
   "source": [
    "## Extra"
   ]
  },
  {
   "cell_type": "markdown",
   "id": "6753c010",
   "metadata": {},
   "source": [
    "### Transformers annotés\n",
    "\n",
    "On vous recommande de consulter [willGuimont/transformers](https://github.com/willGuimont/transformers) pour mieux comprendre les modèles de Transformer.\n",
    "Le projet implémente plusieurs architectures basées sur les Transformers; le code est bien commenté et devrait être facile à suivre.\n"
   ]
  },
  {
   "cell_type": "markdown",
   "id": "f42068c2",
   "metadata": {},
   "source": [
    "### Self-attention vs Cross-attention\n",
    "\n",
    "Dans les exemples utilisés dans ce laboratoire, $q$, $k$ et $v$ sont dérivés d'une seule valeur (`x = layer(x, x, x, mask)` dans le `TransformerEncoder`.\n",
    "Ceci est appelé du \"self-attention\".\n",
    "\n",
    "Il est aussi possible de faire du \"cross-attention\", lorsque $q$ et $(k, v)$ proviennent de données différentes.\n",
    "\n",
    "[Perceiver](https://www.deepmind.com/publications/perceiver-general-perception-with-iterative-attention) et [PerceiverIO](https://www.deepmind.com/open-source/perceiver-io) sont de beaux exemples d'utilisation du \"cross-attention\".\n"
   ]
  },
  {
   "cell_type": "markdown",
   "id": "825829c8",
   "metadata": {},
   "source": [
    "### TransformerDecoder\n",
    "\n",
    "Voici une implémentation du TransformerDecoder de \"Attention Is All You Need\".\n"
   ]
  },
  {
   "cell_type": "code",
   "execution_count": null,
   "id": "6be3c735",
   "metadata": {},
   "outputs": [],
   "source": [
    "class TransformerDecoderLayer(nn.Module):\n",
    "    def __init__(self, dim_model: int, num_head: int, dropout: float):\n",
    "        super().__init__()\n",
    "        head_size = dim_model // num_head\n",
    "        self.self_attention = MultiHeadAttention(num_head, dim_model, head_size, dropout)\n",
    "        self.norm1_target = nn.LayerNorm(dim_model)\n",
    "        self.norm1_memory = nn.LayerNorm(dim_model)\n",
    "        \n",
    "        self.norm2 = nn.LayerNorm(dim_model)\n",
    "        self.cross_attention = MultiHeadAttention(num_head, dim_model, head_size, dropout)\n",
    "        \n",
    "        self.norm3 = nn.LayerNorm(dim_model)\n",
    "        self.dropout = nn.Dropout(dropout)\n",
    "        self.ffn = FeedForward(dim_model, dropout)\n",
    "    \n",
    "    def forward(self, target, memory, self_attention_mask=None, cross_attention_mask=None):\n",
    "        target, memory = self.norm1_target(target), self.norm1_memory(memory)\n",
    "        target = target + self.self_attention(target, target, target, self_attention_mask)\n",
    "        target = target + self.cross_attention(self.norm2(target), memory, memory, cross_attention_mask)\n",
    "        return target + self.ffn(self.norm3(target))\n",
    "    \n",
    "class TransformerDecoder(nn.Module):\n",
    "    def __init__(self, num_layers: int, dim_model: int, num_heads: int, out_size: int, dropout: float):\n",
    "        super().__init__()\n",
    "        self.layers = nn.ModuleList([TransformerDecoderLayer(dim_model, num_heads, dropout) for _ in range(num_layers)])\n",
    "        self.norm = nn.LayerNorm(dim_model)\n",
    "        self.fc = nn.Linear(dim_model, out_size)\n",
    "        \n",
    "        self.apply(self._init_weights)\n",
    "        \n",
    "    def _init_weights(self, module):\n",
    "        if isinstance(module, nn.Linear):\n",
    "            torch.nn.init.normal_(module.weight, mean=0.0, std=0.02)\n",
    "            if module.bias is not None:\n",
    "                torch.nn.init.zeros_(module.bias)\n",
    "        elif isinstance(module, nn.Embedding):\n",
    "            torch.nn.init.normal_(module.weight, mean=0.0, std=0.02)\n",
    "            \n",
    "    def forward(self, target, memory, self_attention_mask=None, cross_attention_mask=None):\n",
    "        num_tokens, dim = target.shape[1], target.shape[2]\n",
    "        target += position_encoding(num_tokens, dim, target.device)\n",
    "        for layer in self.layers:\n",
    "            target = layer(target, memory, self_attention_mask, cross_attention_mask)\n",
    "        target = self.norm(target)\n",
    "        target = self.fc(target)\n",
    "        return target\n",
    "    \n",
    "dec = TransformerDecoder(6, 10, 5, 100, 0.0)\n",
    "target = torch.randn((2, 5, 10))\n",
    "memory = torch.randn((2, 5, 10))\n",
    "print(dec(target, memory).shape)"
   ]
  },
  {
   "cell_type": "markdown",
   "id": "225e87e2",
   "metadata": {},
   "source": [
    "### Exemple d'implémentation de ViT"
   ]
  },
  {
   "cell_type": "code",
   "execution_count": null,
   "id": "d0de7a71",
   "metadata": {},
   "outputs": [],
   "source": [
    "class VisionTransformer(nn.Module):\n",
    "    def __init__(self, img_size: int, patch_size: int, num_classes: int, channels: int, num_layers: int, dim_model: int, num_heads: int, out_size: int, dropout: float):\n",
    "        super().__init__()\n",
    "        assert img_size % patch_size == 0, \"img_size must be divisible by patch_size\"\n",
    "        self.img_size = img_size\n",
    "        self.patch_size = patch_size\n",
    "        self.num_patches = (img_size // patch_size) ** 2\n",
    "        self.patch_dim = channels * patch_size * patch_size\n",
    "        \n",
    "        self.norm1 = nn.LayerNorm(self.patch_dim)\n",
    "        self.fc1 = nn.Linear(self.patch_dim, dim_model)\n",
    "        self.norm2 = nn.LayerNorm(dim_model)\n",
    "        \n",
    "        self.cls = nn.Parameter(torch.randn((1, 1, dim_model)))\n",
    "        self.dropout = nn.Dropout(dropout)\n",
    "        self.trans_enc = TransformerEncoder(num_layers, dim_model, num_heads, out_size, dropout)\n",
    "        \n",
    "        self.norm3 = nn.LayerNorm(dim_model)\n",
    "        self.fc2 = nn.Linear(dim_model, num_classes)\n",
    "    \n",
    "    def forward(self, x):\n",
    "        batch_size = x.shape[0]\n",
    "        size = 8\n",
    "        stride = 1\n",
    "        \n",
    "        # Image to patches\n",
    "        x = self._img_to_patch_emdedding(x)\n",
    "        \n",
    "        # Add cls token\n",
    "        cls = ein.repeat(self.cls, '1 1 d -> b 1 d', b=batch_size)\n",
    "        x = torch.cat((cls, x), dim=1)\n",
    "        \n",
    "        # Positional encoding\n",
    "        batch_size, num_tokens, dim = x.shape\n",
    "        x += position_encoding(num_tokens, dim, x.device)\n",
    "        \n",
    "        # Dropout\n",
    "        x = self.dropout(x)\n",
    "        \n",
    "        # Transformer\n",
    "        x = self.trans_enc(x)\n",
    "\n",
    "        \n",
    "        # Final prediction from cls token\n",
    "        x = x[:, 0]\n",
    "        x = self.fc2(self.norm3(x))\n",
    "\n",
    "        return x\n",
    "    \n",
    "    def _img_to_patch_emdedding(self, img):\n",
    "        x = ein.rearrange(img, 'b c (h p1) (w p2) -> b (h w) (p1 p2 c)', p1=self.patch_size, p2=self.patch_size)\n",
    "        x = self.norm1(x)\n",
    "        x = self.fc1(x)\n",
    "        x = self.norm2(x)\n",
    "        return x"
   ]
  },
  {
   "cell_type": "code",
   "execution_count": null,
   "id": "131baa3a",
   "metadata": {},
   "outputs": [],
   "source": [
    "epoch = 100\n",
    "batch_size = 256\n",
    "learning_rate = 1e-4\n",
    "\n",
    "img_size = 32\n",
    "patch_size = 8\n",
    "num_classes = 10\n",
    "channels = 3\n",
    "num_layers = 6\n",
    "dim_model = 512\n",
    "num_heads = 12\n",
    "out_size = dim_model\n",
    "dropout = 0.1\n",
    "\n",
    "model = VisionTransformer(img_size, patch_size, num_classes, channels, num_layers, dim_model, num_heads, out_size, dropout)\n",
    "optimizer = torch.optim.AdamW(model.parameters(), lr=learning_rate)\n",
    "\n",
    "model = pt.Model(model, optimizer, 'cross_entropy', batch_metrics=['accuracy'])\n",
    "model.cuda()\n",
    "\n",
    "history = model.fit_generator(train_loader, valid_loader, epochs=epoch, callbacks=[\n",
    "    pt.ModelCheckpoint('logs/vit_best_epoch_{epoch}.ckpt', monitor='val_acc', mode='max', save_best_only=True, restore_best=True, verbose=True, temporary_filename='best_epoch.ckpt.tmp'),\n",
    "])\n",
    "\n",
    "dtrain.History(history).display()\n",
    "\n",
    "test_loss, test_acc = model.evaluate_generator(test_loader)\n",
    "print('test_loss: {:.4f} test_acc: {:.2f}'.format(test_loss, test_acc))"
   ]
  },
  {
   "cell_type": "markdown",
   "id": "86b1d6d0",
   "metadata": {},
   "source": [
    "### Attention comme passage de messages\n",
    "- L'attention peut être interprété comme du passage de message sur un graphe.\n",
    "- Chaque noeud $i$ dans le graphe possède un triplet $(q_i, k_i, v_i$)\n",
    "- Grâce à $k_i$, chaque noeud \"diffuse\" ce qu'il connait\n",
    "- Grâce à $q_i$, chaque noeud demande aux autres noeuds de l'information\n",
    "- Selon ce que l'affinité entre les $q_i$ et les $k_i$, chaque noeud aggrège l'information $v_i$ de ses voisins\n",
    "- Champ réceptif large, chaque noeud à accès aux autres noeuds en une seule opération.\n",
    "\n",
    "<div>\n",
    "<img src=\"../docs/simplex_graph.png\" width=\"500\"/>\n",
    "</div>\n",
    "\n",
    "- Cette interprétation est cohérente avec la notion que les transformers sont des fonctions d'ensemble vers ensemble (invariance à l'ordre des éléments), la position des noeuds n'a pas d'importance, on doit encoder l'information sur la position autrement."
   ]
  }
 ],
 "metadata": {
  "kernelspec": {
   "display_name": "Python 3 (ipykernel)",
   "language": "python",
   "name": "python3"
  },
  "language_info": {
   "codemirror_mode": {
    "name": "ipython",
    "version": 3
   },
   "file_extension": ".py",
   "mimetype": "text/x-python",
   "name": "python",
   "nbconvert_exporter": "python",
   "pygments_lexer": "ipython3",
   "version": "3.9.16"
  }
 },
 "nbformat": 4,
 "nbformat_minor": 5
}
