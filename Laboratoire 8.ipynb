{
 "cells": [
  {
   "cell_type": "markdown",
   "id": "14a92767",
   "metadata": {},
   "source": [
    "### Utilisation de Google Colab\n",
    "\n",
    "Si vous utilisez Google Colab, suivez les instructions ci-dessous.\n",
    "\n",
    "Tout d'abord, sélectionnez l'option GPU de Colab avec *Edit > Notebook settings* et sélectionner GPU comme Hardware accelerator. Installer ensuite deeplib avec la commande suivante:"
   ]
  },
  {
   "cell_type": "code",
   "execution_count": 1,
   "id": "aaa8249f",
   "metadata": {},
   "outputs": [
    {
     "name": "stdout",
     "output_type": "stream",
     "text": [
      "Collecting git+https://github.com/ulaval-damas/glo4030-labs.git\n",
      "  Cloning https://github.com/ulaval-damas/glo4030-labs.git to /tmp/pip-req-build-y5g6y93h\n",
      "  Running command git clone --filter=blob:none --quiet https://github.com/ulaval-damas/glo4030-labs.git /tmp/pip-req-build-y5g6y93h\n",
      "  Resolved https://github.com/ulaval-damas/glo4030-labs.git to commit c5c2d5abb7ddc59a63798ccb02b6109aa007c065\n",
      "  Preparing metadata (setup.py) ... \u001b[?25ldone\n",
      "\u001b[?25hRequirement already satisfied: torch in ./venv/lib/python3.9/site-packages (from deeplib==0.1) (1.13.1)\n",
      "Requirement already satisfied: torchvision in ./venv/lib/python3.9/site-packages (from deeplib==0.1) (0.14.1)\n",
      "Requirement already satisfied: pandas in ./venv/lib/python3.9/site-packages (from deeplib==0.1) (1.5.3)\n",
      "Requirement already satisfied: ipykernel in ./venv/lib/python3.9/site-packages (from deeplib==0.1) (6.21.1)\n",
      "Requirement already satisfied: matplotlib in ./venv/lib/python3.9/site-packages (from deeplib==0.1) (3.6.3)\n",
      "Requirement already satisfied: scikit-learn in ./venv/lib/python3.9/site-packages (from deeplib==0.1) (1.2.1)\n",
      "Requirement already satisfied: graphviz in ./venv/lib/python3.9/site-packages (from deeplib==0.1) (0.20.1)\n",
      "Requirement already satisfied: ipython in ./venv/lib/python3.9/site-packages (from deeplib==0.1) (8.10.0)\n",
      "Requirement already satisfied: gensim in ./venv/lib/python3.9/site-packages (from deeplib==0.1) (4.3.0)\n",
      "Requirement already satisfied: numpy in ./venv/lib/python3.9/site-packages (from deeplib==0.1) (1.24.2)\n",
      "Requirement already satisfied: scipy in ./venv/lib/python3.9/site-packages (from deeplib==0.1) (1.10.0)\n",
      "Requirement already satisfied: Pillow in ./venv/lib/python3.9/site-packages (from deeplib==0.1) (9.4.0)\n",
      "Requirement already satisfied: poutyne in ./venv/lib/python3.9/site-packages (from deeplib==0.1) (1.14)\n",
      "Requirement already satisfied: smart-open>=1.8.1 in ./venv/lib/python3.9/site-packages (from gensim->deeplib==0.1) (6.3.0)\n",
      "Requirement already satisfied: FuzzyTM>=0.4.0 in ./venv/lib/python3.9/site-packages (from gensim->deeplib==0.1) (2.0.5)\n",
      "Requirement already satisfied: comm>=0.1.1 in ./venv/lib/python3.9/site-packages (from ipykernel->deeplib==0.1) (0.1.2)\n",
      "Requirement already satisfied: tornado>=6.1 in ./venv/lib/python3.9/site-packages (from ipykernel->deeplib==0.1) (6.2)\n",
      "Requirement already satisfied: jupyter-core!=5.0.*,>=4.12 in ./venv/lib/python3.9/site-packages (from ipykernel->deeplib==0.1) (5.2.0)\n",
      "Requirement already satisfied: debugpy>=1.6.5 in ./venv/lib/python3.9/site-packages (from ipykernel->deeplib==0.1) (1.6.6)\n",
      "Requirement already satisfied: psutil in ./venv/lib/python3.9/site-packages (from ipykernel->deeplib==0.1) (5.9.4)\n",
      "Requirement already satisfied: matplotlib-inline>=0.1 in ./venv/lib/python3.9/site-packages (from ipykernel->deeplib==0.1) (0.1.6)\n",
      "Requirement already satisfied: traitlets>=5.4.0 in ./venv/lib/python3.9/site-packages (from ipykernel->deeplib==0.1) (5.9.0)\n",
      "Requirement already satisfied: packaging in ./venv/lib/python3.9/site-packages (from ipykernel->deeplib==0.1) (23.0)\n",
      "Requirement already satisfied: pyzmq>=17 in ./venv/lib/python3.9/site-packages (from ipykernel->deeplib==0.1) (25.0.0)\n",
      "Requirement already satisfied: jupyter-client>=6.1.12 in ./venv/lib/python3.9/site-packages (from ipykernel->deeplib==0.1) (8.0.2)\n",
      "Requirement already satisfied: nest-asyncio in ./venv/lib/python3.9/site-packages (from ipykernel->deeplib==0.1) (1.5.6)\n",
      "Requirement already satisfied: backcall in ./venv/lib/python3.9/site-packages (from ipython->deeplib==0.1) (0.2.0)\n",
      "Requirement already satisfied: decorator in ./venv/lib/python3.9/site-packages (from ipython->deeplib==0.1) (5.1.1)\n",
      "Requirement already satisfied: stack-data in ./venv/lib/python3.9/site-packages (from ipython->deeplib==0.1) (0.6.2)\n",
      "Requirement already satisfied: pexpect>4.3 in ./venv/lib/python3.9/site-packages (from ipython->deeplib==0.1) (4.8.0)\n",
      "Requirement already satisfied: pygments>=2.4.0 in ./venv/lib/python3.9/site-packages (from ipython->deeplib==0.1) (2.14.0)\n",
      "Requirement already satisfied: pickleshare in ./venv/lib/python3.9/site-packages (from ipython->deeplib==0.1) (0.7.5)\n",
      "Requirement already satisfied: prompt-toolkit<3.1.0,>=3.0.30 in ./venv/lib/python3.9/site-packages (from ipython->deeplib==0.1) (3.0.36)\n",
      "Requirement already satisfied: jedi>=0.16 in ./venv/lib/python3.9/site-packages (from ipython->deeplib==0.1) (0.18.2)\n",
      "Requirement already satisfied: python-dateutil>=2.7 in ./venv/lib/python3.9/site-packages (from matplotlib->deeplib==0.1) (2.8.2)\n",
      "Requirement already satisfied: pyparsing>=2.2.1 in ./venv/lib/python3.9/site-packages (from matplotlib->deeplib==0.1) (3.0.9)\n",
      "Requirement already satisfied: cycler>=0.10 in ./venv/lib/python3.9/site-packages (from matplotlib->deeplib==0.1) (0.11.0)\n",
      "Requirement already satisfied: fonttools>=4.22.0 in ./venv/lib/python3.9/site-packages (from matplotlib->deeplib==0.1) (4.38.0)\n",
      "Requirement already satisfied: contourpy>=1.0.1 in ./venv/lib/python3.9/site-packages (from matplotlib->deeplib==0.1) (1.0.7)\n",
      "Requirement already satisfied: kiwisolver>=1.0.1 in ./venv/lib/python3.9/site-packages (from matplotlib->deeplib==0.1) (1.4.4)\n",
      "Requirement already satisfied: pytz>=2020.1 in ./venv/lib/python3.9/site-packages (from pandas->deeplib==0.1) (2022.7.1)\n",
      "Requirement already satisfied: torchmetrics in ./venv/lib/python3.9/site-packages (from poutyne->deeplib==0.1) (0.11.1)\n",
      "Requirement already satisfied: threadpoolctl>=2.0.0 in ./venv/lib/python3.9/site-packages (from scikit-learn->deeplib==0.1) (3.1.0)\n",
      "Requirement already satisfied: joblib>=1.1.1 in ./venv/lib/python3.9/site-packages (from scikit-learn->deeplib==0.1) (1.2.0)\n",
      "Requirement already satisfied: typing-extensions in ./venv/lib/python3.9/site-packages (from torch->deeplib==0.1) (4.4.0)\n",
      "Requirement already satisfied: nvidia-cudnn-cu11==8.5.0.96 in ./venv/lib/python3.9/site-packages (from torch->deeplib==0.1) (8.5.0.96)\n",
      "Requirement already satisfied: nvidia-cuda-nvrtc-cu11==11.7.99 in ./venv/lib/python3.9/site-packages (from torch->deeplib==0.1) (11.7.99)\n",
      "Requirement already satisfied: nvidia-cublas-cu11==11.10.3.66 in ./venv/lib/python3.9/site-packages (from torch->deeplib==0.1) (11.10.3.66)\n",
      "Requirement already satisfied: nvidia-cuda-runtime-cu11==11.7.99 in ./venv/lib/python3.9/site-packages (from torch->deeplib==0.1) (11.7.99)\n",
      "Requirement already satisfied: setuptools in ./venv/lib/python3.9/site-packages (from nvidia-cublas-cu11==11.10.3.66->torch->deeplib==0.1) (65.5.1)\n",
      "Requirement already satisfied: wheel in ./venv/lib/python3.9/site-packages (from nvidia-cublas-cu11==11.10.3.66->torch->deeplib==0.1) (0.38.4)\n",
      "Requirement already satisfied: requests in ./venv/lib/python3.9/site-packages (from torchvision->deeplib==0.1) (2.28.2)\n",
      "Requirement already satisfied: pyfume in ./venv/lib/python3.9/site-packages (from FuzzyTM>=0.4.0->gensim->deeplib==0.1) (0.2.25)\n",
      "Requirement already satisfied: parso<0.9.0,>=0.8.0 in ./venv/lib/python3.9/site-packages (from jedi>=0.16->ipython->deeplib==0.1) (0.8.3)\n",
      "Requirement already satisfied: importlib-metadata>=4.8.3 in ./venv/lib/python3.9/site-packages (from jupyter-client>=6.1.12->ipykernel->deeplib==0.1) (6.0.0)\n",
      "Requirement already satisfied: platformdirs>=2.5 in ./venv/lib/python3.9/site-packages (from jupyter-core!=5.0.*,>=4.12->ipykernel->deeplib==0.1) (3.0.0)\n",
      "Requirement already satisfied: ptyprocess>=0.5 in ./venv/lib/python3.9/site-packages (from pexpect>4.3->ipython->deeplib==0.1) (0.7.0)\n",
      "Requirement already satisfied: wcwidth in ./venv/lib/python3.9/site-packages (from prompt-toolkit<3.1.0,>=3.0.30->ipython->deeplib==0.1) (0.2.6)\n",
      "Requirement already satisfied: six>=1.5 in ./venv/lib/python3.9/site-packages (from python-dateutil>=2.7->matplotlib->deeplib==0.1) (1.16.0)\n",
      "Requirement already satisfied: urllib3<1.27,>=1.21.1 in ./venv/lib/python3.9/site-packages (from requests->torchvision->deeplib==0.1) (1.26.14)\n",
      "Requirement already satisfied: certifi>=2017.4.17 in ./venv/lib/python3.9/site-packages (from requests->torchvision->deeplib==0.1) (2022.12.7)\n",
      "Requirement already satisfied: idna<4,>=2.5 in ./venv/lib/python3.9/site-packages (from requests->torchvision->deeplib==0.1) (3.4)\n",
      "Requirement already satisfied: charset-normalizer<4,>=2 in ./venv/lib/python3.9/site-packages (from requests->torchvision->deeplib==0.1) (3.0.1)\n",
      "Requirement already satisfied: asttokens>=2.1.0 in ./venv/lib/python3.9/site-packages (from stack-data->ipython->deeplib==0.1) (2.2.1)\n",
      "Requirement already satisfied: pure-eval in ./venv/lib/python3.9/site-packages (from stack-data->ipython->deeplib==0.1) (0.2.2)\n",
      "Requirement already satisfied: executing>=1.2.0 in ./venv/lib/python3.9/site-packages (from stack-data->ipython->deeplib==0.1) (1.2.0)\n"
     ]
    },
    {
     "name": "stdout",
     "output_type": "stream",
     "text": [
      "Requirement already satisfied: zipp>=0.5 in ./venv/lib/python3.9/site-packages (from importlib-metadata>=4.8.3->jupyter-client>=6.1.12->ipykernel->deeplib==0.1) (3.13.0)\n",
      "Requirement already satisfied: fst-pso in ./venv/lib/python3.9/site-packages (from pyfume->FuzzyTM>=0.4.0->gensim->deeplib==0.1) (1.8.1)\n",
      "Requirement already satisfied: simpful in ./venv/lib/python3.9/site-packages (from pyfume->FuzzyTM>=0.4.0->gensim->deeplib==0.1) (2.9.0)\n",
      "Requirement already satisfied: miniful in ./venv/lib/python3.9/site-packages (from fst-pso->pyfume->FuzzyTM>=0.4.0->gensim->deeplib==0.1) (0.0.6)\n",
      "\n",
      "\u001b[1m[\u001b[0m\u001b[34;49mnotice\u001b[0m\u001b[1;39;49m]\u001b[0m\u001b[39;49m A new release of pip is available: \u001b[0m\u001b[31;49m23.0\u001b[0m\u001b[39;49m -> \u001b[0m\u001b[32;49m23.0.1\u001b[0m\n",
      "\u001b[1m[\u001b[0m\u001b[34;49mnotice\u001b[0m\u001b[1;39;49m]\u001b[0m\u001b[39;49m To update, run: \u001b[0m\u001b[32;49mpip install --upgrade pip\u001b[0m\n"
     ]
    }
   ],
   "source": [
    "!pip install git+https://github.com/ulaval-damas/glo4030-labs.git"
   ]
  },
  {
   "cell_type": "markdown",
   "id": "fd9ce92e",
   "metadata": {},
   "source": [
    "# Laboratoire 8: Transformers\n",
    "\n",
    "Introduction aux transformers:\n",
    "- Révolution dans le monde du NLP (Vaswani, 2017), maintenant les majeurs architectures de NLP sont toutes basées sur les transformers (BERT, GPT). Ex. Generative Pre-trained Transformer (GPT) et Bidirectional Encoder Representations from Transformers (BERT). ChatGPT basé sur GPT.\n",
    "- Maintenant, les transformers sont aussi utilisés dans d'autres domaines du deep learning grâce à leur grande flexibilité et polyvalence. Vision par ordinateur: ViT, Swin, DETR, etc., Point Clouds: ..., Audio: ...\n",
    "- Intéressant que le transformer de 2017 est encore utilisé! Seulement quelques petites modifications\n",
    "- Une sorte d'architecture universelle qui peut traiter tout type de données\n",
    "- Présentent une affinité pour le prétraining en raison de leur meilleur scaling avec la quantité de données et la taille du modèle (scaling vision transformer et Scaling laws for neural language models)\n",
    "\n",
    "Transformers:\n",
    "- Les transformers sont basés sur le principle d'attention\n",
    "- Modèle ensemble -> ensemble de vecteurs (ensemble dans le sens mathématique)\n",
    "- Réutilise des concepts intéressants: Connexion résiduelle (flot du gradient), LayerNorm, MLP\n",
    "- Liens avec le message passing / algorithm\n"
   ]
  },
  {
   "cell_type": "code",
   "execution_count": null,
   "id": "06cbceb1",
   "metadata": {},
   "outputs": [],
   "source": [
    "%load_ext autoreload\n",
    "%autoreload 2\n",
    "%matplotlib inline\n",
    "\n",
    "import pathlib\n",
    "\n",
    "import numpy as np\n",
    "\n",
    "import torch\n",
    "import torch.random\n",
    "import torch.nn as nn\n",
    "import torch.nn.functional as F\n",
    "import torchvision\n",
    "import torchvision.transforms as T\n",
    "\n",
    "import matplotlib.pyplot as plt\n",
    "\n",
    "import einops as ein\n",
    "\n",
    "import deeplib.training as dtrain\n",
    "import deeplib.datasets as ddatasets"
   ]
  },
  {
   "cell_type": "markdown",
   "id": "54ef4d89",
   "metadata": {},
   "source": [
    "Download tiny_shakespeare dataset"
   ]
  },
  {
   "cell_type": "code",
   "execution_count": 3,
   "id": "e0fbd901",
   "metadata": {},
   "outputs": [
    {
     "name": "stdout",
     "output_type": "stream",
     "text": [
      "  % Total    % Received % Xferd  Average Speed   Time    Time     Time  Current\n",
      "                                 Dload  Upload   Total   Spent    Left  Speed\n",
      "100 1089k  100 1089k    0     0  8706k      0 --:--:-- --:--:-- --:--:-- 8714k\n"
     ]
    }
   ],
   "source": [
    "!curl -o ~/GLO-4030/datasets/tiny_shakespeare.txt https://raw.githubusercontent.com/karpathy/ng-video-lecture/master/input.txt"
   ]
  },
  {
   "cell_type": "markdown",
   "id": "28c4aa0c",
   "metadata": {},
   "source": [
    "## Partie 1: Scaled Dot-Product Attention\n",
    "- Au coeur des transformers se trouve le principle d'attention\n",
    "- Focus sur certaines parties de l'information, et moins sur d'autres, somme ponderée selon l'attention\n",
    "- Dans le cas des transformers, on utilise le \"Scaled Dot-Product Attention\" de Attention Is All You Need\" (Vaswani, 2017)\n",
    "- Principle de requête sur une base de données, on fait une requête, et on reçois une réponse\n",
    "- On fait une requête $q$ selon des clés $k$, et on reçoit un valeur $v$\n",
    "- Mais ici $q, k, v$ sont des vecteurs, et $v$ est une somme pondérée de plusieurs valeurs de la \"base de données\"\n",
    "- Plus formellement, on a $D = \\{(k_1, v_1), \\ldots (k_m, v_m)\\}$, un ensemble de clés $k_i$ et leur valeur $v_i$ associée, requête $q$.\n",
    "- L'affinité entre $q$ et les $k_i$ est calculée par une fonction $\\alpha(q, k_i)$, la réponse est une somme pondérée des $v_i$ selon $\\alpha(\\cdot)$\n",
    "$$Attention(q, D) = \\sum_{i=1}^{m}{\\alpha(q, k_i)}$$\n",
    "- On normalise avec une softmax\n",
    "$$\\alpha(q, k_i) = \\frac{\\exp(\\alpha(q, k_i))}{\\sum_j\\exp(\\alpha(q, k_j))}$$\n",
    "- Pour Vaswani, on utilise le scale dot-product attention\n",
    "$$\\alpha(q, k_i) = \\frac{q^Tk_i}{\\sqrt{d}} = \\frac{q \\cdot k_i }{\\sqrt{d}}$$\n",
    "- $d$ est la dimension des vecteurs\n",
    "- Au final, avec la softmax\n",
    "$$\\alpha(q, k_i) = \\frac{\\exp\\left(q \\cdot k_i / \\sqrt{d}\\right)}{\\sum_j\\exp\\left(q \\cdot k_i / \\sqrt{d}\\right)}$$"
   ]
  },
  {
   "cell_type": "markdown",
   "id": "759a2a80",
   "metadata": {},
   "source": [
    "Dans la cellule suivante, remplisser la fonction suivante pour appliquer l'attention sur les tenseurs $q$, $k$ et $v$."
   ]
  },
  {
   "cell_type": "code",
   "execution_count": 4,
   "id": "c5897f9a",
   "metadata": {},
   "outputs": [
    {
     "name": "stdout",
     "output_type": "stream",
     "text": [
      "simple_attention(q, k, v) =\ttensor([[0.2185, 0.4563]])\n",
      "valeur attendue =\t\ttensor([[0.2185, 0.4563]])\n"
     ]
    }
   ],
   "source": [
    "def simple_attention(q, k, v):\n",
    "    \"\"\"\n",
    "    Attention simple\n",
    "    q est un tenseur de dimension (1, d)\n",
    "    k est un tenseur de dimension (n, d)\n",
    "    v est un tenseur de dimension (n, d)\n",
    "    d est la dimension des vecteurs, n le nombre de clés et de valeurs\n",
    "    La sortie devrait être de dimension (1, d)\n",
    "    \"\"\"\n",
    "    # TODO\n",
    "    d = q.size(-1)\n",
    "    alpha = F.softmax(q @ k.T / np.sqrt(d), dim=1)\n",
    "    return alpha @ v\n",
    "    \n",
    "q = F.normalize(torch.tensor([[3.0, 3.0]]), dim=1)\n",
    "k = F.normalize(torch.tensor([[2.0, 1.5], [-4, 3], [0, 3], [-1, -4]]), dim=1)\n",
    "v = F.normalize(torch.tensor([[-1.0, 2], [3, 4], [2, -1], [0, 2]]), dim=1)\n",
    "\n",
    "expected = torch.tensor([[0.2185, 0.4563]])\n",
    "output = simple_attention(q, k, v)\n",
    "\n",
    "print(f'simple_attention(q, k, v) =\\t{output}')\n",
    "print(f'valeur attendue =\\t\\t{expected}')"
   ]
  },
  {
   "cell_type": "markdown",
   "id": "c237aaab",
   "metadata": {},
   "source": [
    "### Visualisation de l'attention\n",
    "- Le produit scalaire a une interprétation utile, $q\\cdot k_i = \\|q\\|\\|k_i\\|\\cos(\\theta)$, il s'agit donc d'une mesure de comment les vecteurs sont alligés\n"
   ]
  },
  {
   "cell_type": "code",
   "execution_count": 5,
   "id": "9e557824",
   "metadata": {},
   "outputs": [
    {
     "data": {
      "image/png": "[encoded data removed]",
      "text/plain": [
       "<Figure size 1400x600 with 2 Axes>"
      ]
     },
     "metadata": {},
     "output_type": "display_data"
    }
   ],
   "source": [
    "def show_attention(q, k, v):\n",
    "    # TODO\n",
    "    d = q.size(-1)\n",
    "    alpha = F.softmax(q @ k.T / np.sqrt(d), dim=1)\n",
    "    \n",
    "    figs, axes = plt.subplots(ncols=2, figsize=(14, 6))\n",
    "    ax = axes[0]\n",
    "    ax.arrow(0, 0, q[0][0], q[0][1], head_width=0.1, head_length=0.1, fc='red', ec='red', label='$q$')\n",
    "\n",
    "    colors = ['rosybrown', 'cornflowerblue', 'lightcoral', 'mediumpurple']\n",
    "    for i, k_i in enumerate(k):\n",
    "        ax.arrow(0, 0, k_i[0], k_i[1], head_width=0.1, head_length=0.1, label=f'$k_{i}$, $\\\\alpha(q, k_{i}) = {alpha[0][i]:.3f}$', fc=colors[i], ec=colors[i])\n",
    "\n",
    "    ax.set_xlim(-1.25, 1.25)\n",
    "    ax.set_ylim(-1.25, 1.25)\n",
    "    ax.set_xlabel('X-axis')\n",
    "    ax.set_ylabel('Y-axis')\n",
    "    ax.set_title('$q$ and $k_i$')\n",
    "    ax.legend(loc='lower right')\n",
    "    ax.set_aspect('equal', adjustable='box')\n",
    "    \n",
    "    ax = axes[1]\n",
    "    ax.arrow(0, 0, output[0][0], output[0][1], head_width=0.1, head_length=0.1, fc='red', ec='red', label='$\\sum_i v_{i} \\cdot \\\\alpha(q, k_{i})$')\n",
    "\n",
    "    for i, v_i in enumerate(v):\n",
    "        v_i = v_i * alpha[0, i]\n",
    "        ax.arrow(0, 0, v_i[0], v_i[1], head_width=0.1, head_length=0.1, label=f'$v_{i} \\cdot \\\\alpha(q, k_{i})$', fc=colors[i], ec=colors[i])\n",
    "\n",
    "    ax.set_xlim(-1.25, 1.25)\n",
    "    ax.set_ylim(-1.25, 1.25)\n",
    "    ax.set_xlabel('X-axis')\n",
    "    ax.set_ylabel('Y-axis')\n",
    "    ax.set_title(r'Valeurs pondérées par $\\alpha$')\n",
    "    ax.legend(loc='lower right')\n",
    "    ax.set_aspect('equal', adjustable='box')\n",
    "\n",
    "    plt.show()\n",
    "    \n",
    "show_attention(q, k, v)"
   ]
  },
  {
   "cell_type": "markdown",
   "id": "2d71a420",
   "metadata": {},
   "source": [
    "#### Questions\n",
    "- Quel clé est la plus alignée avec $q$?\n",
    "- Que ce passe-t'il avec les valeurs de $\\alpha(\\cdot)$ lorsque vous changer les $k_i$?\n",
    "- Quel est l'impact sur la valeur retournée par l'attention?"
   ]
  },
  {
   "cell_type": "markdown",
   "id": "707f406a",
   "metadata": {},
   "source": [
    "### Le \"Scaled\" dans Scaled Dot-Product Attention\n",
    "- Le facteur de $\\frac{1}{\\sqrt{d}}$ peut sembler inutile, pourtant il est central au bon fonctionnement de l'attention\n",
    "- Si on fait l'hypothèse que $q_i$ et $k_i$ suivent une distribution normale $\\mathcal{N}(0, 1)$, le produit entre $q$ et $k$ aura une variance de $d$.\n",
    "- Il faut donc diviser par $\\sqrt{d}$ afin d'obtenir une variance de $1$."
   ]
  },
  {
   "cell_type": "code",
   "execution_count": 6,
   "id": "04eb6ca9",
   "metadata": {},
   "outputs": [
    {
     "name": "stdout",
     "output_type": "stream",
     "text": [
      "Variance sans scaling: 259.6633605957031\n",
      "Variance avec scaling: 1.0143100023269653\n"
     ]
    }
   ],
   "source": [
    "torch.manual_seed(1337)\n",
    "num_tokens = 32\n",
    "dimension = 256\n",
    "\n",
    "q = torch.randn(num_tokens, dimension)\n",
    "k = torch.randn(num_tokens, dimension)\n",
    "\n",
    "attention = q @ k.T\n",
    "scaled_attention = attention * dimension ** -0.5\n",
    "\n",
    "print(f'Variance sans scaling: {attention.var()}')\n",
    "print(f'Variance avec scaling: {scaled_attention.var()}')"
   ]
  },
  {
   "cell_type": "markdown",
   "id": "3637593c",
   "metadata": {},
   "source": [
    "Sans scaling\n",
    "- Sans scaling, la softmax va converger vers un vecteur one-hot.\n",
    "- Ceci à pour effet de ne seulement aggréger de l'informatique que d'une seule valeur, limitant ainsi les performances du transformer.\n",
    "- Le scaling permet une meilleure initialisation, et facilite l'optimisation du transformer"
   ]
  },
  {
   "cell_type": "code",
   "execution_count": 7,
   "id": "cc503a7f",
   "metadata": {},
   "outputs": [
    {
     "name": "stdout",
     "output_type": "stream",
     "text": [
      "Softmax avec faible variance:\n",
      "\t[0.1925, 0.14261, 0.23512, 0.14261, 0.28717]\n",
      "Softmax avec haute variance:\n",
      "\t[0.00159, 1e-05, 0.0391, 1e-05, 0.95928]\n"
     ]
    }
   ],
   "source": [
    "low_variance = torch.softmax(torch.tensor([0.1, -0.2, 0.3, -0.2, 0.5]), dim=-1)\n",
    "high_variance = torch.softmax(torch.tensor([0.1, -0.2, 0.3, -0.2, 0.5]) * np.sqrt(256), dim=-1)\n",
    "\n",
    "print(f'Softmax avec faible variance:\\n\\t{[round(x.item(), 5) for x in low_variance]}')\n",
    "print(f'Softmax avec haute variance:\\n\\t{[round(x.item(), 5) for x in high_variance]}')"
   ]
  },
  {
   "cell_type": "markdown",
   "id": "71be296e",
   "metadata": {},
   "source": [
    "### Plusieurs queries\n",
    "- Implémenter pour de l'attention avec plusieurs requêtes $q_i$\n",
    "- On veut comparer chaque requête $q_i$ avec chaque clé $k_i$, on va le faire grâce à la multiplication de tenseurs\n",
    "\n",
    "$$\\text{Attention}(Q, K, V) = \\text{softmax}\\left(\\frac{QK^T}{\\sqrt{d}}\\right)V$$\n",
    "\n",
    "$$Q=\\begin{pmatrix}\n",
    "q_1\\\\\n",
    "q_2\\\\\n",
    "\\vdots\\\\\n",
    "q_n\n",
    "\\end{pmatrix}, K=\\begin{pmatrix}\n",
    "k_1\\\\\n",
    "k_2\\\\\n",
    "\\vdots\\\\\n",
    "k_n\n",
    "\\end{pmatrix}, V=\\begin{pmatrix}\n",
    "v_1\\\\\n",
    "v_2\\\\\n",
    "\\vdots\\\\\n",
    "v_n\n",
    "\\end{pmatrix}$$\n",
    "\n",
    "$$QK^T = \\begin{pmatrix}\n",
    "q_1\\\\\n",
    "q_2\\\\\n",
    "\\vdots\\\\\n",
    "q_n\n",
    "\\end{pmatrix} K=\\begin{pmatrix}\n",
    "k_1 & k_2 & \\dots & k_n\n",
    "\\end{pmatrix} = \\begin{pmatrix}\n",
    "q_1k_1 & q_1k_2 & \\dots  & q_1k_n \\\\\n",
    "q_2k_1 & q_2k_2 & \\dots  & q_2k_n \\\\\n",
    "\\vdots & \\vdots & \\ddots & \\vdots \\\\\n",
    "q_nk_1 & q_nk_2 & \\dots  & q_nk_n \\\\\n",
    "\\end{pmatrix}$$\n",
    "\n",
    "On appelle $QK^T$ la matrice d'attention.\n",
    "\n",
    "Si on ignore la softmax et le scale, on a \n",
    "$$QK^TV = \\begin{pmatrix}\n",
    "q_1k_1 & q_1k_2 & \\dots  & q_1k_n \\\\\n",
    "q_2k_1 & q_2k_2 & \\dots  & q_2k_n \\\\\n",
    "\\vdots & \\vdots & \\ddots & \\vdots \\\\\n",
    "q_nk_1 & q_nk_2 & \\dots  & q_nk_n \\\\\n",
    "\\end{pmatrix}\\begin{pmatrix}\n",
    "v_1\\\\\n",
    "v_2\\\\\n",
    "\\vdots\\\\\n",
    "v_n\n",
    "\\end{pmatrix}=\\begin{pmatrix}\n",
    "q_1k_1v_1 + q_1k_2v_2 + \\dots  + q_1k_nv_n \\\\\n",
    "q_2k_1v_1 + q_2k_2v_2 + \\dots  + q_2k_nv_n \\\\\n",
    "\\vdots \\\\\n",
    "q_nk_1v_1 + q_nk_2v_2 + \\dots  + q_nk_nv_n \\\\\n",
    "\\end{pmatrix}$$"
   ]
  },
  {
   "cell_type": "code",
   "execution_count": 8,
   "id": "a71ad989",
   "metadata": {},
   "outputs": [
    {
     "name": "stdout",
     "output_type": "stream",
     "text": [
      "scaled_dot_product_attention(q, k, v) =\n",
      "tensor([[[0.1089, 0.3322],\n",
      "         [0.2860, 0.2639],\n",
      "         [0.0600, 0.6791],\n",
      "         [0.0986, 0.7087]]])\n",
      "valeur attendue =\n",
      "tensor([[[0.1089, 0.3322],\n",
      "         [0.2860, 0.2639],\n",
      "         [0.0600, 0.6791],\n",
      "         [0.0986, 0.7087]]])\n"
     ]
    }
   ],
   "source": [
    "def scaled_dot_product_attention(q, k, v, mask=None):\n",
    "    \"\"\"\n",
    "    Attention sur batch\n",
    "    q est un tenseur de dimension (b, n, d)\n",
    "    k est un tenseur de dimension (b, n, d)\n",
    "    v est un tenseur de dimension (b, n, d)\n",
    "    b est la taille de la mini-batch, d est la dimension des vecteurs, n le nombre de clés et de valeurs\n",
    "    La sortie devrait être de dimension (b, n, d)\n",
    "    \"\"\"\n",
    "    # TODO\n",
    "    attention = q.bmm(k.transpose(-2, -1))  # or query @ key.transpose(1, 2)\n",
    "    if mask is not None:\n",
    "        attention[:, mask.logical_not()] = -torch.inf\n",
    "    \n",
    "    scale = q.size(-1) ** 0.5\n",
    "    softmax = F.softmax(attention / scale, dim=-1)\n",
    "    return softmax.bmm(v)\n",
    "\n",
    "q = F.normalize(torch.tensor([[3.0, 3.0], [-1, 3.2], [0.2, -0.4], [0, -1]]), dim=1).unsqueeze(0)\n",
    "k = F.normalize(torch.tensor([[2.0, 1.5], [-4, 3], [0, 3], [-1, -4]]), dim=1).unsqueeze(0)\n",
    "v = F.normalize(torch.tensor([[-1.0, 2], [3, 4], [2, -3], [0, 2]]), dim=1).unsqueeze(0)\n",
    "\n",
    "expected = torch.tensor([[[0.1089, 0.3322], [0.2860, 0.2639], [0.0600, 0.6791], [0.0986, 0.7087]]])\n",
    "output = scaled_dot_product_attention(q, k, v)\n",
    "\n",
    "print(f'scaled_dot_product_attention(q, k, v) =\\n{output}')\n",
    "print(f'valeur attendue =\\n{expected}')"
   ]
  },
  {
   "cell_type": "markdown",
   "id": "11bd3da7",
   "metadata": {},
   "source": [
    "#### Questions\n",
    "- Quelle est la taille du tenseur lorsque l'on multiple $q$ et $v$? Est-ce problématique pour le temps de calculs et la mémoire utilisée si $n$ (le nombre de queries, keys et valeurs) augmente?\n",
    "- Que se passe-t'il si on change l'ordre des queries?\n",
    "- Que se passe-t'il si on change l'ordre des clés et des valeurs?\n",
    "- Est-ce l'invariance à l'ordre des entrées est problématique? Quant est-t'il si l'ordre des valeurs est importante? comme l'ordre des mots dans une phrase"
   ]
  },
  {
   "cell_type": "markdown",
   "id": "904356b2",
   "metadata": {},
   "source": [
    "#### Masques\n",
    "Implémentez l'opération de masking dans la fonction `scaled_dot_product_attention`. Il s'agit de remplacer les éléments de la matrice d'attention par $-\\infty$ où le mask est False."
   ]
  },
  {
   "cell_type": "code",
   "execution_count": 9,
   "id": "0c3a053c",
   "metadata": {},
   "outputs": [
    {
     "name": "stdout",
     "output_type": "stream",
     "text": [
      "scaled_dot_product_attention(q, k, v) =\n",
      "tensor([[[-0.4472,  0.8944],\n",
      "         [ 0.1639,  0.8393],\n",
      "         [ 0.1129,  0.3967],\n",
      "         [ 0.0986,  0.7087]]])\n",
      "valeur attendue =\n",
      "tensor([[[-0.4472,  0.8944],\n",
      "         [ 0.1639,  0.8393],\n",
      "         [ 0.1129,  0.3967],\n",
      "         [ 0.0986,  0.7087]]])\n"
     ]
    }
   ],
   "source": [
    "q = F.normalize(torch.tensor([[3.0, 3.0], [-1, 3.2], [0.2, -0.4], [0, -1]]), dim=1).unsqueeze(0)\n",
    "k = F.normalize(torch.tensor([[2.0, 1.5], [-4, 3], [0, 3], [-1, -4]]), dim=1).unsqueeze(0)\n",
    "v = F.normalize(torch.tensor([[-1.0, 2], [3, 4], [2, -3], [0, 2]]), dim=1).unsqueeze(0)\n",
    "mask = torch.tensor([[1, 0, 0, 0], [1, 1, 0, 0], [1, 1, 1, 0], [1, 1, 1, 1]], dtype=torch.bool)\n",
    "\n",
    "expected = torch.tensor([[[-0.4472,  0.8944], [ 0.1639,  0.8393], [ 0.1129,  0.3967], [ 0.0986,  0.7087]]])\n",
    "output = scaled_dot_product_attention(q, k, v, mask)\n",
    "\n",
    "print(f'scaled_dot_product_attention(q, k, v) =\\n{output}')\n",
    "print(f'valeur attendue =\\n{expected}')"
   ]
  },
  {
   "cell_type": "markdown",
   "id": "0a500569",
   "metadata": {},
   "source": [
    "#### Visualisation de l'attention\n",
    "- Voir la matrice d'attention"
   ]
  },
  {
   "cell_type": "code",
   "execution_count": 10,
   "id": "a2792579",
   "metadata": {},
   "outputs": [
    {
     "data": {
      "image/png": "[encoded data removed]",
      "text/plain": [
       "<Figure size 640x480 with 2 Axes>"
      ]
     },
     "metadata": {},
     "output_type": "display_data"
    }
   ],
   "source": [
    "q = F.normalize(torch.tensor([[3.0, 3.0], [-1, 3.2], [0.2, -0.4], [0, -1]]), dim=1).unsqueeze(0)\n",
    "k = F.normalize(torch.tensor([[2.0, 1.5], [-4, 3], [0, 3], [-1, -4]]), dim=1).unsqueeze(0)\n",
    "\n",
    "# TODO\n",
    "attention = q.bmm(k.transpose(-2, -1)) / q.size(-1) ** 0.5\n",
    "softmax = F.softmax(attention, dim=-1)\n",
    "\n",
    "qs = [f'$q_{i}$' for i in range(q.size(1))]\n",
    "ks = [f'$k_{i}$' for i in range(q.size(1))]\n",
    "\n",
    "plt.imshow((softmax[0]))\n",
    "\n",
    "plt.xticks(range(q.size(1)), ks)\n",
    "plt.yticks(range(q.size(1)), qs)\n",
    "\n",
    "plt.xlabel('Keys')\n",
    "plt.ylabel('Queries')\n",
    "\n",
    "plt.colorbar()\n",
    "plt.show()"
   ]
  },
  {
   "cell_type": "markdown",
   "id": "722d1ed6",
   "metadata": {},
   "source": [
    "#### Questions\n",
    "- Que se passe-t'il lors de l'ajout d'un mask?\n",
    "- Permutez l'ordre des $q_i$, que ce passe-t'il avec la matrice d'attention?\n",
    "- Permutez l'ordre des $k_i$, que remarquez-vous?"
   ]
  },
  {
   "cell_type": "markdown",
   "id": "aa71fda3",
   "metadata": {},
   "source": [
    "### Encodage de position\n",
    "Comme les transformers sont invariants à la permutation des $q_i$ et des pairs $(k_i, v_i)$, on doit encoder la position.\n",
    "\n",
    "Implémenter l'encodage de position dans la cellule suivante. Il vous faudra générer un tenseur (1, n, dimension), où n est le nombre de clés, selon les formules suivantes:\n",
    "\n",
    "$$\\text{PE}_{pos, 2i} = \\sin(\\text{pos} / 10000^{i/d})$$\n",
    "\n",
    "$$\\text{PE}_{pos, 2i + 1} = \\cos(\\text{pos} / 10000^{i/d})$$\n"
   ]
  },
  {
   "cell_type": "code",
   "execution_count": 11,
   "id": "e351d5a1",
   "metadata": {},
   "outputs": [
    {
     "data": {
      "image/png": "[encoded data removed]",
      "text/plain": [
       "<Figure size 640x480 with 1 Axes>"
      ]
     },
     "metadata": {},
     "output_type": "display_data"
    }
   ],
   "source": [
    "def position_encoding(n_keys: int, dimension: int, device: torch.device = torch.device(\"cpu\")):\n",
    "    # TODO\n",
    "    pos = torch.arange(n_keys, dtype=torch.float, device=device).reshape(1, -1, 1)\n",
    "    dim = torch.arange(dimension, dtype=torch.float, device=device).reshape(1, 1, -1)\n",
    "#     phase = pos / (10000 ** (2 * dim / dimension))\n",
    "    phase = pos / (10000 ** (dim / dimension))\n",
    "\n",
    "    return torch.where(dim.long() % 2 == 0, torch.sin(phase), torch.cos(phase))\n",
    "\n",
    "pe = position_encoding(128, 128)\n",
    "plt.imshow(pe.squeeze())\n",
    "plt.xlabel('dimension')\n",
    "plt.ylabel('n')\n",
    "plt.show()"
   ]
  },
  {
   "cell_type": "code",
   "execution_count": 12,
   "id": "0064d518",
   "metadata": {},
   "outputs": [
    {
     "data": {
      "text/plain": [
       "tensor([[[0.2614, 0.0326],\n",
       "         [0.2765, 0.0179],\n",
       "         [0.1590, 0.2344],\n",
       "         [0.1739, 0.4437]]])"
      ]
     },
     "execution_count": 12,
     "metadata": {},
     "output_type": "execute_result"
    }
   ],
   "source": [
    "q = F.normalize(torch.tensor([[3.0, 3.0], [-1, 3.2], [0.2, -0.4], [0, -1]]), dim=1).unsqueeze(0)\n",
    "k = F.normalize(torch.tensor([[2.0, 1.5], [-4, 3], [0, 3], [-1, -4]]), dim=1).unsqueeze(0)\n",
    "v = F.normalize(torch.tensor([[-1.0, 2], [3, 4], [2, -3], [0, 2]]), dim=1).unsqueeze(0)\n",
    "\n",
    "_, n, d = q.shape\n",
    "\n",
    "# TODO\n",
    "q += position_encoding(n, d)\n",
    "k += position_encoding(n, d)\n",
    "\n",
    "scaled_dot_product_attention(q, k, v)"
   ]
  },
  {
   "cell_type": "markdown",
   "id": "027e097b",
   "metadata": {},
   "source": [
    "#### Questions\n",
    "- Maintenant, que se passe-t'il lorsque l'on permute les $q_i$? et les $(k_i, v_i)$?"
   ]
  },
  {
   "cell_type": "markdown",
   "id": "32e64fa1",
   "metadata": {},
   "source": [
    "## Partie 2: Multi-Head Attention\n",
    "- Temps d'en faire un Module PyTorch"
   ]
  },
  {
   "cell_type": "markdown",
   "id": "99c8e6f4",
   "metadata": {},
   "source": [
    "### AttentionHead\n",
    "- Faites un module PyTorch qui utilise 3 couches linéaires pour respectivement projetter q, k et v, avant d'appliquer de l'attention\n",
    "- Linear sans biais\n",
    "- Dropout sur la matrice d'attention"
   ]
  },
  {
   "cell_type": "code",
   "execution_count": 13,
   "id": "5722c79a",
   "metadata": {},
   "outputs": [
    {
     "name": "stdout",
     "output_type": "stream",
     "text": [
      "Shape \t\t= (1, 6, 32)\n",
      "Expected shape \t= (1, 6, 32)\n"
     ]
    }
   ],
   "source": [
    "class AttentionHead(nn.Module):\n",
    "    def __init__(self, dim_embed: int, head_size: int, dropout: float):\n",
    "        super().__init__()\n",
    "        # TODO\n",
    "        self.q_proj = nn.Linear(dim_embed, head_size, bias=False)\n",
    "        self.k_proj = nn.Linear(dim_embed, head_size, bias=False)\n",
    "        self.v_proj = nn.Linear(dim_embed, head_size, bias=False)\n",
    "        \n",
    "        self.dropout = nn.Dropout(dropout)\n",
    "        \n",
    "    def forward(self, q, k, v, mask=None):\n",
    "        # TODO\n",
    "        B, T, C = q.shape\n",
    "        q, k, v = self.q_proj(q), self.k_proj(k), self.v_proj(v)\n",
    "        \n",
    "        attention = q.bmm(k.transpose(-2, -1))  # or query @ key.transpose(1, 2)\n",
    "        if mask is not None:\n",
    "            attention[:, mask[:T, :T].logical_not()] = -torch.inf\n",
    "    \n",
    "        scale = q.size(-1) ** 0.5\n",
    "        softmax = F.softmax(attention / scale, dim=-1)\n",
    "        \n",
    "        softmax = self.dropout(softmax)\n",
    "        \n",
    "        return softmax.bmm(v)\n",
    "\n",
    "    \n",
    "head = AttentionHead(16, 32, 0.1)\n",
    "x = torch.randn((1, 6, 16))\n",
    "output = head(x, x, x)\n",
    "\n",
    "print(f'Shape \\t\\t= {tuple(output.shape)}')\n",
    "print(f'Expected shape \\t= {(1, 6, 32)}')"
   ]
  },
  {
   "cell_type": "markdown",
   "id": "21d2dd8c",
   "metadata": {},
   "source": [
    "### Multi-Head Attention\n",
    "- Plusieurs têtes d'attention\n",
    "- Plusieurs cannaux de communication séparés pour query les keys"
   ]
  },
  {
   "cell_type": "code",
   "execution_count": 14,
   "id": "49a21c10",
   "metadata": {},
   "outputs": [
    {
     "name": "stdout",
     "output_type": "stream",
     "text": [
      "Shape \t\t= (1, 6, 32)\n",
      "Expected shape \t= (1, 6, 32)\n"
     ]
    }
   ],
   "source": [
    "class MultiHeadAttention(nn.Module):\n",
    "    def __init__(self, num_heads: int, dim_embed: int, head_size: int, dropout: float):\n",
    "        super().__init__()\n",
    "        # TODO\n",
    "        self.heads = nn.ModuleList([AttentionHead(dim_embed, head_size, dropout) for _ in range(num_heads)])\n",
    "        self.fc = nn.Linear(num_heads * head_size, dim_embed)\n",
    "        self.dropout = nn.Dropout(dropout)\n",
    "        \n",
    "    def forward(self, q, k, v, mask=None):\n",
    "        # TODO\n",
    "        out = torch.cat([h(q, k, v, mask) for h in self.heads], dim=-1)\n",
    "        return self.dropout(self.fc(out))\n",
    "\n",
    "    \n",
    "m_head = MultiHeadAttention(3, 32, 256, 0.1)\n",
    "x = torch.randn((1, 6, 32))\n",
    "output = m_head(x, x, x)\n",
    "\n",
    "print(f'Shape \\t\\t= {tuple(output.shape)}')\n",
    "print(f'Expected shape \\t= {(1, 6, 32)}')"
   ]
  },
  {
   "cell_type": "markdown",
   "id": "0c1e9b9e",
   "metadata": {},
   "source": [
    "## Partie 3: TransformerEncoderLayer\n",
    "- Multi-head self-attention\n",
    "- Add and norm\n",
    "- FF par token (attention = communication, FF est le token qui \"pense\")\n",
    "- Connexion residuelle / skip (flot du gradient car l'addition distribue le grad egalement à chaque branche, aide à être deep, apprendre un delta)\n",
    "- Prenorm vs postnorm"
   ]
  },
  {
   "cell_type": "markdown",
   "id": "04832ee1",
   "metadata": {},
   "source": [
    "### FeedForward\n",
    "- Linear dim_model -> 4 * dim_model\n",
    "- ReLU\n",
    "- Linear 4 * dim_model -> dim_model\n",
    "- Dropout"
   ]
  },
  {
   "cell_type": "code",
   "execution_count": 15,
   "id": "70a199ce",
   "metadata": {},
   "outputs": [],
   "source": [
    "class FeedForward(nn.Module):\n",
    "    def __init__(self, dim_model: int, dropout: float):\n",
    "        super().__init__()\n",
    "        # TODO\n",
    "        self.ffn = nn.Sequential(\n",
    "            nn.Linear(dim_model, 4 * dim_model),\n",
    "            nn.ReLU(),\n",
    "            nn.Linear(4 * dim_model, dim_model),\n",
    "            nn.Dropout(dropout)\n",
    "        )\n",
    "        \n",
    "    def forward(self, x):\n",
    "        return self.ffn(x)\n"
   ]
  },
  {
   "cell_type": "markdown",
   "id": "dba8cae2",
   "metadata": {},
   "source": [
    "### TransformerEncoderLayer\n",
    "- LayerNorm\n",
    "- MultiHeadAttention\n",
    "- Connexion résiduelle\n",
    "- LayerNorm\n",
    "- FeedForward\n",
    "- Connexion résiduelle"
   ]
  },
  {
   "cell_type": "code",
   "execution_count": 16,
   "id": "cd6e8e10",
   "metadata": {},
   "outputs": [
    {
     "name": "stdout",
     "output_type": "stream",
     "text": [
      "Shape \t\t= (1, 6, 64)\n",
      "Expected shape \t= (1, 6, 64)\n"
     ]
    }
   ],
   "source": [
    "class TransformerEncoderLayer(nn.Module):\n",
    "    def __init__(self, dim_model: int, num_head: int, dropout: float):\n",
    "        super().__init__()\n",
    "        # TODO\n",
    "        head_size = dim_model // num_head\n",
    "        self.attention = MultiHeadAttention(num_head, dim_model, head_size, dropout)\n",
    "        self.ffn = FeedForward(dim_model, dropout)\n",
    "        self.norm1_q = nn.LayerNorm(dim_model)\n",
    "        self.norm1_k = nn.LayerNorm(dim_model)\n",
    "        self.norm1_v = nn.LayerNorm(dim_model)\n",
    "        self.norm2 = nn.LayerNorm(dim_model)\n",
    "        \n",
    "    def forward(self, q, k, v, mask=None):\n",
    "        q = q + self.attention(self.norm1_q(q), self.norm1_k(k), self.norm1_v(v), mask)\n",
    "        q = q + self.ffn(self.norm2(q))\n",
    "        return q\n",
    "    \n",
    "transf = TransformerEncoderLayer(64, 2, 0.1)\n",
    "x = torch.randn((1, 6, 64))\n",
    "output = transf(x, x, x)\n",
    "\n",
    "print(f'Shape \\t\\t= {tuple(output.shape)}')\n",
    "print(f'Expected shape \\t= {(1, 6, 64)}')"
   ]
  },
  {
   "cell_type": "markdown",
   "id": "f22fa5ab",
   "metadata": {},
   "source": [
    "### BatchNorm vs LayerNorm\n",
    "- BatchNorm et LayerNorm centrent les features en entrée selon des statistiques calculées sur les valeurs\n",
    "- BatchNorm normalise selon des statistiques sur la batch (batch-wise)\n",
    "- LayerNorm normalise dans l'autre axe, selon les features\n",
    "- LayerNorm ne demande pas de moyenne exponentielle, pas de difference entre train et test"
   ]
  },
  {
   "cell_type": "code",
   "execution_count": 17,
   "id": "cefe96db",
   "metadata": {},
   "outputs": [
    {
     "name": "stdout",
     "output_type": "stream",
     "text": [
      "BatchNorm\n",
      "\tPar batch: N(1.564621925354004e-07, 0.9999999403953552)\n",
      "\tPar layer: N(-0.020504985004663467, 0.8174533247947693)\n",
      "LayerNorm\n",
      "\tPar batch: N(-1.2487410306930542, 0.6432551741600037)\n",
      "\tPar layer: N(-1.668930060816365e-08, 1.0)\n"
     ]
    }
   ],
   "source": [
    "torch.manual_seed(42)\n",
    "batch_size = 32\n",
    "dimension = 100\n",
    "\n",
    "net = nn.Sequential(nn.Linear(100, 256), nn.ReLU(), nn.Linear(256, 256), nn.ReLU(), nn.Linear(256, 100))\n",
    "\n",
    "x = torch.randn(batch_size, dimension)\n",
    "x = net(x)\n",
    "\n",
    "# BatchNorm\n",
    "xmean_batch = x.mean(0, keepdim=True)\n",
    "xvar_batch = x.var(0, keepdim=True)\n",
    "x_batch = (x - xmean_batch) / torch.sqrt(xvar_batch + 1e-12)\n",
    "\n",
    "print('BatchNorm')\n",
    "print(f'\\tPar batch: N({x_batch[:, 0].mean()}, {x_batch[:, 0].var()})')\n",
    "print(f'\\tPar layer: N({x_batch[0, :].mean()}, {x_batch[0, :].var()})')\n",
    "\n",
    "# LayerNorm\n",
    "# TODO\n",
    "xmean_layer = x.mean(-1, keepdim=True)\n",
    "xvar_layer = x.var(-1, keepdim=True)\n",
    "x_layer = (x - xmean_layer) / torch.sqrt(xvar_layer + 1e-12)\n",
    "print('LayerNorm')\n",
    "print(f'\\tPar batch: N({x_layer[:, 0].mean()}, {x_layer[:, 0].var()})')\n",
    "print(f'\\tPar layer: N({x_layer[0, :].mean()}, {x_layer[0, :].var()})')"
   ]
  },
  {
   "cell_type": "markdown",
   "id": "2cf3e8fd",
   "metadata": {},
   "source": [
    "## Partie 4: TransformerEncoder\n",
    "- Plusieurs couches de TransformerEncoderLayer\n",
    "- Initialisation normale sans biais"
   ]
  },
  {
   "cell_type": "code",
   "execution_count": 18,
   "id": "7e458d5a",
   "metadata": {},
   "outputs": [
    {
     "name": "stdout",
     "output_type": "stream",
     "text": [
      "Shape \t\t= (2, 64, 10)\n",
      "Expected shape \t= (2, 64, 10)\n"
     ]
    }
   ],
   "source": [
    "class TransformerEncoder(nn.Module):\n",
    "    def __init__(self, num_layers: int, dim_model: int, num_heads: int, out_size: int, dropout: float):\n",
    "        super().__init__()\n",
    "        # TODO\n",
    "        self.layers = nn.ModuleList([TransformerEncoderLayer(dim_model, num_heads, dropout) for _ in range(num_layers)])\n",
    "        self.norm = nn.LayerNorm(dim_model)\n",
    "        self.fc = nn.Linear(dim_model, out_size)\n",
    "        \n",
    "        self.apply(self._init_weights)\n",
    "        \n",
    "    def _init_weights(self, module):\n",
    "        if isinstance(module, nn.Linear):\n",
    "            torch.nn.init.normal_(module.weight, mean=0.0, std=0.02)\n",
    "            if module.bias is not None:\n",
    "                torch.nn.init.zeros_(module.bias)\n",
    "        elif isinstance(module, nn.Embedding):\n",
    "            torch.nn.init.normal_(module.weight, mean=0.0, std=0.02)\n",
    "        \n",
    "    def forward(self, x, mask=None):\n",
    "        # TODO\n",
    "        batch_size, num_tokens, dim = x.shape\n",
    "        x += position_encoding(num_tokens, dim, x.device)\n",
    "        for layer in self.layers:\n",
    "            x = layer(x, x, x, mask)\n",
    "        x = self.norm(x)\n",
    "        x = self.fc(x)\n",
    "        return x\n",
    "    \n",
    "x = torch.randn((2, 64, 64))\n",
    "\n",
    "transformer_enc = TransformerEncoder(6, 64, 2, 10, 0.0)\n",
    "output = transformer_enc(x)\n",
    "\n",
    "print(f'Shape \\t\\t= {tuple(output.shape)}')\n",
    "print(f'Expected shape \\t= {(2, 64, 10)}')"
   ]
  },
  {
   "cell_type": "markdown",
   "id": "ade4d8f8",
   "metadata": {},
   "source": [
    "## Partie 5: Entraînement\n",
    "- Inspiré par https://github.com/karpathy/ng-video-lecture/tree/master"
   ]
  },
  {
   "cell_type": "code",
   "execution_count": 19,
   "id": "6cfe4ce8",
   "metadata": {},
   "outputs": [
    {
     "name": "stdout",
     "output_type": "stream",
     "text": [
      "First Citizen:\n",
      "Before we proceed any further, hear me speak.\n",
      "\n",
      "All:\n",
      "Speak, speak.\n",
      "\n",
      "First Citizen:\n",
      "You are all resolved rather to die than to famish?\n"
     ]
    }
   ],
   "source": [
    "data_path = pathlib.Path('~/GLO-4030/datasets/tiny_shakespeare.txt').expanduser()\n",
    "with open(data_path, 'r') as f:\n",
    "    text = f.read()\n",
    "\n",
    "print(text[:147])"
   ]
  },
  {
   "cell_type": "code",
   "execution_count": 20,
   "id": "cee0c1c8",
   "metadata": {},
   "outputs": [],
   "source": [
    "characters = sorted(list(set(text)))\n",
    "vocab_size = len(characters)\n",
    "\n",
    "str_to_int = {c:i for i, c in enumerate(characters)}\n",
    "int_to_str = {v: k for k, v in str_to_int.items()}\n",
    "\n",
    "def encode(s):\n",
    "    return [str_to_int[c] for c in s]\n",
    "\n",
    "def decode(s):\n",
    "    return [int_to_str[c] for c in s]"
   ]
  },
  {
   "cell_type": "code",
   "execution_count": 21,
   "id": "9d58a16a",
   "metadata": {},
   "outputs": [
    {
     "name": "stdout",
     "output_type": "stream",
     "text": [
      "(tensor([[43, 47, 56,  ..., 45, 56, 43],\n",
      "        [47, 60, 43,  ...,  1, 51, 43],\n",
      "        [58, 56, 39,  ..., 43, 50, 39],\n",
      "        ...,\n",
      "        [21, 58,  1,  ..., 39, 52, 42],\n",
      "        [41, 46,  1,  ..., 53, 61,  1],\n",
      "        [59, 57,  1,  ..., 56, 43, 57]]), tensor([[47, 56,  1,  ..., 56, 43, 43],\n",
      "        [60, 43,  1,  ..., 51, 43,  8],\n",
      "        [56, 39, 47,  ..., 50, 39, 52],\n",
      "        ...,\n",
      "        [58,  1, 57,  ..., 52, 42,  6],\n",
      "        [46,  1, 63,  ..., 61,  1, 58],\n",
      "        [57,  1, 47,  ..., 43, 57, 53]]))\n"
     ]
    }
   ],
   "source": [
    "data = torch.tensor(encode(text), dtype=torch.long)\n",
    "\n",
    "n = int(0.9*len(data))\n",
    "train_data = data[:n]\n",
    "val_data = data[n:]\n",
    "\n",
    "def get_batch(split, block_size, device):\n",
    "    data = train_data if split == 'train' else val_data\n",
    "    indices = torch.randint(len(data) - block_size, (batch_size,))\n",
    "    x = torch.stack([data[i:i+block_size] for i in indices])\n",
    "    y = torch.stack([data[i+1:i+block_size+1] for i in indices])\n",
    "    x, y = x.to(device), y.to(device)\n",
    "    return x, y\n",
    "\n",
    "print(get_batch('train', 256, 'cpu'))"
   ]
  },
  {
   "cell_type": "code",
   "execution_count": 22,
   "id": "68ec6fd7",
   "metadata": {},
   "outputs": [],
   "source": [
    "class TransformerNLP(nn.Module):\n",
    "    def __init__(self, num_layers: int, dim_model: int, num_heads: int, out_size: int, dropout: float, vocab_size: int, block_size: int):\n",
    "        super().__init__()\n",
    "        self.embedding = nn.Embedding(vocab_size, dim_model)\n",
    "        self.transformer = TransformerEncoder(num_layers, dim_model, num_heads, out_size, dropout)\n",
    "        # tril pour que chaque token ne puisse porter attention qu'aux tokens precedents\n",
    "        self.register_buffer('mask', torch.tril(torch.ones(block_size, block_size)))\n",
    "        \n",
    "    def forward(self, x):\n",
    "        B, T = x.shape\n",
    "        x = self.embedding(x)\n",
    "        x = self.transformer(x, self.mask)\n",
    "        return x\n",
    "        \n",
    "    def loss(self, pred, y):\n",
    "        B, T, C = pred.shape\n",
    "        pred = pred.view(B * T, C)\n",
    "        y = y.view(B * T)\n",
    "        return F.cross_entropy(pred, y)\n",
    "    \n",
    "    def generate(self, idx, max_new_tokens, block_size):\n",
    "        for _ in range(max_new_tokens):\n",
    "            # crop idx to the last block_size tokens\n",
    "            idx_cond = idx[:, -block_size:]\n",
    "            # get the predictions\n",
    "            logits = self(idx_cond)\n",
    "            # focus only on the last time step\n",
    "            logits = logits[:, -1, :] # becomes (B, C)\n",
    "            # apply softmax to get probabilities\n",
    "            probs = F.softmax(logits, dim=-1) # (B, C)\n",
    "            # sample from the distribution\n",
    "            idx_next = torch.multinomial(probs, num_samples=1) # (B, 1)\n",
    "            # append sampled index to the running sequence\n",
    "            idx = torch.cat((idx, idx_next), dim=1) # (B, T+1)\n",
    "        return idx"
   ]
  },
  {
   "cell_type": "code",
   "execution_count": null,
   "id": "c79d181d",
   "metadata": {},
   "outputs": [
    {
     "name": "stdout",
     "output_type": "stream",
     "text": [
      "step 0: train loss 4.2379, val loss 4.2433\n",
      "step 500: train loss 3.5874, val loss 3.6089\n",
      "step 1000: train loss 3.3561, val loss 3.3822\n",
      "step 1500: train loss 3.2345, val loss 3.2648\n",
      "step 2000: train loss 3.1588, val loss 3.1927\n",
      "step 2500: train loss 3.1020, val loss 3.1337\n",
      "step 3000: train loss 3.0468, val loss 3.0775\n",
      "step 3500: train loss 2.9928, val loss 3.0231\n",
      "step 4000: train loss 2.9443, val loss 2.9706\n",
      "step 4500: train loss 2.9033, val loss 2.9268\n",
      "step 5000: train loss 2.8664, val loss 2.8869\n",
      "step 5500: train loss 2.8345, val loss 2.8538\n",
      "step 6000: train loss 2.8066, val loss 2.8237\n",
      "step 6500: train loss 2.7797, val loss 2.7943\n",
      "step 7000: train loss 2.7541, val loss 2.7677\n",
      "step 7500: train loss 2.7305, val loss 2.7470\n",
      "step 8000: train loss 2.7092, val loss 2.7257\n",
      "step 8500: train loss 2.6886, val loss 2.7048\n",
      "step 9000: train loss 2.6714, val loss 2.6877\n",
      "step 9500: train loss 2.6545, val loss 2.6687\n",
      "step 10000: train loss 2.6382, val loss 2.6509\n",
      "step 10500: train loss 2.6261, val loss 2.6356\n",
      "step 11000: train loss 2.6150, val loss 2.6210\n",
      "step 11500: train loss 2.6056, val loss 2.6104\n",
      "step 12000: train loss 2.5964, val loss 2.6018\n",
      "step 12500: train loss 2.5896, val loss 2.5935\n",
      "step 13000: train loss 2.5830, val loss 2.5843\n",
      "step 13500: train loss 2.5762, val loss 2.5754\n",
      "step 14000: train loss 2.5687, val loss 2.5685\n",
      "step 14500: train loss 2.5624, val loss 2.5603\n",
      "step 15000: train loss 2.5570, val loss 2.5557\n",
      "step 15500: train loss 2.5523, val loss 2.5515\n",
      "step 16000: train loss 2.5483, val loss 2.5469\n",
      "step 16500: train loss 2.5437, val loss 2.5432\n",
      "step 17000: train loss 2.5394, val loss 2.5396\n",
      "step 17500: train loss 2.5366, val loss 2.5365\n",
      "step 18000: train loss 2.5329, val loss 2.5337\n",
      "step 18500: train loss 2.5304, val loss 2.5321\n",
      "step 19000: train loss 2.5282, val loss 2.5301\n",
      "step 19500: train loss 2.5242, val loss 2.5292\n",
      "step 20000: train loss 2.5207, val loss 2.5257\n",
      "step 20500: train loss 2.5180, val loss 2.5260\n",
      "step 21000: train loss 2.5156, val loss 2.5247\n",
      "step 21500: train loss 2.5129, val loss 2.5214\n",
      "step 22000: train loss 2.5112, val loss 2.5224\n",
      "step 22500: train loss 2.5086, val loss 2.5181\n",
      "step 23000: train loss 2.5071, val loss 2.5170\n",
      "step 23500: train loss 2.5051, val loss 2.5174\n",
      "step 24000: train loss 2.5029, val loss 2.5148\n",
      "step 24500: train loss 2.5018, val loss 2.5106\n",
      "step 25000: train loss 2.4992, val loss 2.5092\n",
      "step 25500: train loss 2.4986, val loss 2.5110\n",
      "step 26000: train loss 2.4963, val loss 2.5089\n",
      "step 26500: train loss 2.4963, val loss 2.5076\n",
      "step 27000: train loss 2.4937, val loss 2.5061\n",
      "step 27500: train loss 2.4919, val loss 2.5050\n",
      "step 28000: train loss 2.4904, val loss 2.5016\n",
      "step 28500: train loss 2.4892, val loss 2.5013\n",
      "step 29000: train loss 2.4874, val loss 2.5001\n",
      "step 29500: train loss 2.4864, val loss 2.4990\n",
      "step 30000: train loss 2.4850, val loss 2.4978\n",
      "step 30500: train loss 2.4846, val loss 2.4968\n",
      "step 31000: train loss 2.4829, val loss 2.4965\n",
      "step 31500: train loss 2.4804, val loss 2.4951\n",
      "step 32000: train loss 2.4807, val loss 2.4953\n",
      "step 32500: train loss 2.4801, val loss 2.4931\n",
      "step 33000: train loss 2.4790, val loss 2.4939\n",
      "step 33500: train loss 2.4778, val loss 2.4908\n",
      "step 34000: train loss 2.4754, val loss 2.4897\n",
      "step 34500: train loss 2.4749, val loss 2.4881\n",
      "step 35000: train loss 2.4740, val loss 2.4882\n",
      "step 35500: train loss 2.4738, val loss 2.4866\n",
      "step 36000: train loss 2.4732, val loss 2.4892\n",
      "step 36500: train loss 2.4689, val loss 2.4865\n",
      "step 37000: train loss 2.4707, val loss 2.4850\n",
      "step 37500: train loss 2.4686, val loss 2.4876\n",
      "step 38000: train loss 2.4661, val loss 2.4851\n",
      "step 38500: train loss 2.4699, val loss 2.4852\n",
      "step 39000: train loss 2.4670, val loss 2.4873\n",
      "step 39500: train loss 2.4640, val loss 2.4795\n",
      "step 40000: train loss 2.4644, val loss 2.4787\n",
      "step 40500: train loss 2.4635, val loss 2.4805\n",
      "step 41000: train loss 2.4594, val loss 2.4748\n",
      "step 41500: train loss 2.4611, val loss 2.4770\n",
      "step 42000: train loss 2.4558, val loss 2.4764\n",
      "step 42500: train loss 2.4550, val loss 2.4740\n",
      "step 43000: train loss 2.4545, val loss 2.4710\n",
      "step 43500: train loss 2.4512, val loss 2.4683\n",
      "step 44000: train loss 2.4535, val loss 2.4727\n",
      "step 44500: train loss 2.4490, val loss 2.4659\n",
      "step 45000: train loss 2.4475, val loss 2.4637\n",
      "step 45500: train loss 2.4480, val loss 2.4649\n",
      "step 46000: train loss 2.4440, val loss 2.4634\n",
      "step 46500: train loss 2.4426, val loss 2.4632\n",
      "step 47000: train loss 2.4412, val loss 2.4592\n",
      "step 47500: train loss 2.4396, val loss 2.4596\n",
      "step 48000: train loss 2.4367, val loss 2.4542\n",
      "step 48500: train loss 2.4360, val loss 2.4545\n",
      "step 49000: train loss 2.4337, val loss 2.4574\n",
      "step 49500: train loss 2.4332, val loss 2.4503\n",
      "step 50000: train loss 2.4304, val loss 2.4487\n",
      "step 50500: train loss 2.4259, val loss 2.4462\n",
      "step 51000: train loss 2.4265, val loss 2.4439\n",
      "step 51500: train loss 2.4275, val loss 2.4439\n",
      "step 52000: train loss 2.4208, val loss 2.4403\n",
      "step 52500: train loss 2.4233, val loss 2.4377\n",
      "step 53000: train loss 2.4177, val loss 2.4385\n",
      "step 53500: train loss 2.4150, val loss 2.4351\n",
      "step 54000: train loss 2.4127, val loss 2.4310\n",
      "step 54500: train loss 2.4103, val loss 2.4283\n",
      "step 55000: train loss 2.4106, val loss 2.4320\n",
      "step 55500: train loss 2.4064, val loss 2.4277\n",
      "step 56000: train loss 2.4057, val loss 2.4276\n",
      "step 56500: train loss 2.4026, val loss 2.4257\n",
      "step 57000: train loss 2.3987, val loss 2.4165\n",
      "step 57500: train loss 2.3956, val loss 2.4132\n",
      "step 58000: train loss 2.3940, val loss 2.4120\n",
      "step 58500: train loss 2.3972, val loss 2.4100\n",
      "step 59000: train loss 2.4009, val loss 2.4183\n",
      "step 59500: train loss 2.4001, val loss 2.4169\n",
      "step 60000: train loss 2.3889, val loss 2.4044\n",
      "step 60500: train loss 2.3850, val loss 2.4034\n",
      "step 61000: train loss 2.3824, val loss 2.4027\n",
      "step 61500: train loss 2.3800, val loss 2.3973\n"
     ]
    }
   ],
   "source": [
    "batch_size = 128\n",
    "block_size = 256\n",
    "max_iters = 100_000\n",
    "eval_interval = 500\n",
    "learning_rate = 3e-4\n",
    "device = 'cuda' if torch.cuda.is_available() else 'cpu'\n",
    "eval_iters = 200\n",
    "n_embd = 384\n",
    "n_head = 6\n",
    "n_layer = 6\n",
    "dropout = 0.2\n",
    "\n",
    "model = TransformerNLP(n_layer, n_embd, n_head, vocab_size, dropout, vocab_size, block_size)\n",
    "model = model.to(device)\n",
    "\n",
    "optimizer = torch.optim.AdamW(model.parameters(), lr=learning_rate)\n",
    "\n",
    "iter_loss = []\n",
    "for i in range(max_iters):\n",
    "    if i % eval_interval == 0 or i == max_iters - 1:\n",
    "        with torch.no_grad():\n",
    "            out = {}\n",
    "            model.eval()\n",
    "            for split in ['train', 'val']:\n",
    "                losses = torch.zeros(eval_iters)\n",
    "                for k in range(eval_iters):\n",
    "                    x, y = get_batch(split, block_size, device)\n",
    "                    pred = model(x)\n",
    "                    loss = model.loss(pred, y)\n",
    "                    losses[k] = loss.item()\n",
    "                out[split] = losses.mean()\n",
    "            print(f\"step {i}: train loss {out['train'].item():.4f}, val loss {out['val'].item():.4f}\")\n",
    "            iter_loss.append((out['train'].item(), out['val'].item()))\n",
    "            model.train()\n",
    "        x, y = get_batch('train', block_size, device)\n",
    "        \n",
    "        pred = model(x)\n",
    "        loss = model.loss(pred, y)\n",
    "        \n",
    "        optimizer.zero_grad(set_to_none=True)\n",
    "        loss.backward()\n",
    "        optimizer.step()"
   ]
  },
  {
   "cell_type": "code",
   "execution_count": null,
   "id": "6de557b5",
   "metadata": {},
   "outputs": [],
   "source": [
    "iter_loss_np = np.array(iter_loss)\n",
    "plt.plot(iter_loss_np[:, 0], label='train')\n",
    "plt.plot(iter_loss_np[:, 1], label='valid')\n",
    "plt.legend()\n",
    "plt.show()"
   ]
  },
  {
   "cell_type": "code",
   "execution_count": null,
   "id": "39302c4f",
   "metadata": {},
   "outputs": [],
   "source": [
    "context = torch.zeros((1, 1), dtype=torch.long, device=device)\n",
    "print(''.join(decode(model.generate(context, 500, block_size)[0].tolist())))"
   ]
  },
  {
   "cell_type": "code",
   "execution_count": null,
   "id": "decf6719",
   "metadata": {},
   "outputs": [],
   "source": [
    "torch.save(model.state_dict(), pathlib.Path('~/GLO-4030/datasets/transformer_nlp.pth').expanduser())"
   ]
  },
  {
   "cell_type": "markdown",
   "id": "6b3dde41",
   "metadata": {},
   "source": [
    "## Partie 6: Vision Transformer"
   ]
  },
  {
   "cell_type": "code",
   "execution_count": null,
   "id": "900c1212",
   "metadata": {},
   "outputs": [],
   "source": [
    "mnist, mnist_test = ddatasets.load_mnist()\n",
    "mnist.transform = T.ToTensor()\n",
    "mnist_test.transform = T.ToTensor()\n",
    "\n",
    "cifar, cifar_test = ddatasets.load_cifar10()\n",
    "cifar.transform = T.ToTensor()\n",
    "cifar_test.transform = T.ToTensor()"
   ]
  },
  {
   "cell_type": "code",
   "execution_count": null,
   "id": "19cd8433",
   "metadata": {},
   "outputs": [],
   "source": [
    "class ViT(nn.Module):\n",
    "    def __init__(self, image_size: int, patch_size:int, num_classes: int, num_layers: int, dim_model: int, num_heads: int, dropout: float):\n",
    "        super().__init__()\n",
    "        assert image_size % patch_size == 0\n",
    "        num_patches = (image_size // patch_size) ** 2\n",
    "        patch_dim = patch_size ** 2\n",
    "        self.patch_size = patch_size\n",
    "        \n",
    "        self.proj = nn.Sequential(nn.Linear(patch_dim, dim_model))\n",
    "        self.cls = nn.Parameter(torch.randn((1, 1, dim_model)))\n",
    "        self.trans_enc = TransformerEncoder(num_layers, dim_model, num_heads, num_classes, dropout)\n",
    "        \n",
    "    def forward(self, x):\n",
    "        batch_size = x.shape[0]\n",
    "        size = 8\n",
    "        stride = 1\n",
    "        # x = ein.rearrange(x, 'b c (h p1) (w p2) -> b (h w) (p1 p2 c)', p1=p, p2=p)\n",
    "        \n",
    "        x = x.unfold(3, size, stride).unfold(2, size, stride) \\\n",
    "            .flatten(-2, -1).flatten(-3, -2) \\\n",
    "            .transpose(-2, -1).flatten(1, 2) \\\n",
    "            .transpose(-2, -1)\n",
    "\n",
    "        x = self.proj(x)\n",
    "        cls = self.cls.expand(img.shape[0], -1, -1)\n",
    "        x = torch.cat([cls, x], dim=1)\n",
    "        x = self.trans_enc(x)\n",
    "        x = self.fc(x[:, 0])\n",
    "        return x\n"
   ]
  },
  {
   "cell_type": "code",
   "execution_count": null,
   "id": "0b6b91a7",
   "metadata": {},
   "outputs": [],
   "source": [
    "input_size = 1\n",
    "num_layers = 2\n",
    "hidden_size = 20\n",
    "n_epoch = 20\n",
    "batch_size = 256\n",
    "lr = 1e-4\n",
    "\n",
    "net = ViT(5, 265, 4, 512, 0.1)  # 1024 = 256 * 4\n",
    "optimizer = torch.optim.AdamW(net.parameters(), lr=lr)\n",
    "criterion = nn.CrossEntropyLoss()\n",
    "\n",
    "history = dtrain.train(net, optimizer, cifar, n_epoch, batch_size, use_gpu=True, criterion=criterion, acc=True)\n",
    "history.display_loss()\n",
    "print(\"Précision en test {:.4f}\".format(dtrain.test(net, cifar_test, batch_size, criterion=criterion, acc=True)))"
   ]
  },
  {
   "cell_type": "markdown",
   "id": "3c004c79",
   "metadata": {},
   "source": [
    "## Extra"
   ]
  },
  {
   "cell_type": "markdown",
   "id": "bbed5e31",
   "metadata": {},
   "source": [
    "### Attention comme passage de messages\n",
    "- L'attention peut être interprété comme du passage de message sur un graphe.\n",
    "- Chaque noeud $i$ dans le graphe à $q_i$, $k_i$ et $v_i$.\n",
    "- Grâce à $k_i$, chaque noeud \"diffuse\" ce qu'il connait\n",
    "- Grâce à $q_i$, chaque noeud demande aux autres noeuds de l'information\n",
    "- Selon ce que l'affinité entre les $q_i$ et les $k_i$, chaque noeud aggrège l'information $v_i$ de ces voisins\n",
    "- Champ réceptif large, chaque noeud à accès aux autres noeuds en une seule opération.\n",
    "\n",
    "<div>\n",
    "<img src=\"docs/simplex_graph.png\" width=\"500\"/>\n",
    "</div>\n",
    "\n",
    "- Cette interprétation est cohérente avec la notion que les transformers sont des fonctions d'ensemble vers ensemble, la position des noeuds n'a pas d'importance, on doit encoder l'information sur la position autrement."
   ]
  },
  {
   "cell_type": "markdown",
   "id": "a37ea5a8",
   "metadata": {},
   "source": [
    "### TransformerDecoder"
   ]
  },
  {
   "cell_type": "markdown",
   "id": "9b42cde4",
   "metadata": {},
   "source": [
    "### Self-attention vs Cross-attention"
   ]
  }
 ],
 "metadata": {
  "kernelspec": {
   "display_name": "Python 3 (ipykernel)",
   "language": "python",
   "name": "python3"
  },
  "language_info": {
   "codemirror_mode": {
    "name": "ipython",
    "version": 3
   },
   "file_extension": ".py",
   "mimetype": "text/x-python",
   "name": "python",
   "nbconvert_exporter": "python",
   "pygments_lexer": "ipython3",
   "version": "3.9.16"
  }
 },
 "nbformat": 4,
 "nbformat_minor": 5
}
