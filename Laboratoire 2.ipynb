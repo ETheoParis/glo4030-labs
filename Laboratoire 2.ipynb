{
 "cells": [
  {
   "cell_type": "markdown",
   "metadata": {},
   "source": [
    "### Rappel Google Colab\n",
    "\n",
    "Tout d'abord, sélectionnez l'option GPU de Colab avec *Edit > Notebook settings* et sélectionner GPU comme Hardware accelerator. \n",
    "Installer ensuite deeplib avec la commande suivante:"
   ]
  },
  {
   "cell_type": "code",
   "execution_count": null,
   "metadata": {},
   "outputs": [],
   "source": [
    "!pip install git+https://github.com/ulaval-damas/glo4030-labs.git"
   ]
  },
  {
   "cell_type": "markdown",
   "metadata": {},
   "source": [
    "# Laboratoire 2: Graphe computationnel, backprop et fonctions d'activation"
   ]
  },
  {
   "cell_type": "code",
   "execution_count": 1,
   "metadata": {},
   "outputs": [],
   "source": [
    "%load_ext autoreload\n",
    "%autoreload 2\n",
    "%matplotlib inline\n",
    "\n",
    "import math\n",
    "import numpy as np\n",
    "import matplotlib\n",
    "import matplotlib.pyplot as plt\n",
    "\n",
    "import torch\n",
    "import torch.nn as nn\n",
    "import torch.nn.functional as F\n",
    "from deeplib.visualization import make_vizualization_autograd"
   ]
  },
  {
   "cell_type": "markdown",
   "metadata": {},
   "source": [
    "###  Partie 1: Graphe computationnel et backprop\n",
    "Cette section a pour but de vous familiariser avec les notions de graphe computationnel et de backpropagation, plus particulièrement leur implémentation PyTorch. Dans le dernier laboratoire, vous avez vu une version haut-niveau de l'entraînement de réseaux de neurones. À l'inverse, ce laboratoire a pour but de vous donner une intuition du fonctionnement interne de PyTorch.\n",
    "#### Tenseurs\n",
    "La structure de données de base dans PyTorch est le `Tensor`. Cette structure de données est comparable au `ndarray` numpy, avec l'avantage que les calculs matriciels peuvent être effectués sur GPU. Le package `torch.Tensor` définit des matrices multidimensionnelles et les opérations sur celles-ci. Voici quelques exemples: "
   ]
  },
  {
   "cell_type": "markdown",
   "metadata": {},
   "source": [
    "On peut créer un nouveau `Tensor` de dimension $3 \\times 3$ sans initialisation avec `torch.Tensor()` ou `torch.empty()`. Cependant, les valeurs déjà présentes dans la mémoire allouée sont utilisées comme valeurs initiales et peuvent donc contenir des NaN."
   ]
  },
  {
   "cell_type": "code",
   "execution_count": 2,
   "metadata": {},
   "outputs": [
    {
     "name": "stdout",
     "output_type": "stream",
     "text": [
      "tensor([[ 3.5905e+27,  2.2206e-12, -2.8706e-31],\n",
      "        [ 4.5684e-41, -6.2090e-38,  4.5684e-41],\n",
      "        [ 4.8328e-20,  3.8143e-07, -6.2323e-38]])\n",
      "tensor([[ 4.3489e+36,  3.0802e-41, -2.8706e-31],\n",
      "        [ 4.5684e-41, -6.2090e-38,  4.5684e-41],\n",
      "        [ 4.8328e-20,  3.8143e-07,  1.3452e-43]])\n"
     ]
    }
   ],
   "source": [
    "print(torch.Tensor(3, 3))\n",
    "print(torch.empty(3, 3))"
   ]
  },
  {
   "cell_type": "markdown",
   "metadata": {},
   "source": [
    "Il est possible d'initialiser un `Tensor` avec des valeurs plus utiles, comme par exemple avec des valeurs de 0 ou 1, ou encore pour obtenir une matrice identité."
   ]
  },
  {
   "cell_type": "code",
   "execution_count": 3,
   "metadata": {},
   "outputs": [
    {
     "name": "stdout",
     "output_type": "stream",
     "text": [
      "tensor([[0., 0., 0.],\n",
      "        [0., 0., 0.],\n",
      "        [0., 0., 0.]])\n",
      "tensor([[1., 1., 1.],\n",
      "        [1., 1., 1.],\n",
      "        [1., 1., 1.]])\n",
      "tensor([[1., 0., 0.],\n",
      "        [0., 1., 0.],\n",
      "        [0., 0., 1.]])\n"
     ]
    }
   ],
   "source": [
    "print(torch.zeros(3, 3))\n",
    "print(torch.ones(3, 3))\n",
    "print(torch.eye(3))"
   ]
  },
  {
   "cell_type": "markdown",
   "metadata": {},
   "source": [
    "On peut également créer un `Tensor` à partir de données existantes fournies explicitement ou à partir de structures de `numpy`. "
   ]
  },
  {
   "cell_type": "code",
   "execution_count": 4,
   "metadata": {},
   "outputs": [
    {
     "name": "stdout",
     "output_type": "stream",
     "text": [
      "tensor([1, 2, 3])\n",
      "[0.1  0.25 0.5 ] <class 'numpy.ndarray'>\n",
      "tensor([0.1000, 0.2500, 0.5000], dtype=torch.float64) <class 'torch.Tensor'>\n",
      "[0.1  0.25 0.5 ] <class 'numpy.ndarray'>\n"
     ]
    }
   ],
   "source": [
    "print(torch.tensor([1, 2, 3]))\n",
    "a = np.array([0.1, 0.25, 0.5])\n",
    "print(a, type(a))\n",
    "a = torch.from_numpy(a)\n",
    "print(a, type(a))\n",
    "a = a.numpy()\n",
    "print(a, type(a))"
   ]
  },
  {
   "cell_type": "markdown",
   "metadata": {},
   "source": [
    "Il est souvent nécessaire d'initialiser un `Tensor` avec des valeurs aléatoires, comme par exemple selon une normale centrée à 0 et de variance 1."
   ]
  },
  {
   "cell_type": "code",
   "execution_count": 5,
   "metadata": {},
   "outputs": [
    {
     "name": "stdout",
     "output_type": "stream",
     "text": [
      "tensor([[ 1.3788,  0.0753, -0.5819],\n",
      "        [-0.6865,  1.2072,  2.0308],\n",
      "        [ 0.6824,  0.1625, -0.1354]])\n",
      "tensor(0.4592)\n",
      "tensor(0.8638)\n"
     ]
    }
   ],
   "source": [
    "a = torch.randn(3, 3)\n",
    "print(a)\n",
    "print(torch.mean(a))\n",
    "print(torch.var(a))"
   ]
  },
  {
   "cell_type": "markdown",
   "metadata": {},
   "source": [
    "On peut également d'initialiser les valeurs d'un `Tensor` déjà existant avec des fonctions comme `normal_()` et `fill_()`. À noter, une méthode se terminant par un underscore signifie que cette méthode fait une mutation du `Tensor`."
   ]
  },
  {
   "cell_type": "code",
   "execution_count": 6,
   "metadata": {},
   "outputs": [
    {
     "name": "stdout",
     "output_type": "stream",
     "text": [
      "tensor([[ 1.4427e-18,  3.0795e-41,  3.9236e-44],\n",
      "        [ 3.0795e-41, -1.3623e-04,  4.5684e-41],\n",
      "        [ 2.8026e-45,  3.0795e-41,  2.8026e-45]])\n",
      "tensor([[1.1956e-19],\n",
      "        [3.0795e-41],\n",
      "        [1.1953e-19]])\n",
      "tensor([[-0.5316,  1.0414, -1.5741],\n",
      "        [ 0.5160,  0.3294,  0.2475],\n",
      "        [ 0.1145,  0.1458, -0.0727]])\n",
      "tensor([[1.],\n",
      "        [1.],\n",
      "        [1.]])\n"
     ]
    }
   ],
   "source": [
    "a, b = torch.empty(3, 3), torch.empty(3, 1)\n",
    "print(a)\n",
    "print(b)\n",
    "a.normal_()\n",
    "b.fill_(1)\n",
    "print(a)\n",
    "print(b)"
   ]
  },
  {
   "cell_type": "markdown",
   "metadata": {},
   "source": [
    "Les opérations matricielles s'effectuent naturellement sur les `Tensor`."
   ]
  },
  {
   "cell_type": "code",
   "execution_count": 7,
   "metadata": {},
   "outputs": [
    {
     "name": "stdout",
     "output_type": "stream",
     "text": [
      "tensor([[-1.0643],\n",
      "        [ 1.0929],\n",
      "        [ 0.1876]])\n",
      "tensor([[-1.0643],\n",
      "        [ 1.0929],\n",
      "        [ 0.1876]])\n"
     ]
    }
   ],
   "source": [
    "print(a.matmul(b))\n",
    "print(torch.matmul(a, b))"
   ]
  },
  {
   "cell_type": "markdown",
   "metadata": {},
   "source": [
    "On peut facilement transférer un `Tensor` sur GPU. Les opérations sur ces `Tensor` seront alors exécutées sur GPU."
   ]
  },
  {
   "cell_type": "code",
   "execution_count": 8,
   "metadata": {
    "collapsed": true
   },
   "outputs": [
    {
     "ename": "AssertionError",
     "evalue": "Torch not compiled with CUDA enabled",
     "output_type": "error",
     "traceback": [
      "\u001b[0;31m---------------------------------------------------------------------------\u001b[0m",
      "\u001b[0;31mAssertionError\u001b[0m                            Traceback (most recent call last)",
      "\u001b[0;32m<ipython-input-8-c958a8805d54>\u001b[0m in \u001b[0;36m<module>\u001b[0;34m\u001b[0m\n\u001b[0;32m----> 1\u001b[0;31m \u001b[0ma_gpu\u001b[0m \u001b[0;34m=\u001b[0m \u001b[0ma\u001b[0m\u001b[0;34m.\u001b[0m\u001b[0mcuda\u001b[0m\u001b[0;34m(\u001b[0m\u001b[0;34m)\u001b[0m\u001b[0;34m\u001b[0m\u001b[0;34m\u001b[0m\u001b[0m\n\u001b[0m\u001b[1;32m      2\u001b[0m \u001b[0mb_gpu\u001b[0m \u001b[0;34m=\u001b[0m \u001b[0mb\u001b[0m\u001b[0;34m.\u001b[0m\u001b[0mcuda\u001b[0m\u001b[0;34m(\u001b[0m\u001b[0;34m)\u001b[0m\u001b[0;34m\u001b[0m\u001b[0;34m\u001b[0m\u001b[0m\n\u001b[1;32m      3\u001b[0m \u001b[0mprint\u001b[0m\u001b[0;34m(\u001b[0m\u001b[0ma_gpu\u001b[0m\u001b[0;34m.\u001b[0m\u001b[0mmatmul\u001b[0m\u001b[0;34m(\u001b[0m\u001b[0mb_gpu\u001b[0m\u001b[0;34m)\u001b[0m\u001b[0;34m)\u001b[0m\u001b[0;34m\u001b[0m\u001b[0;34m\u001b[0m\u001b[0m\n\u001b[1;32m      4\u001b[0m \u001b[0mprint\u001b[0m\u001b[0;34m(\u001b[0m\u001b[0ma_gpu\u001b[0m\u001b[0;34m.\u001b[0m\u001b[0mmatmul\u001b[0m\u001b[0;34m(\u001b[0m\u001b[0mb_gpu\u001b[0m\u001b[0;34m)\u001b[0m\u001b[0;34m.\u001b[0m\u001b[0mcpu\u001b[0m\u001b[0;34m(\u001b[0m\u001b[0;34m)\u001b[0m\u001b[0;34m)\u001b[0m\u001b[0;34m\u001b[0m\u001b[0;34m\u001b[0m\u001b[0m\n",
      "\u001b[0;32m~/dev/lib/anaconda3/lib/python3.6/site-packages/torch/cuda/__init__.py\u001b[0m in \u001b[0;36m_lazy_init\u001b[0;34m()\u001b[0m\n\u001b[1;32m    184\u001b[0m             raise RuntimeError(\n\u001b[1;32m    185\u001b[0m                 \"Cannot re-initialize CUDA in forked subprocess. \" + msg)\n\u001b[0;32m--> 186\u001b[0;31m         \u001b[0m_check_driver\u001b[0m\u001b[0;34m(\u001b[0m\u001b[0;34m)\u001b[0m\u001b[0;34m\u001b[0m\u001b[0;34m\u001b[0m\u001b[0m\n\u001b[0m\u001b[1;32m    187\u001b[0m         \u001b[0;32mif\u001b[0m \u001b[0m_cudart\u001b[0m \u001b[0;32mis\u001b[0m \u001b[0;32mNone\u001b[0m\u001b[0;34m:\u001b[0m\u001b[0;34m\u001b[0m\u001b[0;34m\u001b[0m\u001b[0m\n\u001b[1;32m    188\u001b[0m             raise AssertionError(\n",
      "\u001b[0;32m~/dev/lib/anaconda3/lib/python3.6/site-packages/torch/cuda/__init__.py\u001b[0m in \u001b[0;36m_check_driver\u001b[0;34m()\u001b[0m\n\u001b[1;32m     59\u001b[0m \u001b[0;32mdef\u001b[0m \u001b[0m_check_driver\u001b[0m\u001b[0;34m(\u001b[0m\u001b[0;34m)\u001b[0m\u001b[0;34m:\u001b[0m\u001b[0;34m\u001b[0m\u001b[0;34m\u001b[0m\u001b[0m\n\u001b[1;32m     60\u001b[0m     \u001b[0;32mif\u001b[0m \u001b[0;32mnot\u001b[0m \u001b[0mhasattr\u001b[0m\u001b[0;34m(\u001b[0m\u001b[0mtorch\u001b[0m\u001b[0;34m.\u001b[0m\u001b[0m_C\u001b[0m\u001b[0;34m,\u001b[0m \u001b[0;34m'_cuda_isDriverSufficient'\u001b[0m\u001b[0;34m)\u001b[0m\u001b[0;34m:\u001b[0m\u001b[0;34m\u001b[0m\u001b[0;34m\u001b[0m\u001b[0m\n\u001b[0;32m---> 61\u001b[0;31m         \u001b[0;32mraise\u001b[0m \u001b[0mAssertionError\u001b[0m\u001b[0;34m(\u001b[0m\u001b[0;34m\"Torch not compiled with CUDA enabled\"\u001b[0m\u001b[0;34m)\u001b[0m\u001b[0;34m\u001b[0m\u001b[0;34m\u001b[0m\u001b[0m\n\u001b[0m\u001b[1;32m     62\u001b[0m     \u001b[0;32mif\u001b[0m \u001b[0;32mnot\u001b[0m \u001b[0mtorch\u001b[0m\u001b[0;34m.\u001b[0m\u001b[0m_C\u001b[0m\u001b[0;34m.\u001b[0m\u001b[0m_cuda_isDriverSufficient\u001b[0m\u001b[0;34m(\u001b[0m\u001b[0;34m)\u001b[0m\u001b[0;34m:\u001b[0m\u001b[0;34m\u001b[0m\u001b[0;34m\u001b[0m\u001b[0m\n\u001b[1;32m     63\u001b[0m         \u001b[0;32mif\u001b[0m \u001b[0mtorch\u001b[0m\u001b[0;34m.\u001b[0m\u001b[0m_C\u001b[0m\u001b[0;34m.\u001b[0m\u001b[0m_cuda_getDriverVersion\u001b[0m\u001b[0;34m(\u001b[0m\u001b[0;34m)\u001b[0m \u001b[0;34m==\u001b[0m \u001b[0;36m0\u001b[0m\u001b[0;34m:\u001b[0m\u001b[0;34m\u001b[0m\u001b[0;34m\u001b[0m\u001b[0m\n",
      "\u001b[0;31mAssertionError\u001b[0m: Torch not compiled with CUDA enabled"
     ]
    }
   ],
   "source": [
    "a_gpu = a.cuda()\n",
    "b_gpu = b.cuda()\n",
    "print(a_gpu.matmul(b_gpu))\n",
    "print(a_gpu.matmul(b_gpu).cpu())"
   ]
  },
  {
   "cell_type": "code",
   "execution_count": null,
   "metadata": {},
   "outputs": [],
   "source": [
    "#TODO corrigez cette opération pour multiplier `a` avec `c_gpu` sur cpu\n",
    "c_gpu = a_gpu.matmul(b_gpu)\n",
    "print(a.matmul(c_gpu.cpu()))"
   ]
  },
  {
   "cell_type": "markdown",
   "metadata": {},
   "source": [
    "#### Gradient et Backpropagation\n",
    "\n",
    "Grâce au package `torch.autograd`, il est possible d'automatiquement calculer la dérivée de fonctions calculées à partir d'opérations sur les tenseurs. PyTorch construit dynamiquement un graphe de calcul indiquant les liens de dépendance entre les tenseurs et les opérations, ce qui permet la backpropagation.\n",
    "\n",
    "> **NOTE** Contrairement à des librairies comme Tensorflow où le graphe de calcul est statique, PyTorch recrée dynamique le graphe de calcul à chaque itération. Cela permet de modifier la structure du graphe dynamiquement avec du code Python. Par contre, cela rend la visualisation du graphe plus difficile. \n",
    "\n",
    "\n",
    "On indique les tenseurs qu'on veut dériver avec `requires_grad=True` (par défaut à False) lors de l'initialisation,"
   ]
  },
  {
   "cell_type": "code",
   "execution_count": 8,
   "metadata": {},
   "outputs": [],
   "source": [
    "x = torch.tensor(3., requires_grad=True)"
   ]
  },
  {
   "cell_type": "markdown",
   "metadata": {},
   "source": [
    "ou encore en modifiant l'attribut `requires_grad` d'un `Tensor` existant."
   ]
  },
  {
   "cell_type": "code",
   "execution_count": 9,
   "metadata": {},
   "outputs": [
    {
     "name": "stdout",
     "output_type": "stream",
     "text": [
      "tensor(3.)\n",
      "tensor(3., requires_grad=True)\n"
     ]
    }
   ],
   "source": [
    "x.requires_grad = False\n",
    "print(x)\n",
    "x.requires_grad = True\n",
    "print(x)"
   ]
  },
  {
   "cell_type": "markdown",
   "metadata": {},
   "source": [
    "Le graphe de calcul est alors bâti au fur et à mesure que des opérations mathématiques sont appliquées aux tenseurs."
   ]
  },
  {
   "cell_type": "code",
   "execution_count": 10,
   "metadata": {},
   "outputs": [],
   "source": [
    "f = x ** 2"
   ]
  },
  {
   "cell_type": "markdown",
   "metadata": {},
   "source": [
    "Chaque `Tensor` résultant d'une opération comporte un attribut `grad_fn` qui réfère à la `Fonction` (opération) qui l'a créé. Dans notre exemple nous avons utilisé une fonction puissance, par conséquent `grad_fn` de $f$ réfère à `PowBackward` correspondant à la fonction à utiliser pour la backprop (`Backward`) associée à la fonction puissance (`Pow` pour Power)."
   ]
  },
  {
   "cell_type": "code",
   "execution_count": 11,
   "metadata": {},
   "outputs": [
    {
     "data": {
      "text/plain": [
       "tensor(9., grad_fn=<PowBackward0>)"
      ]
     },
     "execution_count": 11,
     "metadata": {},
     "output_type": "execute_result"
    }
   ],
   "source": [
    "f"
   ]
  },
  {
   "cell_type": "markdown",
   "metadata": {},
   "source": [
    "On obtient un graphe acyclique qui encode l'historique de calcul comportant les `Tensor` avec `requires_grad=True` et les `Fonction` appliqués sur ceux-ci. En utilisant la fonction `make_vizualization_autograd` de deeplib, on peut visualiser ce graphe où les `Fonction` sont représentées par un rectangle gris avec la valeur de `grad_fn` et les `Tensor` aillant `requires_grad=True` par un rectangle bleu comportant l'identifiant *Var* ainsi que leur attribut `size`. Dans cet exemple, le rectangle bleu réfère au `Tensor` $x$."
   ]
  },
  {
   "cell_type": "code",
   "execution_count": 12,
   "metadata": {},
   "outputs": [
    {
     "data": {
      "image/svg+xml": [
       "<?xml version=\"1.0\" encoding=\"UTF-8\" standalone=\"no\"?>\n",
       "<!DOCTYPE svg PUBLIC \"-//W3C//DTD SVG 1.1//EN\"\n",
       " \"http://www.w3.org/Graphics/SVG/1.1/DTD/svg11.dtd\">\n",
       "<!-- Generated by graphviz version 2.40.1 (20161225.0304)\n",
       " -->\n",
       "<!-- Title: %3 Pages: 1 -->\n",
       "<svg width=\"120pt\" height=\"99pt\"\n",
       " viewBox=\"0.00 0.00 120.00 99.00\" xmlns=\"http://www.w3.org/2000/svg\" xmlns:xlink=\"http://www.w3.org/1999/xlink\">\n",
       "<g id=\"graph0\" class=\"graph\" transform=\"scale(1 1) rotate(0) translate(4 95)\">\n",
       "<title>%3</title>\n",
       "<polygon fill=\"#ffffff\" stroke=\"transparent\" points=\"-4,4 -4,-95 116,-95 116,4 -4,4\"/>\n",
       "<!-- 140022405683072 -->\n",
       "<g id=\"node1\" class=\"node\">\n",
       "<title>140022405683072</title>\n",
       "<polygon fill=\"#d3d3d3\" stroke=\"#000000\" points=\"112,-91 0,-91 0,-70 112,-70 112,-91\"/>\n",
       "<text text-anchor=\"middle\" x=\"56\" y=\"-77.4\" font-family=\"Times,serif\" font-size=\"12.00\" fill=\"#000000\">PowBackward0</text>\n",
       "</g>\n",
       "<!-- 140022405683016 -->\n",
       "<g id=\"node2\" class=\"node\">\n",
       "<title>140022405683016</title>\n",
       "<polygon fill=\"#add8e6\" stroke=\"#000000\" points=\"83,-34 29,-34 29,0 83,0 83,-34\"/>\n",
       "<text text-anchor=\"middle\" x=\"56\" y=\"-20.4\" font-family=\"Times,serif\" font-size=\"12.00\" fill=\"#000000\">Var</text>\n",
       "<text text-anchor=\"middle\" x=\"56\" y=\"-7.4\" font-family=\"Times,serif\" font-size=\"12.00\" fill=\"#000000\"> ()</text>\n",
       "</g>\n",
       "<!-- 140022405683072&#45;&gt;140022405683016 -->\n",
       "<g id=\"edge1\" class=\"edge\">\n",
       "<title>140022405683072&#45;&gt;140022405683016</title>\n",
       "<path fill=\"none\" stroke=\"#000000\" d=\"M56,-69.7281C56,-62.7087 56,-53.2132 56,-44.2141\"/>\n",
       "<polygon fill=\"#000000\" stroke=\"#000000\" points=\"59.5001,-44.0559 56,-34.056 52.5001,-44.056 59.5001,-44.0559\"/>\n",
       "</g>\n",
       "</g>\n",
       "</svg>\n"
      ],
      "text/plain": [
       "<graphviz.dot.Digraph at 0x7f5981c05940>"
      ]
     },
     "execution_count": 12,
     "metadata": {},
     "output_type": "execute_result"
    }
   ],
   "source": [
    "make_vizualization_autograd(f)"
   ]
  },
  {
   "cell_type": "markdown",
   "metadata": {},
   "source": [
    "À la fin des calculs, on appelle la fonction `backward()` qui parcourt le graphe de calcul en sens inverse et calcule le gradient de la fonction $f$ selon chacune des variables du graphe"
   ]
  },
  {
   "cell_type": "code",
   "execution_count": 13,
   "metadata": {},
   "outputs": [],
   "source": [
    "f.backward()"
   ]
  },
  {
   "cell_type": "markdown",
   "metadata": {},
   "source": [
    "Après avoir exécuté la fonction backward(), l'attribut grad des tenseurs impliqués dans le calcul contient la valeur du gradient calculé au point courant. Ici, on aura la valeur :\n",
    "$$\\left[\\frac{\\partial f(x)}{\\partial x}\\right]_{x=3} = \\left[\\frac{\\partial x^2}{\\partial x}\\right]_{x=3} =\\big[\\,2\\,x\\,\\big]_{x=3} = 6$$"
   ]
  },
  {
   "cell_type": "code",
   "execution_count": 14,
   "metadata": {},
   "outputs": [
    {
     "data": {
      "text/plain": [
       "tensor(6.)"
      ]
     },
     "execution_count": 14,
     "metadata": {},
     "output_type": "execute_result"
    }
   ],
   "source": [
    "x.grad"
   ]
  },
  {
   "cell_type": "markdown",
   "metadata": {},
   "source": [
    "À noter, les opérations in-place, c'est-à-dire les opérations qui font une mutation directe d'un ```Tensor``` (et qui se terminent par un underscore), ne sont pas disponibles lorsque ```requires_grad``` est égal à ```True```."
   ]
  },
  {
   "cell_type": "code",
   "execution_count": 15,
   "metadata": {},
   "outputs": [
    {
     "ename": "RuntimeError",
     "evalue": "a leaf Variable that requires grad is being used in an in-place operation.",
     "output_type": "error",
     "traceback": [
      "\u001b[0;31m---------------------------------------------------------------------------\u001b[0m",
      "\u001b[0;31mRuntimeError\u001b[0m                              Traceback (most recent call last)",
      "\u001b[0;32m<ipython-input-15-d5f0b7d3382b>\u001b[0m in \u001b[0;36m<module>\u001b[0;34m\u001b[0m\n\u001b[0;32m----> 1\u001b[0;31m \u001b[0mx\u001b[0m\u001b[0;34m.\u001b[0m\u001b[0muniform_\u001b[0m\u001b[0;34m(\u001b[0m\u001b[0;34m)\u001b[0m\u001b[0;34m\u001b[0m\u001b[0;34m\u001b[0m\u001b[0m\n\u001b[0m",
      "\u001b[0;31mRuntimeError\u001b[0m: a leaf Variable that requires grad is being used in an in-place operation."
     ]
    }
   ],
   "source": [
    "x.uniform_()"
   ]
  },
  {
   "cell_type": "markdown",
   "metadata": {},
   "source": [
    "Également, on ne peut pas directement convertir un `Tensor` qui a `requires_grad=True` vers `numpy`:"
   ]
  },
  {
   "cell_type": "code",
   "execution_count": 16,
   "metadata": {},
   "outputs": [
    {
     "ename": "RuntimeError",
     "evalue": "Can't call numpy() on Tensor that requires grad. Use tensor.detach().numpy() instead.",
     "output_type": "error",
     "traceback": [
      "\u001b[0;31m---------------------------------------------------------------------------\u001b[0m",
      "\u001b[0;31mRuntimeError\u001b[0m                              Traceback (most recent call last)",
      "\u001b[0;32m<ipython-input-16-2527552080a3>\u001b[0m in \u001b[0;36m<module>\u001b[0;34m\u001b[0m\n\u001b[0;32m----> 1\u001b[0;31m \u001b[0mx\u001b[0m\u001b[0;34m.\u001b[0m\u001b[0mnumpy\u001b[0m\u001b[0;34m(\u001b[0m\u001b[0;34m)\u001b[0m\u001b[0;34m\u001b[0m\u001b[0;34m\u001b[0m\u001b[0m\n\u001b[0m",
      "\u001b[0;31mRuntimeError\u001b[0m: Can't call numpy() on Tensor that requires grad. Use tensor.detach().numpy() instead."
     ]
    }
   ],
   "source": [
    "x.numpy()"
   ]
  },
  {
   "cell_type": "markdown",
   "metadata": {},
   "source": [
    "Il faut d'abord utiliser la fonction `detach()` qui détache sa valeur de l'accumulation de l'historique de calcul."
   ]
  },
  {
   "cell_type": "code",
   "execution_count": 17,
   "metadata": {},
   "outputs": [
    {
     "data": {
      "text/plain": [
       "array(3., dtype=float32)"
      ]
     },
     "execution_count": 17,
     "metadata": {},
     "output_type": "execute_result"
    }
   ],
   "source": [
    "x.detach().numpy()"
   ]
  },
  {
   "cell_type": "markdown",
   "metadata": {},
   "source": [
    "Voyons maintenant un exemple plus complexe en effectuant des opérations sur 3 `Tensor` de dimension $2 \\times 2$: $x$, $y$ et $z$. On met `requires_grad=True` seulement pour $y$ et $z$ et on effectue des opérations résultant dans le `Tensor` $f$."
   ]
  },
  {
   "cell_type": "code",
   "execution_count": 18,
   "metadata": {},
   "outputs": [
    {
     "name": "stdout",
     "output_type": "stream",
     "text": [
      "x:\n",
      " tensor([[-0.8980,  0.8887],\n",
      "        [-0.4140,  0.6615]])\n",
      "y:\n",
      " tensor([[-0.5660,  0.6438],\n",
      "        [-0.2660,  0.4474]], requires_grad=True)\n",
      "z:\n",
      " tensor([[ 0.1566, -0.6478],\n",
      "        [-0.0956,  0.2565]], requires_grad=True)\n",
      "f:\n",
      " tensor([[-1.0355,  0.7042],\n",
      "        [-0.7172,  1.3948]], grad_fn=<AddBackward0>)\n"
     ]
    }
   ],
   "source": [
    "x = torch.Tensor(2, 2).uniform_(-1, 1)\n",
    "x.requires_grad = False\n",
    "print(\"x:\\n\", x)\n",
    "\n",
    "y = torch.Tensor(2, 2).uniform_(-1, 1)\n",
    "y.requires_grad = True\n",
    "print(\"y:\\n\", y)\n",
    "\n",
    "z = torch.Tensor(2, 2).uniform_(-1, 1)\n",
    "z.requires_grad = True\n",
    "print(\"z:\\n\", z)\n",
    "\n",
    "f = torch.matmul(x, y) + x + y + z\n",
    "print(\"f:\\n\", f)"
   ]
  },
  {
   "cell_type": "markdown",
   "metadata": {},
   "source": [
    "Visualisons le graphe de calcul construit par ces opérations:"
   ]
  },
  {
   "cell_type": "code",
   "execution_count": 19,
   "metadata": {},
   "outputs": [
    {
     "data": {
      "image/svg+xml": [
       "<?xml version=\"1.0\" encoding=\"UTF-8\" standalone=\"no\"?>\n",
       "<!DOCTYPE svg PUBLIC \"-//W3C//DTD SVG 1.1//EN\"\n",
       " \"http://www.w3.org/Graphics/SVG/1.1/DTD/svg11.dtd\">\n",
       "<!-- Generated by graphviz version 2.40.1 (20161225.0304)\n",
       " -->\n",
       "<!-- Title: %3 Pages: 1 -->\n",
       "<svg width=\"231pt\" height=\"283pt\"\n",
       " viewBox=\"0.00 0.00 231.00 283.00\" xmlns=\"http://www.w3.org/2000/svg\" xmlns:xlink=\"http://www.w3.org/1999/xlink\">\n",
       "<g id=\"graph0\" class=\"graph\" transform=\"scale(1 1) rotate(0) translate(4 279)\">\n",
       "<title>%3</title>\n",
       "<polygon fill=\"#ffffff\" stroke=\"transparent\" points=\"-4,4 -4,-279 227,-279 227,4 -4,4\"/>\n",
       "<!-- 140022403105624 -->\n",
       "<g id=\"node1\" class=\"node\">\n",
       "<title>140022403105624</title>\n",
       "<polygon fill=\"#d3d3d3\" stroke=\"#000000\" points=\"201,-275 91,-275 91,-254 201,-254 201,-275\"/>\n",
       "<text text-anchor=\"middle\" x=\"146\" y=\"-261.4\" font-family=\"Times,serif\" font-size=\"12.00\" fill=\"#000000\">AddBackward0</text>\n",
       "</g>\n",
       "<!-- 140022403105344 -->\n",
       "<g id=\"node2\" class=\"node\">\n",
       "<title>140022403105344</title>\n",
       "<polygon fill=\"#d3d3d3\" stroke=\"#000000\" points=\"151,-211.5 41,-211.5 41,-190.5 151,-190.5 151,-211.5\"/>\n",
       "<text text-anchor=\"middle\" x=\"96\" y=\"-197.9\" font-family=\"Times,serif\" font-size=\"12.00\" fill=\"#000000\">AddBackward0</text>\n",
       "</g>\n",
       "<!-- 140022403105624&#45;&gt;140022403105344 -->\n",
       "<g id=\"edge1\" class=\"edge\">\n",
       "<title>140022403105624&#45;&gt;140022403105344</title>\n",
       "<path fill=\"none\" stroke=\"#000000\" d=\"M137.5182,-253.7281C130.147,-244.3667 119.3081,-230.6012 110.5532,-219.4826\"/>\n",
       "<polygon fill=\"#000000\" stroke=\"#000000\" points=\"113.2929,-217.3043 104.3566,-211.6128 107.7931,-221.6348 113.2929,-217.3043\"/>\n",
       "</g>\n",
       "<!-- 140022403104896 -->\n",
       "<g id=\"node6\" class=\"node\">\n",
       "<title>140022403104896</title>\n",
       "<polygon fill=\"#add8e6\" stroke=\"#000000\" points=\"223,-218 169,-218 169,-184 223,-184 223,-218\"/>\n",
       "<text text-anchor=\"middle\" x=\"196\" y=\"-204.4\" font-family=\"Times,serif\" font-size=\"12.00\" fill=\"#000000\">Var</text>\n",
       "<text text-anchor=\"middle\" x=\"196\" y=\"-191.4\" font-family=\"Times,serif\" font-size=\"12.00\" fill=\"#000000\"> (2, 2)</text>\n",
       "</g>\n",
       "<!-- 140022403105624&#45;&gt;140022403104896 -->\n",
       "<g id=\"edge6\" class=\"edge\">\n",
       "<title>140022403105624&#45;&gt;140022403104896</title>\n",
       "<path fill=\"none\" stroke=\"#000000\" d=\"M154.4818,-253.7281C160.4294,-246.1746 168.6347,-235.7539 176.1812,-226.1698\"/>\n",
       "<polygon fill=\"#000000\" stroke=\"#000000\" points=\"179.1335,-228.078 182.5701,-218.056 173.6338,-223.7475 179.1335,-228.078\"/>\n",
       "</g>\n",
       "<!-- 140023248975016 -->\n",
       "<g id=\"node3\" class=\"node\">\n",
       "<title>140023248975016</title>\n",
       "<polygon fill=\"#d3d3d3\" stroke=\"#000000\" points=\"110,-148 0,-148 0,-127 110,-127 110,-148\"/>\n",
       "<text text-anchor=\"middle\" x=\"55\" y=\"-134.4\" font-family=\"Times,serif\" font-size=\"12.00\" fill=\"#000000\">AddBackward0</text>\n",
       "</g>\n",
       "<!-- 140022403105344&#45;&gt;140023248975016 -->\n",
       "<g id=\"edge2\" class=\"edge\">\n",
       "<title>140022403105344&#45;&gt;140023248975016</title>\n",
       "<path fill=\"none\" stroke=\"#000000\" d=\"M89.0449,-190.2281C83.1191,-181.0503 74.4601,-167.6394 67.3579,-156.6396\"/>\n",
       "<polygon fill=\"#000000\" stroke=\"#000000\" points=\"70.2171,-154.6153 61.8524,-148.1128 64.3363,-158.4124 70.2171,-154.6153\"/>\n",
       "</g>\n",
       "<!-- 140023248921992 -->\n",
       "<g id=\"node5\" class=\"node\">\n",
       "<title>140023248921992</title>\n",
       "<polygon fill=\"#add8e6\" stroke=\"#000000\" points=\"124,-34 70,-34 70,0 124,0 124,-34\"/>\n",
       "<text text-anchor=\"middle\" x=\"97\" y=\"-20.4\" font-family=\"Times,serif\" font-size=\"12.00\" fill=\"#000000\">Var</text>\n",
       "<text text-anchor=\"middle\" x=\"97\" y=\"-7.4\" font-family=\"Times,serif\" font-size=\"12.00\" fill=\"#000000\"> (2, 2)</text>\n",
       "</g>\n",
       "<!-- 140022403105344&#45;&gt;140023248921992 -->\n",
       "<g id=\"edge5\" class=\"edge\">\n",
       "<title>140022403105344&#45;&gt;140023248921992</title>\n",
       "<path fill=\"none\" stroke=\"#000000\" d=\"M102.1146,-190.4677C107.7721,-180.0691 115.7782,-163.5172 119,-148 121.7982,-134.5229 121.6059,-92.9625 117,-70 115.2399,-61.2252 112.204,-51.9917 109.0217,-43.7345\"/>\n",
       "<polygon fill=\"#000000\" stroke=\"#000000\" points=\"112.1659,-42.1761 105.1432,-34.243 105.686,-44.824 112.1659,-42.1761\"/>\n",
       "</g>\n",
       "<!-- 140023248923784 -->\n",
       "<g id=\"node4\" class=\"node\">\n",
       "<title>140023248923784</title>\n",
       "<polygon fill=\"#d3d3d3\" stroke=\"#000000\" points=\"108,-91 6,-91 6,-70 108,-70 108,-91\"/>\n",
       "<text text-anchor=\"middle\" x=\"57\" y=\"-77.4\" font-family=\"Times,serif\" font-size=\"12.00\" fill=\"#000000\">MmBackward</text>\n",
       "</g>\n",
       "<!-- 140023248975016&#45;&gt;140023248923784 -->\n",
       "<g id=\"edge3\" class=\"edge\">\n",
       "<title>140023248975016&#45;&gt;140023248923784</title>\n",
       "<path fill=\"none\" stroke=\"#000000\" d=\"M55.3762,-126.7787C55.6276,-119.6134 55.9666,-109.9517 56.2698,-101.3097\"/>\n",
       "<polygon fill=\"#000000\" stroke=\"#000000\" points=\"59.7726,-101.2898 56.6255,-91.1732 52.7769,-101.0443 59.7726,-101.2898\"/>\n",
       "</g>\n",
       "<!-- 140023248923784&#45;&gt;140023248921992 -->\n",
       "<g id=\"edge4\" class=\"edge\">\n",
       "<title>140023248923784&#45;&gt;140023248921992</title>\n",
       "<path fill=\"none\" stroke=\"#000000\" d=\"M63.7855,-69.7281C68.4474,-62.3272 74.8433,-52.1738 80.7785,-42.7517\"/>\n",
       "<polygon fill=\"#000000\" stroke=\"#000000\" points=\"83.8876,-44.3827 86.2561,-34.056 77.9647,-40.6517 83.8876,-44.3827\"/>\n",
       "</g>\n",
       "</g>\n",
       "</svg>\n"
      ],
      "text/plain": [
       "<graphviz.dot.Digraph at 0x7f59819902e8>"
      ]
     },
     "execution_count": 19,
     "metadata": {},
     "output_type": "execute_result"
    }
   ],
   "source": [
    "make_vizualization_autograd(f)"
   ]
  },
  {
   "cell_type": "markdown",
   "metadata": {},
   "source": [
    "##### Questions\n",
    "- En considérant que `Add` réfère à une addition matricielle et `Mm` à une multiplication matricielle, associez chaque rectangle bleu du graphe au `Tensor` ($x$, $y$ ou $z$) correspondant. **Le rectangle bleu en haut à gauche correspond au Tensor z qui est utilisé uniquement dans une addition, le rectangle bleu en bas au centre correspond au Tensor y qui est utilisé dans la multiplication matricielle et dans une addition.**\n",
    "- Que devient le graphe si on change `x.requires_grad=True`? Effectuez le changement dans le code pour confirmer votre réponse. **Il s'ajoute un rectangle bleu en bas à gauche correspondant au Tensor x qui est utilisé dans la multiplication matricielle et dans l'addition qui n'est reliée à aucun Tensor précédemment.**"
   ]
  },
  {
   "cell_type": "markdown",
   "metadata": {},
   "source": [
    "Effectuons maintenant la backprop du gradient. Au départ les attributs `grad` des `Tensor` sont vides."
   ]
  },
  {
   "cell_type": "code",
   "execution_count": 20,
   "metadata": {},
   "outputs": [
    {
     "name": "stdout",
     "output_type": "stream",
     "text": [
      "None\n",
      "None\n",
      "None\n"
     ]
    }
   ],
   "source": [
    "print(x.grad)\n",
    "print(y.grad)\n",
    "print(z.grad)"
   ]
  },
  {
   "cell_type": "markdown",
   "metadata": {},
   "source": [
    "On appele la fonction `backward`"
   ]
  },
  {
   "cell_type": "code",
   "execution_count": 21,
   "metadata": {},
   "outputs": [],
   "source": [
    "f.backward(torch.ones(f.size()))"
   ]
  },
  {
   "cell_type": "markdown",
   "metadata": {},
   "source": [
    "Et on obtient des valeurs de gradients pour les `Tensor` qui avaient `requires_grad=True`, par conséquent `x.grad` devrait toujours être vide."
   ]
  },
  {
   "cell_type": "code",
   "execution_count": 22,
   "metadata": {
    "scrolled": true
   },
   "outputs": [
    {
     "name": "stdout",
     "output_type": "stream",
     "text": [
      "None\n",
      "tensor([[-0.3119, -0.3119],\n",
      "        [ 2.5502,  2.5502]])\n",
      "tensor([[1., 1.],\n",
      "        [1., 1.]])\n"
     ]
    }
   ],
   "source": [
    "print(x.grad)\n",
    "print(y.grad)\n",
    "print(z.grad)"
   ]
  },
  {
   "cell_type": "markdown",
   "metadata": {},
   "source": [
    "##### Questions\n",
    "- Exécutez deux fois la cellule qui appelle la fonction .backward(). Qu'arrive-t-il? Pourquoi?\n",
    "**Une erreur est soulevée, car les résultats intermédiaires du graphe de calcul construit sont consommés lorsqu'on appelle backward. Il faut utiliser retain_graph=True dans le premier appel de backward si on désire effectuer d'autre appel backward sur cette instance de graphe de calcul.**\n",
    "- Quel `Tensor` auraient requires_grad=False dans le contexte d'entraînement de réseaux de neurones?\n",
    "**Le tenseur des données en entrées pour lequel on ne veut pas calculer de gradient.**"
   ]
  },
  {
   "cell_type": "markdown",
   "metadata": {},
   "source": [
    "Il est possible de prévenir l'enregistrement de l'historique de calcul d'opérations effectuées sur des `Tensor` aillant `requires_grad=True` en utilisant un bloc de code avec `with torch.no_grad()`:"
   ]
  },
  {
   "cell_type": "code",
   "execution_count": 23,
   "metadata": {},
   "outputs": [
    {
     "name": "stdout",
     "output_type": "stream",
     "text": [
      "True\n",
      "False\n"
     ]
    }
   ],
   "source": [
    "print((y + z).requires_grad)\n",
    "\n",
    "with torch.no_grad():\n",
    "    print((y + z).requires_grad)"
   ]
  },
  {
   "cell_type": "markdown",
   "metadata": {},
   "source": [
    "##### Exercice\n",
    "Faites la mise à jour des valeurs de y et z et soustrayant $1 \\times 10^{-3}$ fois leur gradient sans créer un nouveau graphe de calcul lors de l'opération. Notez que si le tenseur résultant a un attribut `grad_fn`, un graphe de calcul a été créé."
   ]
  },
  {
   "cell_type": "code",
   "execution_count": 24,
   "metadata": {},
   "outputs": [],
   "source": [
    "y = torch.randn((2, 2), requires_grad=True)\n",
    "z = torch.randn((2, 2), requires_grad=True)\n",
    "\n",
    "f = torch.matmul(y, z)\n",
    "f.backward(torch.ones(f.size()))\n",
    "\n",
    "# TODO\n",
    "with torch.no_grad():\n",
    "    y =  y - 1e-3 * y.grad\n",
    "    z =  z - 1e-3 * z.grad"
   ]
  },
  {
   "cell_type": "markdown",
   "metadata": {},
   "source": [
    "Question\n",
    "- Dans quel contexte voudrait-on ne calculer aucun gradient d'un graphe de calcul?\n",
    "**En inférence, soit à l'étape de validation dans l'entrainement, ou en test**"
   ]
  },
  {
   "cell_type": "markdown",
   "metadata": {},
   "source": [
    "#### Descente du gradient: un aperçu\n",
    "Considérons une fonction simple en une dimension:\n",
    "$$ f(x) = x^2 - x + 2 $$"
   ]
  },
  {
   "cell_type": "code",
   "execution_count": 25,
   "metadata": {},
   "outputs": [],
   "source": [
    "def fonction_simple(x):\n",
    "    return x**2 - x + 2"
   ]
  },
  {
   "cell_type": "markdown",
   "metadata": {},
   "source": [
    "On peut visualiser cette fonction convexe qui possède un minimum global en $x = 0.5$"
   ]
  },
  {
   "cell_type": "code",
   "execution_count": 26,
   "metadata": {},
   "outputs": [
    {
     "data": {
      "image/png": "[encoded data removed]",
      "text/plain": [
       "<Figure size 432x288 with 1 Axes>"
      ]
     },
     "metadata": {
      "needs_background": "light"
     },
     "output_type": "display_data"
    }
   ],
   "source": [
    "x_range = np.linspace(-2, 2)\n",
    "plt.plot(x_range, fonction_simple(x_range) )\n",
    "plt.scatter(.5, fonction_simple(.5), s=150, marker='*', c='r')\n",
    "plt.ylim(0, 6)\n",
    "plt.tight_layout()\n",
    "plt.show()"
   ]
  },
  {
   "cell_type": "markdown",
   "metadata": {},
   "source": [
    "Nous allons tenter de trouver ce minimum global en partant avec $x = -2$ par la méthode de descente du gradient (vu en détails au prochain cours) en utilisant la dérivation automatique de PyTorch. À chaque itération, la fonction est évaluée au paramètre $x$, le gradient est obtenu en appelant `backward`, puis la valeur du paramètre `x` est mise à jour selon la direction pointée par le gradient et un certain pas (0.25 dans cet exemple)."
   ]
  },
  {
   "cell_type": "markdown",
   "metadata": {},
   "source": [
    "##### Exercice\n",
    "Dans son état actuel, le code ne permet pas de converger vers le minimum global. Une étape est manquante dans la boucle de descente du gradient concernant le graphe de calcul. Rajoutez la ligne manquante et confirmez que le paramètre $x$ converge bien vers le minimum global. \n",
    "\n",
    "**Indice: observez les valeurs de f'(x) au fil des itérations**."
   ]
  },
  {
   "cell_type": "code",
   "execution_count": 27,
   "metadata": {},
   "outputs": [
    {
     "name": "stdout",
     "output_type": "stream",
     "text": [
      "Iteration 01:  x =-2.00000  f(x) = 8.00000  f'(x) =-5.00000\n",
      "Iteration 02:  x =-0.75000  f(x) = 3.31250  f'(x) =-2.50000\n",
      "Iteration 03:  x =-0.12500  f(x) = 2.14062  f'(x) =-1.25000\n",
      "Iteration 04:  x = 0.18750  f(x) = 1.84766  f'(x) =-0.62500\n",
      "Iteration 05:  x = 0.34375  f(x) = 1.77441  f'(x) =-0.31250\n",
      "Iteration 06:  x = 0.42188  f(x) = 1.75610  f'(x) =-0.15625\n",
      "Iteration 07:  x = 0.46094  f(x) = 1.75153  f'(x) =-0.07812\n",
      "Iteration 08:  x = 0.48047  f(x) = 1.75038  f'(x) =-0.03906\n",
      "Iteration 09:  x = 0.49023  f(x) = 1.75010  f'(x) =-0.01953\n",
      "Iteration 10:  x = 0.49512  f(x) = 1.75002  f'(x) =-0.00977\n"
     ]
    },
    {
     "data": {
      "image/png": "[encoded data removed]",
      "text/plain": [
       "<Figure size 432x288 with 1 Axes>"
      ]
     },
     "metadata": {
      "needs_background": "light"
     },
     "output_type": "display_data"
    }
   ],
   "source": [
    "# Nombre d'itérations\n",
    "T = 10\n",
    "\n",
    "# Initialisation\n",
    "x = torch.Tensor([-2])\n",
    "x.requires_grad = True\n",
    "list_x, list_values = [], []\n",
    "\n",
    "# Boucle de descente du gradient\n",
    "for t in range(T):\n",
    "    \n",
    "    # Calcul de la fonction objectif\n",
    "    val = fonction_simple(x)\n",
    "    \n",
    "    # Enregistrement des valeurs pour visualisation\n",
    "    list_x.append(np.array(x.detach()))\n",
    "    list_values.append(val.detach())\n",
    "\n",
    "    # Calcul des gradients\n",
    "    val.backward()\n",
    "    \n",
    "    print(f\"Iteration {t+1:02}:\",\n",
    "          f\" x ={x.item(): .5f}\",\n",
    "          f\" f(x) ={val.item(): .5f}\",\n",
    "          f\" f\\'(x) ={x.grad.item(): .5f}\")\n",
    "    \n",
    "    # Mise à jour du paramètre x\n",
    "    with torch.no_grad():\n",
    "        x -= 0.25 * x.grad\n",
    "        \n",
    "    # TODO\n",
    "    # Remise à zéro du gradient, sinon les gradients de chaque itérations sont additionnés ensembles.\n",
    "    x.grad.zero_()\n",
    "\n",
    "plt.plot(x_range, fonction_simple(x_range))\n",
    "plt.plot(list_x, list_values, linestyle='dashed', marker='o', color='green')\n",
    "plt.scatter(.5, fonction_simple(.5), s=150, marker='*', c='r')\n",
    "plt.show()"
   ]
  },
  {
   "cell_type": "markdown",
   "metadata": {},
   "source": [
    "### Partie 2: Fonctions d'activation\n",
    "\n",
    "La section suivante a pour but d'explorer les différences entre les fonctions d'activation ReLU et Tanh.\n",
    "\n",
    "#### Question préalable\n",
    "- À quoi sert la fonction d'activation? Sans elle, que devient un réseau multi-couches? **Insère une transformation non linéaire dans le réseau de neurones. On a que plusieurs couches à activations linéaires peuvent se simplifier en une seule couche.**\n",
    "\n",
    "#### Visualisation du dataset\n",
    "Pour cette partie, nous utiliserons le dataset binaire des spirales. Chaque exemple est représenté par un vecteur de dimension 7: $[x, y, x^2, y^2, x*y, \\sin(x), \\sin(y)]$, où les deux premières valeurs correspondent aux coordonnées dans un espace en deux dimensions présenté par le graphique suivant, et les autres valeurs sont des transformations sur les deux premières. Vous pouvez voir le code qui a servi à générer le dataset dans la librairie https://github.com/ulaval-damas/glo4030-labs/blob/master/deeplib/datasets.py"
   ]
  },
  {
   "cell_type": "code",
   "execution_count": 28,
   "metadata": {},
   "outputs": [
    {
     "data": {
      "image/png": "[encoded data removed]",
      "text/plain": [
       "<Figure size 432x288 with 1 Axes>"
      ]
     },
     "metadata": {
      "needs_background": "light"
     },
     "output_type": "display_data"
    }
   ],
   "source": [
    "from deeplib.datasets import SpiralDataset, train_valid_loaders\n",
    "\n",
    "dataset = SpiralDataset()\n",
    "points, labels = dataset.to_numpy()\n",
    "plt.scatter(points[labels==1,0], points[labels==1,1])\n",
    "plt.scatter(points[labels==0,0], points[labels==0,1])\n",
    "plt.show()"
   ]
  },
  {
   "cell_type": "markdown",
   "metadata": {},
   "source": [
    "Dans la cellule suivante,  `train_valid_loaders()` retourne des [DataLoader](http://pytorch.org/docs/0.3.0/data.html#torch.utils.data.DataLoader) pytorch. Il est possible d'itérer sur les données d'un `DataLoader` comme on le ferait sur un liste python.\n",
    "\n",
    "> **PYTHON DEEP DIVE** Pourquoi peut-on itérer facilement sur le `DataLoader`? Parce que la classe implémente la méthode `__iter__`. Ainsi, quand on fait\n",
    "```\n",
    "for x in data_loader:\n",
    "```\n",
    "la fonction `__iter__` est appelée, ce qui crée un itérateur sur le `DataLoader`. Cet itérateur peut charger les données sur demande puis que la méthode `__next__` est appelée à chaque itération. Il est possible de créer explicitement cet itérateur en appelant la fonction built-in `iter()`."
   ]
  },
  {
   "cell_type": "code",
   "execution_count": 29,
   "metadata": {},
   "outputs": [
    {
     "name": "stdout",
     "output_type": "stream",
     "text": [
      "tensor([[-4.0765e+00, -2.5302e+00,  1.6617e+01,  6.4020e+00,  1.0314e+01,\n",
      "          8.0452e-01, -5.7399e-01],\n",
      "        [-2.9165e+00,  2.7750e+00,  8.5059e+00,  7.7005e+00, -8.0932e+00,\n",
      "         -2.2321e-01,  3.5845e-01],\n",
      "        [-2.1159e-02,  2.0539e-01,  4.4769e-04,  4.2186e-02, -4.3458e-03,\n",
      "         -2.1157e-02,  2.0395e-01],\n",
      "        [ 2.1614e+00,  1.7922e-01,  4.6718e+00,  3.2120e-02,  3.8737e-01,\n",
      "          8.3058e-01,  1.7826e-01],\n",
      "        [-2.6778e-02,  9.2875e-02,  7.1704e-04,  8.6259e-03, -2.4870e-03,\n",
      "         -2.6774e-02,  9.2742e-02],\n",
      "        [ 6.5697e-01, -3.3988e-01,  4.3161e-01,  1.1552e-01, -2.2329e-01,\n",
      "          6.1072e-01, -3.3337e-01],\n",
      "        [ 2.8471e-01, -1.1927e+00,  8.1057e-02,  1.4226e+00, -3.3957e-01,\n",
      "          2.8088e-01, -9.2937e-01],\n",
      "        [-4.8011e+00, -6.3281e-01,  2.3051e+01,  4.0045e-01,  3.0382e+00,\n",
      "          9.9607e-01, -5.9141e-01]]) tensor([1, 0, 1, 0, 0, 1, 1, 1])\n",
      "tensor([[-1.5562e+00, -1.0051e+00,  2.4216e+00,  1.0102e+00,  1.5641e+00,\n",
      "         -9.9989e-01, -8.4422e-01],\n",
      "        [-4.0598e+00, -2.1329e+00,  1.6482e+01,  4.5495e+00,  8.6594e+00,\n",
      "          7.9454e-01, -8.4611e-01],\n",
      "        [ 9.7694e-02,  1.4235e+00,  9.5442e-03,  2.0263e+00,  1.3907e-01,\n",
      "          9.7539e-02,  9.8917e-01],\n",
      "        [-5.5094e-01,  1.3432e+00,  3.0353e-01,  1.8043e+00, -7.4003e-01,\n",
      "         -5.2349e-01,  9.7422e-01],\n",
      "        [-8.5771e-01,  6.1012e-01,  7.3566e-01,  3.7225e-01, -5.2330e-01,\n",
      "         -7.5634e-01,  5.7296e-01],\n",
      "        [-2.2061e+00, -2.1941e+00,  4.8670e+00,  4.8140e+00,  4.8404e+00,\n",
      "         -8.0488e-01, -8.1196e-01],\n",
      "        [ 3.3344e+00, -2.0166e+00,  1.1118e+01,  4.0668e+00, -6.7243e+00,\n",
      "         -1.9163e-01, -9.0225e-01],\n",
      "        [-1.8455e+00, -4.0254e+00,  3.4059e+00,  1.6204e+01,  7.4288e+00,\n",
      "         -9.6251e-01,  7.7313e-01]]) tensor([1, 1, 0, 0, 0, 0, 1, 1])\n",
      "tensor([[-6.0080e-01, -4.2523e+00,  3.6096e-01,  1.8082e+01,  2.5548e+00,\n",
      "         -5.6530e-01,  8.9602e-01],\n",
      "        [-1.1638e+00, -3.0240e+00,  1.3544e+00,  9.1443e+00,  3.5192e+00,\n",
      "         -9.1831e-01, -1.1737e-01],\n",
      "        [ 2.3177e+00,  2.5163e+00,  5.3720e+00,  6.3317e+00,  5.8321e+00,\n",
      "          7.3376e-01,  5.8534e-01],\n",
      "        [-1.1790e-01,  2.9254e+00,  1.3899e-02,  8.5578e+00, -3.4489e-01,\n",
      "         -1.1762e-01,  2.1455e-01],\n",
      "        [ 1.9253e+00,  3.9498e-01,  3.7066e+00,  1.5601e-01,  7.6043e-01,\n",
      "          9.3783e-01,  3.8479e-01],\n",
      "        [-2.3056e-01, -2.7934e+00,  5.3156e-02,  7.8030e+00,  6.4403e-01,\n",
      "         -2.2852e-01, -3.4121e-01],\n",
      "        [ 8.8099e-01,  3.0427e+00,  7.7613e-01,  9.2581e+00,  2.6806e+00,\n",
      "          7.7137e-01,  9.8721e-02],\n",
      "        [-5.4851e-01, -1.1912e-01,  3.0086e-01,  1.4190e-02,  6.5339e-02,\n",
      "         -5.2141e-01, -1.1884e-01]]) tensor([1, 0, 1, 1, 0, 0, 1, 0])\n",
      "tensor([[ 0.6990,  3.0499,  0.4886,  9.3019,  2.1318,  0.6434,  0.0916],\n",
      "        [-0.6380, -0.3050,  0.4071,  0.0930,  0.1946, -0.5956, -0.3003],\n",
      "        [ 4.7544,  1.2657, 22.6045,  1.6019,  6.0175, -0.9991,  0.9538],\n",
      "        [-0.2091,  1.1872,  0.0437,  1.4093, -0.2483, -0.2076,  0.9273],\n",
      "        [ 0.5298, -1.1898,  0.2807,  1.4157, -0.6304,  0.5054, -0.9283],\n",
      "        [-1.1124,  2.3298,  1.2374,  5.4278, -2.5915, -0.8967,  0.7256],\n",
      "        [-0.3824, -4.5027,  0.1462, 20.2739,  1.7217, -0.3731,  0.9781],\n",
      "        [ 4.5367,  1.4781, 20.5817,  2.1847,  6.7055, -0.9846,  0.9957]]) tensor([1, 0, 0, 0, 1, 1, 1, 0])\n",
      "tensor([[-2.6225e+00, -1.6746e+00,  6.8776e+00,  2.8044e+00,  4.3918e+00,\n",
      "         -4.9607e-01, -9.9461e-01],\n",
      "        [-3.9021e-01, -2.6399e-01,  1.5226e-01,  6.9691e-02,  1.0301e-01,\n",
      "         -3.8038e-01, -2.6094e-01],\n",
      "        [ 4.5984e-01, -1.1138e+00,  2.1146e-01,  1.2406e+00, -5.1218e-01,\n",
      "          4.4381e-01, -8.9739e-01],\n",
      "        [ 5.7086e-02,  1.1674e-01,  3.2588e-03,  1.3629e-02,  6.6644e-03,\n",
      "          5.7055e-02,  1.1648e-01],\n",
      "        [-3.3314e+00,  1.5579e+00,  1.1098e+01,  2.4270e+00, -5.1899e+00,\n",
      "          1.8869e-01,  9.9992e-01],\n",
      "        [ 3.3151e+00,  6.9701e-01,  1.0990e+01,  4.8582e-01,  2.3107e+00,\n",
      "         -1.7266e-01,  6.4193e-01],\n",
      "        [ 6.0456e-01, -8.7340e-02,  3.6550e-01,  7.6283e-03, -5.2803e-02,\n",
      "          5.6840e-01, -8.7229e-02],\n",
      "        [ 1.3329e+00,  1.3046e+00,  1.7767e+00,  1.7021e+00,  1.7390e+00,\n",
      "          9.7184e-01,  9.6479e-01]]) tensor([0, 0, 1, 1, 0, 1, 1, 0])\n",
      "tensor([[-1.4128e+00,  2.2107e+00,  1.9961e+00,  4.8872e+00, -3.1234e+00,\n",
      "         -9.8755e-01,  8.0215e-01],\n",
      "        [ 6.9745e-02, -1.3669e+00,  4.8643e-03,  1.8685e+00, -9.5336e-02,\n",
      "          6.9688e-02, -9.7929e-01],\n",
      "        [-1.6103e+00, -8.6588e-01,  2.5930e+00,  7.4976e-01,  1.3943e+00,\n",
      "         -9.9922e-01, -7.6167e-01],\n",
      "        [-1.8104e-02, -1.3106e+00,  3.2775e-04,  1.7176e+00,  2.3727e-02,\n",
      "         -1.8103e-02, -9.6633e-01],\n",
      "        [-1.8194e+00,  3.4400e+00,  3.3103e+00,  1.1833e+01, -6.2587e+00,\n",
      "         -9.6925e-01, -2.9396e-01],\n",
      "        [ 2.6008e+00, -2.9832e+00,  6.7642e+00,  8.8996e+00, -7.7588e+00,\n",
      "          5.1480e-01, -1.5771e-01],\n",
      "        [ 1.5719e+00,  1.0916e+00,  2.4707e+00,  1.1916e+00,  1.7158e+00,\n",
      "          1.0000e+00,  8.8737e-01],\n",
      "        [ 2.7268e-01,  1.5622e-01,  7.4354e-02,  2.4406e-02,  4.2599e-02,\n",
      "          2.6931e-01,  1.5559e-01]]) tensor([1, 1, 1, 1, 0, 1, 0, 1])\n",
      "tensor([[ 1.4117,  2.8043,  1.9928,  7.8640,  3.9587,  0.9874,  0.3310],\n",
      "        [-0.7776, -4.1018,  0.6047, 16.8248,  3.1897, -0.7016,  0.8193],\n",
      "        [ 3.9911,  2.7154, 15.9287,  7.3731, 10.8372, -0.7509,  0.4135],\n",
      "        [-0.9849,  0.7588,  0.9700,  0.5757, -0.7473, -0.8332,  0.6880],\n",
      "        [-3.0522,  2.4116,  9.3159,  5.8160, -7.3608, -0.0893,  0.6668],\n",
      "        [ 1.4720,  3.9904,  2.1667, 15.9230,  5.8737,  0.9951, -0.7505],\n",
      "        [ 2.0618, -1.1409,  4.2510,  1.3017, -2.3523,  0.8819, -0.9090],\n",
      "        [ 0.8912, -0.9463,  0.7943,  0.8956, -0.8434,  0.7778, -0.8113]]) tensor([1, 1, 0, 0, 0, 0, 0, 1])\n",
      "tensor([[ 1.3726, -2.2951,  1.8840,  5.2674, -3.1502,  0.9804, -0.7490],\n",
      "        [-2.0525,  0.4093,  4.2126,  0.1675, -0.8400, -0.8862,  0.3979],\n",
      "        [ 1.8499, -1.2200,  3.4223,  1.4884, -2.2569,  0.9613, -0.9391],\n",
      "        [ 1.5949,  2.6274,  2.5438,  6.9034,  4.1906,  0.9997,  0.4918],\n",
      "        [ 2.2145,  0.1496,  4.9039,  0.0224,  0.3313,  0.7999,  0.1491],\n",
      "        [-3.3655, -1.1117, 11.3264,  1.2358,  3.7413,  0.2220, -0.8964],\n",
      "        [-0.1150,  1.6166,  0.0132,  2.6134, -0.1859, -0.1147,  0.9990],\n",
      "        [-0.5980, -0.1780,  0.3577,  0.0317,  0.1064, -0.5630, -0.1770]]) tensor([0, 1, 0, 1, 0, 0, 0, 0])\n",
      "tensor([[-8.9909e-01, -4.2393e+00,  8.0836e-01,  1.7972e+01,  3.8115e+00,\n",
      "         -7.8276e-01,  8.9017e-01],\n",
      "        [ 3.7050e-01, -4.1058e+00,  1.3727e-01,  1.6858e+01, -1.5212e+00,\n",
      "          3.6208e-01,  8.2160e-01],\n",
      "        [-8.9134e-01,  3.9701e+00,  7.9449e-01,  1.5761e+01, -3.5387e+00,\n",
      "         -7.7792e-01, -7.3690e-01],\n",
      "        [-2.7947e-01, -2.9488e+00,  7.8105e-02,  8.6957e+00,  8.2412e-01,\n",
      "         -2.7585e-01, -1.9156e-01],\n",
      "        [ 9.9927e-02, -1.4109e+00,  9.9855e-03,  1.9907e+00, -1.4099e-01,\n",
      "          9.9761e-02, -9.8725e-01],\n",
      "        [ 8.6967e-01, -4.4929e-01,  7.5633e-01,  2.0186e-01, -3.9073e-01,\n",
      "          7.6412e-01, -4.3433e-01],\n",
      "        [ 6.5441e-01, -4.0544e+00,  4.2825e-01,  1.6438e+01, -2.6532e+00,\n",
      "          6.0869e-01,  7.9121e-01],\n",
      "        [ 2.2899e+00,  1.3971e-01,  5.2436e+00,  1.9518e-02,  3.1992e-01,\n",
      "          7.5240e-01,  1.3925e-01]]) tensor([1, 1, 0, 0, 1, 1, 1, 0])\n",
      "tensor([[ 1.2000e+00, -2.3844e+00,  1.4400e+00,  5.6853e+00, -2.8612e+00,\n",
      "          9.3203e-01, -6.8689e-01],\n",
      "        [-6.7691e-01,  9.2339e-01,  4.5821e-01,  8.5265e-01, -6.2506e-01,\n",
      "         -6.2639e-01,  7.9765e-01],\n",
      "        [-1.4302e-01, -1.2862e+00,  2.0455e-02,  1.6543e+00,  1.8396e-01,\n",
      "         -1.4253e-01, -9.5978e-01],\n",
      "        [ 2.7255e-01, -2.6874e+00,  7.4286e-02,  7.2221e+00, -7.3246e-01,\n",
      "          2.6919e-01, -4.3874e-01],\n",
      "        [-3.2139e-01,  1.2052e+00,  1.0329e-01,  1.4526e+00, -3.8735e-01,\n",
      "         -3.1589e-01,  9.3392e-01],\n",
      "        [ 3.1804e+00,  1.2353e+00,  1.0115e+01,  1.5259e+00,  3.9286e+00,\n",
      "         -3.8760e-02,  9.4424e-01],\n",
      "        [-2.1621e+00,  9.6115e-01,  4.6748e+00,  9.2381e-01, -2.0781e+00,\n",
      "         -8.3019e-01,  8.1985e-01],\n",
      "        [ 2.8213e-01,  3.8529e-02,  7.9596e-02,  1.4845e-03,  1.0870e-02,\n",
      "          2.7840e-01,  3.8519e-02]]) tensor([0, 0, 1, 0, 0, 1, 1, 1])\n",
      "tensor([[ 2.0514e+00, -1.1139e+00,  4.2082e+00,  1.2408e+00, -2.2851e+00,\n",
      "          8.8672e-01, -8.9744e-01],\n",
      "        [-1.4163e+00, -1.2336e+00,  2.0060e+00,  1.5218e+00,  1.7472e+00,\n",
      "         -9.8809e-01, -9.4369e-01],\n",
      "        [ 4.1450e-01,  1.3922e+00,  1.7181e-01,  1.9381e+00,  5.7706e-01,\n",
      "          4.0274e-01,  9.8409e-01],\n",
      "        [-4.7416e-01, -2.8282e+00,  2.2482e-01,  7.9987e+00,  1.3410e+00,\n",
      "         -4.5659e-01, -3.0830e-01],\n",
      "        [ 1.9049e-01,  1.5896e+00,  3.6287e-02,  2.5267e+00,  3.0280e-01,\n",
      "          1.8934e-01,  9.9982e-01],\n",
      "        [ 1.9899e-02,  1.5097e+00,  3.9599e-04,  2.2792e+00,  3.0042e-02,\n",
      "          1.9898e-02,  9.9814e-01],\n",
      "        [ 3.7203e+00, -1.1020e+00,  1.3841e+01,  1.2145e+00, -4.0999e+00,\n",
      "         -5.4696e-01, -8.9213e-01],\n",
      "        [-9.0153e-01, -1.3352e+00,  8.1275e-01,  1.7827e+00,  1.2037e+00,\n",
      "         -7.8428e-01, -9.7237e-01]]) tensor([0, 1, 0, 0, 0, 0, 1, 1])\n",
      "tensor([[-1.0239e+00,  2.2937e+00,  1.0483e+00,  5.2611e+00, -2.3485e+00,\n",
      "         -8.5413e-01,  7.4989e-01],\n",
      "        [-2.5406e+00, -3.6854e+00,  6.4546e+00,  1.3582e+01,  9.3631e+00,\n",
      "         -5.6548e-01,  5.1742e-01],\n",
      "        [-8.3794e-02, -1.4550e+00,  7.0214e-03,  2.1172e+00,  1.2192e-01,\n",
      "         -8.3696e-02, -9.9331e-01],\n",
      "        [-1.1346e+00,  4.0652e+00,  1.2873e+00,  1.6526e+01, -4.6124e+00,\n",
      "         -9.0636e-01, -7.9781e-01],\n",
      "        [-8.4411e-02,  4.2282e-02,  7.1252e-03,  1.7878e-03, -3.5691e-03,\n",
      "         -8.4311e-02,  4.2270e-02],\n",
      "        [ 1.4454e+00,  1.1424e+00,  2.0891e+00,  1.3052e+00,  1.6513e+00,\n",
      "          9.9214e-01,  9.0965e-01],\n",
      "        [ 3.0795e+00, -2.5582e+00,  9.4836e+00,  6.5444e+00, -7.8781e+00,\n",
      "          6.2012e-02, -5.5086e-01],\n",
      "        [-3.6936e-02, -1.3594e+00,  1.3643e-03,  1.8479e+00,  5.0209e-02,\n",
      "         -3.6927e-02, -9.7773e-01]]) tensor([1, 1, 1, 0, 0, 0, 1, 1])\n"
     ]
    }
   ],
   "source": [
    "train_loader, valid_loader = train_valid_loaders(dataset, 8)\n",
    "\n",
    "for i, (data, label) in enumerate(train_loader):\n",
    "    print(data, label)\n",
    "    if i > 10:\n",
    "        break"
   ]
  },
  {
   "cell_type": "markdown",
   "metadata": {},
   "source": [
    "Comme pour tout itérateur python, on peut utiliser `itertools`. Par exemple, ici, on boucle sur les 10 premiers éléments de l'itérateur:"
   ]
  },
  {
   "cell_type": "code",
   "execution_count": 30,
   "metadata": {},
   "outputs": [
    {
     "name": "stdout",
     "output_type": "stream",
     "text": [
      "[tensor([[-5.7617e-01,  9.6007e-01,  3.3197e-01,  9.2174e-01, -5.5317e-01,\n",
      "         -5.4482e-01,  8.1923e-01],\n",
      "        [-2.6225e+00, -1.6746e+00,  6.8776e+00,  2.8044e+00,  4.3918e+00,\n",
      "         -4.9607e-01, -9.9461e-01],\n",
      "        [-2.4274e+00, -2.0082e+00,  5.8921e+00,  4.0327e+00,  4.8745e+00,\n",
      "         -6.5504e-01, -9.0587e-01],\n",
      "        [-8.4508e-01,  3.6221e-02,  7.1416e-01,  1.3120e-03, -3.0610e-02,\n",
      "         -7.4803e-01,  3.6213e-02],\n",
      "        [-1.8523e+00, -7.4288e-01,  3.4309e+00,  5.5188e-01,  1.3760e+00,\n",
      "         -9.6065e-01, -6.7642e-01],\n",
      "        [-2.1689e+00,  3.4076e+00,  4.7040e+00,  1.1612e+01, -7.3906e+00,\n",
      "         -8.2642e-01, -2.6286e-01],\n",
      "        [-1.1203e+00,  3.9331e+00,  1.2550e+00,  1.5469e+01, -4.4061e+00,\n",
      "         -9.0021e-01, -7.1140e-01],\n",
      "        [ 3.2029e+00, -2.4969e+00,  1.0259e+01,  6.2346e+00, -7.9974e+00,\n",
      "         -6.1282e-02, -6.0094e-01]]), tensor([0, 0, 0, 0, 1, 0, 0, 1])]\n",
      "[tensor([[ 0.5516, -0.9703,  0.3043,  0.9414, -0.5352,  0.5241, -0.8250],\n",
      "        [ 2.0803, -3.3999,  4.3278, 11.5593, -7.0729,  0.8730,  0.2554],\n",
      "        [ 1.9253,  0.3950,  3.7066,  0.1560,  0.7604,  0.9378,  0.3848],\n",
      "        [-0.6669, -1.5653,  0.4448,  2.4501,  1.0439, -0.6186, -1.0000],\n",
      "        [-0.9699, -4.1127,  0.9407, 16.9146,  3.9889, -0.8248,  0.8255],\n",
      "        [ 0.6661, -0.1888,  0.4438,  0.0357, -0.1258,  0.6180, -0.1877],\n",
      "        [-0.3434, -0.3582,  0.1179,  0.1283,  0.1230, -0.3367, -0.3506],\n",
      "        [ 1.4101, -2.2842,  1.9882,  5.2173, -3.2208,  0.9871, -0.7562]]), tensor([1, 1, 0, 1, 1, 1, 0, 0])]\n",
      "[tensor([[ 1.0437,  1.4472,  1.0894,  2.0945,  1.5105,  0.8643,  0.9924],\n",
      "        [ 0.7926,  2.7725,  0.6282,  7.6868,  2.1975,  0.7122,  0.3608],\n",
      "        [-0.3335, -0.2237,  0.1112,  0.0500,  0.0746, -0.3273, -0.2218],\n",
      "        [ 0.8186, -0.8477,  0.6701,  0.7187, -0.6940,  0.7302, -0.7498],\n",
      "        [ 1.1756, -2.1652,  1.3820,  4.6880, -2.5453,  0.9229, -0.8285],\n",
      "        [ 2.0898, -1.1965,  4.3673,  1.4316, -2.5004,  0.8683, -0.9308],\n",
      "        [-0.1664, -2.9315,  0.0277,  8.5936,  0.4877, -0.1656, -0.2086],\n",
      "        [-0.9059, -4.4093,  0.8206, 19.4418,  3.9943, -0.7870,  0.9544]]), tensor([0, 1, 0, 1, 0, 0, 0, 1])]\n",
      "[tensor([[ 1.9899e-02,  1.5097e+00,  3.9599e-04,  2.2792e+00,  3.0042e-02,\n",
      "          1.9898e-02,  9.9814e-01],\n",
      "        [-3.0174e+00, -3.2921e+00,  9.1048e+00,  1.0838e+01,  9.9337e+00,\n",
      "         -1.2386e-01,  1.4998e-01],\n",
      "        [ 6.9745e-02, -1.3669e+00,  4.8643e-03,  1.8685e+00, -9.5336e-02,\n",
      "          6.9688e-02, -9.7929e-01],\n",
      "        [-3.3034e+00, -6.1511e-01,  1.0912e+01,  3.7836e-01,  2.0320e+00,\n",
      "          1.6110e-01, -5.7705e-01],\n",
      "        [ 7.7507e-01,  4.2944e+00,  6.0074e-01,  1.8442e+01,  3.3285e+00,\n",
      "          6.9977e-01, -9.1392e-01],\n",
      "        [ 4.4961e-01, -1.0918e+00,  2.0215e-01,  1.1920e+00, -4.9088e-01,\n",
      "          4.3461e-01, -8.8746e-01],\n",
      "        [-1.2844e-02,  5.5913e-02,  1.6498e-04,  3.1263e-03, -7.1817e-04,\n",
      "         -1.2844e-02,  5.5884e-02],\n",
      "        [-6.7999e-01,  1.0153e+00,  4.6238e-01,  1.0308e+00, -6.9039e-01,\n",
      "         -6.2878e-01,  8.4964e-01]]), tensor([0, 1, 1, 0, 0, 1, 1, 0])]\n",
      "[tensor([[-4.0443e-01, -4.1678e+00,  1.6356e-01,  1.7371e+01,  1.6856e+00,\n",
      "         -3.9349e-01,  8.5534e-01],\n",
      "        [-4.4471e-02, -3.1332e-01,  1.9776e-03,  9.8171e-02,  1.3934e-02,\n",
      "         -4.4456e-02, -3.0822e-01],\n",
      "        [-7.7904e-01,  2.4004e-01,  6.0690e-01,  5.7620e-02, -1.8700e-01,\n",
      "         -7.0259e-01,  2.3774e-01],\n",
      "        [-2.0020e+00,  1.1312e+00,  4.0081e+00,  1.2797e+00, -2.2648e+00,\n",
      "         -9.0845e-01,  9.0493e-01],\n",
      "        [ 1.5303e+00,  4.2236e+00,  2.3418e+00,  1.7839e+01,  6.4633e+00,\n",
      "          9.9918e-01, -8.8290e-01],\n",
      "        [ 7.3112e-01, -3.5430e-03,  5.3453e-01,  1.2553e-05, -2.5903e-03,\n",
      "          6.6770e-01, -3.5430e-03],\n",
      "        [-1.7109e-01, -4.5050e-02,  2.9272e-02,  2.0295e-03,  7.7077e-03,\n",
      "         -1.7026e-01, -4.5035e-02],\n",
      "        [-8.9575e-01,  3.8067e-01,  8.0236e-01,  1.4491e-01, -3.4098e-01,\n",
      "         -7.8068e-01,  3.7154e-01]]), tensor([1, 0, 0, 1, 0, 1, 1, 0])]\n",
      "[tensor([[ 1.4048e+00,  4.3352e+00,  1.9734e+00,  1.8794e+01,  6.0900e+00,\n",
      "          9.8625e-01, -9.2970e-01],\n",
      "        [-1.8615e+00, -4.1929e+00,  3.4650e+00,  1.7580e+01,  7.8049e+00,\n",
      "         -9.5806e-01,  8.6807e-01],\n",
      "        [-7.2509e-01,  2.7479e+00,  5.2576e-01,  7.5509e+00, -1.9925e+00,\n",
      "         -6.6320e-01,  3.8361e-01],\n",
      "        [ 1.6653e+00, -3.4948e+00,  2.7734e+00,  1.2214e+01, -5.8201e+00,\n",
      "          9.9553e-01,  3.4593e-01],\n",
      "        [ 8.7253e-01, -1.4677e-01,  7.6131e-01,  2.1542e-02, -1.2806e-01,\n",
      "          7.6596e-01, -1.4624e-01],\n",
      "        [-3.3314e+00,  1.5579e+00,  1.1098e+01,  2.4270e+00, -5.1899e+00,\n",
      "          1.8869e-01,  9.9992e-01],\n",
      "        [-8.9108e-01, -1.1720e-01,  7.9403e-01,  1.3735e-02,  1.0443e-01,\n",
      "         -7.7775e-01, -1.1693e-01],\n",
      "        [ 5.0916e+00,  2.0370e-01,  2.5925e+01,  4.1494e-02,  1.0372e+00,\n",
      "         -9.2894e-01,  2.0230e-01]]), tensor([0, 1, 1, 1, 1, 0, 0, 0])]\n",
      "[tensor([[ 2.8471e-01, -1.1927e+00,  8.1057e-02,  1.4226e+00, -3.3957e-01,\n",
      "          2.8088e-01, -9.2937e-01],\n",
      "        [-1.7876e+00,  1.5110e+00,  3.1953e+00,  2.2832e+00, -2.7010e+00,\n",
      "         -9.7660e-01,  9.9821e-01],\n",
      "        [ 3.5728e+00, -6.5203e-01,  1.2765e+01,  4.2515e-01, -2.3296e+00,\n",
      "         -4.1801e-01, -6.0680e-01],\n",
      "        [-5.3761e-01,  1.0786e+00,  2.8902e-01,  1.1634e+00, -5.7986e-01,\n",
      "         -5.1208e-01,  8.8130e-01],\n",
      "        [ 6.9899e-01,  3.0499e+00,  4.8858e-01,  9.3019e+00,  2.1318e+00,\n",
      "          6.4344e-01,  9.1570e-02],\n",
      "        [ 2.7268e-01,  1.5622e-01,  7.4354e-02,  2.4406e-02,  4.2599e-02,\n",
      "          2.6931e-01,  1.5559e-01],\n",
      "        [-7.1841e-01,  8.9738e-01,  5.1612e-01,  8.0529e-01, -6.4469e-01,\n",
      "         -6.5819e-01,  7.8169e-01],\n",
      "        [-9.8476e-02, -6.9637e-02,  9.6975e-03,  4.8493e-03,  6.8576e-03,\n",
      "         -9.8317e-02, -6.9581e-02]]), tensor([1, 1, 1, 0, 1, 1, 0, 0])]\n",
      "[tensor([[ 3.3400e+00,  3.3998e+00,  1.1156e+01,  1.1559e+01,  1.1356e+01,\n",
      "         -1.9714e-01, -2.5539e-01],\n",
      "        [-2.0039e-01,  4.2277e+00,  4.0158e-02,  1.7874e+01, -8.4721e-01,\n",
      "         -1.9906e-01, -8.8484e-01],\n",
      "        [ 7.0458e-01, -4.0051e+00,  4.9643e-01,  1.6041e+01, -2.8219e+00,\n",
      "          6.4771e-01,  7.6015e-01],\n",
      "        [ 1.2054e+00, -4.1920e+00,  1.4531e+00,  1.7573e+01, -5.0532e+00,\n",
      "          9.3399e-01,  8.6762e-01],\n",
      "        [-1.5832e+00,  3.8560e+00,  2.5066e+00,  1.4869e+01, -6.1049e+00,\n",
      "         -9.9992e-01, -6.5520e-01],\n",
      "        [-2.3770e-01, -1.0860e-01,  5.6503e-02,  1.1794e-02,  2.5815e-02,\n",
      "         -2.3547e-01, -1.0839e-01],\n",
      "        [ 2.7387e-01,  1.3944e+00,  7.5004e-02,  1.9443e+00,  3.8188e-01,\n",
      "          2.7046e-01,  9.8448e-01],\n",
      "        [-2.9261e+00, -3.3227e+00,  8.5621e+00,  1.1040e+01,  9.7226e+00,\n",
      "         -2.1382e-01,  1.8013e-01]]), tensor([0, 0, 1, 1, 0, 0, 0, 1])]\n",
      "[tensor([[-3.4159e+00, -9.5470e-01,  1.1668e+01,  9.1146e-01,  3.2611e+00,\n",
      "          2.7084e-01, -8.1614e-01],\n",
      "        [-3.6524e+00,  7.5927e-01,  1.3340e+01,  5.7649e-01, -2.7732e+00,\n",
      "          4.8890e-01,  6.8839e-01],\n",
      "        [-9.3125e-01,  3.3436e-01,  8.6723e-01,  1.1180e-01, -3.1137e-01,\n",
      "         -8.0237e-01,  3.2816e-01],\n",
      "        [-4.4049e-01,  1.2888e+00,  1.9403e-01,  1.6609e+00, -5.6769e-01,\n",
      "         -4.2638e-01,  9.6050e-01],\n",
      "        [ 2.9710e+00,  1.6479e+00,  8.8271e+00,  2.7157e+00,  4.8961e+00,\n",
      "          1.6972e-01,  9.9703e-01],\n",
      "        [ 9.4142e-01, -2.4185e-01,  8.8627e-01,  5.8490e-02, -2.2768e-01,\n",
      "          8.0840e-01, -2.3950e-01],\n",
      "        [-2.6029e+00,  2.9119e+00,  6.7750e+00,  8.4794e+00, -7.5794e+00,\n",
      "         -5.1303e-01,  2.2764e-01],\n",
      "        [ 1.8705e-02,  1.4062e+00,  3.4989e-04,  1.9774e+00,  2.6304e-02,\n",
      "          1.8704e-02,  9.8649e-01]]), tensor([0, 0, 0, 0, 1, 1, 0, 0])]\n",
      "[tensor([[-4.6015e-02, -1.3411e+00,  2.1174e-03,  1.7985e+00,  6.1710e-02,\n",
      "         -4.5999e-02, -9.7373e-01],\n",
      "        [-8.2458e-01, -2.9889e+00,  6.7993e-01,  8.9337e+00,  2.4646e+00,\n",
      "         -7.3426e-01, -1.5207e-01],\n",
      "        [-9.9274e-01,  5.4022e-01,  9.8553e-01,  2.9184e-01, -5.3630e-01,\n",
      "         -8.3753e-01,  5.1433e-01],\n",
      "        [ 6.5441e-01, -4.0544e+00,  4.2825e-01,  1.6438e+01, -2.6532e+00,\n",
      "          6.0869e-01,  7.9121e-01],\n",
      "        [ 7.8549e-01, -2.5623e+00,  6.1700e-01,  6.5652e+00, -2.0126e+00,\n",
      "          7.0717e-01, -5.4746e-01],\n",
      "        [-3.6130e-01, -3.6743e-01,  1.3054e-01,  1.3501e-01,  1.3276e-01,\n",
      "         -3.5349e-01, -3.5922e-01],\n",
      "        [ 3.8869e+00,  2.5876e+00,  1.5108e+01,  6.6957e+00,  1.0058e+01,\n",
      "         -6.7822e-01,  5.2609e-01],\n",
      "        [-6.6147e-01,  2.9142e-01,  4.3755e-01,  8.4924e-02, -1.9277e-01,\n",
      "         -6.1428e-01,  2.8731e-01]]), tensor([1, 0, 0, 1, 0, 0, 0, 0])]\n"
     ]
    }
   ],
   "source": [
    "import itertools\n",
    "for data in itertools.islice(iter(train_loader), 10):\n",
    "    print(data)"
   ]
  },
  {
   "cell_type": "code",
   "execution_count": 31,
   "metadata": {},
   "outputs": [
    {
     "name": "stdout",
     "output_type": "stream",
     "text": [
      "[tensor([[ 4.3998e-01,  4.6755e-02,  1.9358e-01,  2.1861e-03,  2.0572e-02,\n",
      "          4.2592e-01,  4.6738e-02],\n",
      "        [ 1.0235e+00,  4.0954e+00,  1.0475e+00,  1.6772e+01,  4.1916e+00,\n",
      "          8.5392e-01, -8.1564e-01],\n",
      "        [ 1.5719e+00,  1.0916e+00,  2.4707e+00,  1.1916e+00,  1.7158e+00,\n",
      "          1.0000e+00,  8.8737e-01],\n",
      "        [-6.8210e-01,  6.9533e-01,  4.6525e-01,  4.8349e-01, -4.7428e-01,\n",
      "         -6.3042e-01,  6.4064e-01],\n",
      "        [ 2.2711e+00, -3.1834e+00,  5.1579e+00,  1.0134e+01, -7.2299e+00,\n",
      "          7.6464e-01,  4.1811e-02],\n",
      "        [ 8.3572e-01, -5.8756e-01,  6.9842e-01,  3.4523e-01, -4.9104e-01,\n",
      "          7.4178e-01, -5.5433e-01],\n",
      "        [-2.1574e+00,  3.3753e+00,  4.6545e+00,  1.1393e+01, -7.2820e+00,\n",
      "         -8.3281e-01, -2.3162e-01],\n",
      "        [-1.8983e+00, -4.0214e+00,  3.6036e+00,  1.6172e+01,  7.6338e+00,\n",
      "         -9.4685e-01,  7.7060e-01]]), tensor([1, 0, 0, 0, 1, 1, 0, 1])]\n"
     ]
    }
   ],
   "source": [
    "print(next(iter(train_loader)))"
   ]
  },
  {
   "cell_type": "markdown",
   "metadata": {},
   "source": [
    "#### Création de modèles\n",
    "\n",
    "Ici, on crée des classes qui héritent de `torch.nn.Module`. C'est la classe de base de tout réseau dans PyTorch. `Module` comporte par exemple la méthode `named_parameters()` qui permet d'obtenir toutes les variables entraînables du `Module` ainsi que leur nom. Voici un lien vers la documentation complète:\n",
    "http://pytorch.org/docs/stable/nn.html#torch.nn.Module.\n",
    "\n",
    "##### Exercice\n",
    "Complétez la fonction forward de TanhModel et ReluModel en appliquant à chaque couche la transformation linéaire suivie de la fonction activation."
   ]
  },
  {
   "cell_type": "code",
   "execution_count": 32,
   "metadata": {},
   "outputs": [],
   "source": [
    "class RandomModel(torch.nn.Module):\n",
    "    \n",
    "    def __init__(self, n_layers, init_gaussian_mean):\n",
    "        super().__init__()\n",
    "        # Le modèle Tanh et ReLU vont être initialisé avec les mêmes matrices aléatoires\n",
    "        torch.manual_seed(42) \n",
    "        \n",
    "        # Initialisation des couches\n",
    "        self.layers = []\n",
    "        for i in range(n_layers):\n",
    "            layer = nn.Linear(7,7)\n",
    "            layer.weight.data.normal_(init_gaussian_mean, math.sqrt(2 / 7))\n",
    "            layer.bias.data.fill_(0)\n",
    "            self.layers.append(layer)\n",
    "            self.add_module('layer-%d' % i, layer)\n",
    "        self.output_layer = nn.Linear(7,2)\n",
    "        \n",
    "        self.nonzero_grad_stats = None\n",
    "    \n",
    "    def forward(self):\n",
    "        raise NotImplementedError('Defined in children classes')\n",
    "       \n",
    "    def _forward_output_layer(self, x):\n",
    "        # Couche de sortie avec une neurone par classe\n",
    "        out = self.output_layer(x)\n",
    "        out = F.log_softmax(out, dim=1)\n",
    "        return out\n",
    "    \n",
    "    def compute_gradients_stats(self):\n",
    "        self.nonzero_grad_stats = []\n",
    "        \n",
    "        # Calcul pour chaque couche du nombre de poids avec un gradient non nul\n",
    "        # ainsi que la moyenne de ces derniers.\n",
    "        for i, layer in enumerate(self.layers):\n",
    "            if layer.weight.grad is not None:\n",
    "                nonzero_grad_indices = torch.nonzero(layer.weight.grad.data)\n",
    "                nonzero_grad = [layer.weight.grad.data[i,j] for (i,j) in nonzero_grad_indices]\n",
    "                nonzero_grad_mean = np.mean(np.abs(nonzero_grad)) if nonzero_grad else 0\n",
    "                self.nonzero_grad_stats.append((len(nonzero_grad), nonzero_grad_mean))\n",
    "        \n",
    "class RandomReluModel(RandomModel):\n",
    "    \n",
    "    def __init__(self, n_layers, init_gaussian_mean=0.0):\n",
    "        super().__init__(n_layers, init_gaussian_mean)\n",
    "        \n",
    "    def forward(self, x):\n",
    "        out = x\n",
    "        for layer in self.layers:\n",
    "            # TODO\n",
    "            out = layer(out)\n",
    "            out = torch.relu(out)\n",
    "        return self._forward_output_layer(out)\n",
    "        \n",
    "        \n",
    "class RandomTanhModel(RandomModel):\n",
    "    \n",
    "    def __init__(self, n_layers, init_gaussian_mean=0.0):\n",
    "        super().__init__(n_layers, init_gaussian_mean)\n",
    "        \n",
    "    def forward(self, x):\n",
    "        out = x\n",
    "        for layer in self.layers:\n",
    "            # TODO\n",
    "            out = layer(out)\n",
    "            out = torch.tanh(out)\n",
    "        return self._forward_output_layer(out)"
   ]
  },
  {
   "cell_type": "markdown",
   "metadata": {},
   "source": [
    "#### Analyse du modèle"
   ]
  },
  {
   "cell_type": "code",
   "execution_count": 33,
   "metadata": {},
   "outputs": [
    {
     "name": "stderr",
     "output_type": "stream",
     "text": [
      "/home/gletarte/dev/lib/anaconda3/lib/python3.6/site-packages/ipykernel_launcher.py:36: UserWarning: This overload of nonzero is deprecated:\n",
      "\tnonzero(Tensor input, *, Tensor out)\n",
      "Consider using one of the following signatures instead:\n",
      "\tnonzero(Tensor input, *, bool as_tuple) (Triggered internally at  /opt/conda/conda-bld/pytorch_1595629417679/work/torch/csrc/utils/python_arg_parser.cpp:766.)\n"
     ]
    }
   ],
   "source": [
    "# Paramètres\n",
    "init_gaussian_mean = 0\n",
    "n_layers = 10\n",
    "\n",
    "# Modèles\n",
    "relu_model = RandomReluModel(n_layers, init_gaussian_mean)\n",
    "tanh_model = RandomTanhModel(n_layers, init_gaussian_mean)\n",
    "\n",
    "# Forward pass\n",
    "data, labels = next(iter(train_loader))\n",
    "relu_output = relu_model(data)\n",
    "tanh_output = tanh_model(data)\n",
    "\n",
    "# Calcul de la perte\n",
    "loss = torch.nn.NLLLoss()\n",
    "relu_loss = loss(relu_output, labels)\n",
    "tanh_loss = loss(tanh_output, labels)\n",
    "\n",
    "# Backward\n",
    "relu_loss.backward()\n",
    "tanh_loss.backward()\n",
    "\n",
    "# Calcul des statistiques des gradients\n",
    "relu_model.compute_gradients_stats()\n",
    "tanh_model.compute_gradients_stats()"
   ]
  },
  {
   "cell_type": "markdown",
   "metadata": {},
   "source": [
    "Le graphique suivant représente en fonction du numéro de la couche à gauche la quantité de poids qui ont un gradient nul lors de la backprop, et à droite le gradient moyen sans tenir compte des gradients nuls."
   ]
  },
  {
   "cell_type": "code",
   "execution_count": 34,
   "metadata": {},
   "outputs": [
    {
     "data": {
      "image/png": "[encoded data removed]",
      "text/plain": [
       "<Figure size 1008x288 with 2 Axes>"
      ]
     },
     "metadata": {
      "needs_background": "light"
     },
     "output_type": "display_data"
    }
   ],
   "source": [
    "fig, axs = plt.subplots(1, 2, figsize=(14,4))\n",
    "axs[0].plot(np.arange(len(relu_model.nonzero_grad_stats)), [x[0] for x in relu_model.nonzero_grad_stats], label='ReLU')\n",
    "axs[0].plot(np.arange(len(tanh_model.nonzero_grad_stats)), [x[0] for x in tanh_model.nonzero_grad_stats], label='Tanh')\n",
    "axs[0].set_ylim([-1, 50])\n",
    "axs[0].set_xlabel('Index de la couche')\n",
    "axs[0].set_ylabel('Nombre de poids avec un gradient non nul')\n",
    "axs[1].plot(np.arange(len(relu_model.nonzero_grad_stats)), [x[1] / x[0] if x[0] else 0 for x in relu_model.nonzero_grad_stats],label='ReLU')\n",
    "axs[1].plot(np.arange(len(tanh_model.nonzero_grad_stats)), [x[1] / x[0] if x[0] else 0 for x in tanh_model.nonzero_grad_stats],label='Tanh')\n",
    "axs[1].set_xlabel('Index de la couche')\n",
    "axs[1].set_ylabel('Gradient moyen des gradients non nuls')\n",
    "axs[1].legend()\n",
    "plt.tight_layout()\n",
    "plt.show()"
   ]
  },
  {
   "cell_type": "markdown",
   "metadata": {},
   "source": [
    "#### Questions\n",
    "- Observez la distribution du gradient lors de la backprop. Quelles différences y a-t-il entre l'utilisation des activations ReLU versus Tanh?\n",
    "**Avec la ReLU, les neurones active parfois à zéro ce qui implique un gradient nul pour les poids associés, ce comportement peut s'accentuer plus il y a de couches. Cependant, lorsque les neurones activent, la valeur du gradient est en moyenne élevée. Pour la tanh, en général tous les poids obtiennent un gradient non nul, mais la moyenne du gradient est très faible**\n",
    "- Suite à ces observations, identifiez un problème avec la Relu et identifiez un problème avec la Tanh.\n",
    "**ReLU: neurones meurent, Tanh: vanishing gradient**\n",
    "- Changez la moyenne de la gaussienne des poids lors de l'initialisation (*init_gaussian_mean*). Qu'observez-vous?\n",
    "**Pour la ReLU, une moyenne positive (exemple 0.5) réduit le nombre de neurones qui activent à zéro, alors qu'une moyenne négative (exemple -0.5) augmente le nombre de neurones qui activent à zéro. Pour la Tanh, une valeur élevée de moyenne (exemple > 1) entraîne du vanishing gradient et par conséquent un nombre élevé de poids avec gradient nul.**\n",
    "- Est-ce que, pour deux entrées différentes, les mêmes poids ont un gradient nul? \n",
    "**En général non, avec des entrées différentes, les valeurs pré activations suivant la transformation linéaire sont différentes même si les poids sont pareils. Par conséquent, la valeur après activation et les gradients sont différents. Toutefois, il est possible que deux exemples obtiennent par exemple une valeur de pré activation négative pour la même neurone et ainsi la même activation nulle en utilisant la ReLU.**"
   ]
  },
  {
   "cell_type": "markdown",
   "metadata": {},
   "source": [
    "#### Entraînement"
   ]
  },
  {
   "cell_type": "code",
   "execution_count": 35,
   "metadata": {},
   "outputs": [
    {
     "name": "stdout",
     "output_type": "stream",
     "text": [
      "Epoch 100 done.\n",
      "Epoch 200 done.\n",
      "Epoch 300 done.\n",
      "Epoch 400 done.\n",
      "Epoch 500 done.\n"
     ]
    }
   ],
   "source": [
    "from torch.optim import SGD\n",
    "\n",
    "init_gaussian_mean = 0\n",
    "n_layers = 10\n",
    "n_epoch = 500\n",
    "relu_losses = []\n",
    "tanh_losses = []\n",
    "\n",
    "relu_model = RandomReluModel(n_layers, init_gaussian_mean)\n",
    "tanh_model = RandomTanhModel(n_layers, init_gaussian_mean)\n",
    "\n",
    "relu_optimizer = SGD(relu_model.parameters(), lr=0.001, momentum=0.9, nesterov=True)\n",
    "tanh_optimizer = SGD(tanh_model.parameters(), lr=0.001, momentum=0.9, nesterov=True)\n",
    "\n",
    "for epoch in range(1, n_epoch + 1):\n",
    "    if epoch % 100 == 0:\n",
    "        print(\"Epoch %d done.\" % epoch)\n",
    "    relu_epoch_losses = []\n",
    "    tanh_epoch_losses = []\n",
    "    for data_in, data_out in train_loader:\n",
    "        relu_optimizer.zero_grad()\n",
    "        tanh_optimizer.zero_grad()\n",
    "        \n",
    "        relu_loss = loss(relu_model(data_in), data_out)\n",
    "        tanh_loss = loss(tanh_model(data_in), data_out)\n",
    "        relu_epoch_losses.append(float(relu_loss))\n",
    "        tanh_epoch_losses.append(float(tanh_loss))\n",
    "        \n",
    "        relu_loss.backward()\n",
    "        tanh_loss.backward()\n",
    "        relu_optimizer.step()\n",
    "        tanh_optimizer.step()\n",
    "    relu_losses.append(np.mean(np.asarray(relu_epoch_losses)))\n",
    "    tanh_losses.append(np.mean(np.asarray(tanh_epoch_losses)))"
   ]
  },
  {
   "cell_type": "code",
   "execution_count": 36,
   "metadata": {},
   "outputs": [
    {
     "data": {
      "image/png": "[encoded data removed]",
      "text/plain": [
       "<Figure size 432x288 with 1 Axes>"
      ]
     },
     "metadata": {
      "needs_background": "light"
     },
     "output_type": "display_data"
    }
   ],
   "source": [
    "plt.plot(np.arange(len(relu_losses)), np.asarray(relu_losses),label='ReLU')\n",
    "plt.plot(np.arange(len(tanh_losses)), np.asarray(tanh_losses),label='Tanh')\n",
    "plt.xlabel(\"Epoch\")\n",
    "plt.ylabel(\"Loss\")\n",
    "plt.legend()\n",
    "plt.show()"
   ]
  },
  {
   "cell_type": "code",
   "execution_count": null,
   "metadata": {},
   "outputs": [],
   "source": []
  }
 ],
 "metadata": {
  "kernelspec": {
   "display_name": "Python 3",
   "language": "python",
   "name": "python3"
  },
  "language_info": {
   "codemirror_mode": {
    "name": "ipython",
    "version": 3
   },
   "file_extension": ".py",
   "mimetype": "text/x-python",
   "name": "python",
   "nbconvert_exporter": "python",
   "pygments_lexer": "ipython3",
   "version": "3.6.9"
  }
 },
 "nbformat": 4,
 "nbformat_minor": 2
}
