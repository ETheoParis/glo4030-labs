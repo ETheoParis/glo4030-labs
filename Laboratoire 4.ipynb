{
 "cells": [
  {
   "cell_type": "markdown",
   "metadata": {},
   "source": [
    "## Rappel Google Colab\n",
    "\n",
    "Tout d'abord, sélectionnez l'option GPU de Colab avec *Edit > Notebook settings* et sélectionner GPU comme Hardware accelerator. \n",
    "Installer ensuite deeplib avec la commande suivante:"
   ]
  },
  {
   "cell_type": "code",
   "execution_count": 1,
   "metadata": {},
   "outputs": [
    {
     "name": "stdout",
     "output_type": "stream",
     "text": [
      "Collecting git+https://github.com/ulaval-damas/glo4030-labs.git\n",
      "  Cloning https://github.com/ulaval-damas/glo4030-labs.git to /tmp/pip-req-build-n7vhj_7a\n",
      "  Running command git clone -q https://github.com/ulaval-damas/glo4030-labs.git /tmp/pip-req-build-n7vhj_7a\n",
      "Building wheels for collected packages: deeplib\n",
      "  Building wheel for deeplib (setup.py) ... \u001b[?25ldone\n",
      "\u001b[?25h  Created wheel for deeplib: filename=deeplib-0.1-py3-none-any.whl size=7430 sha256=8c0c04df8da579768a3cb46c6dfb2d251545c2a8f210fc4f9edfb185f2a94000\n",
      "  Stored in directory: /tmp/pip-ephem-wheel-cache-ssoxkli2/wheels/1b/15/04/08ace9de1b1bb3ab6b76e92ecb6123fa5756114c9c6051df36\n",
      "Successfully built deeplib\n",
      "Installing collected packages: deeplib\n",
      "Successfully installed deeplib-0.1\n"
     ]
    }
   ],
   "source": [
    "!pip install git+https://github.com/ulaval-damas/glo4030-labs.git"
   ]
  },
  {
   "cell_type": "markdown",
   "metadata": {},
   "source": [
    "# Laboratoire 4: Régularisation"
   ]
  },
  {
   "cell_type": "code",
   "execution_count": 2,
   "metadata": {},
   "outputs": [
    {
     "name": "stdout",
     "output_type": "stream",
     "text": [
      "Files already downloaded and verified\n",
      "Files already downloaded and verified\n"
     ]
    }
   ],
   "source": [
    "%load_ext autoreload\n",
    "%autoreload 2\n",
    "%matplotlib inline\n",
    "\n",
    "import numpy as np\n",
    "import matplotlib.pyplot as plt\n",
    "import math\n",
    "import poutyne as pt\n",
    "\n",
    "import torch\n",
    "import torch.nn as nn\n",
    "import torch.nn.functional as F\n",
    "import torch.optim as optim\n",
    "\n",
    "from deeplib.datasets import load_cifar10, load_mnist, train_valid_loaders\n",
    "from deeplib.net import CifarNet, CifarNetBatchNorm\n",
    "from deeplib.training import train, test\n",
    "\n",
    "import matplotlib.pyplot as plt\n",
    "plt.rcParams['figure.dpi'] = 150\n",
    "\n",
    "cifar_train, cifar_test = load_cifar10()\n",
    "mnist_train, mnist_test = load_mnist()"
   ]
  },
  {
   "cell_type": "markdown",
   "metadata": {},
   "source": [
    "## 1. Régularisation L1 et L2"
   ]
  },
  {
   "cell_type": "markdown",
   "metadata": {
    "collapsed": true
   },
   "source": [
    "### Implémentation manuelle\n",
    "La régularisation L2 est communément appelée **weight decay**. Dans PyTorch, les optimiseurs de `torch.optim` ont un paramètre `weight_decay` pour facilement utiliser cette régularisation. Par contre, on peut facilement implémenter manuellement la régularisation L2 comme une pénalité sur la norme des poids (voir le [chapitre 7.1](http://www.deeplearningbook.org/contents/regularization.html))."
   ]
  },
  {
   "cell_type": "markdown",
   "metadata": {},
   "source": [
    "#### Exercice\n",
    "Complétez la fonction *loss_init* en ajoutant manuellement la pénalité sur les paramètres du réseau selon une régularisation L1 ou L2. Le paramètre *reg_alpha* correspond à l'hyperparamètre de régularisation $\\alpha$ du livre ($\\lambda$ dans les acétates du cours). Le paramètre *p* correspond à l'ordre de la norme: $p=1$ pour la norme L1 et $p=2$ pour la norme L2."
   ]
  },
  {
   "cell_type": "code",
   "execution_count": null,
   "metadata": {},
   "outputs": [],
   "source": [
    "def loss_init(parameters=[], reg_alpha=0, p=2):\n",
    "    cross_entropy = nn.CrossEntropyLoss()\n",
    "    \n",
    "    def loss_function(output, targets):\n",
    "        loss = cross_entropy(output,targets)\n",
    "        \n",
    "        for param in parameters:\n",
    "            # TODO\n",
    "            loss += reg_alpha/p * torch.norm(param, p=p) ** p\n",
    "        \n",
    "        return loss\n",
    "    return loss_function"
   ]
  },
  {
   "cell_type": "markdown",
   "metadata": {},
   "source": [
    "Testez votre implémentation de la régularisation par la norme L2 ($p=2$):"
   ]
  },
  {
   "cell_type": "code",
   "execution_count": null,
   "metadata": {},
   "outputs": [],
   "source": [
    "torch.manual_seed(42)\n",
    "net = CifarNet()\n",
    "optimizer = optim.SGD(net.parameters(), lr=0.1)\n",
    "loss = loss_init(net.parameters(), reg_alpha=1e-3, p=2)\n",
    "\n",
    "train(net, optimizer, cifar_train, n_epoch=5, batch_size=64, use_gpu=True, criterion=loss)"
   ]
  },
  {
   "cell_type": "markdown",
   "metadata": {},
   "source": [
    "Testez votre implémentation de la régularisation par la norme L1 ($p=1$):"
   ]
  },
  {
   "cell_type": "code",
   "execution_count": null,
   "metadata": {},
   "outputs": [],
   "source": [
    "torch.manual_seed(42)\n",
    "net = CifarNet()\n",
    "optimizer = optim.SGD(net.parameters(), lr=0.1)\n",
    "loss = loss_init(net.parameters(), reg_alpha=1e-3, p=1)\n",
    "\n",
    "train(net, optimizer, cifar_train, n_epoch=5, batch_size=64, use_gpu=True, criterion=loss)"
   ]
  },
  {
   "cell_type": "markdown",
   "metadata": {},
   "source": [
    "### Utilisation du *weight decay*\n",
    "\n",
    "Explorons maintenant l'utilisation du paramètre `weight_decay` disponible dans les optimiseurs de `PyTorch` pour effectuer de la régularisation L2. Nous allons entrainez un réseau de neurones avec régularisation L2 et un autre sans pour pouvoir observer l'impact de la régularisation sur l'apprentissage et le réseau appris."
   ]
  },
  {
   "cell_type": "code",
   "execution_count": null,
   "metadata": {},
   "outputs": [],
   "source": [
    "# Paramètres\n",
    "batch_size = 64\n",
    "lr = 0.1\n",
    "n_epoch = 15"
   ]
  },
  {
   "cell_type": "markdown",
   "metadata": {},
   "source": [
    "Réseau sans régularisation L2:"
   ]
  },
  {
   "cell_type": "code",
   "execution_count": null,
   "metadata": {},
   "outputs": [],
   "source": [
    "torch.manual_seed(42)\n",
    "net_without_l2 = CifarNet()\n",
    "optimizer_without_l2 = optim.SGD(net_without_l2.parameters(), lr=lr, weight_decay=0)\n",
    "\n",
    "history_without_l2 = train(net_without_l2, optimizer_without_l2, cifar_train, n_epoch, batch_size, use_gpu=True)\n",
    "history_without_l2.display()\n",
    "print('Précision en test: {:.2f}'.format(test(net_without_l2, cifar_test, batch_size=64)))"
   ]
  },
  {
   "cell_type": "markdown",
   "metadata": {},
   "source": [
    "Réseau avec régularisation L2 (*weight decay*):"
   ]
  },
  {
   "cell_type": "code",
   "execution_count": null,
   "metadata": {},
   "outputs": [],
   "source": [
    "weight_decay = 1e-3\n",
    "\n",
    "torch.manual_seed(42)\n",
    "net_l2 = CifarNet()\n",
    "optimizer_l2 = optim.SGD(net_l2.parameters(), lr=lr, weight_decay=weight_decay)\n",
    "\n",
    "history_l2 = train(net_l2, optimizer_l2, cifar_train, n_epoch, batch_size, use_gpu=True)\n",
    "history_l2.display()\n",
    "print('Précision en test: {:.2f}'.format(test(net_l2, cifar_test, batch_size=64)))"
   ]
  },
  {
   "cell_type": "markdown",
   "metadata": {},
   "source": [
    "#### Questions\n",
    "- Quel est l'effet de la régularisation L2 sur l'entraînement du réseau? **Au niveau de l'accuracy, on remarque que les performances en validation et en test sont légèrement meilleures. Également, l'utilisation de la régularisation réduit le surapprentissage. En effet l'écart des valeurs d'accuracy et de loss entre l'entraînement et la validation est nettement moins important (voir graphiques)**\n",
    "- Si vous utilisez un weight_decay trop grand (exemple 0.1) qu'arrive-t-il? Pourquoi? **Le réseau ne parvient tout simplement pas à apprendre car la pénalité sur les poids est trop importante.**"
   ]
  },
  {
   "cell_type": "markdown",
   "metadata": {},
   "source": [
    "Dans la cellule suivante, analysez avec un histogramme la distribution des poids appris par les réseaux avec ou sans régularisation. \n",
    "\n",
    "- Que remarquez-vous? **Avec la régularisation L2, les poids appris sont plus concentrés près de 0.**"
   ]
  },
  {
   "cell_type": "code",
   "execution_count": null,
   "metadata": {},
   "outputs": [],
   "source": [
    "def net_to_weight_array(net):\n",
    "    weights = []\n",
    "    for p in net.parameters():\n",
    "        p_numpy = p.data.cpu().numpy()\n",
    "        weights.append(p_numpy.reshape((-1))) # Reshape to 1D array\n",
    "    return np.concatenate(weights)\n",
    "\n",
    "weights_without_l2 = net_to_weight_array(net_without_l2)\n",
    "weights_l2 = net_to_weight_array(net_l2)\n",
    "\n",
    "# Visualisation\n",
    "plt.hist(weights_without_l2, bins='auto', range=(-0.3, 0.3), alpha =0.5, label=\"Sans régularisation L2\")\n",
    "plt.hist(weights_l2, bins='auto', range=(-0.3, 0.3), alpha=0.5, label=\"Avec régularisation L2\")\n",
    "plt.legend()\n",
    "plt.show()"
   ]
  },
  {
   "cell_type": "markdown",
   "metadata": {},
   "source": [
    "## 2. Early stopping\n",
    "\n",
    "Commencez par entraîner un réseau pour un grand nombre d'epoch. L'historique d'entraînement nous servira de base pour les questions qui suivent."
   ]
  },
  {
   "cell_type": "code",
   "execution_count": 3,
   "metadata": {},
   "outputs": [
    {
     "name": "stdout",
     "output_type": "stream",
     "text": [
      "\u001b[93mEpoch: \u001b[94m1/60 \u001b[93mStep: \u001b[94m625/625 \u001b[93m100.00% |\u001b[92m█████████████████████████\u001b[93m|\u001b[32m7.85s \u001b[93mloss:\u001b[96m 1.588104\u001b[93m acc:\u001b[96m 45.500000\u001b[93m val_loss:\u001b[96m 1.338226\u001b[93m val_acc:\u001b[96m 52.140000\u001b[0m\n",
      "\u001b[93mEpoch: \u001b[94m2/60 \u001b[93mStep: \u001b[94m625/625 \u001b[93m100.00% |\u001b[92m█████████████████████████\u001b[93m|\u001b[32m8.41s \u001b[93mloss:\u001b[96m 1.185787\u001b[93m acc:\u001b[96m 57.917500\u001b[93m val_loss:\u001b[96m 1.202592\u001b[93m val_acc:\u001b[96m 57.570000\u001b[0m\n",
      "\u001b[93mEpoch: \u001b[94m3/60 \u001b[93mStep: \u001b[94m625/625 \u001b[93m100.00% |\u001b[92m█████████████████████████\u001b[93m|\u001b[32m7.46s \u001b[93mloss:\u001b[96m 1.006857\u001b[93m acc:\u001b[96m 64.520000\u001b[93m val_loss:\u001b[96m 1.088743\u001b[93m val_acc:\u001b[96m 62.420000\u001b[0m\n",
      "\u001b[93mEpoch: \u001b[94m4/60 \u001b[93mStep: \u001b[94m625/625 \u001b[93m100.00% |\u001b[92m█████████████████████████\u001b[93m|\u001b[32m7.90s \u001b[93mloss:\u001b[96m 0.877533\u001b[93m acc:\u001b[96m 69.717500\u001b[93m val_loss:\u001b[96m 1.002037\u001b[93m val_acc:\u001b[96m 65.260000\u001b[0m\n",
      "\u001b[93mEpoch: \u001b[94m5/60 \u001b[93mStep: \u001b[94m625/625 \u001b[93m100.00% |\u001b[92m█████████████████████████\u001b[93m|\u001b[32m7.94s \u001b[93mloss:\u001b[96m 0.784581\u001b[93m acc:\u001b[96m 72.877500\u001b[93m val_loss:\u001b[96m 1.063464\u001b[93m val_acc:\u001b[96m 63.290000\u001b[0m\n",
      "\u001b[93mEpoch: \u001b[94m6/60 \u001b[93mStep: \u001b[94m625/625 \u001b[93m100.00% |\u001b[92m█████████████████████████\u001b[93m|\u001b[32m8.34s \u001b[93mloss:\u001b[96m 0.702011\u001b[93m acc:\u001b[96m 75.640000\u001b[93m val_loss:\u001b[96m 0.932799\u001b[93m val_acc:\u001b[96m 68.230000\u001b[0m\n",
      "\u001b[93mEpoch: \u001b[94m7/60 \u001b[93mStep: \u001b[94m625/625 \u001b[93m100.00% |\u001b[92m█████████████████████████\u001b[93m|\u001b[32m7.80s \u001b[93mloss:\u001b[96m 0.628415\u001b[93m acc:\u001b[96m 78.340000\u001b[93m val_loss:\u001b[96m 1.028405\u001b[93m val_acc:\u001b[96m 65.470000\u001b[0m\n",
      "\u001b[93mEpoch: \u001b[94m8/60 \u001b[93mStep: \u001b[94m625/625 \u001b[93m100.00% |\u001b[92m█████████████████████████\u001b[93m|\u001b[32m8.10s \u001b[93mloss:\u001b[96m 0.563936\u001b[93m acc:\u001b[96m 80.487500\u001b[93m val_loss:\u001b[96m 1.281262\u001b[93m val_acc:\u001b[96m 60.630000\u001b[0m\n",
      "\u001b[93mEpoch: \u001b[94m9/60 \u001b[93mStep: \u001b[94m625/625 \u001b[93m100.00% |\u001b[92m█████████████████████████\u001b[93m|\u001b[32m7.87s \u001b[93mloss:\u001b[96m 0.500671\u001b[93m acc:\u001b[96m 82.800000\u001b[93m val_loss:\u001b[96m 1.039280\u001b[93m val_acc:\u001b[96m 67.390000\u001b[0m\n",
      "\u001b[93mEpoch: \u001b[94m10/60 \u001b[93mStep: \u001b[94m625/625 \u001b[93m100.00% |\u001b[92m█████████████████████████\u001b[93m|\u001b[32m7.68s \u001b[93mloss:\u001b[96m 0.444957\u001b[93m acc:\u001b[96m 84.777500\u001b[93m val_loss:\u001b[96m 1.083580\u001b[93m val_acc:\u001b[96m 66.560000\u001b[0m\n",
      "\u001b[93mEpoch: \u001b[94m11/60 \u001b[93mStep: \u001b[94m625/625 \u001b[93m100.00% |\u001b[92m█████████████████████████\u001b[93m|\u001b[32m7.40s \u001b[93mloss:\u001b[96m 0.393649\u001b[93m acc:\u001b[96m 86.647500\u001b[93m val_loss:\u001b[96m 1.184487\u001b[93m val_acc:\u001b[96m 64.640000\u001b[0m\n",
      "\u001b[93mEpoch: \u001b[94m12/60 \u001b[93mStep: \u001b[94m625/625 \u001b[93m100.00% |\u001b[92m█████████████████████████\u001b[93m|\u001b[32m7.82s \u001b[93mloss:\u001b[96m 0.349514\u001b[93m acc:\u001b[96m 88.142500\u001b[93m val_loss:\u001b[96m 1.195076\u001b[93m val_acc:\u001b[96m 65.190000\u001b[0m\n",
      "Epoch    12: reducing learning rate of group 0 to 5.0000e-03.\n",
      "\u001b[93mEpoch: \u001b[94m13/60 \u001b[93mStep: \u001b[94m625/625 \u001b[93m100.00% |\u001b[92m█████████████████████████\u001b[93m|\u001b[32m7.95s \u001b[93mloss:\u001b[96m 0.216440\u001b[93m acc:\u001b[96m 93.712500\u001b[93m val_loss:\u001b[96m 1.123544\u001b[93m val_acc:\u001b[96m 68.350000\u001b[0m\n",
      "\u001b[93mEpoch: \u001b[94m14/60 \u001b[93mStep: \u001b[94m625/625 \u001b[93m100.00% |\u001b[92m█████████████████████████\u001b[93m|\u001b[32m7.93s \u001b[93mloss:\u001b[96m 0.169662\u001b[93m acc:\u001b[96m 95.515000\u001b[93m val_loss:\u001b[96m 1.238703\u001b[93m val_acc:\u001b[96m 66.880000\u001b[0m\n",
      "\u001b[93mEpoch: \u001b[94m15/60 \u001b[93mStep: \u001b[94m625/625 \u001b[93m100.00% |\u001b[92m█████████████████████████\u001b[93m|\u001b[32m7.83s \u001b[93mloss:\u001b[96m 0.143684\u001b[93m acc:\u001b[96m 96.340000\u001b[93m val_loss:\u001b[96m 1.205337\u001b[93m val_acc:\u001b[96m 68.510000\u001b[0m\n",
      "\u001b[93mEpoch: \u001b[94m16/60 \u001b[93mStep: \u001b[94m625/625 \u001b[93m100.00% |\u001b[92m█████████████████████████\u001b[93m|\u001b[32m7.72s \u001b[93mloss:\u001b[96m 0.123230\u001b[93m acc:\u001b[96m 97.085000\u001b[93m val_loss:\u001b[96m 1.266938\u001b[93m val_acc:\u001b[96m 68.000000\u001b[0m\n",
      "\u001b[93mEpoch: \u001b[94m17/60 \u001b[93mStep: \u001b[94m625/625 \u001b[93m100.00% |\u001b[92m█████████████████████████\u001b[93m|\u001b[32m7.86s \u001b[93mloss:\u001b[96m 0.103659\u001b[93m acc:\u001b[96m 97.750000\u001b[93m val_loss:\u001b[96m 1.331983\u001b[93m val_acc:\u001b[96m 68.140000\u001b[0m\n",
      "\u001b[93mEpoch: \u001b[94m18/60 \u001b[93mStep: \u001b[94m625/625 \u001b[93m100.00% |\u001b[92m█████████████████████████\u001b[93m|\u001b[32m7.98s \u001b[93mloss:\u001b[96m 0.085787\u001b[93m acc:\u001b[96m 98.422500\u001b[93m val_loss:\u001b[96m 1.362288\u001b[93m val_acc:\u001b[96m 67.500000\u001b[0m\n",
      "\u001b[93mEpoch: \u001b[94m19/60 \u001b[93mStep: \u001b[94m625/625 \u001b[93m100.00% |\u001b[92m█████████████████████████\u001b[93m|\u001b[32m7.71s \u001b[93mloss:\u001b[96m 0.073171\u001b[93m acc:\u001b[96m 98.777500\u001b[93m val_loss:\u001b[96m 1.382196\u001b[93m val_acc:\u001b[96m 68.090000\u001b[0m\n",
      "\u001b[93mEpoch: \u001b[94m20/60 \u001b[93mStep: \u001b[94m625/625 \u001b[93m100.00% |\u001b[92m█████████████████████████\u001b[93m|\u001b[32m7.47s \u001b[93mloss:\u001b[96m 0.062863\u001b[93m acc:\u001b[96m 99.075000\u001b[93m val_loss:\u001b[96m 1.462787\u001b[93m val_acc:\u001b[96m 67.430000\u001b[0m\n",
      "\u001b[93mEpoch: \u001b[94m21/60 \u001b[93mStep: \u001b[94m625/625 \u001b[93m100.00% |\u001b[92m█████████████████████████\u001b[93m|\u001b[32m7.71s \u001b[93mloss:\u001b[96m 0.054890\u001b[93m acc:\u001b[96m 99.307500\u001b[93m val_loss:\u001b[96m 1.465455\u001b[93m val_acc:\u001b[96m 67.960000\u001b[0m\n",
      "Epoch    21: reducing learning rate of group 0 to 2.5000e-03.\n",
      "\u001b[93mEpoch: \u001b[94m22/60 \u001b[93mStep: \u001b[94m625/625 \u001b[93m100.00% |\u001b[92m█████████████████████████\u001b[93m|\u001b[32m7.83s \u001b[93mloss:\u001b[96m 0.038360\u001b[93m acc:\u001b[96m 99.752500\u001b[93m val_loss:\u001b[96m 1.457341\u001b[93m val_acc:\u001b[96m 67.940000\u001b[0m\n",
      "\u001b[93mEpoch: \u001b[94m23/60 \u001b[93mStep: \u001b[94m625/625 \u001b[93m100.00% |\u001b[92m█████████████████████████\u001b[93m|\u001b[32m7.90s \u001b[93mloss:\u001b[96m 0.031352\u001b[93m acc:\u001b[96m 99.872500\u001b[93m val_loss:\u001b[96m 1.472565\u001b[93m val_acc:\u001b[96m 68.200000\u001b[0m\n",
      "\u001b[93mEpoch: \u001b[94m24/60 \u001b[93mStep: \u001b[94m625/625 \u001b[93m100.00% |\u001b[92m█████████████████████████\u001b[93m|\u001b[32m8.22s \u001b[93mloss:\u001b[96m 0.029311\u001b[93m acc:\u001b[96m 99.895000\u001b[93m val_loss:\u001b[96m 1.498628\u001b[93m val_acc:\u001b[96m 68.010000\u001b[0m\n",
      "\u001b[93mEpoch: \u001b[94m25/60 \u001b[93mStep: \u001b[94m625/625 \u001b[93m100.00% |\u001b[92m█████████████████████████\u001b[93m|\u001b[32m7.64s \u001b[93mloss:\u001b[96m 0.027010\u001b[93m acc:\u001b[96m 99.942500\u001b[93m val_loss:\u001b[96m 1.498575\u001b[93m val_acc:\u001b[96m 67.960000\u001b[0m\n",
      "\u001b[93mEpoch: \u001b[94m26/60 \u001b[93mStep: \u001b[94m625/625 \u001b[93m100.00% |\u001b[92m█████████████████████████\u001b[93m|\u001b[32m7.67s \u001b[93mloss:\u001b[96m 0.024444\u001b[93m acc:\u001b[96m 99.957500\u001b[93m val_loss:\u001b[96m 1.513193\u001b[93m val_acc:\u001b[96m 68.200000\u001b[0m\n",
      "\u001b[93mEpoch: \u001b[94m27/60 \u001b[93mStep: \u001b[94m625/625 \u001b[93m100.00% |\u001b[92m█████████████████████████\u001b[93m|\u001b[32m7.75s \u001b[93mloss:\u001b[96m 0.023418\u001b[93m acc:\u001b[96m 99.967500\u001b[93m val_loss:\u001b[96m 1.534732\u001b[93m val_acc:\u001b[96m 67.870000\u001b[0m\n",
      "Epoch    27: reducing learning rate of group 0 to 1.2500e-03.\n",
      "\u001b[93mEpoch: \u001b[94m28/60 \u001b[93mStep: \u001b[94m625/625 \u001b[93m100.00% |\u001b[92m█████████████████████████\u001b[93m|\u001b[32m7.76s \u001b[93mloss:\u001b[96m 0.021279\u001b[93m acc:\u001b[96m 99.977500\u001b[93m val_loss:\u001b[96m 1.526487\u001b[93m val_acc:\u001b[96m 68.010000\u001b[0m\n",
      "\u001b[93mEpoch: \u001b[94m29/60 \u001b[93mStep: \u001b[94m625/625 \u001b[93m100.00% |\u001b[92m█████████████████████████\u001b[93m|\u001b[32m7.80s \u001b[93mloss:\u001b[96m 0.019924\u001b[93m acc:\u001b[96m 99.982500\u001b[93m val_loss:\u001b[96m 1.533097\u001b[93m val_acc:\u001b[96m 67.960000\u001b[0m\n",
      "\u001b[93mEpoch: \u001b[94m30/60 \u001b[93mStep: \u001b[94m625/625 \u001b[93m100.00% |\u001b[92m█████████████████████████\u001b[93m|\u001b[32m7.78s \u001b[93mloss:\u001b[96m 0.019689\u001b[93m acc:\u001b[96m 99.982500\u001b[93m val_loss:\u001b[96m 1.540116\u001b[93m val_acc:\u001b[96m 68.170000\u001b[0m\n",
      "\u001b[93mEpoch: \u001b[94m31/60 \u001b[93mStep: \u001b[94m625/625 \u001b[93m100.00% |\u001b[92m█████████████████████████\u001b[93m|\u001b[32m7.62s \u001b[93mloss:\u001b[96m 0.019003\u001b[93m acc:\u001b[96m 99.985000\u001b[93m val_loss:\u001b[96m 1.550554\u001b[93m val_acc:\u001b[96m 67.940000\u001b[0m\n",
      "\u001b[93mEpoch: \u001b[94m32/60 \u001b[93mStep: \u001b[94m625/625 \u001b[93m100.00% |\u001b[92m█████████████████████████\u001b[93m|\u001b[32m7.83s \u001b[93mloss:\u001b[96m 0.018509\u001b[93m acc:\u001b[96m 99.995000\u001b[93m val_loss:\u001b[96m 1.552756\u001b[93m val_acc:\u001b[96m 67.960000\u001b[0m\n",
      "\u001b[93mEpoch: \u001b[94m33/60 \u001b[93mStep: \u001b[94m625/625 \u001b[93m100.00% |\u001b[92m█████████████████████████\u001b[93m|\u001b[32m8.12s \u001b[93mloss:\u001b[96m 0.018163\u001b[93m acc:\u001b[96m 99.992500\u001b[93m val_loss:\u001b[96m 1.551176\u001b[93m val_acc:\u001b[96m 68.070000\u001b[0m\n",
      "Epoch    33: reducing learning rate of group 0 to 6.2500e-04.\n",
      "\u001b[93mEpoch: \u001b[94m34/60 \u001b[93mStep: \u001b[94m625/625 \u001b[93m100.00% |\u001b[92m█████████████████████████\u001b[93m|\u001b[32m7.85s \u001b[93mloss:\u001b[96m 0.017411\u001b[93m acc:\u001b[96m 99.985000\u001b[93m val_loss:\u001b[96m 1.555099\u001b[93m val_acc:\u001b[96m 68.160000\u001b[0m\n",
      "\u001b[93mEpoch: \u001b[94m35/60 \u001b[93mStep: \u001b[94m625/625 \u001b[93m100.00% |\u001b[92m█████████████████████████\u001b[93m|\u001b[32m7.47s \u001b[93mloss:\u001b[96m 0.017005\u001b[93m acc:\u001b[96m 99.997500\u001b[93m val_loss:\u001b[96m 1.555912\u001b[93m val_acc:\u001b[96m 68.200000\u001b[0m\n",
      "\u001b[93mEpoch: \u001b[94m36/60 \u001b[93mStep: \u001b[94m625/625 \u001b[93m100.00% |\u001b[92m█████████████████████████\u001b[93m|\u001b[32m7.51s \u001b[93mloss:\u001b[96m 0.017082\u001b[93m acc:\u001b[96m 99.997500\u001b[93m val_loss:\u001b[96m 1.557505\u001b[93m val_acc:\u001b[96m 68.040000\u001b[0m\n"
     ]
    },
    {
     "name": "stdout",
     "output_type": "stream",
     "text": [
      "\u001b[93mEpoch: \u001b[94m37/60 \u001b[93mStep: \u001b[94m625/625 \u001b[93m100.00% |\u001b[92m█████████████████████████\u001b[93m|\u001b[32m8.01s \u001b[93mloss:\u001b[96m 0.016937\u001b[93m acc:\u001b[96m 99.992500\u001b[93m val_loss:\u001b[96m 1.556689\u001b[93m val_acc:\u001b[96m 68.010000\u001b[0m\n",
      "\u001b[93mEpoch: \u001b[94m38/60 \u001b[93mStep: \u001b[94m625/625 \u001b[93m100.00% |\u001b[92m█████████████████████████\u001b[93m|\u001b[32m7.84s \u001b[93mloss:\u001b[96m 0.016577\u001b[93m acc:\u001b[96m 99.987500\u001b[93m val_loss:\u001b[96m 1.572564\u001b[93m val_acc:\u001b[96m 68.020000\u001b[0m\n",
      "\u001b[93mEpoch: \u001b[94m39/60 \u001b[93mStep: \u001b[94m625/625 \u001b[93m100.00% |\u001b[92m█████████████████████████\u001b[93m|\u001b[32m8.26s \u001b[93mloss:\u001b[96m 0.016302\u001b[93m acc:\u001b[96m 99.995000\u001b[93m val_loss:\u001b[96m 1.570813\u001b[93m val_acc:\u001b[96m 68.060000\u001b[0m\n",
      "Epoch    39: reducing learning rate of group 0 to 3.1250e-04.\n",
      "\u001b[93mEpoch: \u001b[94m40/60 \u001b[93mStep: \u001b[94m625/625 \u001b[93m100.00% |\u001b[92m█████████████████████████\u001b[93m|\u001b[32m8.21s \u001b[93mloss:\u001b[96m 0.016026\u001b[93m acc:\u001b[96m 99.992500\u001b[93m val_loss:\u001b[96m 1.568797\u001b[93m val_acc:\u001b[96m 68.130000\u001b[0m\n",
      "\u001b[93mEpoch: \u001b[94m41/60 \u001b[93mStep: \u001b[94m625/625 \u001b[93m100.00% |\u001b[92m█████████████████████████\u001b[93m|\u001b[32m8.03s \u001b[93mloss:\u001b[96m 0.015946\u001b[93m acc:\u001b[96m 99.997500\u001b[93m val_loss:\u001b[96m 1.564991\u001b[93m val_acc:\u001b[96m 68.160000\u001b[0m\n",
      "\u001b[93mEpoch: \u001b[94m42/60 \u001b[93mStep: \u001b[94m625/625 \u001b[93m100.00% |\u001b[92m█████████████████████████\u001b[93m|\u001b[32m7.84s \u001b[93mloss:\u001b[96m 0.015971\u001b[93m acc:\u001b[96m 99.987500\u001b[93m val_loss:\u001b[96m 1.569612\u001b[93m val_acc:\u001b[96m 68.190000\u001b[0m\n",
      "\u001b[93mEpoch: \u001b[94m43/60 \u001b[93mStep: \u001b[94m625/625 \u001b[93m100.00% |\u001b[92m█████████████████████████\u001b[93m|\u001b[32m7.97s \u001b[93mloss:\u001b[96m 0.015812\u001b[93m acc:\u001b[96m 99.987500\u001b[93m val_loss:\u001b[96m 1.573316\u001b[93m val_acc:\u001b[96m 68.240000\u001b[0m\n",
      "\u001b[93mEpoch: \u001b[94m44/60 \u001b[93mStep: \u001b[94m625/625 \u001b[93m100.00% |\u001b[92m█████████████████████████\u001b[93m|\u001b[32m7.84s \u001b[93mloss:\u001b[96m 0.015756\u001b[93m acc:\u001b[96m 99.992500\u001b[93m val_loss:\u001b[96m 1.568182\u001b[93m val_acc:\u001b[96m 68.170000\u001b[0m\n",
      "\u001b[93mEpoch: \u001b[94m45/60 \u001b[93mStep: \u001b[94m625/625 \u001b[93m100.00% |\u001b[92m█████████████████████████\u001b[93m|\u001b[32m8.04s \u001b[93mloss:\u001b[96m 0.015396\u001b[93m acc:\u001b[96m 99.995000\u001b[93m val_loss:\u001b[96m 1.577647\u001b[93m val_acc:\u001b[96m 68.130000\u001b[0m\n",
      "Epoch    45: reducing learning rate of group 0 to 1.5625e-04.\n",
      "\u001b[93mEpoch: \u001b[94m46/60 \u001b[93mStep: \u001b[94m625/625 \u001b[93m100.00% |\u001b[92m█████████████████████████\u001b[93m|\u001b[32m7.78s \u001b[93mloss:\u001b[96m 0.015600\u001b[93m acc:\u001b[96m 99.997500\u001b[93m val_loss:\u001b[96m 1.567930\u001b[93m val_acc:\u001b[96m 68.100000\u001b[0m\n",
      "\u001b[93mEpoch: \u001b[94m47/60 \u001b[93mStep: \u001b[94m625/625 \u001b[93m100.00% |\u001b[92m█████████████████████████\u001b[93m|\u001b[32m8.01s \u001b[93mloss:\u001b[96m 0.015290\u001b[93m acc:\u001b[96m 99.997500\u001b[93m val_loss:\u001b[96m 1.563743\u001b[93m val_acc:\u001b[96m 68.100000\u001b[0m\n",
      "\u001b[93mEpoch: \u001b[94m48/60 \u001b[93mStep: \u001b[94m625/625 \u001b[93m100.00% |\u001b[92m█████████████████████████\u001b[93m|\u001b[32m7.78s \u001b[93mloss:\u001b[96m 0.015528\u001b[93m acc:\u001b[96m 99.995000\u001b[93m val_loss:\u001b[96m 1.577610\u001b[93m val_acc:\u001b[96m 68.140000\u001b[0m\n",
      "\u001b[93mEpoch: \u001b[94m49/60 \u001b[93mStep: \u001b[94m625/625 \u001b[93m100.00% |\u001b[92m█████████████████████████\u001b[93m|\u001b[32m8.13s \u001b[93mloss:\u001b[96m 0.015299\u001b[93m acc:\u001b[96m 99.990000\u001b[93m val_loss:\u001b[96m 1.575647\u001b[93m val_acc:\u001b[96m 68.080000\u001b[0m\n",
      "\u001b[93mEpoch: \u001b[94m50/60 \u001b[93mStep: \u001b[94m625/625 \u001b[93m100.00% |\u001b[92m█████████████████████████\u001b[93m|\u001b[32m8.01s \u001b[93mloss:\u001b[96m 0.015342\u001b[93m acc:\u001b[96m 99.990000\u001b[93m val_loss:\u001b[96m 1.574197\u001b[93m val_acc:\u001b[96m 68.050000\u001b[0m\n",
      "\u001b[93mEpoch: \u001b[94m51/60 \u001b[93mStep: \u001b[94m625/625 \u001b[93m100.00% |\u001b[92m█████████████████████████\u001b[93m|\u001b[32m8.09s \u001b[93mloss:\u001b[96m 0.015346\u001b[93m acc:\u001b[96m 99.997500\u001b[93m val_loss:\u001b[96m 1.576416\u001b[93m val_acc:\u001b[96m 68.160000\u001b[0m\n",
      "Epoch    51: reducing learning rate of group 0 to 7.8125e-05.\n",
      "\u001b[93mEpoch: \u001b[94m52/60 \u001b[93mStep: \u001b[94m625/625 \u001b[93m100.00% |\u001b[92m█████████████████████████\u001b[93m|\u001b[32m7.90s \u001b[93mloss:\u001b[96m 0.014885\u001b[93m acc:\u001b[96m 99.995000\u001b[93m val_loss:\u001b[96m 1.573093\u001b[93m val_acc:\u001b[96m 68.150000\u001b[0m\n",
      "\u001b[93mEpoch: \u001b[94m53/60 \u001b[93mStep: \u001b[94m625/625 \u001b[93m100.00% |\u001b[92m█████████████████████████\u001b[93m|\u001b[32m7.57s \u001b[93mloss:\u001b[96m 0.015143\u001b[93m acc:\u001b[96m 99.995000\u001b[93m val_loss:\u001b[96m 1.576695\u001b[93m val_acc:\u001b[96m 68.190000\u001b[0m\n",
      "\u001b[93mEpoch: \u001b[94m54/60 \u001b[93mStep: \u001b[94m625/625 \u001b[93m100.00% |\u001b[92m█████████████████████████\u001b[93m|\u001b[32m8.15s \u001b[93mloss:\u001b[96m 0.015133\u001b[93m acc:\u001b[96m 99.992500\u001b[93m val_loss:\u001b[96m 1.586116\u001b[93m val_acc:\u001b[96m 67.930000\u001b[0m\n",
      "\u001b[93mEpoch: \u001b[94m55/60 \u001b[93mStep: \u001b[94m625/625 \u001b[93m100.00% |\u001b[92m█████████████████████████\u001b[93m|\u001b[32m8.31s \u001b[93mloss:\u001b[96m 0.015036\u001b[93m acc:\u001b[96m 99.995000\u001b[93m val_loss:\u001b[96m 1.579926\u001b[93m val_acc:\u001b[96m 68.160000\u001b[0m\n",
      "\u001b[93mEpoch: \u001b[94m56/60 \u001b[93mStep: \u001b[94m625/625 \u001b[93m100.00% |\u001b[92m█████████████████████████\u001b[93m|\u001b[32m7.90s \u001b[93mloss:\u001b[96m 0.014960\u001b[93m acc:\u001b[96m 99.997500\u001b[93m val_loss:\u001b[96m 1.572354\u001b[93m val_acc:\u001b[96m 68.140000\u001b[0m\n",
      "\u001b[93mEpoch: \u001b[94m57/60 \u001b[93mStep: \u001b[94m625/625 \u001b[93m100.00% |\u001b[92m█████████████████████████\u001b[93m|\u001b[32m7.71s \u001b[93mloss:\u001b[96m 0.015009\u001b[93m acc:\u001b[96m 99.995000\u001b[93m val_loss:\u001b[96m 1.579596\u001b[93m val_acc:\u001b[96m 68.130000\u001b[0m\n",
      "Epoch    57: reducing learning rate of group 0 to 3.9063e-05.\n",
      "\u001b[93mEpoch: \u001b[94m58/60 \u001b[93mStep: \u001b[94m625/625 \u001b[93m100.00% |\u001b[92m█████████████████████████\u001b[93m|\u001b[32m7.96s \u001b[93mloss:\u001b[96m 0.015211\u001b[93m acc:\u001b[96m 99.992500\u001b[93m val_loss:\u001b[96m 1.584549\u001b[93m val_acc:\u001b[96m 68.100000\u001b[0m\n",
      "\u001b[93mEpoch: \u001b[94m59/60 \u001b[93mStep: \u001b[94m625/625 \u001b[93m100.00% |\u001b[92m█████████████████████████\u001b[93m|\u001b[32m7.94s \u001b[93mloss:\u001b[96m 0.014881\u001b[93m acc:\u001b[96m 100.000000\u001b[93m val_loss:\u001b[96m 1.588134\u001b[93m val_acc:\u001b[96m 68.070000\u001b[0m\n",
      "\u001b[93mEpoch: \u001b[94m60/60 \u001b[93mStep: \u001b[94m625/625 \u001b[93m100.00% |\u001b[92m█████████████████████████\u001b[93m|\u001b[32m7.66s \u001b[93mloss:\u001b[96m 0.014755\u001b[93m acc:\u001b[96m 99.997500\u001b[93m val_loss:\u001b[96m 1.575917\u001b[93m val_acc:\u001b[96m 68.100000\u001b[0m\n"
     ]
    }
   ],
   "source": [
    "torch.manual_seed(42)\n",
    "net = CifarNetBatchNorm()\n",
    "\n",
    "optimizer = optim.SGD(net.parameters(), lr=0.01, weight_decay=1e-4, nesterov=True, momentum=0.9)\n",
    "scheduler = pt.ReduceLROnPlateau(monitor='val_acc', mode='max', patience=5, factor=0.5, verbose=True)\n",
    "\n",
    "history = train(net, optimizer, cifar_train, n_epoch=60, batch_size=64, callbacks=[scheduler], use_gpu=True)"
   ]
  },
  {
   "cell_type": "code",
   "execution_count": 4,
   "metadata": {},
   "outputs": [
    {
     "data": {
      "image/png": "[encoded data removed]",
      "text/plain": [
       "<Figure size 900x600 with 2 Axes>"
      ]
     },
     "metadata": {
      "needs_background": "light"
     },
     "output_type": "display_data"
    }
   ],
   "source": [
    "history.display()"
   ]
  },
  {
   "cell_type": "markdown",
   "metadata": {},
   "source": [
    "#### Questions\n",
    "- En regardant les graphiques ci-dessus, quel est le meilleur moment pour arrêter l'entraînement? Pourquoi?\n",
    "- Identifiez des problèmes pratiques potentiels lors de l'utilisation de l'early stopping.\n",
    "\n",
    "#### Exercice\n",
    "L'algorithme 7.1 du livre (voir http://www.deeplearningbook.org/contents/regularization.html) décrit le paramètre de patience `p`. Analysez l'effet du choix de `p` sur les données de l'entraînement précédent. Regardez, pour `p = 1,5,10,15`, quel modèle avec quelle précision en validation est choisi. Utilisez les `val_accuracy` de l'entraînement que vous venez d'exécuter pour vos tests (à la place d'entraîner le réseau)."
   ]
  },
  {
   "cell_type": "code",
   "execution_count": null,
   "metadata": {},
   "outputs": [],
   "source": [
    "p = 1\n",
    "val_accuracy = history.history['val_acc']\n",
    "\n",
    "print(val_accuracy[:4])\n",
    "#TODO"
   ]
  },
  {
   "cell_type": "markdown",
   "metadata": {},
   "source": [
    "## 3. Dropout\n",
    "Cette section a pour but d'analyser l'effet du dropout dans un réseau fully connected. Nous ferons cette analyse en reprenant l'exercice du laboratoire 2.\n"
   ]
  },
  {
   "cell_type": "code",
   "execution_count": null,
   "metadata": {},
   "outputs": [],
   "source": [
    "dataset, _ = load_mnist()"
   ]
  },
  {
   "cell_type": "markdown",
   "metadata": {},
   "source": [
    "#### Exercice\n",
    "Dans le réseau suivant, implémentez la fonction `forward()` en ajoutant du dropout si `self.use_dropout == True`. N'ajoutez **pas de softmax** car la fonction `deeplib.training.train()` utilise par défaut `CrossEntropyLoss`, ce qui le fait pour vous. Utilisez une probabilité de drop de `0.4`. Ne faites pas de dropout sur la couche de sortie.\n",
    "\n",
    "> **ATTENTION!** Vous devez bien fixer l'argument `training` de dropout. Vous pouvez savoir si modèle est en entraînement ou en évaluation avec self.training.\n",
    "\n",
    "### Question\n",
    "- Quelle est l'importance de l'argument `training` de la fonction de dropout?"
   ]
  },
  {
   "cell_type": "code",
   "execution_count": null,
   "metadata": {},
   "outputs": [],
   "source": [
    "class MnistModel(torch.nn.Module):\n",
    "    \n",
    "    def __init__(self, n_layers, hidden_size=100, use_dropout=True):\n",
    "        super().__init__()\n",
    "        torch.manual_seed(12345)\n",
    "        self.use_dropout = use_dropout\n",
    "        self.hidden_size = hidden_size\n",
    "        \n",
    "        layer_sizes = [28*28] + [self.hidden_size]*n_layers\n",
    "        self.layers = nn.ModuleList()\n",
    "        for input_size, output_size in zip(layer_sizes[:-1], layer_sizes[1:]):\n",
    "            layer = nn.Linear(input_size, output_size)\n",
    "            layer.weight.data.normal_(0.0, math.sqrt(2 / input_size))\n",
    "            layer.bias.data.fill_(0.0001)\n",
    "            self.layers.append(layer)\n",
    "            \n",
    "        self.output_layer = nn.Linear(hidden_size,10)\n",
    "        self.output_layer.weight.data.normal_(0.0, math.sqrt(2 / hidden_size))\n",
    "        self.output_layer.bias.data.fill_(0.0001)              \n",
    "\n",
    "    def forward(self, x):\n",
    "        out = x.view(-1, 28*28)\n",
    "        pass\n",
    "        #TODO"
   ]
  },
  {
   "cell_type": "markdown",
   "metadata": {},
   "source": [
    "Entraînez un réseau avec dropout et un réseau sans dropout."
   ]
  },
  {
   "cell_type": "code",
   "execution_count": null,
   "metadata": {},
   "outputs": [],
   "source": [
    "net = MnistModel(2, use_dropout=False)\n",
    "net_dropout = MnistModel(2, use_dropout=True)\n",
    "net.cuda()\n",
    "net_dropout.cuda()\n",
    "\n",
    "optimizer = optim.SGD(net.parameters(), lr=0.005, nesterov=True, momentum=0.9)\n",
    "optimizer_dropout = optim.SGD(net_dropout.parameters(), lr=0.005, nesterov=True, momentum=0.9)\n",
    "\n",
    "history = train(net, optimizer, dataset, 20, batch_size=64)\n",
    "history_dropout = train(net_dropout, optimizer_dropout, dataset, 20, batch_size=64)"
   ]
  },
  {
   "cell_type": "code",
   "execution_count": null,
   "metadata": {},
   "outputs": [],
   "source": [
    "history.display()"
   ]
  },
  {
   "cell_type": "code",
   "execution_count": null,
   "metadata": {},
   "outputs": [],
   "source": [
    "history_dropout.display()"
   ]
  },
  {
   "cell_type": "markdown",
   "metadata": {},
   "source": [
    "#### Exercice\n",
    "- Essayez plusieurs valeurs de dropout et observez les effets.\n",
    "- Essayer d'avoir des valeurs différentes de probabilité de dropout pour chaque couche. Est-ce que cela améliore les résultats?"
   ]
  },
  {
   "cell_type": "code",
   "execution_count": null,
   "metadata": {},
   "outputs": [],
   "source": []
  }
 ],
 "metadata": {
  "kernelspec": {
   "display_name": "Python 3",
   "language": "python",
   "name": "python3"
  },
  "language_info": {
   "codemirror_mode": {
    "name": "ipython",
    "version": 3
   },
   "file_extension": ".py",
   "mimetype": "text/x-python",
   "name": "python",
   "nbconvert_exporter": "python",
   "pygments_lexer": "ipython3",
   "version": "3.8.5"
  }
 },
 "nbformat": 4,
 "nbformat_minor": 2
}
