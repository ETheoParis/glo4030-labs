{
 "cells": [
  {
   "cell_type": "markdown",
   "metadata": {},
   "source": [
    "## Rappel Google Colab\n",
    "\n",
    "Tout d'abord, sélectionnez l'option GPU de Colab avec *Edit > Notebook settings* et sélectionner GPU comme Hardware accelerator. \n",
    "Installer ensuite deeplib avec la commande suivante:"
   ]
  },
  {
   "cell_type": "code",
   "execution_count": null,
   "metadata": {},
   "outputs": [],
   "source": [
    "!pip install git+https://github.com/ulaval-damas/glo4030-labs.git"
   ]
  },
  {
   "cell_type": "markdown",
   "metadata": {},
   "source": [
    "# Laboratoire 4: Régularisation"
   ]
  },
  {
   "cell_type": "code",
   "execution_count": 3,
   "metadata": {},
   "outputs": [
    {
     "name": "stdout",
     "output_type": "stream",
     "text": [
      "The autoreload extension is already loaded. To reload it, use:\n",
      "  %reload_ext autoreload\n",
      "Files already downloaded and verified\n",
      "Files already downloaded and verified\n"
     ]
    }
   ],
   "source": [
    "%load_ext autoreload\n",
    "%autoreload 2\n",
    "%matplotlib inline\n",
    "\n",
    "import numpy as np\n",
    "import matplotlib.pyplot as plt\n",
    "import math\n",
    "import poutyne as pt\n",
    "\n",
    "import torch\n",
    "import torch.nn as nn\n",
    "import torch.nn.functional as F\n",
    "import torch.optim as optim\n",
    "\n",
    "from deeplib.datasets import load_cifar10, load_mnist, train_valid_loaders\n",
    "from deeplib.net import CifarNet, CifarNetBatchNorm\n",
    "from deeplib.training import train, test\n",
    "\n",
    "import matplotlib.pyplot as plt\n",
    "plt.rcParams['figure.dpi'] = 150\n",
    "\n",
    "cifar_train, cifar_test = load_cifar10()\n",
    "mnist_train, mnist_test = load_mnist()"
   ]
  },
  {
   "cell_type": "markdown",
   "metadata": {},
   "source": [
    "## 1. Régularisation L1 et L2"
   ]
  },
  {
   "cell_type": "markdown",
   "metadata": {
    "collapsed": true
   },
   "source": [
    "### Implémentation manuelle\n",
    "La régularisation L2 est communément appelée **weight decay**. Dans PyTorch, les optimiseurs de `torch.optim` ont un paramètre `weight_decay` pour facilement utiliser cette régularisation. Par contre, on peut facilement implémenter manuellement la régularisation L2 comme une pénalité sur la norme des poids (voir le [chapitre 7.1](http://www.deeplearningbook.org/contents/regularization.html))."
   ]
  },
  {
   "cell_type": "markdown",
   "metadata": {},
   "source": [
    "#### Exercice\n",
    "Complétez la fonction *loss_init* en ajoutant manuellement la pénalité sur les paramètres du réseau selon une régularisation L1 ou L2. Le paramètre *reg_alpha* correspond à l'hyperparamètre de régularisation $\\alpha$ du livre ($\\lambda$ dans les acétates du cours). Le paramètre *p* correspond à l'ordre de la norme: $p=1$ pour la norme L1 et $p=2$ pour la norme L2."
   ]
  },
  {
   "cell_type": "code",
   "execution_count": null,
   "metadata": {},
   "outputs": [],
   "source": [
    "def loss_init(parameters=[], reg_alpha=0, p=2):\n",
    "    cross_entropy = nn.CrossEntropyLoss()\n",
    "    \n",
    "    def loss_function(output, targets):\n",
    "        loss = cross_entropy(output,targets)\n",
    "        \n",
    "        for param in parameters:\n",
    "            # TODO\n",
    "            loss += reg_alpha/p * torch.norm(param, p=p) ** p\n",
    "        \n",
    "        return loss\n",
    "    return loss_function"
   ]
  },
  {
   "cell_type": "markdown",
   "metadata": {},
   "source": [
    "Testez votre implémentation de la régularisation par la norme L2 ($p=2$):"
   ]
  },
  {
   "cell_type": "code",
   "execution_count": null,
   "metadata": {},
   "outputs": [],
   "source": [
    "torch.manual_seed(42)\n",
    "net = CifarNet()\n",
    "optimizer = optim.SGD(net.parameters(), lr=0.1)\n",
    "loss = loss_init(net.parameters(), reg_alpha=1e-3, p=2)\n",
    "\n",
    "train(net, optimizer, cifar_train, n_epoch=5, batch_size=64, use_gpu=True, criterion=loss)"
   ]
  },
  {
   "cell_type": "markdown",
   "metadata": {},
   "source": [
    "Testez votre implémentation de la régularisation par la norme L1 ($p=1$):"
   ]
  },
  {
   "cell_type": "code",
   "execution_count": null,
   "metadata": {},
   "outputs": [],
   "source": [
    "torch.manual_seed(42)\n",
    "net = CifarNet()\n",
    "optimizer = optim.SGD(net.parameters(), lr=0.1)\n",
    "loss = loss_init(net.parameters(), reg_alpha=1e-3, p=1)\n",
    "\n",
    "train(net, optimizer, cifar_train, n_epoch=5, batch_size=64, use_gpu=True, criterion=loss)"
   ]
  },
  {
   "cell_type": "markdown",
   "metadata": {},
   "source": [
    "### Utilisation du *weight decay*\n",
    "\n",
    "Explorons maintenant l'utilisation du paramètre `weight_decay` disponible dans les optimiseurs de `PyTorch` pour effectuer de la régularisation L2. Nous allons entrainez un réseau de neurones avec régularisation L2 et un autre sans pour pouvoir observer l'impact de la régularisation sur l'apprentissage et le réseau appris."
   ]
  },
  {
   "cell_type": "code",
   "execution_count": null,
   "metadata": {},
   "outputs": [],
   "source": [
    "# Paramètres\n",
    "batch_size = 64\n",
    "lr = 0.1\n",
    "n_epoch = 15"
   ]
  },
  {
   "cell_type": "markdown",
   "metadata": {},
   "source": [
    "Réseau sans régularisation L2:"
   ]
  },
  {
   "cell_type": "code",
   "execution_count": null,
   "metadata": {},
   "outputs": [],
   "source": [
    "torch.manual_seed(42)\n",
    "net_without_l2 = CifarNet()\n",
    "optimizer_without_l2 = optim.SGD(net_without_l2.parameters(), lr=lr, weight_decay=0)\n",
    "\n",
    "history_without_l2 = train(net_without_l2, optimizer_without_l2, cifar_train, n_epoch, batch_size, use_gpu=True)\n",
    "history_without_l2.display()\n",
    "print('Précision en test: {:.2f}'.format(test(net_without_l2, cifar_test, batch_size=64)))"
   ]
  },
  {
   "cell_type": "markdown",
   "metadata": {},
   "source": [
    "Réseau avec régularisation L2 (*weight decay*):"
   ]
  },
  {
   "cell_type": "code",
   "execution_count": null,
   "metadata": {},
   "outputs": [],
   "source": [
    "weight_decay = 1e-3\n",
    "\n",
    "torch.manual_seed(42)\n",
    "net_l2 = CifarNet()\n",
    "optimizer_l2 = optim.SGD(net_l2.parameters(), lr=lr, weight_decay=weight_decay)\n",
    "\n",
    "history_l2 = train(net_l2, optimizer_l2, cifar_train, n_epoch, batch_size, use_gpu=True)\n",
    "history_l2.display()\n",
    "print('Précision en test: {:.2f}'.format(test(net_l2, cifar_test, batch_size=64)))"
   ]
  },
  {
   "cell_type": "markdown",
   "metadata": {},
   "source": [
    "#### Questions\n",
    "- Quel est l'effet de la régularisation L2 sur l'entraînement du réseau? **Au niveau de l'accuracy, on remarque que les performances en validation et en test sont légèrement meilleures. Également, l'utilisation de la régularisation réduit le surapprentissage. En effet l'écart des valeurs d'accuracy et de loss entre l'entraînement et la validation est nettement moins important (voir graphiques)**\n",
    "- Si vous utilisez un weight_decay trop grand (exemple 0.1) qu'arrive-t-il? Pourquoi? **Le réseau ne parvient tout simplement pas à apprendre car la pénalité sur les poids est trop importante.**"
   ]
  },
  {
   "cell_type": "markdown",
   "metadata": {},
   "source": [
    "Dans la cellule suivante, analysez avec un histogramme la distribution des poids appris par les réseaux avec ou sans régularisation. \n",
    "\n",
    "- Que remarquez-vous? **Avec la régularisation L2, les poids appris sont plus concentrés près de 0.**"
   ]
  },
  {
   "cell_type": "code",
   "execution_count": null,
   "metadata": {},
   "outputs": [],
   "source": [
    "def net_to_weight_array(net):\n",
    "    weights = []\n",
    "    for p in net.parameters():\n",
    "        p_numpy = p.data.cpu().numpy()\n",
    "        weights.append(p_numpy.reshape((-1))) # Reshape to 1D array\n",
    "    return np.concatenate(weights)\n",
    "\n",
    "weights_without_l2 = net_to_weight_array(net_without_l2)\n",
    "weights_l2 = net_to_weight_array(net_l2)\n",
    "\n",
    "# Visualisation\n",
    "plt.hist(weights_without_l2, bins='auto', range=(-0.3, 0.3), alpha =0.5, label=\"Sans régularisation L2\")\n",
    "plt.hist(weights_l2, bins='auto', range=(-0.3, 0.3), alpha=0.5, label=\"Avec régularisation L2\")\n",
    "plt.legend()\n",
    "plt.show()"
   ]
  },
  {
   "cell_type": "markdown",
   "metadata": {},
   "source": [
    "## 2. Early stopping\n",
    "\n",
    "Commencez par entraîner un réseau pour un grand nombre d'époques. L'historique d'entraînement nous servira de base pour les questions qui suivent."
   ]
  },
  {
   "cell_type": "code",
   "execution_count": 16,
   "metadata": {},
   "outputs": [
    {
     "name": "stdout",
     "output_type": "stream",
     "text": [
      "Epoch: 1/40 Step: 625/625 100.00% |█████████████████████████|7.70s loss: 1.584498 acc: 45.472500 val_loss: 1.304358 val_acc: 52.910000\n",
      "Epoch: 2/40 Step: 625/625 100.00% |█████████████████████████|7.73s loss: 1.166914 acc: 58.532500 val_loss: 1.147053 val_acc: 59.440000\n",
      "Epoch: 3/40 Step: 625/625 100.00% |█████████████████████████|7.83s loss: 0.986132 acc: 65.415000 val_loss: 1.139814 val_acc: 60.000000\n",
      "Epoch: 4/40 Step: 625/625 100.00% |█████████████████████████|7.59s loss: 0.863612 acc: 70.152500 val_loss: 1.039746 val_acc: 63.450000\n",
      "Epoch: 5/40 Step: 625/625 100.00% |█████████████████████████|7.76s loss: 0.781362 acc: 72.885000 val_loss: 0.996133 val_acc: 65.580000\n",
      "Epoch: 6/40 Step: 625/625 100.00% |█████████████████████████|7.92s loss: 0.713632 acc: 75.445000 val_loss: 1.040272 val_acc: 63.480000\n",
      "Epoch: 7/40 Step: 625/625 100.00% |█████████████████████████|7.71s loss: 0.652623 acc: 77.572500 val_loss: 0.917152 val_acc: 68.510000\n",
      "Epoch: 8/40 Step: 625/625 100.00% |█████████████████████████|8.27s loss: 0.606141 acc: 79.175000 val_loss: 1.522000 val_acc: 53.870000\n",
      "Epoch: 9/40 Step: 625/625 100.00% |█████████████████████████|7.61s loss: 0.557765 acc: 80.925000 val_loss: 0.984032 val_acc: 66.940000\n",
      "Epoch: 10/40 Step: 625/625 100.00% |█████████████████████████|7.70s loss: 0.518958 acc: 82.215000 val_loss: 1.023605 val_acc: 65.670000\n",
      "Epoch: 11/40 Step: 625/625 100.00% |█████████████████████████|8.03s loss: 0.478656 acc: 83.645000 val_loss: 1.053136 val_acc: 65.600000\n",
      "Epoch    11: reducing learning rate of group 0 to 5.0000e-03.\n",
      "Epoch: 12/40 Step: 625/625 100.00% |█████████████████████████|7.65s loss: 0.340763 acc: 89.315000 val_loss: 0.956508 val_acc: 69.120000\n",
      "Epoch: 13/40 Step: 625/625 100.00% |█████████████████████████|7.72s loss: 0.292347 acc: 91.272500 val_loss: 1.066923 val_acc: 67.060000\n",
      "Epoch: 14/40 Step: 625/625 100.00% |█████████████████████████|7.84s loss: 0.264004 acc: 92.347500 val_loss: 0.999885 val_acc: 69.430000\n",
      "Epoch: 15/40 Step: 625/625 100.00% |█████████████████████████|7.72s loss: 0.242598 acc: 93.015000 val_loss: 1.066072 val_acc: 67.660000\n",
      "Epoch: 16/40 Step: 625/625 100.00% |█████████████████████████|7.86s loss: 0.227291 acc: 93.472500 val_loss: 1.235435 val_acc: 64.440000\n",
      "Epoch: 17/40 Step: 625/625 100.00% |█████████████████████████|7.85s loss: 0.210749 acc: 94.075000 val_loss: 1.121202 val_acc: 67.940000\n",
      "Epoch: 18/40 Step: 625/625 100.00% |█████████████████████████|7.86s loss: 0.190386 acc: 94.835000 val_loss: 1.140668 val_acc: 67.440000\n",
      "Epoch    18: reducing learning rate of group 0 to 2.5000e-03.\n",
      "Epoch: 19/40 Step: 625/625 100.00% |█████████████████████████|7.99s loss: 0.126539 acc: 97.767500 val_loss: 1.059229 val_acc: 69.590000\n",
      "Epoch: 20/40 Step: 625/625 100.00% |█████████████████████████|7.78s loss: 0.104716 acc: 98.597500 val_loss: 1.067135 val_acc: 69.260000\n",
      "Epoch: 21/40 Step: 625/625 100.00% |█████████████████████████|7.49s loss: 0.095041 acc: 99.010000 val_loss: 1.114384 val_acc: 69.030000\n",
      "Epoch: 22/40 Step: 625/625 100.00% |█████████████████████████|8.04s loss: 0.088748 acc: 99.120000 val_loss: 1.101235 val_acc: 69.860000\n",
      "Epoch: 23/40 Step: 625/625 100.00% |█████████████████████████|7.77s loss: 0.081919 acc: 99.272500 val_loss: 1.153496 val_acc: 68.440000\n",
      "Epoch: 24/40 Step: 625/625 100.00% |█████████████████████████|8.03s loss: 0.078940 acc: 99.427500 val_loss: 1.116390 val_acc: 69.580000\n",
      "Epoch: 25/40 Step: 625/625 100.00% |█████████████████████████|7.66s loss: 0.074881 acc: 99.510000 val_loss: 1.119161 val_acc: 69.610000\n",
      "Epoch: 26/40 Step: 625/625 100.00% |█████████████████████████|7.47s loss: 0.071666 acc: 99.472500 val_loss: 1.138833 val_acc: 68.970000\n",
      "Epoch    26: reducing learning rate of group 0 to 1.2500e-03.\n",
      "Epoch: 27/40 Step: 625/625 100.00% |█████████████████████████|7.76s loss: 0.057412 acc: 99.822500 val_loss: 1.120074 val_acc: 69.500000\n",
      "Epoch: 28/40 Step: 625/625 100.00% |█████████████████████████|7.59s loss: 0.054062 acc: 99.830000 val_loss: 1.130025 val_acc: 69.570000\n",
      "Epoch: 29/40 Step: 625/625 100.00% |█████████████████████████|7.92s loss: 0.051969 acc: 99.882500 val_loss: 1.130505 val_acc: 69.490000\n",
      "Epoch: 30/40 Step: 625/625 100.00% |█████████████████████████|7.75s loss: 0.051202 acc: 99.887500 val_loss: 1.129575 val_acc: 69.850000\n",
      "Epoch    30: reducing learning rate of group 0 to 6.2500e-04.\n",
      "Epoch: 31/40 Step: 625/625 100.00% |█████████████████████████|7.75s loss: 0.046726 acc: 99.950000 val_loss: 1.132211 val_acc: 69.800000\n",
      "Epoch: 32/40 Step: 625/625 100.00% |█████████████████████████|7.84s loss: 0.045859 acc: 99.960000 val_loss: 1.129802 val_acc: 69.930000\n",
      "Epoch: 33/40 Step: 625/625 100.00% |█████████████████████████|7.82s loss: 0.045533 acc: 99.937500 val_loss: 1.127580 val_acc: 69.790000\n",
      "Epoch: 34/40 Step: 625/625 100.00% |█████████████████████████|7.76s loss: 0.044867 acc: 99.950000 val_loss: 1.130557 val_acc: 69.600000\n",
      "Epoch: 35/40 Step: 625/625 100.00% |█████████████████████████|7.86s loss: 0.044355 acc: 99.967500 val_loss: 1.132299 val_acc: 69.900000\n",
      "Epoch: 36/40 Step: 625/625 100.00% |█████████████████████████|7.62s loss: 0.044358 acc: 99.960000 val_loss: 1.129611 val_acc: 69.910000\n",
      "Epoch    36: reducing learning rate of group 0 to 3.1250e-04.\n",
      "Epoch: 37/40 Step: 625/625 100.00% |█████████████████████████|8.09s loss: 0.042366 acc: 99.975000 val_loss: 1.130415 val_acc: 69.660000\n",
      "Epoch: 38/40 Step: 625/625 100.00% |█████████████████████████|7.59s loss: 0.041896 acc: 99.972500 val_loss: 1.139793 val_acc: 69.810000\n",
      "Epoch: 39/40 Step: 625/625 100.00% |█████████████████████████|7.68s loss: 0.041981 acc: 99.967500 val_loss: 1.136612 val_acc: 69.770000\n",
      "Epoch: 40/40 Step: 625/625 100.00% |█████████████████████████|7.79s loss: 0.041864 acc: 99.975000 val_loss: 1.133773 val_acc: 69.860000\n",
      "Epoch    40: reducing learning rate of group 0 to 1.5625e-04.\n"
     ]
    }
   ],
   "source": [
    "torch.manual_seed(42)\n",
    "net = CifarNetBatchNorm()\n",
    "\n",
    "optimizer = optim.SGD(net.parameters(), lr=0.01, weight_decay=1e-3, nesterov=True, momentum=0.9)\n",
    "scheduler = pt.ReduceLROnPlateau(monitor='val_acc', mode='max', patience=3, factor=0.5, verbose=True)\n",
    "\n",
    "history = train(net, optimizer, cifar_train, n_epoch=40, batch_size=64, callbacks=[scheduler], use_gpu=True)"
   ]
  },
  {
   "cell_type": "code",
   "execution_count": 17,
   "metadata": {},
   "outputs": [
    {
     "data": {
      "image/png": "[encoded data removed]",
      "text/plain": [
       "<Figure size 900x600 with 2 Axes>"
      ]
     },
     "metadata": {
      "needs_background": "light"
     },
     "output_type": "display_data"
    }
   ],
   "source": [
    "history.display()"
   ]
  },
  {
   "cell_type": "markdown",
   "metadata": {},
   "source": [
    "#### Question\n",
    "- En regardant les graphiques ci-dessus, quel est le meilleur moment pour arrêter l'entraînement? **Autour de l'époque 20 la précision en validation semble la plus élevée et commence à être stable.**"
   ]
  },
  {
   "cell_type": "markdown",
   "metadata": {},
   "source": [
    "L'algorithme 7.1 du livre (voir http://www.deeplearningbook.org/contents/regularization.html page 244) décrit le paramètre de patience `p` dans le contexte d'un algorithme de *early stopping*.\n",
    "\n",
    "#### Exercice\n",
    "Analysez l'effet du choix de `p` sur les données de l'entraînement précédent. Regardez pour `p = 1,2,5,10,15`, quelle époque avec quelle précision en validation est choisie. Implémentez un algorithme effectuant du *early stopping* en utilisant l'historique `val_accuracy` de l'entraînement que vous venez d'exécuter pour vos tests (à la place d'entraîner le réseau)."
   ]
  },
  {
   "cell_type": "code",
   "execution_count": 39,
   "metadata": {},
   "outputs": [
    {
     "name": "stdout",
     "output_type": "stream",
     "text": [
      "Meilleure époque 21, avec précision en validation de 69.86.\n"
     ]
    }
   ],
   "source": [
    "# Historique\n",
    "val_accuracy_history = history.history['val_acc']\n",
    "\n",
    "# Patience\n",
    "p = 5\n",
    "\n",
    "best_val_accuracy = -np.inf\n",
    "best_epoch = -1\n",
    "\n",
    "# TODO\n",
    "counter = 0\n",
    "for epoch, val_accuracy in enumerate(val_accuracy_history):\n",
    "    # Amélioration de la précision en validation\n",
    "    if val_accuracy > best_val_accuracy:\n",
    "        best_val_accuracy = val_accuracy\n",
    "        best_epoch = epoch\n",
    "        counter = 0\n",
    "    # On patiente ...\n",
    "    else:\n",
    "        counter += 1\n",
    "        if counter == p:\n",
    "            break\n",
    "# TODO END\n",
    "            \n",
    "print(\"Meilleure époque {}, avec précision en validation de {:.2f}.\".format(best_epoch, best_val_accuracy))"
   ]
  },
  {
   "cell_type": "markdown",
   "metadata": {},
   "source": [
    "#### Question\n",
    "\n",
    "- Identifiez des problèmes pratiques potentiels lors de l'utilisation du *early stopping*. **Il est difficile de sélectionner la bonne valeur de patience. Une valeur trop faible arrête l'entraînement trop tôt ce qui peut résulter en un modèle avec de moins bonnes performances, alors qu'une valeur trop élévée de patience peut nous obliger à calculer un nombre d'époques plus important que necessaire (temps)**"
   ]
  },
  {
   "cell_type": "markdown",
   "metadata": {},
   "source": [
    "## 3. Dropout\n",
    "Cette section a pour but d'analyser l'effet du dropout dans un réseau fully connected. Nous ferons cette analyse en reprenant l'exercice du laboratoire 2.\n"
   ]
  },
  {
   "cell_type": "code",
   "execution_count": null,
   "metadata": {},
   "outputs": [],
   "source": [
    "dataset, _ = load_mnist()"
   ]
  },
  {
   "cell_type": "markdown",
   "metadata": {},
   "source": [
    "#### Exercice\n",
    "Dans le réseau suivant, implémentez la fonction `forward()` en ajoutant du dropout si `self.use_dropout == True`. N'ajoutez **pas de softmax** car la fonction `deeplib.training.train()` utilise par défaut `CrossEntropyLoss`, ce qui le fait pour vous. Utilisez une probabilité de drop de `0.4`. Ne faites pas de dropout sur la couche de sortie.\n",
    "\n",
    "> **ATTENTION!** Vous devez bien fixer l'argument `training` de dropout. Vous pouvez savoir si modèle est en entraînement ou en évaluation avec self.training.\n",
    "\n",
    "### Question\n",
    "- Quelle est l'importance de l'argument `training` de la fonction de dropout?"
   ]
  },
  {
   "cell_type": "code",
   "execution_count": null,
   "metadata": {},
   "outputs": [],
   "source": [
    "class MnistModel(torch.nn.Module):\n",
    "    \n",
    "    def __init__(self, n_layers, hidden_size=100, use_dropout=True):\n",
    "        super().__init__()\n",
    "        torch.manual_seed(12345)\n",
    "        self.use_dropout = use_dropout\n",
    "        self.hidden_size = hidden_size\n",
    "        \n",
    "        layer_sizes = [28*28] + [self.hidden_size]*n_layers\n",
    "        self.layers = nn.ModuleList()\n",
    "        for input_size, output_size in zip(layer_sizes[:-1], layer_sizes[1:]):\n",
    "            layer = nn.Linear(input_size, output_size)\n",
    "            layer.weight.data.normal_(0.0, math.sqrt(2 / input_size))\n",
    "            layer.bias.data.fill_(0.0001)\n",
    "            self.layers.append(layer)\n",
    "            \n",
    "        self.output_layer = nn.Linear(hidden_size,10)\n",
    "        self.output_layer.weight.data.normal_(0.0, math.sqrt(2 / hidden_size))\n",
    "        self.output_layer.bias.data.fill_(0.0001)              \n",
    "\n",
    "    def forward(self, x):\n",
    "        out = x.view(-1, 28*28)\n",
    "        pass\n",
    "        #TODO"
   ]
  },
  {
   "cell_type": "markdown",
   "metadata": {},
   "source": [
    "Entraînez un réseau avec dropout et un réseau sans dropout."
   ]
  },
  {
   "cell_type": "code",
   "execution_count": null,
   "metadata": {},
   "outputs": [],
   "source": [
    "net = MnistModel(2, use_dropout=False)\n",
    "net_dropout = MnistModel(2, use_dropout=True)\n",
    "net.cuda()\n",
    "net_dropout.cuda()\n",
    "\n",
    "optimizer = optim.SGD(net.parameters(), lr=0.005, nesterov=True, momentum=0.9)\n",
    "optimizer_dropout = optim.SGD(net_dropout.parameters(), lr=0.005, nesterov=True, momentum=0.9)\n",
    "\n",
    "history = train(net, optimizer, dataset, 20, batch_size=64)\n",
    "history_dropout = train(net_dropout, optimizer_dropout, dataset, 20, batch_size=64)"
   ]
  },
  {
   "cell_type": "code",
   "execution_count": null,
   "metadata": {},
   "outputs": [],
   "source": [
    "history.display()"
   ]
  },
  {
   "cell_type": "code",
   "execution_count": null,
   "metadata": {},
   "outputs": [],
   "source": [
    "history_dropout.display()"
   ]
  },
  {
   "cell_type": "markdown",
   "metadata": {},
   "source": [
    "#### Exercice\n",
    "- Essayez plusieurs valeurs de dropout et observez les effets.\n",
    "- Essayer d'avoir des valeurs différentes de probabilité de dropout pour chaque couche. Est-ce que cela améliore les résultats?"
   ]
  },
  {
   "cell_type": "code",
   "execution_count": null,
   "metadata": {},
   "outputs": [],
   "source": []
  }
 ],
 "metadata": {
  "kernelspec": {
   "display_name": "Python 3",
   "language": "python",
   "name": "python3"
  },
  "language_info": {
   "codemirror_mode": {
    "name": "ipython",
    "version": 3
   },
   "file_extension": ".py",
   "mimetype": "text/x-python",
   "name": "python",
   "nbconvert_exporter": "python",
   "pygments_lexer": "ipython3",
   "version": "3.8.5"
  }
 },
 "nbformat": 4,
 "nbformat_minor": 2
}
