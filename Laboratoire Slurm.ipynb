{
 "cells": [
  {
   "metadata": {},
   "cell_type": "markdown",
   "source": [
    "# Laboratoire : Introduction à Slurm\n",
    "\n",
    "Le but de ce laboratoire est de se familiariser avec les outils de gestions de jobs disponibles sur les plateformes de calculs tels que Calcul Canada et Calcul Quebec.\n",
    "Slurm est un système de gestion de jobs souvent utilisés pour les super-ordinateurs et les grappes de calculs."
   ],
   "id": "600def6b313d6002"
  },
  {
   "metadata": {},
   "cell_type": "markdown",
   "source": [
    "## Lancer une job avec Calcul Quebec\n",
    "\n",
    "1. Connexion par SSH à l'URL suivante: `glo4030.calculquebec.cloud`.\n",
    "    ```bash\n",
    "    # remplacez <username> par votre notre d'utilisateur\n",
    "    ssh <username>@glo4030.calculquebec.cloud\n",
    "    ```\n",
    "2. Copier le code de base: [TODO]()\n",
    "   ```\n",
    "   git clone todo\n",
    "   ```\n",
    "3. Création de l'environnement Python.\n",
    "   ```\n",
    "   cd todo\n",
    "   python -m venv venv\n",
    "   source venv/bin/activate\n",
    "   pip install -r requirements.txt\n",
    "   ```\n",
    "4. Lien symbolique vers les données.\n",
    "   Nous rendons disponible le jeu de données [COCO](https://cocodataset.org/#home) dans un répertoire partagé.\n",
    "   ```\n",
    "   ln -s /path/to/coco data/coco\n",
    "   ```\n",
    "5. Créer le script `job.sh` avec le contenu suivant:\n",
    "   ```\n",
    "   #!/bin/bash\n",
    "   #SBATCH --gres=gpu:1\n",
    "   #SBATCH --cpus-per-task=4\n",
    "   #SBATCH --mem=8192M\n",
    "   #SBATCH --time=0-12:00\n",
    "   #SBATCH --job-name=train_network\n",
    "   #SBATCH --output=%x-%j.out\n",
    "   \n",
    "   # Variables\n",
    "   export OMP_NUM_THREADS=$SLURM_CPUS_PER_TASK\n",
    "   export MAKEFLAGS=\"-j$(nproc)\"\n",
    "   \n",
    "   # Setup Python\n",
    "   source ~/venv/bin/activate\n",
    "   \n",
    "   # Start task\n",
    "   # TODO lancer votre script ici\n",
    "   # python main.py\n",
    "   \n",
    "   # Cleaning up\n",
    "   deactivate\n",
    "   ```\n",
    "6. Lancer `job.sh` via Slurm\n",
    "   ```\n",
    "   sbatch job.sh\n",
    "   ```\n",
    "7. Voir l'état des jobs avec la commande `sq`.\n",
    "   La sortie des jobs sera écrite dans le fichier `job-XXX.out`, où `XXX` est le numéro de la job.\n"
   ],
   "id": "b1d9ca283c583454"
  }
 ],
 "metadata": {
  "kernelspec": {
   "display_name": "Python 3",
   "language": "python",
   "name": "python3"
  },
  "language_info": {
   "codemirror_mode": {
    "name": "ipython",
    "version": 2
   },
   "file_extension": ".py",
   "mimetype": "text/x-python",
   "name": "python",
   "nbconvert_exporter": "python",
   "pygments_lexer": "ipython2",
   "version": "2.7.6"
  }
 },
 "nbformat": 4,
 "nbformat_minor": 5
}
